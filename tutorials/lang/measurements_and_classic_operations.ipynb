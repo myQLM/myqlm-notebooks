{
 "cells": [
  {
   "cell_type": "markdown",
   "metadata": {
    "qat-category": "1-Circuit generation in Python",
    "qat-summary": "2-Measurements and classical control"
   },
   "source": [
    "# Measurements and classical control\n",
    "\n",
    "\n",
    "This example details how to perform measurements, and how to use the result to control quantum gates.\n",
    "\n",
    "For this, we are going to write a script generating a circuit of quantum teleportation.\n",
    "Quantum teleportation is a famous, and simple, algorithm that transfers the state of a qbit into another qbit using an EPR pair.\n",
    "\n",
    "For explanation about the EPR pair, take a look at the corresponding tutorial."
   ]
  },
  {
   "cell_type": "code",
   "execution_count": null,
   "metadata": {
    "execution": {
     "iopub.execute_input": "2023-08-01T22:49:39.015527Z",
     "iopub.status.busy": "2023-08-01T22:49:39.015074Z",
     "iopub.status.idle": "2023-08-01T22:49:40.331103Z",
     "shell.execute_reply": "2023-08-01T22:49:40.330395Z"
    }
   },
   "outputs": [],
   "source": [
    "from qat.lang.AQASM import Program, H, CNOT, Z, X, RZ, RX\n",
    "tp_prog = Program()\n",
    "# We need 3 qbits this time\n",
    "qbits = tp_prog.qalloc(3)\n",
    "# We will teleport the state of the first qbit\n",
    "source = qbits[0] \n",
    "# into the last qbit\n",
    "target = qbits[2]\n",
    "# Qbit 1 will be used to create an EPR pair with the target qbit\n",
    "tp_prog.apply(H, qbits[1])\n",
    "tp_prog.apply(CNOT,qbits[1],target)"
   ]
  },
  {
   "cell_type": "markdown",
   "metadata": {},
   "source": [
    "Now we need to perform a measurement in the Bell basis of the source and the entangled qbit.\n",
    "\n",
    "We start by rotating the first two qbits in the Bell basis:"
   ]
  },
  {
   "cell_type": "code",
   "execution_count": null,
   "metadata": {
    "execution": {
     "iopub.execute_input": "2023-08-01T22:49:40.335261Z",
     "iopub.status.busy": "2023-08-01T22:49:40.334925Z",
     "iopub.status.idle": "2023-08-01T22:49:40.337981Z",
     "shell.execute_reply": "2023-08-01T22:49:40.337456Z"
    }
   },
   "outputs": [],
   "source": [
    "tp_prog.apply(CNOT,source,qbits[1])\n",
    "tp_prog.apply(H,source)"
   ]
  },
  {
   "cell_type": "markdown",
   "metadata": {},
   "source": [
    "We can then measure these two qbits in the computational basis.\n",
    "In order to store the results of the measures, we need to allocate two classical bits:"
   ]
  },
  {
   "cell_type": "code",
   "execution_count": null,
   "metadata": {
    "execution": {
     "iopub.execute_input": "2023-08-01T22:49:40.340391Z",
     "iopub.status.busy": "2023-08-01T22:49:40.340081Z",
     "iopub.status.idle": "2023-08-01T22:49:40.342754Z",
     "shell.execute_reply": "2023-08-01T22:49:40.342225Z"
    }
   },
   "outputs": [],
   "source": [
    "results = tp_prog.calloc(2)"
   ]
  },
  {
   "cell_type": "markdown",
   "metadata": {},
   "source": [
    " A measurement is applied to a (list of) qbit(s) and a corresponding (list of) cbit(s)"
   ]
  },
  {
   "cell_type": "code",
   "execution_count": null,
   "metadata": {
    "execution": {
     "iopub.execute_input": "2023-08-01T22:49:40.344941Z",
     "iopub.status.busy": "2023-08-01T22:49:40.344709Z",
     "iopub.status.idle": "2023-08-01T22:49:40.347624Z",
     "shell.execute_reply": "2023-08-01T22:49:40.347113Z"
    }
   },
   "outputs": [],
   "source": [
    "#tp_prog.measure([source,qbits[1]],results)\n",
    "# equivalent to:\n",
    "tp_prog.measure(source, results[0])\n",
    "tp_prog.measure(qbits[1], results[1])"
   ]
  },
  {
   "cell_type": "markdown",
   "metadata": {},
   "source": [
    "We can now use the results of the measurements to \"fix\" the last qbit to conclude the teleportation. This is done using conditional gate application. If the classical bit passed as argument evaluates to 1, then the gate will be applied."
   ]
  },
  {
   "cell_type": "code",
   "execution_count": null,
   "metadata": {
    "execution": {
     "iopub.execute_input": "2023-08-01T22:49:40.349874Z",
     "iopub.status.busy": "2023-08-01T22:49:40.349646Z",
     "iopub.status.idle": "2023-08-01T22:49:40.352491Z",
     "shell.execute_reply": "2023-08-01T22:49:40.351964Z"
    }
   },
   "outputs": [],
   "source": [
    "tp_prog.cc_apply(results[0], Z, target)\n",
    "tp_prog.cc_apply(results[1], X, target)"
   ]
  },
  {
   "cell_type": "markdown",
   "metadata": {},
   "source": [
    "A final export, and we are good to go!"
   ]
  },
  {
   "cell_type": "code",
   "execution_count": null,
   "metadata": {
    "execution": {
     "iopub.execute_input": "2023-08-01T22:49:40.354767Z",
     "iopub.status.busy": "2023-08-01T22:49:40.354537Z",
     "iopub.status.idle": "2023-08-01T22:49:40.478667Z",
     "shell.execute_reply": "2023-08-01T22:49:40.478051Z"
    }
   },
   "outputs": [],
   "source": [
    "#tp_prog.export(\"teleportation.aqasm\")\n",
    "#!cat teleportation.aqasm\n",
    "circ = tp_prog.to_circ()\n",
    "circ.display()"
   ]
  },
  {
   "cell_type": "markdown",
   "metadata": {},
   "source": [
    "Let us try and teleport a quantum state!"
   ]
  },
  {
   "cell_type": "code",
   "execution_count": null,
   "metadata": {
    "execution": {
     "iopub.execute_input": "2023-08-01T22:49:40.520178Z",
     "iopub.status.busy": "2023-08-01T22:49:40.519854Z",
     "iopub.status.idle": "2023-08-01T22:49:40.530924Z",
     "shell.execute_reply": "2023-08-01T22:49:40.530341Z"
    }
   },
   "outputs": [],
   "source": [
    "# We will generate a random state over the first qubit by applying three random rotations\n",
    "import random, numpy\n",
    "\n",
    "tp_prog = Program()\n",
    "qbits = tp_prog.qalloc(3)\n",
    "source = qbits[0] \n",
    "target = qbits[2]\n",
    "\n",
    "# Lets prepare a random state\n",
    "angles = [random.random() * 2. * numpy.pi for _ in range(3)]\n",
    "\n",
    "tp_prog.apply(RZ(angles[0]), source)\n",
    "tp_prog.apply(RX(angles[1]), source)\n",
    "tp_prog.apply(RZ(angles[2]), source)\n",
    "\n",
    "# Lets fetch the circuit at this stage, in order to compare with the end result\n",
    "c_init = tp_prog.to_circ()\n",
    "\n",
    "# And apply the teleportation circuit\n",
    "tp_prog.apply(H, qbits[1])\n",
    "tp_prog.apply(CNOT,qbits[1],target)\n",
    "tp_prog.apply(CNOT,source,qbits[1])\n",
    "tp_prog.apply(H,source)\n",
    "results = tp_prog.calloc(2)\n",
    "#tp_prog.measure([source,qbits[1]],results)\n",
    "# equivalent to:\n",
    "tp_prog.measure(source, results[0])\n",
    "tp_prog.measure(qbits[1], results[1])\n",
    "tp_prog.cc_apply(results[0], Z, target)\n",
    "tp_prog.cc_apply(results[1], X, target)\n",
    "\n",
    "circuit = tp_prog.to_circ()"
   ]
  },
  {
   "cell_type": "markdown",
   "metadata": {},
   "source": [
    "Now we can simulate both circuits using the linear algebra simulator."
   ]
  },
  {
   "cell_type": "code",
   "execution_count": null,
   "metadata": {
    "execution": {
     "iopub.execute_input": "2023-08-01T22:49:40.533640Z",
     "iopub.status.busy": "2023-08-01T22:49:40.533392Z",
     "iopub.status.idle": "2023-08-01T22:49:41.664423Z",
     "shell.execute_reply": "2023-08-01T22:49:41.663603Z"
    }
   },
   "outputs": [],
   "source": [
    "from qat.qpus import get_default_qpu\n",
    "qpu = get_default_qpu()\n",
    "\n",
    "job_full = circuit.to_job()\n",
    "result_full = qpu.submit(job_full)\n",
    "job_init = c_init.to_job()\n",
    "result_init = qpu.submit(job_init)\n",
    "\n",
    "print(\"Initial state of the system\")\n",
    "for s in result_init:\n",
    "    print(s.state, s.amplitude)\n",
    "    \n",
    "print(\"\\nAnd after teleportation\")\n",
    "for s in result_full:\n",
    "    print(s.state, s.amplitude)\n",
    "\n"
   ]
  },
  {
   "cell_type": "code",
   "execution_count": null,
   "metadata": {},
   "outputs": [],
   "source": []
  }
 ],
 "metadata": {
  "authors": [
   "Simon Martiel"
  ],
  "kernelspec": {
   "display_name": "Python 3 (ipykernel)",
   "language": "python",
   "name": "python3"
  },
  "language_info": {
   "codemirror_mode": {
    "name": "ipython",
    "version": 3
   },
   "file_extension": ".py",
   "mimetype": "text/x-python",
   "name": "python",
   "nbconvert_exporter": "python",
   "pygments_lexer": "ipython3",
   "version": "3.9.16"
  }
 },
 "nbformat": 4,
 "nbformat_minor": 1
}
