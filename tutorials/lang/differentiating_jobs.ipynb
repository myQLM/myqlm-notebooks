{
 "cells": [
  {
   "cell_type": "markdown",
   "id": "9a5bf205",
   "metadata": {},
   "source": [
    "# Differentiating jobs\n",
    "\n",
    "Many variational algorithms require computing the gradient of the cost function $$E(\\vec{\\theta}) = \\langle \\psi(\\vec{\\theta}) | H | \\psi(\\vec{\\theta})\\rangle. $$\n",
    "The gradient can be used in gradient-based optimization methods. QLM jobs come with methods to compute the derivative of $E(\\vec{\\theta})$ automatically: ``differentiate`` and ``gradient``.\n",
    "\n",
    "``differentiate`` returns the jobs allowing to compute the derivative of $E(\\vec{\\theta})$ with respect to a given variable.\n",
    "``gradient`` returns the jobs allowing to compute the derivative of $E(\\vec{\\theta})$ with respect to all variables (in the form of a dictionary whose keys are the variable names).\n",
    "\n",
    "Two methods for computing these derivatives are proposed: the shift-rule method and the Hadamard test method. The latter requires an ancilla qubit.\n",
    "\n",
    "## Simple, one-parameter example"
   ]
  },
  {
   "cell_type": "code",
   "execution_count": null,
   "id": "a022f3e2",
   "metadata": {
    "execution": {
     "iopub.execute_input": "2022-11-05T19:42:20.967568Z",
     "iopub.status.busy": "2022-11-05T19:42:20.967071Z",
     "iopub.status.idle": "2022-11-05T19:42:21.471341Z",
     "shell.execute_reply": "2022-11-05T19:42:21.470340Z"
    }
   },
   "outputs": [],
   "source": [
    "from qat.lang.AQASM import CNOT, RX, H, Program\n",
    "\n",
    "prog = Program()\n",
    "qbits = prog.qalloc(2)\n",
    "theta = prog.new_var(float, r\"\\theta\")\n",
    "H(qbits[0])\n",
    "CNOT(qbits)\n",
    "RX(theta)(qbits[1])\n",
    "CNOT(qbits)\n",
    "\n",
    "circ = prog.to_circ()\n",
    "circ.display()"
   ]
  },
  {
   "cell_type": "markdown",
   "id": "fc309dff",
   "metadata": {},
   "source": [
    "Let us now define a job corresponding to computing $E(\\theta) = \\langle \\psi(\\theta) | Z_0 | \\psi(\\theta)\\rangle$ and its derivative: "
   ]
  },
  {
   "cell_type": "code",
   "execution_count": null,
   "id": "dfde5817",
   "metadata": {
    "execution": {
     "iopub.execute_input": "2022-11-05T19:42:21.475443Z",
     "iopub.status.busy": "2022-11-05T19:42:21.474850Z",
     "iopub.status.idle": "2022-11-05T19:42:22.024623Z",
     "shell.execute_reply": "2022-11-05T19:42:22.023846Z"
    }
   },
   "outputs": [],
   "source": [
    "from qat.core import Observable, Term\n",
    "obs = Observable(2, pauli_terms=[Term(1, \"Z\", [0])])\n",
    "job = circ.to_job(observable=obs)\n",
    "jobs = job.differentiate(r\"\\theta\")\n",
    "\n",
    "for job_ in jobs:\n",
    "    circ = job_.circuit\n",
    "    circ.display()"
   ]
  },
  {
   "cell_type": "markdown",
   "id": "9154dcbe",
   "metadata": {},
   "source": [
    "With no additional arguments, ``differentiate`` uses the shift-rule method. To use the Hadamard test method:"
   ]
  },
  {
   "cell_type": "code",
   "execution_count": null,
   "id": "b18fb206",
   "metadata": {
    "execution": {
     "iopub.execute_input": "2022-11-05T19:42:22.028042Z",
     "iopub.status.busy": "2022-11-05T19:42:22.027550Z",
     "iopub.status.idle": "2022-11-05T19:42:22.329877Z",
     "shell.execute_reply": "2022-11-05T19:42:22.328775Z"
    }
   },
   "outputs": [],
   "source": [
    "jobs = job.differentiate(r\"\\theta\", method=\"h-test\")\n",
    "\n",
    "for job_ in jobs:\n",
    "    circ = job_.circuit\n",
    "    circ.display()"
   ]
  },
  {
   "cell_type": "markdown",
   "id": "ff651541",
   "metadata": {},
   "source": [
    "## More variables\n",
    "\n",
    "Let us look at a slightly more involved example, with two variables:"
   ]
  },
  {
   "cell_type": "code",
   "execution_count": null,
   "id": "864425dc",
   "metadata": {
    "execution": {
     "iopub.execute_input": "2022-11-05T19:42:22.333858Z",
     "iopub.status.busy": "2022-11-05T19:42:22.333365Z",
     "iopub.status.idle": "2022-11-05T19:42:22.604155Z",
     "shell.execute_reply": "2022-11-05T19:42:22.603435Z"
    }
   },
   "outputs": [],
   "source": [
    "prog = Program()\n",
    "qbits = prog.qalloc(2)\n",
    "theta = prog.new_var(float, r\"\\theta\")\n",
    "phi = prog.new_var(float, r\"\\phi\")\n",
    "H(qbits[0])\n",
    "CNOT(qbits)\n",
    "RX(theta)(qbits[1])\n",
    "RX(phi)(qbits[0])\n",
    "CNOT(qbits)\n",
    "\n",
    "circ = prog.to_circ()\n",
    "circ.display()"
   ]
  },
  {
   "cell_type": "code",
   "execution_count": null,
   "id": "9df099b1",
   "metadata": {
    "execution": {
     "iopub.execute_input": "2022-11-05T19:42:22.607398Z",
     "iopub.status.busy": "2022-11-05T19:42:22.607146Z",
     "iopub.status.idle": "2022-11-05T19:42:23.682511Z",
     "shell.execute_reply": "2022-11-05T19:42:23.681755Z"
    }
   },
   "outputs": [],
   "source": [
    "job = circ.to_job(observable=obs)\n",
    "jobs = job.gradient()\n",
    "for var in jobs.keys():\n",
    "    print(var)\n",
    "    for job_ in jobs[var]:\n",
    "        circ = job_.circuit\n",
    "        circ.display()"
   ]
  },
  {
   "cell_type": "code",
   "execution_count": null,
   "id": "ce0f9f38",
   "metadata": {},
   "outputs": [],
   "source": []
  }
 ],
 "metadata": {
  "kernelspec": {
   "display_name": "Python 3 (ipykernel)",
   "language": "python",
   "name": "python3"
  },
  "language_info": {
   "codemirror_mode": {
    "name": "ipython",
    "version": 3
   },
   "file_extension": ".py",
   "mimetype": "text/x-python",
   "name": "python",
   "nbconvert_exporter": "python",
   "pygments_lexer": "ipython3",
   "version": "3.10.4"
  }
 },
 "nbformat": 4,
 "nbformat_minor": 5
}
