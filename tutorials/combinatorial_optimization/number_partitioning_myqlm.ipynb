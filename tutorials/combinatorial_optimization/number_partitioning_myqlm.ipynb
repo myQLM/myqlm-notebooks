{
 "cells": [
  {
   "cell_type": "markdown",
   "metadata": {},
   "source": [
    "# Number Partitioning\n",
    "\n",
    "### Definition\n",
    "\n",
    "We are given a set of $N$ real and potentially repeating numbers and our aim is to partition them in two subsets, such that the sum of the numbers in each subset is equal (or as close as possible).\n",
    "\n",
    "### Applications\n",
    "\n",
    "The Number Partitioning problem comes up in a variety of fields:\n",
    "\n",
    "- Fair division of assets between two parties.\n",
    "\n",
    "- In Statistical Mechanics to count the available states to many-particle systems and for calculation of the Partition function.\n",
    "\n",
    "- Partitioning irreducible representations of important groups like the permutation group $S(n)$ and the Unitary Group $U(n)$, which themselves have applications in Molecular Chemistry, Crystalography and Quantum Mechanics.\n",
    "\n",
    "- Computing many-variable integrals, representing wave functions of many-body systems and in Statistical Theory of Random Matrices that is used to model complex networks, disordered media and chaotic quantum systems.\n",
    "\n",
    "- Public key encryption and task scheduling.\n",
    "\n",
    "### Path to solving the problem\n",
    "\n",
    "Number Partitioning can be formulated as a minimization problem and its cost function can be cast to an Ising problem through its respective Hamiltonian (see the [Introduction](./introduction_combinatorial_optimization_myqlm.ipynb) and a [reference](https://arxiv.org/abs/1302.5843)),\n",
    "\n",
    "$$ \\displaystyle \\large\n",
    "H = \\displaystyle \\left(\\textstyle\\sum\\limits_{i=1}^{N} n_i s_i \\right) ^2\n",
    "$$\n",
    "\n",
    "where $n_i$ is the $i$-th number from the list of numbers and $s_i$ is a spin variable, indicating which subset $n_i$ belongs to. If $s_i = 1$, it is in one subset and if $s_i = -1$, it is in the other. \n",
    "\n",
    "The myQLM allows us to encode a problem in this Hamiltonian form with the help of the `NumberPartitioning` class and by providing a list of numbers. We can then create a job from the problem and send it to a Simulated Annealer (SA) wrapped with a Quantum Processing Unit (QPU) interface. The SA will minimize the Hamiltonian, hence we find the solution to our problem.\n",
    "\n",
    "In fact, the QLM contains an even more powerful solver $-$ Simulated Quantum Annealing (SQA). This quantum annealer has been tested on numerous benchmarks for the NP problems supported and produces results with a quality usually exceeding $98\\%$. More details can be found in the [documentation](https://myqlm.github.io/advanced_combinatorial_optimization.html#simulated-quantum-annealing-benchmarking-and-performance).\n",
    "\n",
    "### Quantum resources\n",
    "\n",
    "To represent the problem as Ising, myQLM would need $N$ spins, one for each number in the list. "
   ]
  },
  {
   "cell_type": "markdown",
   "metadata": {},
   "source": [
    "# Example problem\n",
    "\n",
    "Imagine we are given a list of $30$ integers, drawn at random in the range $1$ to $50$. Let us describe the procedure for partitioning such a list using tools from the QLM. In fact, it will be applicable for finding the partitioning of any list of real numbers !"
   ]
  },
  {
   "cell_type": "code",
   "execution_count": null,
   "metadata": {
    "execution": {
     "iopub.execute_input": "2022-11-05T19:41:58.110757Z",
     "iopub.status.busy": "2022-11-05T19:41:58.110281Z",
     "iopub.status.idle": "2022-11-05T19:41:58.199473Z",
     "shell.execute_reply": "2022-11-05T19:41:58.198836Z"
    }
   },
   "outputs": [],
   "source": [
    "import numpy as np\n",
    "\n",
    "# Specify the set of numbers\n",
    "# First example\n",
    "numbers_set = np.random.randint(low=1, high=50, size=30)\n",
    "\n",
    "# # Second example\n",
    "# numbers_set = (np.random.rand(1000) - 0.5) * 1000\n",
    "\n",
    "# Show the set\n",
    "print(numbers_set)"
   ]
  },
  {
   "cell_type": "markdown",
   "metadata": {},
   "source": [
    "We can then encode it with our `NumberPartitioning` class."
   ]
  },
  {
   "cell_type": "code",
   "execution_count": null,
   "metadata": {
    "execution": {
     "iopub.execute_input": "2022-11-05T19:41:58.245613Z",
     "iopub.status.busy": "2022-11-05T19:41:58.245206Z",
     "iopub.status.idle": "2022-11-05T19:41:58.785140Z",
     "shell.execute_reply": "2022-11-05T19:41:58.784545Z"
    }
   },
   "outputs": [],
   "source": [
    "from qat.opt import NumberPartitioning\n",
    "\n",
    "number_partitioning_problem = NumberPartitioning(numbers_set)"
   ]
  },
  {
   "cell_type": "markdown",
   "metadata": {},
   "source": [
    "# Solution"
   ]
  },
  {
   "cell_type": "markdown",
   "metadata": {},
   "source": [
    "We can now proceed to compute the solution of the problem by the following procedure:\n",
    "\n",
    "1. Extract some fine-tuned parameters for NumberPartitioning (found for SQA) which are needed for the temperature schedule.\n",
    "\n",
    "\n",
    "2. Create the temperature schedule using the `t` time variable (instance of the class `Variable`) and thus the `SimulatedAnnealing` QPU.\n",
    "\n",
    "\n",
    "3. Create a job from the problem by calling the `to_job()` method and send it to the QPU.\n",
    "\n",
    "\n",
    "4. Extract the `Result` and present the solution spin configuration.\n",
    "\n",
    "\n",
    "5. Show the respective numbers in each set.\n",
    "\n",
    "The solution configuration is a sequence of spins. The position of each spin in the array corresponds to the position of each number from the list. If a spin has the value $1$ or $-1$, this means that the respective number is either in the one or the other subset."
   ]
  },
  {
   "cell_type": "code",
   "execution_count": null,
   "metadata": {
    "execution": {
     "iopub.execute_input": "2022-11-05T19:41:58.789339Z",
     "iopub.status.busy": "2022-11-05T19:41:58.788935Z",
     "iopub.status.idle": "2022-11-05T19:41:58.819991Z",
     "shell.execute_reply": "2022-11-05T19:41:58.819471Z"
    }
   },
   "outputs": [],
   "source": [
    "from qat.qpus import SimulatedAnnealing\n",
    "from qat.simulated_annealing import integer_to_spins\n",
    "from qat.core import Variable\n",
    "\n",
    "# 1. Extract parameters for SA\n",
    "problem_parameters_dict = number_partitioning_problem.get_best_parameters()\n",
    "n_steps = problem_parameters_dict[\"n_steps\"]\n",
    "temp_max = problem_parameters_dict[\"temp_max\"]\n",
    "temp_min = problem_parameters_dict[\"temp_min\"]\n",
    "\n",
    "# 2. Create a temperature schedule and a QPU\n",
    "tmax = 1.0\n",
    "t = Variable(\"t\", float)\n",
    "temp_t = temp_min * (t / tmax) + temp_max * (1 - t / tmax)\n",
    "sa_qpu = SimulatedAnnealing(temp_t=temp_t, n_steps=n_steps)\n",
    "\n",
    "# 3. Create a job and send it to the QPU\n",
    "problem_job = number_partitioning_problem.to_job(tmax=tmax)\n",
    "problem_result = sa_qpu.submit(problem_job)\n",
    "\n",
    "# 4. Extract and print the solution configuration\n",
    "state = problem_result.raw_data[0].state.int  # raw_data is a list of Samples - one per computation\n",
    "solution_configuration = integer_to_spins(state, len(numbers_set))\n",
    "print(\"Solution configuration: \\n\" + str(solution_configuration) + \"\\n\")\n",
    "\n",
    "# 5. Show subsets\n",
    "indices_spin_1 = np.where(solution_configuration == 1)[0]\n",
    "spin_1_subset = [numbers_set[i] for i in indices_spin_1]\n",
    "print(\"The first subset has the numbers:\\n\" + str(spin_1_subset) + \"\\n\")\n",
    "\n",
    "indices_spin_minus_1 = np.where(solution_configuration == -1)[0]\n",
    "spin_minus_1_subset = [numbers_set[i] for i in indices_spin_minus_1]\n",
    "print(\"The second subset has the numbers:\\n\" + str(spin_minus_1_subset))"
   ]
  },
  {
   "cell_type": "markdown",
   "metadata": {},
   "source": [
    "# Solution analysis\n",
    "\n",
    "\n",
    "We can perform a simple check to decide how good the partitioning was. As stated in the beginning, the sums of the numbers in each subset should be equal (or very close)."
   ]
  },
  {
   "cell_type": "code",
   "execution_count": null,
   "metadata": {
    "execution": {
     "iopub.execute_input": "2022-11-05T19:41:58.823170Z",
     "iopub.status.busy": "2022-11-05T19:41:58.822912Z",
     "iopub.status.idle": "2022-11-05T19:41:58.826167Z",
     "shell.execute_reply": "2022-11-05T19:41:58.825682Z"
    }
   },
   "outputs": [],
   "source": [
    "print(\"Sum of the numbers in the first subset:\\n\" + str(sum(spin_1_subset)))\n",
    "print(\"Sum of the numbers in the second subset:\\n\" + str(sum(spin_minus_1_subset)))"
   ]
  }
 ],
 "metadata": {
  "authors": [
   "Grigori Matein"
  ],
  "documentation-tags": {
   "icon": [
    "number",
    ":material-outlined:`mobiledata_off;3em`",
    ":material-outlined:`splitscreen;3em`"
   ],
   "level": "beginner"
  },
  "kernelspec": {
   "display_name": "Python 3 (ipykernel)",
   "language": "python",
   "name": "python3"
  },
  "language_info": {
   "codemirror_mode": {
    "name": "ipython",
    "version": 3
   },
   "file_extension": ".py",
   "mimetype": "text/x-python",
   "name": "python",
   "nbconvert_exporter": "python",
   "pygments_lexer": "ipython3",
   "version": "3.10.4"
  }
 },
 "nbformat": 4,
 "nbformat_minor": 4
}
