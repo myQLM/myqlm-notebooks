{
 "cells": [
  {
   "cell_type": "markdown",
   "metadata": {},
   "source": [
    "# Quantum Phase Estimation\n",
    "\n",
    "This notebook present the method `qat.lang.algorithms.phase_estimation` that automatically builds phase estimation routines from an operator's implementation.\n",
    "\n",
    "The method takes as input a unitary operator (usually a QRoutine object) and a number of bits of precision, and returns a QRoutine.\n",
    "\n",
    "It is still up to the user to embed this routine in a proper quantum program and to prepare the data register so that it contains\n",
    "the appropriate target quantum state (typically an eigenvector of the input operator).\n",
    "\n",
    "We will use it to estimate the angle of a $Z$ rotation applied to a qubit prepare in state $|1\\rangle$ !"
   ]
  },
  {
   "cell_type": "code",
   "execution_count": null,
   "metadata": {
    "execution": {
     "iopub.execute_input": "2022-11-05T19:42:16.150801Z",
     "iopub.status.busy": "2022-11-05T19:42:16.150438Z",
     "iopub.status.idle": "2022-11-05T19:42:16.711344Z",
     "shell.execute_reply": "2022-11-05T19:42:16.710711Z"
    }
   },
   "outputs": [],
   "source": [
    "from re import X\n",
    "import numpy as np\n",
    "from qat.lang.AQASM import *\n",
    "from qat.lang.algorithms import phase_estimation\n",
    "\n",
    "phase_to_guess = np.pi / 4\n",
    "print('The phase to guess is:', phase_to_guess)\n",
    "\n",
    "operator = PH(phase_to_guess)\n",
    "state_preparation = X\n",
    "nbits = 3\n",
    "\n",
    "prog = Program()\n",
    "data = prog.qalloc(1)\n",
    "# We declare the phase as a QInt, for conversion purposes.\n",
    "phase = prog.qalloc(nbits, QInt)\n",
    "# Preparing the desired eigenstate\n",
    "state_preparation(data)\n",
    "# applying the phase_estimation\n",
    "phase_estimation(operator, nbits)(data, phase)\n",
    "job = prog.to_circ().to_job(qubits=[phase], nbshots=1)\n",
    "job.circuit.display()"
   ]
  },
  {
   "cell_type": "markdown",
   "metadata": {},
   "source": [
    "What should we expect from this job?\n",
    "\n",
    "The `phase` register should contain an approximation over 4 bits of the angle of the `PH` gate (divided by $2\\pi$).\n",
    "This entails that if we measure the `phase` register and obtain an integer value $b$, our guess for the phase is given by:\n",
    "$$ \\frac{2\\pi b}{2^k} $$\n",
    "where $k$ is the number of bits of precision.\n",
    "\n",
    "Let us simulate this job and compute this value !"
   ]
  },
  {
   "cell_type": "code",
   "execution_count": null,
   "metadata": {
    "execution": {
     "iopub.execute_input": "2022-11-05T19:42:16.714604Z",
     "iopub.status.busy": "2022-11-05T19:42:16.714141Z",
     "iopub.status.idle": "2022-11-05T19:42:16.733661Z",
     "shell.execute_reply": "2022-11-05T19:42:16.733060Z"
    }
   },
   "outputs": [],
   "source": [
    "from qat.qpus import get_default_qpu\n",
    "qpu = get_default_qpu()\n",
    "\n",
    "\n",
    "result = qpu.submit(job)\n",
    "for sample in result:\n",
    "    # Since we declared the phase register as a QInt, we get the bitstring to integer conversion for free using the .value attribute\n",
    "    print(\"Our guess:\", 2 * np.pi * sample.state.value[0] / (1 << nbits))\n"
   ]
  },
  {
   "cell_type": "code",
   "execution_count": null,
   "metadata": {},
   "outputs": [],
   "source": []
  }
 ],
 "metadata": {
  "documentation-tags": {
   "icon": "telescope"
  },
  "kernelspec": {
   "display_name": "Python 3 (ipykernel)",
   "language": "python",
   "name": "python3"
  },
  "language_info": {
   "codemirror_mode": {
    "name": "ipython",
    "version": 3
   },
   "file_extension": ".py",
   "mimetype": "text/x-python",
   "name": "python",
   "nbconvert_exporter": "python",
   "pygments_lexer": "ipython3",
   "version": "3.10.4"
  },
  "vscode": {
   "interpreter": {
    "hash": "f9f85f796d01129d0dd105a088854619f454435301f6ffec2fea96ecbd9be4ac"
   }
  }
 },
 "nbformat": 4,
 "nbformat_minor": 2
}
