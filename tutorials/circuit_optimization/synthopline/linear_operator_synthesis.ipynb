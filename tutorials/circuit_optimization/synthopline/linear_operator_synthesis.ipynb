{
  "cells": [
    {
      "cell_type": "markdown",
      "metadata": {},
      "source": [
        "# Linear Boolean operator synthesis\n",
        "\n",
        "`qat.synthopline` provides a collection of algorithms able to synthesise circuits implementing a particular set of unitary operators called *linear boolean operators*. These capture exactly operators that can be implemented using solely CNOT gates. \n",
        "\n",
        "In practice they can be efficiently represented in a circuit-independent way via a $n\\times n$ invertible bit table. For instance the following operator:\n",
        "\n",
        "$$\\begin{pmatrix}\n",
        "1 & 0 & 0\\\\\n",
        "1 & 1 & 1\\\\\n",
        "0 & 1 & 0\\end{pmatrix}$$\n",
        "\n",
        "can be implemented using the following circuit:"
      ]
    },
    {
      "cell_type": "code",
      "execution_count": null,
      "metadata": {},
      "outputs": [],
      "source": [
        "from qat.lang.AQASM import Program, CNOT\n",
        "prog = Program()\n",
        "qbits = prog.qalloc(3)\n",
        "\n",
        "CNOT(qbits[2], qbits[1])\n",
        "CNOT(qbits[1], qbits[2])\n",
        "CNOT(qbits[0], qbits[1])\n",
        "\n",
        "circuit = prog.to_circ()\n",
        "circuit.display()"
      ]
    },
    {
      "cell_type": "markdown",
      "metadata": {},
      "source": [
        "The method `qat.synthopline.linear_synthesis.extract_linear_operator` can be used to extract the linear operator underlying a CNOT circuit:"
      ]
    },
    {
      "cell_type": "code",
      "execution_count": null,
      "metadata": {},
      "outputs": [],
      "source": [
        "from qat.synthopline.linear_synthesis import extract_linear_operator\n",
        "\n",
        "table = extract_linear_operator(circuit)\n",
        "print(table)"
      ]
    },
    {
      "cell_type": "markdown",
      "metadata": {},
      "source": [
        "Once we have our linear operator, we can use the `qat.synthopline.linear_synthesis.linear_operator_synthesis` method to produce a CNOT circuit implementing the operator:"
      ]
    },
    {
      "cell_type": "code",
      "execution_count": null,
      "metadata": {},
      "outputs": [],
      "source": [
        "from qat.synthopline.linear_synthesis import linear_operator_synthesis\n",
        "\n",
        "circuit_bis = linear_operator_synthesis(table)\n",
        "circuit_bis.display()"
      ]
    },
    {
      "cell_type": "markdown",
      "metadata": {},
      "source": [
        "In fact, this `linear_operator_synthesis` methods can call several backend routines to synthesise a circuit. These routines have different behavior and performances.\n",
        "\n",
        "An exhaustive list of the available routine can be found in the documentation together with references.\n",
        "\n",
        "To benchmark them, we can try to reduce the size of a large CNOT circuit:"
      ]
    },
    {
      "cell_type": "code",
      "execution_count": null,
      "metadata": {},
      "outputs": [],
      "source": [
        "import numpy as np\n",
        "\n",
        "def large_random_circuit(nbqbits):\n",
        "    nbcnots = nbqbits ** 2\n",
        "    prog = Program()\n",
        "    qbits = prog.qalloc(nbqbits)\n",
        "    for _ in range(nbcnots):\n",
        "        CNOT(np.random.choice(qbits, replace=False, size=2))\n",
        "    return prog.to_circ()\n",
        "\n",
        "circuit = large_random_circuit(10)\n",
        "print(\"Before synthesis:\", len(circuit.ops))\n",
        "table = extract_linear_operator(circuit)\n",
        "small_circuit = linear_operator_synthesis(table, method=\"greedy_gauss\")\n",
        "print(\"After synthesis (greedy_gauss):\", len(small_circuit.ops))\n",
        "small_circuit = linear_operator_synthesis(table, method=\"gauss\")\n",
        "print(\"After synthesis (gauss):\", len(small_circuit.ops))\n",
        "small_circuit = linear_operator_synthesis(table, method=\"pmh\", m=3)\n",
        "print(\"After synthesis (pmh):\", len(small_circuit.ops))"
      ]
    },
    {
      "cell_type": "markdown",
      "metadata": {},
      "source": [
        "For some applications, it can be interesting to minimize the depth of the circuit instead of the CNOT count.\n",
        "That is precisely what the **divide_and_conquer** routine does:"
      ]
    },
    {
      "cell_type": "code",
      "execution_count": null,
      "metadata": {},
      "outputs": [],
      "source": [
        "shallow_circuit = linear_operator_synthesis(table, method=\"divide_and_conquer\", m=3)\n",
        "print(\"After synthesis (doc):\", len(small_circuit.ops))\n",
        "\n",
        "def depth(circuit):\n",
        "    ''' Computes the depth of a circuit '''\n",
        "    slices = [set()]\n",
        "    for op in circuit:\n",
        "        qbits = op.qbits\n",
        "        insert_in = None\n",
        "        for index, slic in enumerate(reversed(slices)):\n",
        "            if all(qb not in slic for qb in qbits):\n",
        "                continue\n",
        "            insert_in = index\n",
        "            break\n",
        "        if insert_in is None:\n",
        "            for qb in qbits:\n",
        "                slices[0].add(qb)\n",
        "        elif insert_in == 0:\n",
        "            slices.append(set(qbits))\n",
        "        else:\n",
        "            for qb in qbits:\n",
        "                slices[len(slices) - insert_in].add(qb)\n",
        "    return len(slices)\n",
        "\n",
        "print(\"Depth (doc):\", depth(shallow_circuit))\n",
        "print(\"Depth (pmh):\", depth(small_circuit))"
      ]
    },
    {
      "cell_type": "markdown",
      "metadata": {},
      "source": [
        "# Architecture aware synthesis\n",
        "\n",
        "One of the routine called by `linear_operator_synthesis` can take into account a connectivity graph in order to generate an architecture compliant CNOT circuit.\n",
        "\n",
        "This routine needs a (networkx) graph and an Hamiltonian path of this graph.\n",
        "\n",
        "For the purpose of demonstration, lets consider a simple line device:"
      ]
    },
    {
      "cell_type": "code",
      "execution_count": null,
      "metadata": {},
      "outputs": [],
      "source": [
        "from qat.devices import LineDevice\n",
        "from qat.synthopline.linear_synthesis import random_linear_operator\n",
        "device = LineDevice(4)\n",
        "operator = random_linear_operator(4)\n",
        "print(device.description)\n",
        "print(device)\n",
        "ham_path = [0, 1, 2, 3]\n",
        "aspen_circuit = linear_operator_synthesis(operator, method=\"steiner_gauss\", graph=device.as_graph(), ham_path=ham_path)\n",
        "aspen_circuit.display()"
      ]
    },
    {
      "cell_type": "code",
      "execution_count": null,
      "metadata": {},
      "outputs": [],
      "source": []
    }
  ],
  "metadata": {
    "documentation-tags": {
      "icon": [
        ":material-outlined:`fingerprint;3em`"
      ]
    },
    "kernelspec": {
      "display_name": "Python 3 (ipykernel)",
      "language": "python",
      "name": "python3"
    },
    "language_info": {
      "codemirror_mode": {
        "name": "ipython",
        "version": 3
      },
      "file_extension": ".py",
      "mimetype": "text/x-python",
      "name": "python",
      "nbconvert_exporter": "python",
      "pygments_lexer": "ipython3",
      "version": "3.12.3"
    },
    "qlmaas_force_applications": [
      "extract_linear_operator",
      "linear_operator_synthesis",
      "random_linear_operator"
    ]
  },
  "nbformat": 4,
  "nbformat_minor": 2
}
