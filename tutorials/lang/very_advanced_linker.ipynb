{
 "cells": [
  {
   "cell_type": "markdown",
   "metadata": {},
   "source": [
    "# Very advanced usage: linking under control\n",
    "\n",
    "In this notebook, we present how to further exploit the power of the pyAQASM linking mechanics.\n",
    "We assume that you are already familiar with the basic linking mechanic and ancillae management.\n",
    "\n",
    "## A story of Toffolis\n",
    "\n",
    "The example we will present here is related to a quite common situation when dealing with classical oracles and Grover algorithm.\n",
    "\n",
    "Lets assume that we would like to implement a Grover diffusion operator over an arbitrary number of bits.\n",
    "\n",
    "Grover's diffusion operator has shape:\n",
    "\n",
    "$$ U_s = 2|s\\rangle\\langle s| - I $$\n",
    "where $|s\\rangle = |+^n\\rangle$ is a uniform superposition of all possible classical states over $n$ qubits.\n",
    "\n",
    "It is easy to implement this transformation using a single $n$-qubits Toffoli gate (i.e with $n-1$ controls) as folows:"
   ]
  },
  {
   "cell_type": "code",
   "execution_count": null,
   "metadata": {
    "execution": {
     "iopub.execute_input": "2022-11-05T19:42:31.068313Z",
     "iopub.status.busy": "2022-11-05T19:42:31.067995Z",
     "iopub.status.idle": "2022-11-05T19:42:31.581452Z",
     "shell.execute_reply": "2022-11-05T19:42:31.580834Z"
    }
   },
   "outputs": [],
   "source": [
    "from qat.lang.AQASM import QRoutine, H, CCNOT, X\n",
    "\n",
    "def grover_diffusion(nbqbits):\n",
    "    diffusion = QRoutine()\n",
    "    wires = diffusion.new_wires(nbqbits)\n",
    "    with diffusion.compute():\n",
    "        for wire in wires:\n",
    "            H(wire)\n",
    "            X(wire)\n",
    "        H(wires[-1])\n",
    "    CCNOT.ctrl(nbqbits - 3)(wires)\n",
    "    diffusion.uncompute()\n",
    "    return diffusion\n",
    "diffusion_5 = grover_diffusion(5)\n",
    "diffusion_5.display()"
   ]
  },
  {
   "cell_type": "markdown",
   "metadata": {},
   "source": [
    "So we now have a routine that flawlessly implement a Grover's diffusion.\n",
    "\n",
    "In a real application however, we do not have access to such a large gate. Usually, a generalized Toffoli is implemented using ancillae qubits a many smaller gates (CNOT + T or 3-qubits Toffoli gates).\n",
    "\n",
    "In our current situation, we already used the CCNOT gate, controlled many times, to implement our routine. What could we do to postpone the choice of implementation of the multi-controlled Toffoli to after having written the full algorithm?\n",
    "\n",
    "This is what we are going to demonstrate here.\n",
    "\n",
    "## Linking under a (or many) control(s)\n",
    "\n",
    "\n",
    "The linking process of a sub-circuit implementation to a gate roughly works like this:\n",
    " * the linker crawls the circuit and find gate that have no subcircuit implementation but whose definition has a circuit generator\n",
    " * for each of these gates, the linker :\n",
    "     * (i) pops all operators such as ctrls and daggers off of the gate\n",
    "     * (ii) calls the circuit generator of the gate to produce a subcircuit (i.e a QRoutine object)\n",
    "     * (iii) re-applies the operators on the QRoutine\n",
    "     * (iv) inserts this subcircuit in the definition of the gate\n",
    "\n",
    "Hence, if we manager to describe our Toffoli gate as some kind of QRoutine that has a particular behavior when controlled, then we can finely control the way our multi-control Toffoli will be generated in the final circuit.\n",
    "\n",
    "We start by creating a new class inheriting from QRoutine, with a single overloaded method:"
   ]
  },
  {
   "cell_type": "code",
   "execution_count": null,
   "metadata": {
    "execution": {
     "iopub.execute_input": "2022-11-05T19:42:31.618157Z",
     "iopub.status.busy": "2022-11-05T19:42:31.617753Z",
     "iopub.status.idle": "2022-11-05T19:42:32.208509Z",
     "shell.execute_reply": "2022-11-05T19:42:32.207898Z"
    }
   },
   "outputs": [],
   "source": [
    "\n",
    "class MultiToffoli(QRoutine):\n",
    "    def __init__(self):\n",
    "        super().__init__()\n",
    "        # Since we want to modify the definition of CCNOT, we better not use CCNOT inside here\n",
    "        # If we were to use a CCNOT here, the linker would loop indefinitly\n",
    "        X.ctrl(2)(self.new_wires(3)) \n",
    "        \n",
    "    def ctrl(self, nbctrls=1):\n",
    "        if nbctrls == 0:\n",
    "            # Same argument here\n",
    "            return X.ctrl(2)\n",
    "        rout = QRoutine()\n",
    "        wires = rout.new_wires(self.arity + nbctrls)\n",
    "        tmp = rout.new_wires(1)\n",
    "        rout.set_ancillae(tmp)\n",
    "        with rout.compute():\n",
    "            # And here\n",
    "            X.ctrl(2)(wires[0], wires[1], tmp)\n",
    "        self.ctrl(nbctrls - 1)(tmp, wires[2:])\n",
    "        rout.uncompute()\n",
    "        return rout\n",
    "\n",
    "m_ccnot = MultiToffoli().ctrl(1)\n",
    "m_ccnot.display()\n",
    "m_ccnot = m_ccnot.ctrl(3)\n",
    "m_ccnot.display()"
   ]
  },
  {
   "cell_type": "markdown",
   "metadata": {},
   "source": [
    "So now we have a QRoutine that knows how to better deal with control operators, instead of naively increasing its arity.\n",
    "Notice that this implementation if far from being \"smart\" and can be optimized quite a lot! But this is not the point of this notebook.\n",
    "\n",
    "Now, we would like to link this implementation of the CCNOT in a Program that was generated using our previous definition of the Grover operator.\n",
    "\n",
    "To do that we need to define a new CCNOT gate that contains the as circuit implementation the class we just defined:"
   ]
  },
  {
   "cell_type": "code",
   "execution_count": null,
   "metadata": {
    "execution": {
     "iopub.execute_input": "2022-11-05T19:42:32.211425Z",
     "iopub.status.busy": "2022-11-05T19:42:32.211140Z",
     "iopub.status.idle": "2022-11-05T19:42:32.214610Z",
     "shell.execute_reply": "2022-11-05T19:42:32.214130Z"
    }
   },
   "outputs": [],
   "source": [
    "from qat.lang.AQASM.misc import build_gate\n",
    "\n",
    "@build_gate(\"CCNOT\", [], arity=3)\n",
    "def multi_ccnot():\n",
    "    return MultiToffoli()"
   ]
  },
  {
   "cell_type": "markdown",
   "metadata": {},
   "source": [
    "And we can link it to our program:"
   ]
  },
  {
   "cell_type": "code",
   "execution_count": null,
   "metadata": {
    "execution": {
     "iopub.execute_input": "2022-11-05T19:42:32.217058Z",
     "iopub.status.busy": "2022-11-05T19:42:32.216818Z",
     "iopub.status.idle": "2022-11-05T19:42:33.577243Z",
     "shell.execute_reply": "2022-11-05T19:42:33.576635Z"
    }
   },
   "outputs": [],
   "source": [
    "from qat.lang.AQASM import Program\n",
    "my_algorithm = Program()\n",
    "qbits = my_algorithm.qalloc(6)\n",
    "grover_diffusion(6)(qbits)\n",
    "circuit1 = my_algorithm.to_circ(include_matrices=False) # Without linking\n",
    "\n",
    "circuit2 = my_algorithm.to_circ(link=[multi_ccnot], include_matrices=False) # With linking\n",
    "circuit1.display()\n",
    "circuit2.display()\n",
    "circuit2.display(depth=1)"
   ]
  },
  {
   "cell_type": "markdown",
   "metadata": {},
   "source": [
    "## Linking after circuit generation\n",
    "\n",
    "Lets go a bit further, and assume that a circuit was already generated without linking our own implementation of the multi-Toffoli."
   ]
  },
  {
   "cell_type": "code",
   "execution_count": null,
   "metadata": {
    "execution": {
     "iopub.execute_input": "2022-11-05T19:42:33.580006Z",
     "iopub.status.busy": "2022-11-05T19:42:33.579725Z",
     "iopub.status.idle": "2022-11-05T19:42:34.554250Z",
     "shell.execute_reply": "2022-11-05T19:42:34.553563Z"
    }
   },
   "outputs": [],
   "source": [
    "circuit = my_algorithm.to_circ(include_matrices=False)\n",
    "circuit.display(depth=1)\n",
    "from qat.lang.linking.linker import Linker\n",
    "import qat.lang.linking.util as linkutil\n",
    "linker = Linker(link=[multi_ccnot], include_matrices=False)\n",
    "# This replaces the multi-control Toffolis by their proper implementation\n",
    "linker.link(circuit)\n",
    "circuit.display(depth=1)"
   ]
  },
  {
   "cell_type": "markdown",
   "metadata": {},
   "source": [
    "And, by the way, if you are lost among the qubits, keeping the lock/release of ancillae visible can help debug:"
   ]
  },
  {
   "cell_type": "code",
   "execution_count": null,
   "metadata": {
    "execution": {
     "iopub.execute_input": "2022-11-05T19:42:34.557407Z",
     "iopub.status.busy": "2022-11-05T19:42:34.557105Z",
     "iopub.status.idle": "2022-11-05T19:42:35.220196Z",
     "shell.execute_reply": "2022-11-05T19:42:35.219479Z"
    }
   },
   "outputs": [],
   "source": [
    "circuit = my_algorithm.to_circ(include_matrices=False)\n",
    "from qat.lang.linking.linker import Linker\n",
    "import qat.lang.linking.util as linkutil\n",
    "linker = Linker(link=[multi_ccnot], include_matrices=False, include_locks=True)\n",
    "# This replaces the multi-control Toffolis by their proper implementation\n",
    "linker.link(circuit)\n",
    "circuit.display(depth=1)"
   ]
  },
  {
   "cell_type": "code",
   "execution_count": null,
   "metadata": {},
   "outputs": [],
   "source": []
  }
 ],
 "metadata": {
  "kernelspec": {
   "display_name": "Python 3 (ipykernel)",
   "language": "python",
   "name": "python3"
  },
  "language_info": {
   "codemirror_mode": {
    "name": "ipython",
    "version": 3
   },
   "file_extension": ".py",
   "mimetype": "text/x-python",
   "name": "python",
   "nbconvert_exporter": "python",
   "pygments_lexer": "ipython3",
   "version": "3.10.4"
  }
 },
 "nbformat": 4,
 "nbformat_minor": 2
}
