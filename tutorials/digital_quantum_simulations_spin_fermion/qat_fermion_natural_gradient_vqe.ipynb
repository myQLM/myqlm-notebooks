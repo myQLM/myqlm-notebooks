{
 "cells": [
  {
   "cell_type": "markdown",
   "metadata": {
    "tags": []
   },
   "source": [
    "# Natural gradient-based optimizer"
   ]
  },
  {
   "cell_type": "markdown",
   "metadata": {
    "tags": []
   },
   "source": [
    "In this notebook, you will learn how to use an advanced plugin for variational optimization.\n",
    "\n",
    "This plugin can perform a **gradient-descent optimization** based on the computation of the exact gradient of the energy with respect to the variational parameters, as well as the more advanced **'natural-gradient' optimization**."
   ]
  },
  {
   "cell_type": "markdown",
   "metadata": {},
   "source": [
    "## Description of the variational task\n",
    "\n",
    "Here, we want to minimize the value of $\\langle Y_0 \\rangle$ with a simple ansatz described in the cell below:"
   ]
  },
  {
   "cell_type": "code",
   "execution_count": null,
   "metadata": {
    "execution": {
     "iopub.execute_input": "2022-11-05T19:42:01.774551Z",
     "iopub.status.busy": "2022-11-05T19:42:01.774010Z",
     "iopub.status.idle": "2022-11-05T19:42:01.940929Z",
     "shell.execute_reply": "2022-11-05T19:42:01.940009Z"
    }
   },
   "outputs": [],
   "source": [
    "import numpy as np\n",
    "from qat.core import Observable, Term\n",
    "from qat.lang.AQASM import Program, RX, RY, RZ, CNOT\n",
    "\n",
    "nbqbits = 2\n",
    "\n",
    "obs = Observable(nbqbits, pauli_terms=[Term(1, \"Y\", [0])])\n",
    "\n",
    "prog = Program()\n",
    "reg = prog.qalloc(nbqbits)\n",
    "\n",
    "RY(np.pi / 4)(reg[0])\n",
    "RY(np.pi / 3)(reg[1])\n",
    "RZ(prog.new_var(float, \"\\\\theta_0\"))(reg[0])\n",
    "RZ(prog.new_var(float, \"\\\\theta_1\"))(reg[1])\n",
    "CNOT(reg[0], reg[1])\n",
    "RY(prog.new_var(float, \"\\\\theta_2\"))(reg[1])\n",
    "CNOT(reg[0], reg[1])\n",
    "\n",
    "circ = prog.to_circ()"
   ]
  },
  {
   "cell_type": "markdown",
   "metadata": {},
   "source": [
    "Let us plot the circuit."
   ]
  },
  {
   "cell_type": "code",
   "execution_count": null,
   "metadata": {
    "execution": {
     "iopub.execute_input": "2022-11-05T19:42:01.944709Z",
     "iopub.status.busy": "2022-11-05T19:42:01.944226Z",
     "iopub.status.idle": "2022-11-05T19:42:02.260997Z",
     "shell.execute_reply": "2022-11-05T19:42:02.260357Z"
    }
   },
   "outputs": [],
   "source": [
    "circ.display()"
   ]
  },
  {
   "cell_type": "markdown",
   "metadata": {},
   "source": [
    "## Initializing the plugin\n",
    "\n",
    "We now instantiate the plugin first with a simple gradient descent, and then with the natural gradient."
   ]
  },
  {
   "cell_type": "code",
   "execution_count": null,
   "metadata": {
    "execution": {
     "iopub.execute_input": "2022-11-05T19:42:02.301816Z",
     "iopub.status.busy": "2022-11-05T19:42:02.301375Z",
     "iopub.status.idle": "2022-11-05T19:42:02.740315Z",
     "shell.execute_reply": "2022-11-05T19:42:02.739701Z"
    }
   },
   "outputs": [],
   "source": [
    "import time\n",
    "from qat.qpus import get_default_qpu\n",
    "from qat.plugins import GradientDescentOptimizer\n",
    "\n",
    "res = {}\n",
    "\n",
    "step = 0.3\n",
    "\n",
    "#  Define initial parameters values\n",
    "x0 = np.array([0.2, 0.1, 0.1])\n",
    "\n",
    "# Initialize Optimizer\n",
    "natgrad_plugin = GradientDescentOptimizer(maxiter=100, lambda_step=step, natural_gradient=True, x0=x0, tol=1e-5)\n",
    "grad_plugin = GradientDescentOptimizer(maxiter=100, lambda_step=step, natural_gradient=False, x0=x0, tol=1e-5)\n",
    "\n",
    "# Define which QPU to use\n",
    "qpu = get_default_qpu()\n",
    "\n",
    "# Define the stack\n",
    "natgrad_stack = natgrad_plugin | qpu\n",
    "grad_stack = grad_plugin | qpu"
   ]
  },
  {
   "cell_type": "markdown",
   "metadata": {},
   "source": [
    "## Launch the optimization"
   ]
  },
  {
   "cell_type": "code",
   "execution_count": null,
   "metadata": {
    "execution": {
     "iopub.execute_input": "2022-11-05T19:42:02.743802Z",
     "iopub.status.busy": "2022-11-05T19:42:02.743523Z",
     "iopub.status.idle": "2022-11-05T19:42:05.213988Z",
     "shell.execute_reply": "2022-11-05T19:42:05.213256Z"
    },
    "tags": []
   },
   "outputs": [],
   "source": [
    "res[\"natural gradient\"] = natgrad_stack.submit(circ.to_job(job_type=\"OBS\", observable=obs))\n",
    "res[\"gradient descent\"] = grad_stack.submit(circ.to_job(job_type=\"OBS\", observable=obs))"
   ]
  },
  {
   "cell_type": "markdown",
   "metadata": {},
   "source": [
    "## Comparing to other plugins\n",
    "\n",
    "For comparison, we also run the same optimization with other variational plugins from the QLM:"
   ]
  },
  {
   "cell_type": "code",
   "execution_count": null,
   "metadata": {
    "execution": {
     "iopub.execute_input": "2022-11-05T19:42:05.217641Z",
     "iopub.status.busy": "2022-11-05T19:42:05.217355Z",
     "iopub.status.idle": "2022-11-05T19:42:05.856775Z",
     "shell.execute_reply": "2022-11-05T19:42:05.855258Z"
    }
   },
   "outputs": [],
   "source": [
    "from qat.plugins import ScipyMinimizePlugin, PSOMinimizePlugin, SPSAMinimizePlugin\n",
    "\n",
    "# Here again initial parameters are randomly chosen\n",
    "methods = [\"COBYLA\", \"BFGS\", \"PSO\", \"SPSA\"]\n",
    "plugins = {\n",
    "    \"COBYLA\": ScipyMinimizePlugin(method=\"COBYLA\", x0=x0),\n",
    "    \"BFGS\": ScipyMinimizePlugin(method=\"BFGS\", x0=x0),\n",
    "    \"PSO\": PSOMinimizePlugin(),\n",
    "    \"SPSA\": SPSAMinimizePlugin(x0=x0),\n",
    "}\n",
    "for method in methods:\n",
    "    stack = plugins[method] | qpu\n",
    "    res[method] = stack.submit(circ.to_job(job_type=\"OBS\", observable=obs))"
   ]
  },
  {
   "cell_type": "markdown",
   "metadata": {},
   "source": [
    "## Plotting the results\n",
    "\n",
    "We can plot the trace of each optimization we performed and compare their performances."
   ]
  },
  {
   "cell_type": "code",
   "execution_count": null,
   "metadata": {
    "execution": {
     "iopub.execute_input": "2022-11-05T19:42:05.862305Z",
     "iopub.status.busy": "2022-11-05T19:42:05.861959Z",
     "iopub.status.idle": "2022-11-05T19:42:06.431596Z",
     "shell.execute_reply": "2022-11-05T19:42:06.431086Z"
    }
   },
   "outputs": [],
   "source": [
    "%matplotlib inline\n",
    "import matplotlib.pyplot as plt\n",
    "\n",
    "for method in [\"COBYLA\", \"BFGS\", \"PSO\", \"SPSA\", \"natural gradient\", \"gradient descent\"]:\n",
    "    print(f\"final value ({method}): {res[method].value}\")\n",
    "    vals = res[method].meta_data[\"optimization_trace\"]\n",
    "    plt.plot(eval(vals) if isinstance(vals, str) else vals, label=method)\n",
    "plt.legend()\n",
    "plt.grid()\n",
    "plt.ylabel(\"energy\")\n",
    "plt.xlabel(\"optimization steps\")\n",
    "plt.xlim(0, 40)"
   ]
  }
 ],
 "metadata": {
  "authors": [
   "Maxime Oliva"
  ],
  "documentation-tags": {
   "icon": "globe"
  },
  "kernelspec": {
   "display_name": "Python 3 (ipykernel)",
   "language": "python",
   "name": "python3"
  },
  "language_info": {
   "codemirror_mode": {
    "name": "ipython",
    "version": 3
   },
   "file_extension": ".py",
   "mimetype": "text/x-python",
   "name": "python",
   "nbconvert_exporter": "python",
   "pygments_lexer": "ipython3",
   "version": "3.10.4"
  },
  "toc-autonumbering": false,
  "toc-showcode": false,
  "toc-showmarkdowntxt": true,
  "vscode": {
   "interpreter": {
    "hash": "f9f85f796d01129d0dd105a088854619f454435301f6ffec2fea96ecbd9be4ac"
   }
  }
 },
 "nbformat": 4,
 "nbformat_minor": 4
}
