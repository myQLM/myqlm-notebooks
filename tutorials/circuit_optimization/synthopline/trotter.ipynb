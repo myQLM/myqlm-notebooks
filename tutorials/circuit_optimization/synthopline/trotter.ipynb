{
  "cells": [
    {
      "cell_type": "markdown",
      "metadata": {},
      "source": [
        "# Synthesis of Trotter-Suzuki first order expansions\n",
        "\n",
        "Lets assume that we would like to build a circuit implementing the propagator of the following Hamiltonian:\n",
        "\n",
        "$$ H = \\alpha \\sigma_Z^{(0)}\\sigma_Z^{(1)} + \\beta \\sigma_X^{(0)} \\sigma_X^{(1)} + \\gamma \\sigma_X^{(0)}\\sigma_Y^{(1)}\\sigma_Z^{(2)}  $$\n",
        "\n",
        "Since the first and last term do not commute, we cannot implement the propagator of each individual to implement $e^{-i\\theta H}$.\n",
        "\n",
        "The Trotter expansion tells us that we can implement the following unitary for some large $n$:\n",
        " $$ \\left(\\prod e^{-i \\frac{\\theta}{n}c_i h_i}\\right)^n $$\n",
        " where $c_i, h_i$ and the terms and coefficients of $H$. This unitary will approximate efficiently our goal, as long as $n$ is large enough.\n",
        " \n",
        " In practice, this expansion neglects the fact that the Hamiltonian's term do not commute. The direct consequence is that we can try to optimize the ordering of the terms in each product in order to minimize the implementation cost of the Trotter expansion.\n",
        " \n",
        " \n",
        " In synthopline, we provide several backend methods that try and synthesize efficient **parametrized** variational circuits by optimizing the rotation ordering.\n",
        " These methods are wrapped in the `gnerate_trotter_ansatz` method.\n",
        " \n",
        " \n",
        " Lets see how it works:\n",
        " "
      ]
    },
    {
      "cell_type": "code",
      "execution_count": null,
      "metadata": {},
      "outputs": [],
      "source": [
        "from qat.core import Observable, Term, Variable\n",
        "from qat.synthopline.pauli_synth import generate_trotter_ansatz"
      ]
    },
    {
      "cell_type": "code",
      "execution_count": null,
      "metadata": {},
      "outputs": [],
      "source": [
        "H = Observable(3, pauli_terms=[\n",
        "    Term(1, \"ZZ\", [0, 1]), \n",
        "    Term(1, \"XX\", [0, 1]),\n",
        "    Term(1, \"XZZ\", [0, 1, 2])\n",
        "])\n",
        "\n",
        "job = generate_trotter_ansatz(H)\n",
        "circuit = job.circuit\n",
        "circuit.display()\n",
        "\n",
        "job = generate_trotter_ansatz(H, strategy=\"pauli_synth\")\n",
        "circuit = job.circuit\n",
        "circuit.display()"
      ]
    },
    {
      "cell_type": "markdown",
      "metadata": {},
      "source": [
        "As you can see the backend can be specified using the **strategy** keyword.\n",
        "\n",
        "It is possible to ask for deeper circuit by iterating the Trotter expansion for several steps:"
      ]
    },
    {
      "cell_type": "code",
      "execution_count": null,
      "metadata": {},
      "outputs": [],
      "source": [
        "job = generate_trotter_ansatz(H, nsteps=2)\n",
        "circuit = job.circuit\n",
        "circuit.display()\n",
        "\n",
        "job = generate_trotter_ansatz(H, nsteps=2, strategy=\"pauli_synth\")\n",
        "circuit = job.circuit\n",
        "circuit.display()"
      ]
    },
    {
      "cell_type": "markdown",
      "metadata": {},
      "source": [
        "In some applications, one needs to perform a parametrized Trotter expansion while preserving some ordering of the terms.\n",
        "Consider for instance the case of QAOA Ansätze. In these Ansätze, one needs to alternate between Trotterizations of two Hamiltonians $H_1$ and $H_0$ (in that order).\n",
        "\n",
        "This can be achieved by provifing a list of Hamiltonians instead of a single large Hamiltonian.\n",
        "Consequently, each propagator will be parametrized by a different variable:"
      ]
    },
    {
      "cell_type": "code",
      "execution_count": null,
      "metadata": {},
      "outputs": [],
      "source": [
        "import networkx as nx\n",
        "n = 5\n",
        "\n",
        "graph = nx.generators.path_graph(n)\n",
        "\n",
        "H0 = - sum(Observable.sigma_x(i, n) for i in range(n))\n",
        "H1 = sum(Observable.sigma_z(a, n) * Observable.sigma_z(b, n) for a, b in graph.edges())\n",
        "\n",
        "ansatz = generate_trotter_ansatz(H1, H0, nsteps=3, init_state=\"+\" * n, strategy=\"naive\")\n",
        "circuit = ansatz.circuit\n",
        "circuit.display()"
      ]
    },
    {
      "cell_type": "markdown",
      "metadata": {},
      "source": [
        "If you are used to deal with QAOA MAX-CUT, this circuit should ring a bell.\n",
        "\n",
        "One can used different strategies to achieve different circuit that will be, for this precise case, all equivalent:"
      ]
    },
    {
      "cell_type": "code",
      "execution_count": null,
      "metadata": {},
      "outputs": [],
      "source": [
        "ansatz = generate_trotter_ansatz(H1, H0, nsteps=3, init_state=\"+\" * n, strategy=\"pauli_synth\")\n",
        "circuit = ansatz.circuit\n",
        "circuit.display()"
      ]
    },
    {
      "cell_type": "code",
      "execution_count": null,
      "metadata": {},
      "outputs": [],
      "source": []
    }
  ],
  "metadata": {
    "documentation-tags": {
      "icon": ":material-regular:`auto_awesome;3em`"
    },
    "kernelspec": {
      "display_name": "Python 3 (ipykernel)",
      "language": "python",
      "name": "python3"
    },
    "language_info": {
      "codemirror_mode": {
        "name": "ipython",
        "version": 3
      },
      "file_extension": ".py",
      "mimetype": "text/x-python",
      "name": "python",
      "nbconvert_exporter": "python",
      "pygments_lexer": "ipython3",
      "version": "3.12.3"
    }
  },
  "nbformat": 4,
  "nbformat_minor": 2
}
