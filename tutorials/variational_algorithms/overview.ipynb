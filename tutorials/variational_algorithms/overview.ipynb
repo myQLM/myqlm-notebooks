{
 "cells": [
  {
   "cell_type": "markdown",
   "metadata": {},
   "source": [
    "# Designing and running variational algorithms in the QLM\n",
    "\n",
    "\n",
    "The QLM comes with a collection of tools that allow you to design and run variational eigensolvers.\n",
    "\n",
    "This folder contains notebooks introducing the different tools provided inside the `qat.vsolve` namespace.\n",
    "\n",
    "- [a plugin for classical optimization wrapping scipy.optimize.minimize](./scipy_optimize_binder.ipynb)\n",
    "- [a basic VQE example](./vqe_getting_started_random_spin.ipynb)\n",
    "- [a QAOA implementation and its interaction with the variational plugins](./qaoa.ipynb)\n",
    "- [an example of how to build smart execution stacks in the QLM](./displaying_informations.ipynb)\n",
    "\n",
    "\n",
    "And more information about adaptative plugins/stacks, here:\n",
    "\n",
    "- [Junctions and Optimizers](../plugins/junctions_and_optimizers.ipynb)"
   ]
  }
 ],
 "metadata": {
  "authors": [
   "Simon Martiel",
   "Thomas Ayral"
  ],
  "kernelspec": {
   "display_name": "Python 3 (ipykernel)",
   "language": "python",
   "name": "python3"
  },
  "language_info": {
   "codemirror_mode": {
    "name": "ipython",
    "version": 3
   },
   "file_extension": ".py",
   "mimetype": "text/x-python",
   "name": "python",
   "nbconvert_exporter": "python",
   "pygments_lexer": "ipython3",
   "version": "3.10.4"
  }
 },
 "nbformat": 4,
 "nbformat_minor": 2
}
