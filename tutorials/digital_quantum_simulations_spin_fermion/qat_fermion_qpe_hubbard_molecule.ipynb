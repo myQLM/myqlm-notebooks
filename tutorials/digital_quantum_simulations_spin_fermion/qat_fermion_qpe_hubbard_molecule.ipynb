{
 "cells": [
  {
   "cell_type": "markdown",
   "metadata": {},
   "source": [
    "# Quantum Phase Estimation on the Hubbard molecule\n",
    "\n",
    "We would like to study the \"Hubbard dimer\" molecule, whose Hamiltonian reads:\n",
    "\n",
    "$$H=-t\\sum_{\\sigma=\\uparrow,\\downarrow}\\left(c_{1\\sigma}^{\\dagger}c_{2\\sigma}+c_{2\\sigma}^{\\dagger}c_{1\\sigma}\\right)-\\mu\\sum_{i=1,2}\\sum_{\\sigma=\\uparrow,\\downarrow}n_{i\\sigma}+U\\sum_{i=1,2}n_{i\\uparrow}n_{i\\downarrow}$$\n",
    "\n",
    "with $n_{i\\sigma} = c^\\dagger_{i\\sigma} c_{i\\sigma}$. We will choose $\\mu=U/2$ to keep the number of electrons at one per site.\n",
    "\n",
    "## Defining the Hubbard dimer Hamiltonian"
   ]
  },
  {
   "cell_type": "code",
   "execution_count": null,
   "metadata": {
    "execution": {
     "iopub.execute_input": "2022-11-05T19:42:03.993535Z",
     "iopub.status.busy": "2022-11-05T19:42:03.993144Z",
     "iopub.status.idle": "2022-11-05T19:42:04.213593Z",
     "shell.execute_reply": "2022-11-05T19:42:04.213043Z"
    }
   },
   "outputs": [],
   "source": [
    "%load_ext autoreload\n",
    "%autoreload 2\n",
    "\n",
    "import numpy as np\n",
    "import itertools\n",
    "from qat.fermion.hamiltonians import make_hubbard_model\n",
    "\n",
    "U = 1.0\n",
    "t = 0.2\n",
    "t_mat = -t * np.array([[0.0, 1.0], [1.0, 0.0]])\n",
    "hamilt = make_hubbard_model(t_mat, U, mu=U / 2)\n",
    "\n",
    "eigvals = np.linalg.eigvalsh(hamilt.get_matrix())\n",
    "\n",
    "np.set_printoptions(precision=4, suppress=True)\n",
    "print(\"All the eigenenergies are\")\n",
    "print(eigvals, end=\"\\n\")"
   ]
  },
  {
   "cell_type": "markdown",
   "metadata": {},
   "source": [
    "## Performing phase estimation"
   ]
  },
  {
   "cell_type": "code",
   "execution_count": null,
   "metadata": {
    "execution": {
     "iopub.execute_input": "2022-11-05T19:42:04.252489Z",
     "iopub.status.busy": "2022-11-05T19:42:04.251929Z",
     "iopub.status.idle": "2022-11-05T19:42:04.548717Z",
     "shell.execute_reply": "2022-11-05T19:42:04.548163Z"
    }
   },
   "outputs": [],
   "source": [
    "from qat.qpus import get_default_qpu\n",
    "from qat.fermion.phase_estimation import perform_phase_estimation\n",
    "\n",
    "qpu = get_default_qpu()\n",
    "\n",
    "nqbits_phase = 6\n",
    "n_trotter_steps = 6\n",
    "target_energy = -0.1  # try an energy which is off from 0\n",
    "size_interval = 5\n",
    "\n",
    "print(\"Guess energy =\", target_energy)\n",
    "\n",
    "energy, prob = perform_phase_estimation(\n",
    "    hamilt,\n",
    "    nqbits_phase,\n",
    "    n_trotter_steps,\n",
    "    E_target=target_energy,\n",
    "    size_interval=size_interval,\n",
    "    qpu=qpu,\n",
    ")\n",
    "print(\"E = %s\" % (energy))"
   ]
  },
  {
   "cell_type": "markdown",
   "metadata": {},
   "source": [
    "We can see that the energy found is close to one of the eigenenergies of the Hamiltonian above. \\\n",
    "Note that one can of course replace an ideal QPU with a noisy one."
   ]
  },
  {
   "cell_type": "markdown",
   "metadata": {
    "tags": []
   },
   "source": [
    "Let us investigate some of the different options in the `perform_phase_estimation` function.\n",
    "\n",
    "## Influence of `n_phase_bits`\n",
    "\n",
    "We expect to get more accurate results the more the phase bits are (same for the number of Trotter steps). Take a look at the graph below where we investigate the eigenenergy $0$ from above. \\\n",
    "Although in this particular example `n_trotter_steps` has less of an impact on the final result, it is generally advised to increase it when also increasing `n_phase_bits`."
   ]
  },
  {
   "cell_type": "code",
   "execution_count": null,
   "metadata": {
    "execution": {
     "iopub.execute_input": "2022-11-05T19:42:04.551709Z",
     "iopub.status.busy": "2022-11-05T19:42:04.551434Z",
     "iopub.status.idle": "2022-11-05T19:42:07.820725Z",
     "shell.execute_reply": "2022-11-05T19:42:07.820138Z"
    }
   },
   "outputs": [],
   "source": [
    "import matplotlib.pyplot as plt\n",
    "from matplotlib.gridspec import GridSpec\n",
    "\n",
    "# Set up the parameters to be investigated\n",
    "expected_energy = 0\n",
    "target_energy = expected_energy + 0.1\n",
    "size_interval = 1\n",
    "n_phase_bits_list = [2, 3, 4, 5, 6, 8, 10, 15]\n",
    "n_trotter_list = [4]\n",
    "\n",
    "# Running PEA and plotting\n",
    "gs = GridSpec(2, 2)\n",
    "plt.figure(figsize=(9, 7), dpi=95)\n",
    "linewidth = 2.5\n",
    "for ind, n_trotter_steps in enumerate(n_trotter_list):\n",
    "    energies_list = []\n",
    "    plt.subplot(gs[ind])\n",
    "    plt.title(r\"PEA with %s trotter steps\" % n_trotter_steps)\n",
    "    for nqbits_phase in n_phase_bits_list:\n",
    "        energy, prob = perform_phase_estimation(\n",
    "            hamilt,\n",
    "            nqbits_phase,\n",
    "            n_trotter_steps,\n",
    "            E_target=target_energy,\n",
    "            size_interval=size_interval,\n",
    "            qpu=qpu,\n",
    "        )\n",
    "        energies_list.append(energy)\n",
    "\n",
    "    plt.plot(\n",
    "        n_phase_bits_list,\n",
    "        expected_energy * np.ones(len(n_phase_bits_list)),\n",
    "        linewidth=linewidth,\n",
    "        label=\"Exact energy\",\n",
    "    )\n",
    "    plt.plot(n_phase_bits_list, energies_list, linewidth=linewidth, label=\"PEA Energy\")\n",
    "    plt.grid()\n",
    "    plt.xlabel(\"Number of phase bits\")\n",
    "    plt.ylabel(\"Energy\")\n",
    "    plt.legend(loc=\"best\")\n",
    "plt.tight_layout()"
   ]
  },
  {
   "cell_type": "markdown",
   "metadata": {},
   "source": [
    "## Influence of the initial vector\n",
    "\n",
    "The PEA should be given an initial vector that is an eigenvector of the Hamiltonian. Let us see what happens if we start from every one of the possible $2^4 = 16$ states, most of which are actually not eigenvectors:"
   ]
  },
  {
   "cell_type": "code",
   "execution_count": null,
   "metadata": {
    "execution": {
     "iopub.execute_input": "2022-11-05T19:42:07.824181Z",
     "iopub.status.busy": "2022-11-05T19:42:07.823820Z",
     "iopub.status.idle": "2022-11-05T19:42:22.664879Z",
     "shell.execute_reply": "2022-11-05T19:42:22.664238Z"
    }
   },
   "outputs": [],
   "source": [
    "from itertools import product\n",
    "\n",
    "# Set up the parameters to be investigated\n",
    "expected_energy = 0\n",
    "target_energy = expected_energy + 0.1\n",
    "size_interval = 5  # enclose all eigenvalues around target_energy\n",
    "n_phase_bits = 1\n",
    "n_trotter_steps = 1\n",
    "\n",
    "# Running PEA\n",
    "energies_list = []\n",
    "# print(eigvals)\n",
    "for init_vec in product(\"01\", repeat=4):\n",
    "    init_vec = \"\".join(init_vec)\n",
    "    energy, prob = perform_phase_estimation(\n",
    "        hamilt,\n",
    "        nqbits_phase,\n",
    "        n_trotter_steps,\n",
    "        init_vec=init_vec,\n",
    "        E_target=target_energy,\n",
    "        size_interval=size_interval,\n",
    "        qpu=qpu,\n",
    "    )\n",
    "    #     print(init_vec, energy)\n",
    "    energies_list.append(energy)"
   ]
  },
  {
   "cell_type": "code",
   "execution_count": null,
   "metadata": {
    "execution": {
     "iopub.execute_input": "2022-11-05T19:42:22.668148Z",
     "iopub.status.busy": "2022-11-05T19:42:22.667856Z",
     "iopub.status.idle": "2022-11-05T19:42:22.959561Z",
     "shell.execute_reply": "2022-11-05T19:42:22.959026Z"
    }
   },
   "outputs": [],
   "source": [
    "# Plotting\n",
    "init_vecs_int = np.arange(0, 16, 1)\n",
    "plt.figure(figsize=(6, 4), dpi=100)\n",
    "plt.title(\"PEA with different initial states\")\n",
    "for ind, expected_energy in enumerate(eigvals):\n",
    "    plt.plot(\n",
    "        init_vecs_int,\n",
    "        expected_energy * np.ones(len(init_vecs_int)),\n",
    "        \"g\",\n",
    "        linewidth=2.25,\n",
    "        label=None if ind != len(eigvals) - 1 else \"Exact energies\",\n",
    "    )\n",
    "plt.plot(init_vecs_int, energies_list, \"o\", markersize=7, label=\"PEA Energy\")\n",
    "plt.grid()\n",
    "plt.xlabel(\"Initial state as integer\")\n",
    "plt.ylabel(\"Energy\")\n",
    "plt.legend(loc=\"best\")\n",
    "plt.tight_layout()"
   ]
  },
  {
   "cell_type": "markdown",
   "metadata": {},
   "source": [
    "We can see that we are not able to reach all eigenvalues. However, if we could provide a routine to prepare the ground state, we would get the corresponding lowest energy."
   ]
  },
  {
   "cell_type": "markdown",
   "metadata": {},
   "source": [
    "## Other important factors\n",
    "\n",
    "The choice of `E_target` and the `size_interval`, denoted $\\Delta$, are crucial for the QPE to output a meaningful result. These two define the window in which an energy will be searched:\n",
    "\n",
    "$$(E_{target} - \\frac{\\Delta}{2}, E_{target} + \\frac{\\Delta}{2})$$\n",
    "\n",
    "If the function is asked to find the energy outside this range, the output will be unreliable. This is most often observed when small changes in the target energy or the size-interval cause considerable changes in the result. Therefore, it is advisable to always start from a reasonably large range and shrink afterwards to get a better precision of a (stable) energy already found."
   ]
  },
  {
   "cell_type": "markdown",
   "metadata": {},
   "source": [
    "## Extract the circuit for the QPE routine\n",
    "\n",
    "One can use the function `build_qpe_routine_for_hamiltonian` to extract the circuit corresponding to the QPE. This function needs a Hamiltonian in the qubit basis, which one can obtain by transforming the `ElectronicStructureHamiltonian` we started from via for example the transformation `transform_to_jw_basis`."
   ]
  },
  {
   "cell_type": "code",
   "execution_count": null,
   "metadata": {
    "execution": {
     "iopub.execute_input": "2022-11-05T19:42:22.962704Z",
     "iopub.status.busy": "2022-11-05T19:42:22.962423Z",
     "iopub.status.idle": "2022-11-05T19:42:26.819845Z",
     "shell.execute_reply": "2022-11-05T19:42:26.819196Z"
    }
   },
   "outputs": [],
   "source": [
    "from qat.fermion.phase_estimation import build_qpe_routine_for_hamiltonian\n",
    "from qat.fermion.transforms import transform_to_jw_basis\n",
    "\n",
    "H_qubit_basis = transform_to_jw_basis(hamilt)\n",
    "n_phase_bits = 2\n",
    "n_trotter_steps = 2\n",
    "routine = build_qpe_routine_for_hamiltonian(H_qubit_basis, n_phase_bits, n_trotter_steps=n_trotter_steps)\n",
    "\n",
    "print(\"Depth of PEA routine =\", len(routine))\n",
    "routine.display()"
   ]
  }
 ],
 "metadata": {
  "authors": [
   "Jerome Pioux",
   "Thomas Ayral",
   "Maxime Oliva"
  ],
  "documentation-tags": {
   "icon": "issue-opened"
  },
  "kernelspec": {
   "display_name": "Python 3 (ipykernel)",
   "language": "python",
   "name": "python3"
  },
  "language_info": {
   "codemirror_mode": {
    "name": "ipython",
    "version": 3
   },
   "file_extension": ".py",
   "mimetype": "text/x-python",
   "name": "python",
   "nbconvert_exporter": "python",
   "pygments_lexer": "ipython3",
   "version": "3.10.4"
  },
  "vscode": {
   "interpreter": {
    "hash": "e7370f93d1d0cde622a1f8e1c04877d8463912d04d973331ad4851f04de6915a"
   }
  }
 },
 "nbformat": 4,
 "nbformat_minor": 4
}
