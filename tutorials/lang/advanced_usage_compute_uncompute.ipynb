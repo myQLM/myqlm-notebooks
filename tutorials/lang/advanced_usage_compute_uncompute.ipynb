{
 "cells": [
  {
   "cell_type": "code",
   "execution_count": null,
   "metadata": {
    "execution": {
     "iopub.execute_input": "2022-11-05T19:42:12.808273Z",
     "iopub.status.busy": "2022-11-05T19:42:12.807845Z",
     "iopub.status.idle": "2022-11-05T19:42:12.949887Z",
     "shell.execute_reply": "2022-11-05T19:42:12.949253Z"
    }
   },
   "outputs": [],
   "source": [
    "from qat.lang.AQASM import *"
   ]
  },
  {
   "cell_type": "markdown",
   "metadata": {},
   "source": [
    "# Compute, uncompute, and computation scopes\n",
    "\n",
    "The following set of operations constitute a recurrent scheme in reversible computation/programmation:\n",
    "- Apply some routine `A`\n",
    "- Apply some other computation `B`\n",
    "- Undo routine `A`\n",
    "\n",
    "Even though the `QRoutine` class allows us to define `A` and `B` inside two distinct `QRoutine`s, and apply `A`, `B`, `A.dag()`, having to separate both set of instructions into two distinct routines in order to define a third routine feels clunky and unnecessary.\n",
    "\n",
    "For that reason, `QRoutine` provides a way to implement this scheme efficiently using what we call `computation scopes`.\n",
    "\n",
    "The main flow is the following:\n",
    "- Open a fresh computation scope \n",
    "- Apply all the instructions of `A`\n",
    "- Close the computation scope\n",
    "- Apply all the instructions of `B`\n",
    "- Uncompute the last closed scope\n",
    "\n",
    "### Simple computation scope usage\n",
    "\n",
    "In practice, this scope definition/management is hidden inside the `QRoutine` class and can be manipulated via a `with` statement."
   ]
  },
  {
   "cell_type": "code",
   "execution_count": null,
   "metadata": {
    "execution": {
     "iopub.execute_input": "2022-11-05T19:42:12.953487Z",
     "iopub.status.busy": "2022-11-05T19:42:12.953123Z",
     "iopub.status.idle": "2022-11-05T19:42:13.263480Z",
     "shell.execute_reply": "2022-11-05T19:42:13.262866Z"
    }
   },
   "outputs": [],
   "source": [
    "from qat.lang.AQASM import *\n",
    "\n",
    "routine = QRoutine()\n",
    "with routine.compute(): # Here we open a fresh \"computation scope\"\n",
    "    routine.apply(X, 0) # This gate will be stored in the scope\n",
    "routine.apply(CNOT, 0, 1) # Here we leave the scope and apply another gate\n",
    "routine.uncompute() # And finally, we uncompute the last scope\n",
    "\n",
    "routine.display()"
   ]
  },
  {
   "cell_type": "markdown",
   "metadata": {},
   "source": [
    "### Nested scopes manipulation\n",
    "\n",
    "Scopes can also be nested for even more powerful schemes. In practice, closing a scope stores it on top of a stack.\n",
    "Uncomputing simply pops the latest scope of the stack and uncomputes it."
   ]
  },
  {
   "cell_type": "code",
   "execution_count": null,
   "metadata": {
    "execution": {
     "iopub.execute_input": "2022-11-05T19:42:13.301806Z",
     "iopub.status.busy": "2022-11-05T19:42:13.301342Z",
     "iopub.status.idle": "2022-11-05T19:42:13.689765Z",
     "shell.execute_reply": "2022-11-05T19:42:13.689098Z"
    }
   },
   "outputs": [],
   "source": [
    "routine = QRoutine()\n",
    "w0, w1, w2 = routine.new_wires(3)\n",
    "with routine.compute(): # Opening scope #1\n",
    "    routine.apply(X, w0)\n",
    "    with routine.compute(): # Opening scope #2 inside scope #1\n",
    "        routine.apply(CNOT, w0, w1)\n",
    "    routine.apply(CNOT, w1, w2) # We left scope #2, we are still inside scope #1\n",
    "    routine.uncompute() # We uncompute scope #2 inside scope #1\n",
    "    routine.apply(CNOT, w2, w1)\n",
    "    routine.apply(RZ(0.3), w1)\n",
    "# We left scope #1\n",
    "routine.apply(RZ(0.5), w1)\n",
    "routine.uncompute() # Uncomputing scope #1\n",
    "\n",
    "routine.display()"
   ]
  },
  {
   "cell_type": "markdown",
   "metadata": {},
   "source": [
    "### Computation/uncomputation and controls\n",
    "\n",
    "A nice thing about having a built-in computation/uncomputation scheme is to save up on controls when controling the resulting routine.\n",
    "\n",
    "Indeed, when controlling the sequence `A`; `B`; `A.dag()`, one simply needs to control `B`, thus saving up on the overhead of having to control `A` and `A.dag()`.\n",
    "Our built-in compute/uncompute scheme tags all the operations in the scope to \"protect\" them against controls (similar to changing all the `routine.apply` calls into `routine.protected_apply` calls inside a computation scope)."
   ]
  },
  {
   "cell_type": "code",
   "execution_count": null,
   "metadata": {
    "execution": {
     "iopub.execute_input": "2022-11-05T19:42:13.692841Z",
     "iopub.status.busy": "2022-11-05T19:42:13.692522Z",
     "iopub.status.idle": "2022-11-05T19:42:14.280330Z",
     "shell.execute_reply": "2022-11-05T19:42:14.279582Z"
    }
   },
   "outputs": [],
   "source": [
    "rout_controlled = routine.ctrl(5)\n",
    "\n",
    "rout_controlled.display()"
   ]
  },
  {
   "cell_type": "code",
   "execution_count": null,
   "metadata": {},
   "outputs": [],
   "source": []
  }
 ],
 "metadata": {
  "authors": [
   "Simon Martiel"
  ],
  "kernelspec": {
   "display_name": "Python 3 (ipykernel)",
   "language": "python",
   "name": "python3"
  },
  "language_info": {
   "codemirror_mode": {
    "name": "ipython",
    "version": 3
   },
   "file_extension": ".py",
   "mimetype": "text/x-python",
   "name": "python",
   "nbconvert_exporter": "python",
   "pygments_lexer": "ipython3",
   "version": "3.10.4"
  },
  "vscode": {
   "interpreter": {
    "hash": "f9f85f796d01129d0dd105a088854619f454435301f6ffec2fea96ecbd9be4ac"
   }
  }
 },
 "nbformat": 4,
 "nbformat_minor": 2
}
