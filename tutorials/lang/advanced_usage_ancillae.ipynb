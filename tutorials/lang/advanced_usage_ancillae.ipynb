{
 "cells": [
  {
   "cell_type": "code",
   "execution_count": null,
   "metadata": {
    "execution": {
     "iopub.execute_input": "2022-11-05T19:42:12.045420Z",
     "iopub.status.busy": "2022-11-05T19:42:12.045115Z",
     "iopub.status.idle": "2022-11-05T19:42:12.177044Z",
     "shell.execute_reply": "2022-11-05T19:42:12.176417Z"
    }
   },
   "outputs": [],
   "source": [
    "from qat.lang.AQASM import *"
   ]
  },
  {
   "cell_type": "markdown",
   "metadata": {},
   "source": [
    "\n",
    "# Temporary/ancilla qubits management\n",
    "\n",
    "In reversible computation in general, and quantum computation in particular, there is a need for careful usage of temporary memory. This leads to particularly intricated code design where the programmer needs to keep track of the current state of the temporary memory in order to efficiently reuse previously allocated bits.\n",
    "\n",
    "`pyAQASM`'s `QRoutine`s come with a built-in structure that allows the programmer to partially unload this complexity and postpone the ancilla allocation to the circuit extraction stage (the `to_circ` method of the `Program` class).\n",
    "\n",
    "The idea is to tag some wires of a `QRoutine` as ancillae. Tagging a wire can be seen as a \"contract\" between the routine and the outer-scope saying : \"Give me a fresh qubit in state $|0\\rangle$, and I promise that I'll give it back to you in state $|0\\rangle$\".\n",
    "\n",
    "This allows the circuit extraction routine to manage the temporary qubits on its own. The user will not have to allocate these additional qubits.\n",
    "\n",
    "### In practice\n",
    "\n",
    "Let us define a simple routine that uses an ancilla to perform a `RZ` on a 2-qubit state if and only if the `and` of the two qubits is true (basically a controled `RZ` with a twist).\n",
    "\n",
    "First, let us define a routine that do this the naive way:"
   ]
  },
  {
   "cell_type": "code",
   "execution_count": null,
   "metadata": {
    "execution": {
     "iopub.execute_input": "2022-11-05T19:42:12.180794Z",
     "iopub.status.busy": "2022-11-05T19:42:12.180480Z",
     "iopub.status.idle": "2022-11-05T19:42:12.505645Z",
     "shell.execute_reply": "2022-11-05T19:42:12.505037Z"
    }
   },
   "outputs": [],
   "source": [
    "routine = QRoutine()\n",
    "input_wires = routine.new_wires(2) # These are our 2 input qubits\n",
    "temp_wire = routine.new_wires(1) # This is our temporary qubit\n",
    "routine.apply(CCNOT, input_wires, temp_wire) # We apply a Toffoli gate to compute the logical and of our inputs\n",
    "routine.apply(RZ(0.4), temp_wire) # We apply our rotation\n",
    "routine.apply(CCNOT, input_wires, temp_wire) # We apply the Toffoli to uncompute the and.\n",
    "print(\"This routine has arity\", routine.arity)\n",
    "routine.display()"
   ]
  },
  {
   "cell_type": "markdown",
   "metadata": {},
   "source": [
    "We can see that the routine has arity 3. This means that we will need to allocate 3 qubits inside a `Program` in order to use this routine:"
   ]
  },
  {
   "cell_type": "code",
   "execution_count": null,
   "metadata": {
    "execution": {
     "iopub.execute_input": "2022-11-05T19:42:12.508911Z",
     "iopub.status.busy": "2022-11-05T19:42:12.508523Z",
     "iopub.status.idle": "2022-11-05T19:42:12.513129Z",
     "shell.execute_reply": "2022-11-05T19:42:12.512641Z"
    }
   },
   "outputs": [],
   "source": [
    "prog = Program()\n",
    "qbits = prog.qalloc(3) # My two inputs, and the ancilla\n",
    "prog.apply(routine, qbits) # This works\n",
    "\n",
    "try:\n",
    "    prog = Program()\n",
    "    qbits = prog.qalloc(2) # Only my two inputs\n",
    "    prog.apply(routine, qbits) # This raises an InvalidGateArgument exception\n",
    "except Exception as e:\n",
    "    print(\"Something went wrong:\")\n",
    "    print(type(e), e)"
   ]
  },
  {
   "cell_type": "markdown",
   "metadata": {},
   "source": [
    "In order to avoid having to allocate this temporary qubit by hand, we can simply \"tag\" it using the `set_ancillae`method of the `QRoutine` class."
   ]
  },
  {
   "cell_type": "code",
   "execution_count": null,
   "metadata": {
    "execution": {
     "iopub.execute_input": "2022-11-05T19:42:12.515896Z",
     "iopub.status.busy": "2022-11-05T19:42:12.515519Z",
     "iopub.status.idle": "2022-11-05T19:42:12.779970Z",
     "shell.execute_reply": "2022-11-05T19:42:12.779373Z"
    }
   },
   "outputs": [],
   "source": [
    "# Like so\n",
    "routine.set_ancillae(temp_wire)\n",
    "\n",
    "print(\"Now the routine has arity\", routine.arity)\n",
    "\n",
    "prog = Program()\n",
    "qbits = prog.qalloc(2)\n",
    "prog.apply(routine, qbits) # No exceptions!\n",
    "circ = prog.to_circ()\n",
    "print(\"But the circuit has arity\", circ.nbqbits)\n",
    "circ.display()"
   ]
  },
  {
   "cell_type": "markdown",
   "metadata": {},
   "source": [
    "Notice that the final circuit is identical. Things start to get interesting when several routines using ancillae are used inside the same program, or recursively:"
   ]
  },
  {
   "cell_type": "code",
   "execution_count": null,
   "metadata": {
    "execution": {
     "iopub.execute_input": "2022-11-05T19:42:12.782892Z",
     "iopub.status.busy": "2022-11-05T19:42:12.782624Z",
     "iopub.status.idle": "2022-11-05T19:42:13.070102Z",
     "shell.execute_reply": "2022-11-05T19:42:13.069494Z"
    }
   },
   "outputs": [],
   "source": [
    "A = QRoutine()\n",
    "A.apply(CNOT, 0, 1)\n",
    "A.apply(Z, 1)\n",
    "A.apply(CNOT, 0, 1)\n",
    "A.set_ancillae(1)\n",
    "\n",
    "B = QRoutine()\n",
    "B.apply(CNOT, 0, 1)\n",
    "B.apply(A, 1) # Remember, from the \"outside\" A has arity 1\n",
    "B.apply(CNOT, 0, 1)\n",
    "B.set_ancillae(1)\n",
    "\n",
    "prog = Program()\n",
    "qbits = prog.qalloc(1) # B has arity 1\n",
    "prog.apply(B, qbits)\n",
    "circ = prog.to_circ()\n",
    "\n",
    "\n",
    "circ.display()"
   ]
  },
  {
   "cell_type": "markdown",
   "metadata": {},
   "source": [
    "In the following example, we can see that the circuit extraction routine re-used some ancilla (q2) during the application of routine `B`."
   ]
  },
  {
   "cell_type": "code",
   "execution_count": null,
   "metadata": {
    "execution": {
     "iopub.execute_input": "2022-11-05T19:42:13.073124Z",
     "iopub.status.busy": "2022-11-05T19:42:13.072742Z",
     "iopub.status.idle": "2022-11-05T19:42:13.418269Z",
     "shell.execute_reply": "2022-11-05T19:42:13.417642Z"
    }
   },
   "outputs": [],
   "source": [
    "prog = Program()\n",
    "qbits = prog.qalloc(2)\n",
    "prog.apply(A, qbits[0])\n",
    "prog.apply(B, qbits[1])\n",
    "circ = prog.to_circ()\n",
    "circ.display()"
   ]
  },
  {
   "cell_type": "markdown",
   "metadata": {},
   "source": [
    "### A note on the qubit allocation algorithm\n",
    "\n",
    "The circuit extraction routine implements a really simple and naive qubit allocation algorithm to allocate ancillae.\n",
    "    The algorithms maintains a list of available ancillae and allocate a fresh qubit only if none are currently available.\n",
    "\n",
    "This limits the total number of allocated qubits.\n",
    "\n",
    "We could consider other strategies optimizing other metrics such as the final circuit depth.\n",
    "\n",
    "For instance, the previous example could be written:"
   ]
  },
  {
   "cell_type": "code",
   "execution_count": null,
   "metadata": {
    "execution": {
     "iopub.execute_input": "2022-11-05T19:42:13.421386Z",
     "iopub.status.busy": "2022-11-05T19:42:13.421092Z",
     "iopub.status.idle": "2022-11-05T19:42:13.760756Z",
     "shell.execute_reply": "2022-11-05T19:42:13.760144Z"
    }
   },
   "outputs": [],
   "source": [
    "prog_shallow = Program()\n",
    "qbits_A, qbits_B = prog_shallow.qalloc(2), prog_shallow.qalloc(3)\n",
    "prog_shallow.apply(CNOT, qbits_A[0], qbits_A[1])\n",
    "prog_shallow.apply(Z, qbits_A[1])\n",
    "prog_shallow.apply(CNOT, qbits_A[0], qbits_A[1])\n",
    "\n",
    "prog_shallow.apply(CNOT, qbits_B[0], qbits_B[1])\n",
    "prog_shallow.apply(CNOT, qbits_B[1], qbits_B[2])\n",
    "prog_shallow.apply(Z, qbits_B[2])\n",
    "prog_shallow.apply(CNOT, qbits_B[1], qbits_B[2])\n",
    "prog_shallow.apply(CNOT, qbits_B[0], qbits_B[1])\n",
    "circ_shallow = prog_shallow.to_circ()\n",
    "circ_shallow.display()"
   ]
  },
  {
   "cell_type": "markdown",
   "metadata": {},
   "source": [
    "These circuits are (almost) equivalent, but the latter has depth 5 while the former has depth 8.\n",
    "\n",
    "This tradeoff qubits/depth can be exploited to refine the circuit extraction routine. This is however not yet implemented inside the `Program` class.\n",
    "However, it is possible to generate circuits with additional information attached in order to, later on, play with these trade-offs (see below).\n"
   ]
  },
  {
   "cell_type": "markdown",
   "metadata": {},
   "source": [
    "### Lock & release operations\n",
    "\n",
    "In order to have a proper idea of what's going on, we can ask the extraction routine to leave markers inside the circuit, specifying lock and release operations for the temporary resources:"
   ]
  },
  {
   "cell_type": "code",
   "execution_count": null,
   "metadata": {
    "execution": {
     "iopub.execute_input": "2022-11-05T19:42:13.763975Z",
     "iopub.status.busy": "2022-11-05T19:42:13.763660Z",
     "iopub.status.idle": "2022-11-05T19:42:14.155263Z",
     "shell.execute_reply": "2022-11-05T19:42:14.154552Z"
    }
   },
   "outputs": [],
   "source": [
    "circ = prog.to_circ(include_locks=True)\n",
    "circ.display()"
   ]
  },
  {
   "cell_type": "markdown",
   "metadata": {},
   "source": [
    "We can now see that qubit q2 was locked once for the application of `A`, then released, and locked again for the application of `B`.\n",
    "\n",
    "Locks & release operations can then be removed by calling the `.remove_locks` method of the `Circuit` object:"
   ]
  },
  {
   "cell_type": "code",
   "execution_count": null,
   "metadata": {
    "execution": {
     "iopub.execute_input": "2022-11-05T19:42:14.160320Z",
     "iopub.status.busy": "2022-11-05T19:42:14.159200Z",
     "iopub.status.idle": "2022-11-05T19:42:14.559494Z",
     "shell.execute_reply": "2022-11-05T19:42:14.558588Z"
    }
   },
   "outputs": [],
   "source": [
    "circ.remove_locks()\n",
    "circ.display()"
   ]
  },
  {
   "cell_type": "markdown",
   "metadata": {},
   "source": [
    "### Ancilla map and qubits management\n",
    "\n",
    "The data structure underlying the (rather naive) qubit allocation algorithm is accessible in the namespace `qat.lang.linking.util`.\n",
    "\n",
    "We give here a quick overview of the type of information we can extract from a circuit."
   ]
  },
  {
   "cell_type": "code",
   "execution_count": null,
   "metadata": {
    "execution": {
     "iopub.execute_input": "2022-11-05T19:42:14.565479Z",
     "iopub.status.busy": "2022-11-05T19:42:14.564300Z",
     "iopub.status.idle": "2022-11-05T19:42:14.580477Z",
     "shell.execute_reply": "2022-11-05T19:42:14.579348Z"
    }
   },
   "outputs": [],
   "source": [
    "from qat.lang.linking.util import AncillaMap\n",
    "\n",
    "## We need the lock and release operations in order to create the ancilla map\n",
    "circ = prog.to_circ(include_locks=True)\n",
    "\n",
    "anc_map = AncillaMap(circ)\n",
    "for qbit, lock_ranges in anc_map.locked_ranges.items():\n",
    "    print(\"Qbit\", qbit, \"is locked in ranges\", lock_ranges)"
   ]
  },
  {
   "cell_type": "code",
   "execution_count": null,
   "metadata": {},
   "outputs": [],
   "source": []
  }
 ],
 "metadata": {
  "authors": [
   "Simon Martiel"
  ],
  "kernelspec": {
   "display_name": "Python 3 (ipykernel)",
   "language": "python",
   "name": "python3"
  },
  "language_info": {
   "codemirror_mode": {
    "name": "ipython",
    "version": 3
   },
   "file_extension": ".py",
   "mimetype": "text/x-python",
   "name": "python",
   "nbconvert_exporter": "python",
   "pygments_lexer": "ipython3",
   "version": "3.10.4"
  }
 },
 "nbformat": 4,
 "nbformat_minor": 2
}
