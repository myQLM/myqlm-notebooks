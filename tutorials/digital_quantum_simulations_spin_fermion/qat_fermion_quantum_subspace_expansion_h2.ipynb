{
 "cells": [
  {
   "cell_type": "markdown",
   "metadata": {
    "tags": []
   },
   "source": [
    "# Advanced VQE: Quantum Subspace Expansion\n",
    "\n",
    "*References: https://arxiv.org/abs/1603.05681, https://arxiv.org/abs/1707.06408, https://arxiv.org/abs/1807.10050*\n",
    "\n",
    "The VQE algorithm exhibits a \"natural\" robustness against errors, especially regarding $\\vec{\\theta}^\\star$, the optimal value of the parameter. Unfortunately, the energy evalutation (i.e. mean-value measurement) can still suffer from important errors. \n",
    "\n",
    "McClean *et al.* drew inspiration from *Linear Response Theory* to design an extension to the VQE, the *Quantum Subspace Expansion* (QSE). The core idea is to expand the Hamiltonian post-VQE on a well-chosen subspace (i.e. where an improved, lower, energy lies) and solve classically the associated generalized eigenvalue problem with the hope of getting an improved value for the ground state energy.\n",
    "\n",
    "More precisely, the QSE can be split into different steps:\n",
    "1. Choice of qubit operators;\n",
    "2. Expansion of the Hamiltonian on the subspace defined by the two previous choices; Construction of the overlap matrix;\n",
    "3. Resolution of the generalized eigenvalue problem.\n",
    "\n",
    "Thus, the $n$-qubit QSE using $G$ as the chosen set of $n$-qubit operators, is associated  with the following state subspace:\n",
    "$$\n",
    "    \\{ \\hat{\\sigma}|\\psi^\\star\\rangle, \\qquad \\hat{\\sigma} \\in G \\}\n",
    "$$\n",
    "where $|\\psi^\\star\\rangle = |\\mathrm{UCC}(\\vec{\\theta}^\\star)\\rangle$ is the output of the VQE.\n",
    "\n",
    "The expanded Hamiltonian and overlap matrices, $(H_{i, j})$ and $(S_{i, j})$, are then measured *via* a quantum computer, i.e.\n",
    "$$\n",
    "    H_{i, j} = \\langle \\psi^\\star | \\hat{\\sigma}_i^\\dagger \\hat{H} \\hat{\\sigma}_j | \\psi^\\star\\rangle \\qquad\n",
    "    S_{i, j} = \\langle \\psi^\\star | \\hat{\\sigma}_i^\\dagger \\hat{\\sigma}_j | \\psi^\\star\\rangle\n",
    "$$\n",
    "\n",
    "Finally, the associated generalized eigenvalue problem is solved classically and the minimal solution is extracted, i.e.\n",
    "$$\n",
    "    E_{\\mathrm{QSE}} = \\min\\{E, \\qquad H \\vec{x} = E S \\vec{x}\\}\n",
    "$$\n",
    "\n",
    "\n",
    "## Part 1: Problem definition and UCC preparation"
   ]
  },
  {
   "cell_type": "code",
   "execution_count": null,
   "metadata": {
    "execution": {
     "iopub.execute_input": "2022-11-05T19:42:04.759098Z",
     "iopub.status.busy": "2022-11-05T19:42:04.758789Z",
     "iopub.status.idle": "2022-11-05T19:42:04.840728Z",
     "shell.execute_reply": "2022-11-05T19:42:04.840190Z"
    }
   },
   "outputs": [],
   "source": [
    "import numpy as np\n",
    "\n",
    "n_electrons = 2\n",
    "one_body_integrals = np.array([[-1.25246357, 0], [0, -0.475948715]])\n",
    "two_body_integrals = np.array(\n",
    "    [\n",
    "        [[[0.674488766, 0], [0, 0.181288808]], [[0, 0.181288808], [0.663468096, 0]]],\n",
    "        [[[0, 0.663468096], [0.181288808, 0]], [[0.181288808, 0], [0, 0.697393767]]],\n",
    "    ]\n",
    ")\n",
    "orbital_energies = np.array([-0.57797481, 0.66969867])\n",
    "nuclear_repulsion = 0.7137539936876182\n",
    "\n",
    "## The natural-orbital occupation numbers (NOONs) are computed from 1-RDM (computed in CISD here)\n",
    "noons = np.array([1.9745399697399246, 0.025460030260075376])"
   ]
  },
  {
   "cell_type": "markdown",
   "metadata": {},
   "source": [
    "#### *Note* :\n",
    "\n",
    "\n",
    "If you have installed the pySCF module, you can use the following lines of code to perform\n",
    "the quantum-chemistry part of the computation\n",
    "\n",
    "```python\n",
    "import numpy as np\n",
    "from qat.fermion.chemistry.pyscf_tools import perform_pyscf_computation\n",
    "\n",
    "geometry = [('H', (0., 0., 0.)), ('H', (0., 0., 0.7414))]\n",
    "basis = 'sto-3g'\n",
    "\n",
    "rdm1, orbital_energies, nuclear_repulsion,\\\n",
    "nels, one_body_integrals, two_body_integrals, info = perform_pyscf_computation(geometry=geometry, basis=basis, spin=0, charge=0, verbose=True)\n",
    "\n",
    "# Get NOONs from 1-RDM (computed in CISD)\n",
    "noons = list(reversed(sorted(np.linalg.eigvalsh(rdm1))))\n",
    "```"
   ]
  },
  {
   "cell_type": "markdown",
   "metadata": {},
   "source": [
    "### UCC preparation"
   ]
  },
  {
   "cell_type": "code",
   "execution_count": null,
   "metadata": {
    "execution": {
     "iopub.execute_input": "2022-11-05T19:42:04.844114Z",
     "iopub.status.busy": "2022-11-05T19:42:04.843799Z",
     "iopub.status.idle": "2022-11-05T19:42:05.008995Z",
     "shell.execute_reply": "2022-11-05T19:42:05.008410Z"
    }
   },
   "outputs": [],
   "source": [
    "from qat.fermion.chemistry import MolecularHamiltonian, MoleculeInfo\n",
    "from qat.fermion.chemistry.ucc import (\n",
    "    guess_init_params,\n",
    "    get_hf_ket,\n",
    "    get_cluster_ops,\n",
    ")\n",
    "\n",
    "# Wrap the hamiltonian data into the `MolecularHamiltonian` class.\n",
    "mol_h = MolecularHamiltonian(one_body_integrals, two_body_integrals, nuclear_repulsion)\n",
    "\n",
    "# Use the MoleculeInfo class to then restrict the active space\n",
    "molecule = MoleculeInfo(hamiltonian=mol_h, n_electrons=n_electrons, noons=noons, orbital_energies=orbital_energies)\n",
    "\n",
    "# Computation of the initial parameters\n",
    "theta_init = guess_init_params(\n",
    "    molecule.two_body_integrals,\n",
    "    molecule.n_electrons,\n",
    "    molecule.orbital_energies,\n",
    ")\n",
    "\n",
    "# Define the initial Hartree-Fock state\n",
    "ket_hf_init = get_hf_ket(molecule.n_electrons, nqbits=molecule.nqbits)\n",
    "\n",
    "# Compute the cluster operators\n",
    "cluster_ops = get_cluster_ops(molecule.n_electrons, noons=molecule.noons)\n",
    "\n",
    "# Get the ElectronicStructureHamiltonian\n",
    "H_active = molecule.hamiltonian.get_electronic_hamiltonian()"
   ]
  },
  {
   "cell_type": "markdown",
   "metadata": {},
   "source": [
    "### Transformation to qubit space"
   ]
  },
  {
   "cell_type": "code",
   "execution_count": null,
   "metadata": {
    "execution": {
     "iopub.execute_input": "2022-11-05T19:42:05.012502Z",
     "iopub.status.busy": "2022-11-05T19:42:05.012167Z",
     "iopub.status.idle": "2022-11-05T19:42:06.983168Z",
     "shell.execute_reply": "2022-11-05T19:42:06.982520Z"
    }
   },
   "outputs": [],
   "source": [
    "from qat.fermion.transforms import transform_to_parity_basis, get_parity_code, recode_integer\n",
    "\n",
    "transformation, code = transform_to_parity_basis, get_parity_code\n",
    "\n",
    "H_active_sp = transformation(H_active)\n",
    "nqbits = H_active_sp.nbqbits\n",
    "\n",
    "# Express the cluster operator in spin terms\n",
    "cluster_ops_sp = [transformation(t_o) for t_o in cluster_ops]\n",
    "\n",
    "# Encoding the initial state to new encoding\n",
    "hf_init_sp = recode_integer(ket_hf_init, code(nqbits))\n",
    "\n",
    "# Finally: build_uccsd\n",
    "from qat.fermion.chemistry.ucc import construct_ucc_ansatz\n",
    "\n",
    "prog = construct_ucc_ansatz(cluster_ops_sp, hf_init_sp)\n",
    "circ = prog.to_circ()\n",
    "\n",
    "circ.display()"
   ]
  },
  {
   "cell_type": "markdown",
   "metadata": {},
   "source": [
    "## Part 2: VQE optimization\n",
    "\n",
    "Let us first compute the exact ground state energy:"
   ]
  },
  {
   "cell_type": "code",
   "execution_count": null,
   "metadata": {
    "execution": {
     "iopub.execute_input": "2022-11-05T19:42:07.022267Z",
     "iopub.status.busy": "2022-11-05T19:42:07.021623Z",
     "iopub.status.idle": "2022-11-05T19:42:07.028983Z",
     "shell.execute_reply": "2022-11-05T19:42:07.028497Z"
    }
   },
   "outputs": [],
   "source": [
    "eigvals = np.linalg.eigvalsh(H_active_sp.get_matrix())\n",
    "E_min = min(eigvals)\n",
    "print(\"E_min (exact diagonalization) = %s\" % (E_min))"
   ]
  },
  {
   "cell_type": "markdown",
   "metadata": {},
   "source": [
    "### Minimizing with COBYLA"
   ]
  },
  {
   "cell_type": "code",
   "execution_count": null,
   "metadata": {
    "execution": {
     "iopub.execute_input": "2022-11-05T19:42:07.031551Z",
     "iopub.status.busy": "2022-11-05T19:42:07.031305Z",
     "iopub.status.idle": "2022-11-05T19:42:07.652935Z",
     "shell.execute_reply": "2022-11-05T19:42:07.652343Z"
    }
   },
   "outputs": [],
   "source": [
    "from qat.qpus import get_default_qpu\n",
    "from qat.plugins import ScipyMinimizePlugin\n",
    "\n",
    "qpu = get_default_qpu()\n",
    "\n",
    "optimizer_scipy = ScipyMinimizePlugin(method=\"COBYLA\", tol=1e-3, options={\"maxiter\": 1000}, x0=theta_init)\n",
    "stack = optimizer_scipy | qpu\n",
    "res = stack.submit(circ.to_job(job_type=\"OBS\", observable=H_active_sp))\n",
    "theta_VQE = res.meta_data[\"parameters\"]\n",
    "print(\"Optimal theta (VQE): %s\" % theta_VQE)\n",
    "print(\"E (VQE) = %s (err = %s %%)\" % (res.value, 100 * abs((res.value - E_min) / E_min)))"
   ]
  },
  {
   "cell_type": "markdown",
   "metadata": {},
   "source": [
    "### Minimizing with SPSA\n",
    "Let us try with an alternative optimizer:"
   ]
  },
  {
   "cell_type": "code",
   "execution_count": null,
   "metadata": {
    "execution": {
     "iopub.execute_input": "2022-11-05T19:42:07.655971Z",
     "iopub.status.busy": "2022-11-05T19:42:07.655698Z",
     "iopub.status.idle": "2022-11-05T19:42:07.786136Z",
     "shell.execute_reply": "2022-11-05T19:42:07.785583Z"
    }
   },
   "outputs": [],
   "source": [
    "from qat.plugins import SPSAMinimizePlugin\n",
    "\n",
    "optimizer_spsa = ScipyMinimizePlugin(x0=theta_init)\n",
    "stack = optimizer_spsa | qpu\n",
    "\n",
    "res = stack.submit(circ.to_job(job_type=\"OBS\", observable=H_active_sp))\n",
    "theta_VQE = res.meta_data[\"parameters\"]\n",
    "print(\"Optimal theta (VQE): %s\" % theta_VQE)\n",
    "print(\"E (VQE) = %s (err = %s %%)\" % (res.value, 100 * abs((res.value - E_min) / E_min)))\n",
    "e_vqe = res.value"
   ]
  },
  {
   "cell_type": "markdown",
   "metadata": {},
   "source": [
    "## Part 3: Quantum subspace expansion"
   ]
  },
  {
   "cell_type": "code",
   "execution_count": null,
   "metadata": {
    "execution": {
     "iopub.execute_input": "2022-11-05T19:42:07.789816Z",
     "iopub.status.busy": "2022-11-05T19:42:07.789387Z",
     "iopub.status.idle": "2022-11-05T19:42:07.848012Z",
     "shell.execute_reply": "2022-11-05T19:42:07.847408Z"
    }
   },
   "outputs": [],
   "source": [
    "from qat.fermion import SpinHamiltonian\n",
    "from qat.core import Term\n",
    "\n",
    "expansion_operators = [\n",
    "    SpinHamiltonian(nqbits, [], 1.0),\n",
    "    SpinHamiltonian(nqbits, [Term(1.0, \"ZZ\", [0, 1])]),\n",
    "]\n",
    "\n",
    "from qat.fermion.chemistry.qse import apply_quantum_subspace_expansion\n",
    "\n",
    "# we use the optimal parameters found by VQE\n",
    "opt_circ = circ.bind_variables(eval(res.meta_data[\"parameter_map\"]))\n",
    "\n",
    "e_qse = apply_quantum_subspace_expansion(H_active_sp, opt_circ, expansion_operators, qpu, return_matrices=False)\n",
    "print(\"E(QSE) = %s (err = %s %%)\" % (e_qse, 100 * abs((e_qse - E_min) / E_min)))"
   ]
  }
 ],
 "metadata": {
  "authors": [
   "Thomas Ayral",
   "Satyanarayana Bade",
   "Maxime Oliva"
  ],
  "documentation-tags": {
   "icon": "fold-down"
  },
  "kernelspec": {
   "display_name": "Python 3 (ipykernel)",
   "language": "python",
   "name": "python3"
  },
  "language_info": {
   "codemirror_mode": {
    "name": "ipython",
    "version": 3
   },
   "file_extension": ".py",
   "mimetype": "text/x-python",
   "name": "python",
   "nbconvert_exporter": "python",
   "pygments_lexer": "ipython3",
   "version": "3.10.4"
  }
 },
 "nbformat": 4,
 "nbformat_minor": 4
}
