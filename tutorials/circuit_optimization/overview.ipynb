{
  "cells": [
    {
      "cell_type": "markdown",
      "metadata": {},
      "source": [
        "# Overview: circuit optimization\n",
        "\n",
        "The *circuit optimization* part tackles some aspects of the problematic of adapting a quantum circuit to a specific hardware. This section explains, for instance, how the gate set of a circuit could be updated to deal with the constraints of a hardware, or how a circuit could be updated to be compliant with the topological constraints of a specific hardware.\n",
        "\n",
        "myQLM provides tools to **optimize** and **compile** quantum circuits. Three main optimizers are already implemented in myQLM:\n",
        "\n",
        " - [**NISQCompiler**](./generic_compiler.ipynb): a all-in-one compiler that does everything for you\n",
        " - [**qat-nnize**](./satisfying_connectivity_constraints.ipynb): this tool solves the swap insertion problem on any circuit\n",
        " - **qat-pbo** ([low level optimization](./graph_circuit.ipynb) and [high-level optimization](./pattern_manager.ipynb)): this optimizer can replace patterns (i.e. small subcircuits) in a quantum circuit\n",
        " - [KAKCompression](./single_qubit_gates_compression.ipynb): another plugin introduced in `qat.pbo` that performs single qubit gate compression\n",
        " - [**qat-synthopline**](./synthopline/overview.ipynb): a general purpose quantum circuit synthesis and optimization library. It contains various state-of-the-art synthesis algorithms and compilation tools.\n",
        " - [**qat-fusion**](./fusion_plugin.ipynb): a tool for gate fusion\n",
        " "
      ]
    },
    {
      "cell_type": "code",
      "execution_count": null,
      "metadata": {
        "collapsed": true
      },
      "outputs": [],
      "source": []
    }
  ],
  "metadata": {
    "authors": [
      "Arnaud Gazda"
    ],
    "kernelspec": {
      "display_name": "Python 3 (ipykernel)",
      "language": "python",
      "name": "python3"
    },
    "language_info": {
      "codemirror_mode": {
        "name": "ipython",
        "version": 3
      },
      "file_extension": ".py",
      "mimetype": "text/x-python",
      "name": "python",
      "nbconvert_exporter": "python",
      "pygments_lexer": "ipython3",
      "version": "3.12.3"
    },
    "vscode": {
      "interpreter": {
        "hash": "f9f85f796d01129d0dd105a088854619f454435301f6ffec2fea96ecbd9be4ac"
      }
    }
  },
  "nbformat": 4,
  "nbformat_minor": 2
}
