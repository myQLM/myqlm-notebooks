{
 "cells": [
  {
   "cell_type": "markdown",
   "metadata": {},
   "source": [
    "# Grover search and amplitude amplification\n",
    "\n",
    "The submodule `qat.lang.algorithms` contains basic implementation of quantum amplification that can be used to (almost) trivially implement Grover search, or its more general variant, amplitude amplification.\n",
    "\n",
    "In this notebook, we show how to use the `qat.lang.algorithms.amplification_step` method in order to implement a Grover search and some more general amplitude amplification.\n",
    "\n",
    "## Grover search\n",
    "\n",
    "Let us first write a simple oracle that search for repeated bitstrings (i.e. bitstring of the form $a_1...a_ka_1...a_k$) of some length $2k$."
   ]
  },
  {
   "cell_type": "code",
   "execution_count": null,
   "metadata": {
    "execution": {
     "iopub.execute_input": "2022-11-05T19:42:14.896891Z",
     "iopub.status.busy": "2022-11-05T19:42:14.896443Z",
     "iopub.status.idle": "2022-11-05T19:42:15.449100Z",
     "shell.execute_reply": "2022-11-05T19:42:15.448464Z"
    }
   },
   "outputs": [],
   "source": [
    "from qat.lang.AQASM import QRoutine, QInt\n",
    "\n",
    "def detect_repetitions(k):\n",
    "    routine = QRoutine()\n",
    "    first_half = routine.new_wires(k, QInt)\n",
    "    second_half = routine.new_wires(k, QInt)\n",
    "    (first_half == second_half).phase()\n",
    "    return routine\n",
    "\n",
    "detect_repetitions(2).display()"
   ]
  },
  {
   "cell_type": "markdown",
   "metadata": {},
   "source": [
    "Now that we have our oracle, we can use the `amplification_step` to build a routine that performs a single amplification step:"
   ]
  },
  {
   "cell_type": "code",
   "execution_count": null,
   "metadata": {
    "execution": {
     "iopub.execute_input": "2022-11-05T19:42:15.488121Z",
     "iopub.status.busy": "2022-11-05T19:42:15.487622Z",
     "iopub.status.idle": "2022-11-05T19:42:15.908450Z",
     "shell.execute_reply": "2022-11-05T19:42:15.907784Z"
    }
   },
   "outputs": [],
   "source": [
    "from qat.lang.algorithms import amplification_step\n",
    "\n",
    "step_4 = amplification_step(detect_repetitions(2))\n",
    "step_4.display(depth=2)"
   ]
  },
  {
   "cell_type": "markdown",
   "metadata": {},
   "source": [
    "From there, it is quite trivial to implement a Grover search.\n",
    "\n",
    "Recall that we need to:\n",
    "- prepare a state containing the uniform distribution\n",
    "- perform a given number of amplification steps\n",
    "- measure our system"
   ]
  },
  {
   "cell_type": "code",
   "execution_count": null,
   "metadata": {
    "execution": {
     "iopub.execute_input": "2022-11-05T19:42:15.911711Z",
     "iopub.status.busy": "2022-11-05T19:42:15.911382Z",
     "iopub.status.idle": "2022-11-05T19:42:17.213806Z",
     "shell.execute_reply": "2022-11-05T19:42:17.213141Z"
    }
   },
   "outputs": [],
   "source": [
    "from qat.lang.AQASM import Program, H\n",
    "\n",
    "def grover_repetitions(nbits, nsteps):\n",
    "    prog = Program()\n",
    "    qbits = prog.qalloc(nbits), prog.qalloc(nbits)\n",
    "    step = amplification_step(detect_repetitions(nbits))\n",
    "    # preparing the uniform superposition\n",
    "    for register in qbits:\n",
    "        for qbit in register:\n",
    "            H(qbit)\n",
    "    for _ in range(nsteps):\n",
    "        step(qbits)\n",
    "    return prog.to_circ()\n",
    "\n",
    "grover_repetitions(2, 5).display(depth=2)\n",
    "\n"
   ]
  },
  {
   "cell_type": "markdown",
   "metadata": {},
   "source": [
    "Let's simulate this circuit! We will search for repetition on 6 bits.\n",
    "\n",
    "\n",
    "There are $2^6 = 64$ bitstrings of length $6$, among which $2^3=8$ are repetitions.\n",
    "Thus there is a solution density of $8/64 = 1/8$.\n",
    "\n",
    "We need to perform about $\\frac{\\pi}{4}{\\sqrt{8}}$ steps of amplifications to maximize the success probability of our search."
   ]
  },
  {
   "cell_type": "code",
   "execution_count": null,
   "metadata": {
    "execution": {
     "iopub.execute_input": "2022-11-05T19:42:17.217093Z",
     "iopub.status.busy": "2022-11-05T19:42:17.216775Z",
     "iopub.status.idle": "2022-11-05T19:42:17.269382Z",
     "shell.execute_reply": "2022-11-05T19:42:17.268607Z"
    }
   },
   "outputs": [],
   "source": [
    "import numpy as np\n",
    "nsteps = int(np.pi/4 * np.sqrt(8))\n",
    "print(\"Using\", nsteps, \"amplification steps\")\n",
    "\n",
    "from qat.qpus import get_default_qpu\n",
    "qpu = get_default_qpu()\n",
    "result = qpu.submit(grover_repetitions(3, nsteps).to_job())\n",
    "\n",
    "for sample in result:\n",
    "    print(sample.state, sample.probability)"
   ]
  },
  {
   "cell_type": "markdown",
   "metadata": {},
   "source": [
    "As you can see, the repetitions are dramatically more likely to be observed."
   ]
  },
  {
   "cell_type": "markdown",
   "metadata": {},
   "source": [
    "## From Grover search to amplitude amplification\n",
    "\n",
    "Amplitude amplification is a variant of Grover's search where the solution is searched according to a custom distribution (and not necessarily a uniform one).\n",
    "To perform this type of search, we need to build a state preparation circuit that prepares a quantum state encoding this custom distribution.\n",
    "Here we will generate a somewhat random distribution using the following circuit:"
   ]
  },
  {
   "cell_type": "code",
   "execution_count": null,
   "metadata": {
    "execution": {
     "iopub.execute_input": "2022-11-05T19:42:17.272742Z",
     "iopub.status.busy": "2022-11-05T19:42:17.272435Z",
     "iopub.status.idle": "2022-11-05T19:42:17.579256Z",
     "shell.execute_reply": "2022-11-05T19:42:17.578549Z"
    }
   },
   "outputs": [],
   "source": [
    "from qat.lang.AQASM import RY\n",
    "\n",
    "\n",
    "def state_preparation(nbits):\n",
    "    routine = QRoutine()\n",
    "    wires = routine.new_wires(2 * nbits)\n",
    "    for wire in wires:\n",
    "        RY(np.random.random() * np.pi)(wire)\n",
    "    return routine\n",
    "\n",
    "prep = state_preparation(3)\n",
    "prep.display()"
   ]
  },
  {
   "cell_type": "markdown",
   "metadata": {},
   "source": [
    "This state preparation circuit can be fed to the `amplification_step` method and used to prepare the initial distribution:"
   ]
  },
  {
   "cell_type": "code",
   "execution_count": null,
   "metadata": {
    "execution": {
     "iopub.execute_input": "2022-11-05T19:42:17.582414Z",
     "iopub.status.busy": "2022-11-05T19:42:17.582088Z",
     "iopub.status.idle": "2022-11-05T19:42:17.751959Z",
     "shell.execute_reply": "2022-11-05T19:42:17.751418Z"
    }
   },
   "outputs": [],
   "source": [
    "def grover_repetitions(nbits, nsteps):\n",
    "    prog = Program()\n",
    "    qbits = prog.qalloc(nbits), prog.qalloc(nbits)\n",
    "    prep = state_preparation(nbits)\n",
    "    step = amplification_step(detect_repetitions(nbits), state_prep=prep)\n",
    "    # preparing the uniform superposition\n",
    "    prep(qbits)\n",
    "    for _ in range(nsteps):\n",
    "        step(qbits)\n",
    "    return prog.to_circ()\n",
    "\n",
    "\n",
    "def display_success_proba(result):\n",
    "    succ_proba = 0\n",
    "    for sample in result:\n",
    "        value = sample.state.value\n",
    "        if value[0] == value[1]:\n",
    "            succ_proba += sample.probability\n",
    "    print(\"Success with probability:\", succ_proba)\n",
    "\n",
    "qpu = get_default_qpu()\n",
    "for nsteps in range(5):\n",
    "    result = qpu.submit(grover_repetitions(3, nsteps).to_job())\n",
    "    print(\"=== nsteps:\", nsteps, \"====\")\n",
    "    display_success_proba(result)"
   ]
  },
  {
   "cell_type": "markdown",
   "metadata": {},
   "source": [
    "You can retry several time and observe that the number of steps depends on the initial success probability (the probability of success at step 0)."
   ]
  },
  {
   "cell_type": "code",
   "execution_count": null,
   "metadata": {},
   "outputs": [],
   "source": []
  },
  {
   "cell_type": "code",
   "execution_count": null,
   "metadata": {},
   "outputs": [],
   "source": []
  }
 ],
 "metadata": {
  "documentation-tags": {
   "icon": [
    "search"
   ]
  },
  "kernelspec": {
   "display_name": "Python 3 (ipykernel)",
   "language": "python",
   "name": "python3"
  },
  "language_info": {
   "codemirror_mode": {
    "name": "ipython",
    "version": 3
   },
   "file_extension": ".py",
   "mimetype": "text/x-python",
   "name": "python",
   "nbconvert_exporter": "python",
   "pygments_lexer": "ipython3",
   "version": "3.10.4"
  },
  "vscode": {
   "interpreter": {
    "hash": "f9f85f796d01129d0dd105a088854619f454435301f6ffec2fea96ecbd9be4ac"
   }
  }
 },
 "nbformat": 4,
 "nbformat_minor": 2
}
