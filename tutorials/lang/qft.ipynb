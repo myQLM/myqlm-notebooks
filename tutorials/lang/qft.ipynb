{
 "cells": [
  {
   "cell_type": "markdown",
   "metadata": {},
   "source": [
    "# Quantum Fourier Transform\n",
    "\n",
    "\n",
    "This tutorial creates a quantum Fourier transform by using quantum routines, or sub-circuits.\n",
    "\n",
    "Routines allow us to define portions of circuit that we might repeat several times during the circuit generation.\n",
    "They behave similarly to quantum gates, meaning that you can apply operators that you would normally use on quantum gates, such as control or dagger.\n",
    "\n",
    "Here, we will define a routine describing a Quantum Fourier Transform, giving us for free an Inverse QFT, thanks to a simple dagger operation.\n",
    " \n",
    "\n",
    "Because routines are quantum gates, they have a fixed arity. Thus, we need a function that, given the number of qbits, say ``n``, returns a routine performing a QFT over ``n`` qbits"
   ]
  },
  {
   "cell_type": "code",
   "execution_count": null,
   "metadata": {
    "execution": {
     "iopub.execute_input": "2022-11-05T19:42:29.199919Z",
     "iopub.status.busy": "2022-11-05T19:42:29.199426Z",
     "iopub.status.idle": "2022-11-05T19:42:29.362813Z",
     "shell.execute_reply": "2022-11-05T19:42:29.361951Z"
    }
   },
   "outputs": [],
   "source": [
    "from qat.lang.AQASM import QRoutine, Program, PH, H\n",
    "import math\n",
    "\n",
    "# We implement the QFT recursively\n",
    "def QFT(n):\n",
    "    # If there is only one qbit, then the QFT is a simple H gate\n",
    "    qft_routine = QRoutine()\n",
    "    if(n == 1):\n",
    "        # Gates are applied using the .apply method. \n",
    "        # Arguments are specified by indexes.\n",
    "        # 0 means that the H gate must be applied \n",
    "        # on the first argument passed to the routine\n",
    "        qft_routine.apply(H, 0)\n",
    "        return qft_routine\n",
    "\n",
    "    # Wires can also be allocated (simpler to manage)\n",
    "    wires = qft_routine.new_wires(n)\n",
    "    qft_routine.apply(H, wires[0])\n",
    "    for i in range(1, n):\n",
    "        qft_routine.apply(PH(math.pi/pow(2.,i)).ctrl(), wires[0], wires[i])    \n",
    "    qft_routine.apply(QFT(n-1), wires[1:])\n",
    "    return qft_routine"
   ]
  },
  {
   "cell_type": "markdown",
   "metadata": {},
   "source": [
    "Notice that we only used application of quantum gates inside the routine. QRoutines should be seen as macros for quantum gates only. In order to ensure a consistent behavior, they must describe unitary operators (no measure, no cbits operations).\n",
    "\n",
    "We can also easily define the inverse QFT:"
   ]
  },
  {
   "cell_type": "code",
   "execution_count": null,
   "metadata": {
    "execution": {
     "iopub.execute_input": "2022-11-05T19:42:29.366783Z",
     "iopub.status.busy": "2022-11-05T19:42:29.366429Z",
     "iopub.status.idle": "2022-11-05T19:42:29.369806Z",
     "shell.execute_reply": "2022-11-05T19:42:29.369290Z"
    }
   },
   "outputs": [],
   "source": [
    "def IQFT(n):\n",
    "    return QFT(n).dag()"
   ]
  },
  {
   "cell_type": "markdown",
   "metadata": {},
   "source": [
    "Using a routine inside a proper ciruit is as simple as using a quantum gate:"
   ]
  },
  {
   "cell_type": "code",
   "execution_count": null,
   "metadata": {
    "execution": {
     "iopub.execute_input": "2022-11-05T19:42:29.373072Z",
     "iopub.status.busy": "2022-11-05T19:42:29.372790Z",
     "iopub.status.idle": "2022-11-05T19:42:29.377031Z",
     "shell.execute_reply": "2022-11-05T19:42:29.376490Z"
    }
   },
   "outputs": [],
   "source": [
    "prog = Program()\n",
    "rout_qft_10 = QFT(10)\n",
    "reg = prog.qalloc(10)\n",
    "prog.apply(rout_qft_10, reg)"
   ]
  },
  {
   "cell_type": "markdown",
   "metadata": {},
   "source": [
    "We can now extract our circuit and display it:"
   ]
  },
  {
   "cell_type": "code",
   "execution_count": null,
   "metadata": {
    "execution": {
     "iopub.execute_input": "2022-11-05T19:42:29.379918Z",
     "iopub.status.busy": "2022-11-05T19:42:29.379641Z",
     "iopub.status.idle": "2022-11-05T19:42:31.549371Z",
     "shell.execute_reply": "2022-11-05T19:42:31.548615Z"
    }
   },
   "outputs": [],
   "source": [
    "prog.to_circ().display()"
   ]
  },
  {
   "cell_type": "code",
   "execution_count": null,
   "metadata": {},
   "outputs": [],
   "source": []
  }
 ],
 "metadata": {
  "authors": [
   "Simon Martiel"
  ],
  "kernelspec": {
   "display_name": "Python 3 (ipykernel)",
   "language": "python",
   "name": "python3"
  },
  "language_info": {
   "codemirror_mode": {
    "name": "ipython",
    "version": 3
   },
   "file_extension": ".py",
   "mimetype": "text/x-python",
   "name": "python",
   "nbconvert_exporter": "python",
   "pygments_lexer": "ipython3",
   "version": "3.10.4"
  },
  "qat-category": "1-Circuit generation in Python",
  "qat-summary": "3-Quantum Fourier Transform example with quantum routines"
 },
 "nbformat": 4,
 "nbformat_minor": 1
}
