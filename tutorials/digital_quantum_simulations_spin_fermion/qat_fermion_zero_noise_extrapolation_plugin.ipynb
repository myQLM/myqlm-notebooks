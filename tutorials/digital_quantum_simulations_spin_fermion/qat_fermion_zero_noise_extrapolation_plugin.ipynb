{
 "cells": [
  {
   "cell_type": "markdown",
   "metadata": {
    "tags": []
   },
   "source": [
    "# Mitigating multiqubit gate noise"
   ]
  },
  {
   "cell_type": "markdown",
   "metadata": {},
   "source": [
    "<div class=\"alert alert-block alert-warning\">\n",
    "<b>Warning:</b> This notebook illustrates the capabilities of `ZeroNoiseExtrapolator`. However, this notebook is not interactive, since it requires the execution of noisy circuits, which is only available to QLM users. \n",
    "</div>"
   ]
  },
  {
   "cell_type": "markdown",
   "metadata": {
    "tags": []
   },
   "source": [
    "In this notebook, we show how to use the ``ZeroNoiseExtrapolator`` plugin to mitigate multiqubit gate noise by means of an extrapolation to the zero noise regime.\n",
    "\n",
    "The idea is to measure the observable of interest $\\hat{O}$ under varying noise intensities, so that a noise-free value can be inferred. The noise is artificially increased by multiplying the number of $CNOT$ gates: since $CNOT^2=I$, one can replace each $CNOT$ gate in the circuit by a number $2n_{\\mathrm{pairs}}+1$ of identical $CNOT$ gates without changing the logical function of the circuit. Since the two-qubit gates are considerably more faulty than the one-qubit gates, this boils down to globally increasing the noise that will be picked at the execution of the circuit: one can show that as a first approximation, considering the gate noise can be modelled by a depolarizing channel, the equivalent noise level will correspond to a $(2n_{\\mathrm{pairs}}+1)$-fold increase of the original noise level (see [Hybrid quantum-classical algorithms and quantum error mitigation by endo et al.](https://arxiv.org/abs/2011.01382) p.23 for the detailed calculation).\n",
    "\n",
    "By choosing a fit $f$ so that $\\langle \\hat{O} \\rangle_{\\mathrm{noisy}} = f(n_\\mathrm{pairs})$, one can thus estimate the noise-free expectation value of the observable as $\\langle \\hat{O} \\rangle_{\\mathrm{noise-free, inferred}}  = f(-0.5)$.\n",
    "\n",
    "The plugin allows for either a linear fit (Richardson extrapolation)\n",
    "\n",
    "$f(n_\\mathrm{pairs}) = an_\\mathrm{pairs} + b$\n",
    "\n",
    "or an exponential one\n",
    "\n",
    "$f(n_\\mathrm{pairs}) = \\pm e^{an_\\mathrm{pairs}+b} + C$.\n",
    "\n",
    "**Note**: The plugin allows to increase the noise level with a gate that is different from the $CNOT$ gate. This corresponds to the more general \"unitary-folding\" technique, in which we replace each occurence of $G$ by $G(GG^{\\dagger})^n$. See for example [Digital zero noise extrapolation for quantum error mitigation\n",
    " by Giurgica-Tiron et al.](https://arxiv.org/abs/2005.10921)"
   ]
  },
  {
   "cell_type": "markdown",
   "metadata": {},
   "source": [
    "```python\n",
    "import numpy as np\n",
    "import matplotlib.pyplot as plt\n",
    "\n",
    "from qat.hardware import DefaultHardwareModel, make_depolarizing_hardware_model\n",
    "from qat.plugins import ZeroNoiseExtrapolator\n",
    "from qat.qpus import LinAlg, NoisyQProc\n",
    "\n",
    "from qat.fermion.circuits import make_shallow_circ\n",
    "from qat.fermion.hamiltonians import make_embedded_model\n",
    "from qat.fermion.transforms import transform_to_jw_basis\n",
    "```"
   ]
  },
  {
   "cell_type": "markdown",
   "metadata": {},
   "source": [
    "We first define some circuit, and an observable (namely an embedded impurity Hamiltonian) to be measured upon it. \n",
    "\n",
    "In the following example, the circuit is some instance of a small hardware-efficient circuit on four qubits that was found to be able to prepare one-impurity models' ground states. Such a circuit instance may be encountered in a VQE optimization procedure for example, and we'd like to obtain an accurate evaluation of the energy attached to it."
   ]
  },
  {
   "cell_type": "markdown",
   "metadata": {},
   "source": [
    "```python\n",
    "# create circuit\n",
    "np.random.seed(2)\n",
    "theta = np.random.random(8)\n",
    "circ = make_shallow_circ()\n",
    "bd_circ = circ.bind_variables({r\"\\theta_{%i}\" % i: theta[i] for i in range(8)})\n",
    "```"
   ]
  },
  {
   "cell_type": "markdown",
   "metadata": {},
   "source": [
    "```python\n",
    "bd_circ.display()\n",
    "```"
   ]
  },
  {
   "cell_type": "markdown",
   "metadata": {},
   "source": [
    "![circuit](img/zeronoise_circuit.png)"
   ]
  },
  {
   "cell_type": "markdown",
   "metadata": {},
   "source": [
    "The observable may be the expected energy of a one-impurity Hamiltonian:"
   ]
  },
  {
   "cell_type": "markdown",
   "metadata": {},
   "source": [
    "```python\n",
    "# create job (measure energy)\n",
    "U = 1\n",
    "mu = U / 2\n",
    "D = -0.4 * np.eye(2)\n",
    "lambd_c = 0.1 * np.eye(2)\n",
    "nbqbits = 4\n",
    "\n",
    "hamilt = make_embedded_model(U, mu, D, lambd_c, grouping=\"spins\")\n",
    "\n",
    "obs = transform_to_jw_basis(hamilt)\n",
    "job = bd_circ.to_job(observable=obs)\n",
    "```"
   ]
  },
  {
   "cell_type": "markdown",
   "metadata": {},
   "source": [
    "We evaluate it on the perfect QPU:"
   ]
  },
  {
   "cell_type": "markdown",
   "metadata": {},
   "source": [
    "```python\n",
    "perfect_qpu = LinAlg()\n",
    "perfect_res = perfect_qpu.submit(job)\n",
    "E_noisefree = perfect_res.value\n",
    "print(\"E without noise=\", E_noisefree)\n",
    "```"
   ]
  },
  {
   "cell_type": "markdown",
   "metadata": {},
   "source": [
    "Now, we define a depolarizing QPU, and evaluate the energy with it."
   ]
  },
  {
   "cell_type": "markdown",
   "metadata": {},
   "source": [
    "```python\n",
    "eps1 = 0.0016\n",
    "eps2 = 0.006\n",
    "hw_model = make_depolarizing_hardware_model(eps1=eps1, eps2=eps2, depol_type=\"randomizing\", correl_type=\"multi_qubit\")\n",
    "noisy_qpu = NoisyQProc(hardware_model=hw_model, sim_method=\"deterministic-vectorized\")\n",
    "noisy_res = noisy_qpu.submit(job)\n",
    "E_noisy = noisy_res.value\n",
    "print(\"E noisy=\", E_noisy, \"(error: %s %%)\" % (abs(E_noisefree - E_noisy) / abs(E_noisefree) * 100))\n",
    "```"
   ]
  },
  {
   "cell_type": "markdown",
   "metadata": {},
   "source": [
    "The ZNE plugin will provide a better estimate. It will evaluate the energy associated to circuits that are similar to the input circuit, but in which pairs of $CNOT$ gates were inserted, so that the noise is artifically increased without impacting the logical function of the circuit (as $CNOT^2=I$).\n",
    "\n",
    "One must set the number of fitting points it will use, as well as the form of the fit, which can be either linear or exponential. Usually, the linear 'fit' on two points is good enough. We'll take a look at the form of the plot $E=f(n_{\\mathrm{pairs}})$ later."
   ]
  },
  {
   "cell_type": "markdown",
   "metadata": {},
   "source": [
    "```python\n",
    "# create error mitigating stacks\n",
    "ZNE_stack = ZeroNoiseExtrapolator(n_ins=1) | noisy_qpu\n",
    "ZNE_res = ZNE_stack.submit(job)\n",
    "E_mitigated_linear = ZNE_res.value\n",
    "print(\n",
    "    \"E mitigated with linear ansatz:\",\n",
    "    E_mitigated_linear,\n",
    "    \"(error: %s %%)\" % (abs(E_noisefree - E_mitigated_linear) / abs(E_noisefree) * 100),\n",
    ")\n",
    "\n",
    "fit_parameters = eval(ZNE_res.meta_data[\"ZNE_fit_parameters\"])\n",
    "a = fit_parameters[\"a\"]\n",
    "b = fit_parameters[\"b\"]\n",
    "\n",
    "linear_fit = [a * x + b for x in range(-1, 100)]\n",
    "```"
   ]
  },
  {
   "cell_type": "markdown",
   "metadata": {},
   "source": [
    "It is more accurate! \n",
    "\n",
    "Now, let's see how the energy depends on the number of $CNOT$ pairs insertions in our model. For a global depolarizing noise with noise intensity $\\varepsilon$, one can show that at first order\n",
    "\n",
    "$ \\langle \\hat{H} \\rangle_{\\mathrm{noisy}} = (1-\\varepsilon)\\langle \\hat{H} \\rangle_{\\mathrm{noise-free}} + \\varepsilon \\frac{\\mathrm{Tr}(\\hat{H})}{2^{n_{\\mathrm{qbits}}}}$\n",
    "\n",
    "We'll look at the evolution of the energy with the number of insertions by using the ZNE plugin with a large number of maximum CNOT pairs insertions and getting the fitting values from the result's meta data."
   ]
  },
  {
   "cell_type": "markdown",
   "metadata": {},
   "source": [
    "```python\n",
    "ZNE_stack = ZeroNoiseExtrapolator(n_ins=100) | noisy_qpu  # trick to compute the noisier and noisier expectation values of obs\n",
    "ZNE_res = ZNE_stack.submit(job)\n",
    "energies = eval(ZNE_res.meta_data[\"values_for_ZNE\"])\n",
    "```"
   ]
  },
  {
   "cell_type": "markdown",
   "metadata": {},
   "source": [
    "```python\n",
    "plt.plot(range(101), energies, marker=\"o\", label=\"noisy QPU energies\")\n",
    "plt.plot(range(-1, 100), linear_fit, ls=\"dashed\", label=\"fit\")\n",
    "plt.axhline(obs.constant_coeff, ls=\"dashed\", color=\"sienna\", label=\"$\\mathrm{Tr}(H)/2^n$\")\n",
    "plt.axhline(E_noisefree, ls=\"dashed\", color=\"green\", label=\"perfect energy\")\n",
    "plt.axhline(E_mitigated_linear, ls=\"dashed\", color=\"purple\", label=\"ZNE energy\")\n",
    "plt.grid()\n",
    "plt.legend()\n",
    "plt.ylim(ymin=obs.constant_coeff - 0.01, ymax=perfect_res.value + 0.01)\n",
    "plt.xlabel(\"$n_{\\mathrm{pairs}}$\")\n",
    "plt.ylabel(\"energy\")\n",
    "```"
   ]
  },
  {
   "cell_type": "markdown",
   "metadata": {},
   "source": [
    "![graph](img/graph1.png)"
   ]
  },
  {
   "cell_type": "markdown",
   "metadata": {},
   "source": [
    "Now, we turn to an exponential fit as clearly, the curve exhibits an exponential decay. We still limit ourselves to a two-point fit to avoid multiplying the number of circuit evaluations."
   ]
  },
  {
   "cell_type": "markdown",
   "metadata": {},
   "source": [
    "```python\n",
    "ZNE_stack = ZeroNoiseExtrapolator(n_ins=1, extrap_method=\"exponential\") | noisy_qpu\n",
    "ZNE_res = ZNE_stack.submit(job)\n",
    "E_mitigated_exponential = ZNE_res.value\n",
    "print(\n",
    "    \"E mitigated with exponential ansatz:\",\n",
    "    E_mitigated_exponential,\n",
    "    \"(error: %s %%)\" % (abs(E_noisefree - E_mitigated_exponential) / abs(E_noisefree) * 100),\n",
    ")\n",
    "\n",
    "fit_parameters = eval(ZNE_res.meta_data[\"ZNE_fit_parameters\"])\n",
    "a = fit_parameters[\"a\"]\n",
    "b = fit_parameters[\"b\"]\n",
    "\n",
    "exp_fit = [np.exp(a * x + b) + obs.constant_coeff for x in range(-1, 100)]\n",
    "# be careful with the sign before the exponential, it depends on the job!\n",
    "```"
   ]
  },
  {
   "cell_type": "markdown",
   "metadata": {},
   "source": [
    "It is slightly better. Let's look at the fit:"
   ]
  },
  {
   "cell_type": "markdown",
   "metadata": {},
   "source": [
    "```python\n",
    "plt.plot(energies, marker=\"o\", label=\"noisy QPU energies\")\n",
    "plt.plot(range(-1, 100), exp_fit, ls=\"dashed\", label=\"fit\")\n",
    "plt.axhline(obs.constant_coeff, ls=\"dashed\", color=\"sienna\", label=\"$\\mathrm{Tr}(H)/2^n$\")\n",
    "plt.axhline(E_noisefree, ls=\"dashed\", color=\"green\", label=\"perfect energy\")\n",
    "plt.axhline(E_mitigated_exponential, ls=\"dashed\", color=\"purple\", label=\"ZNE energy\")\n",
    "plt.grid()\n",
    "plt.legend()\n",
    "plt.ylim(ymin=obs.constant_coeff - 0.01, ymax=perfect_res.value + 0.01)\n",
    "plt.xlabel(\"$n_{\\mathrm{pairs}}$\")\n",
    "plt.ylabel(\"energy\")\n",
    "```"
   ]
  },
  {
   "cell_type": "markdown",
   "metadata": {},
   "source": [
    "![graph2](img/graph2.png)"
   ]
  },
  {
   "cell_type": "markdown",
   "metadata": {},
   "source": [
    "Finally, one can wonder if we could have obtained a sensitively better estimate by making a fit on more noise-inflated points. Let's try up to 10 insertions of the decomposition of the identity:"
   ]
  },
  {
   "cell_type": "markdown",
   "metadata": {},
   "source": [
    "```python\n",
    "# trying more points\n",
    "exp_mitigated_values = [E_mitigated_exponential]\n",
    "\n",
    "for i in range(2, 11):\n",
    "    ZNE_stack = ZeroNoiseExtrapolator(n_ins=i, extrap_method=\"exponential\") | noisy_qpu\n",
    "    ZNE_res = ZNE_stack.submit(job)\n",
    "    exp_mitigated_values.append(ZNE_res.value)\n",
    "\n",
    "error = [abs(E_noisefree - E_mit) / abs(E_noisefree) * 100 for E_mit in exp_mitigated_values]\n",
    "```"
   ]
  },
  {
   "cell_type": "markdown",
   "metadata": {},
   "source": [
    "```python\n",
    "plt.plot(range(1, 11), error, marker=\"o\", label=\"error\")\n",
    "plt.grid()\n",
    "plt.legend()\n",
    "plt.xlabel(\"$n_{\\mathrm{ins}}$\")\n",
    "plt.ylabel(\"error (%)\")\n",
    "```"
   ]
  },
  {
   "cell_type": "markdown",
   "metadata": {},
   "source": [
    "![graph](img/graph3.png)"
   ]
  },
  {
   "cell_type": "markdown",
   "metadata": {},
   "source": [
    "Not only do the results do not improve but the error even increases a little, so, no need to bother extrapolating on a lot of points!"
   ]
  }
 ],
 "metadata": {
  "authors": [
   "Maxime Oliva"
  ],
  "documentation-tags": {
   "icon": "tools"
  },
  "kernelspec": {
   "display_name": "Python 3 (ipykernel)",
   "language": "python",
   "name": "python3"
  },
  "language_info": {
   "codemirror_mode": {
    "name": "ipython",
    "version": 3
   },
   "file_extension": ".py",
   "mimetype": "text/x-python",
   "name": "python",
   "nbconvert_exporter": "python",
   "pygments_lexer": "ipython3",
   "version": "3.10.4"
  },
  "vscode": {
   "interpreter": {
    "hash": "e7370f93d1d0cde622a1f8e1c04877d8463912d04d973331ad4851f04de6915a"
   }
  }
 },
 "nbformat": 4,
 "nbformat_minor": 4
}
