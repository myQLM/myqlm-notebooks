{
 "cells": [
  {
   "cell_type": "markdown",
   "metadata": {},
   "source": [
    "# Vertex Cover\n",
    "\n",
    "### Definition\n",
    "\n",
    "We are given an undirected graph with vertex set $V$ and edge set $E$.\n",
    "\n",
    "Our aim is to find the smallest number of nodes to be coloured, such that every edge has a coloured vertex. Also, which vertices would these be? \n",
    "\n",
    "### Applications\n",
    "\n",
    "The Vertex Cover has applications in matching problems and optimization problems in fields like Biochemistry, Computational Biology, Monitoring and Computer Network Security.\n",
    "\n",
    "### Path to solving the problem\n",
    "Vertex Cover is a minimization problem and its cost function can be cast to a QUBO problem through its respective Hamiltonian (see the [Introduction](./introduction_combinatorial_optimization_myqlm.ipynb) and a [reference](https://arxiv.org/abs/1302.5843)),\n",
    "\n",
    "\n",
    "$$ \\displaystyle \\large\n",
    "H = A \\textstyle\\sum\\limits_{uv \\in E}  (1 - x_u) (1 - x_v) + B \\textstyle\\sum\\limits_{v} x_v\n",
    "$$\n",
    "\n",
    "where $A$ and $B$ are positive constants, $u, v \\in V$ and $x_u$ is a binary variable, which is $1$ if vertex $u$ is part of the Vertex Cover and $0$ if it is not. For a valid encoding, the $A$ and $B$ constants need to obey the relation $A > B$. \n",
    "Otherwise, if this rule is not followed, the spin configuration for the lowest energy $H$ may not correspond to the best solution of our Vertex Cover problem or even to a valid one. At the same time $A \\gg B$ would not be desired, as it would cause a large energy separation in $H$, impeding our solution approach.\n",
    "\n",
    "The myQLM allows us to encode a problem in this Hamiltonian form by using the `VertexCover` class for a given graph and constants $A$ and $B$. We can then create a job from the problem and send it to a Simulated Annealer (SA) wrapped with a Quantum Processing Unit (QPU) interface. The SA will minimize the Hamiltonian, hence we find the solution to our problem.\n",
    "\n",
    "In fact, the QLM contains an even more powerful solver $-$ Simulated Quantum Annealing (SQA). This quantum annealer has been tested on numerous benchmarks for the NP problems supported and produces results with a quality usually exceeding $98\\%$. More details can be found in the [documentation](https://myqlm.github.io/advanced_combinatorial_optimization.html#simulated-quantum-annealing-benchmarking-and-performance).\n",
    "\n",
    "### Quantum complexity\n",
    "\n",
    "To represent the problem as QUBO, myQLM would need $N$ spins $-$ to encode each of the $N$ vertices. "
   ]
  },
  {
   "cell_type": "markdown",
   "metadata": {},
   "source": [
    "# Example problem\n",
    "\n",
    "Imagine we are given a graph with $6$ vertices and $6$ edges, as shown below (left). The solution of this problem is quite easy to guess $-$ we can simply colour node $0$ and either node $1$ or node $5$ (right).\n",
    "\n",
    "<br><img src=\"./vertex_cover_example_solution.png\" style=\"width: 850px\"><br>\n",
    "\n",
    "However, let's describe a method, which will enable us to find the Vertex Cover of any graph!\n",
    "\n",
    "We shall start by specifying a graph with the `networkx` library along with the constants $A$ and $B$."
   ]
  },
  {
   "cell_type": "code",
   "execution_count": null,
   "metadata": {
    "execution": {
     "iopub.execute_input": "2022-11-05T19:41:59.744630Z",
     "iopub.status.busy": "2022-11-05T19:41:59.744294Z",
     "iopub.status.idle": "2022-11-05T19:42:00.474058Z",
     "shell.execute_reply": "2022-11-05T19:42:00.473438Z"
    }
   },
   "outputs": [],
   "source": [
    "import networkx as nx\n",
    "import numpy as np\n",
    "import matplotlib.pyplot as plt\n",
    "\n",
    "# Specify the graph \n",
    "# First example\n",
    "graph = nx.Graph()\n",
    "graph.add_nodes_from(np.arange(6))\n",
    "graph.add_edges_from([(0, 1), (0, 2), (0, 3), (0, 4), (0, 5), (1, 5)])\n",
    "\n",
    "# # Second example\n",
    "# graph = nx.gnm_random_graph(15, 20)\n",
    "\n",
    "# Impose constraints for the right encoding\n",
    "B = 1\n",
    "A = B + 0.01\n",
    "\n",
    "# Draw the graph\n",
    "nodes_positions = nx.spring_layout(graph, iterations=len(graph.nodes())*60)\n",
    "plt.figure(figsize=(10, 6))\n",
    "nx.draw_networkx(graph, \n",
    "                 pos=nodes_positions, \n",
    "                 node_color='#4EEA6A', \n",
    "                 node_size=440, \n",
    "                 font_size=14)\n",
    "plt.show()"
   ]
  },
  {
   "cell_type": "markdown",
   "metadata": {},
   "source": [
    "Once the graph is specified and the constants $A$ and $B$ correctly chosen, we can encode the problem via our `VertexCover` class:"
   ]
  },
  {
   "cell_type": "code",
   "execution_count": null,
   "metadata": {
    "execution": {
     "iopub.execute_input": "2022-11-05T19:42:00.515617Z",
     "iopub.status.busy": "2022-11-05T19:42:00.514933Z",
     "iopub.status.idle": "2022-11-05T19:42:00.623733Z",
     "shell.execute_reply": "2022-11-05T19:42:00.623139Z"
    }
   },
   "outputs": [],
   "source": [
    "from qat.opt import VertexCover\n",
    "\n",
    "vertex_cover_problem = VertexCover(graph, A=A, B=B)"
   ]
  },
  {
   "cell_type": "markdown",
   "metadata": {},
   "source": [
    "# Solution"
   ]
  },
  {
   "cell_type": "markdown",
   "metadata": {},
   "source": [
    "### Resolution of the problem using a BatchGenerator\n",
    "\n",
    "A high level solver of the VertexCover problem is available in the QLM under the form of a BatchGenerator called `VertexCover`.\n",
    "It is designed as simple interface to solve the problem on an input graph, while hiding the complexities of the underlying\n",
    "algorithms.\n",
    "\n",
    "The different resolution methods that can be selected are \"qaoa\" (for QAOA Circuit Generation), \"annealing\" (for\n",
    "Simulated Quantum Annealing), and \"schedule\" (for Analog Quantum Scheduler Generation). A user-interpretable result is\n",
    "returned from the job execution, where the two resulting partitions of the nodes and the number of edges cut can be retrieved\n",
    "from the subsets and cost attribute respectively. A display method is also provided by the result object to visualize the\n",
    "partitioning of the graph.\n",
    "\n",
    "An example of using the batch generator to generate a quantum annealing job and executing it with SimulatedAnnealing is provided below."
   ]
  },
  {
   "cell_type": "code",
   "execution_count": null,
   "metadata": {
    "execution": {
     "iopub.execute_input": "2022-11-05T19:42:00.627515Z",
     "iopub.status.busy": "2022-11-05T19:42:00.627095Z",
     "iopub.status.idle": "2022-11-05T19:42:01.040822Z",
     "shell.execute_reply": "2022-11-05T19:42:01.040234Z"
    }
   },
   "outputs": [],
   "source": [
    "from qat.generators import VertexCoverGenerator\n",
    "from qat.qpus import SimulatedAnnealing\n",
    "from qat.core import Variable\n",
    "\n",
    "# 1. Extract parameters for SA\n",
    "problem_parameters_dict = vertex_cover_problem.get_best_parameters()\n",
    "n_steps = problem_parameters_dict[\"n_steps\"]\n",
    "temp_max = problem_parameters_dict[\"temp_max\"]\n",
    "temp_min = problem_parameters_dict[\"temp_min\"]\n",
    "\n",
    "# 2. Create a temperature schedule and a QPU\n",
    "tmax = 1.0\n",
    "t = Variable(\"t\", float)\n",
    "temp_t = temp_min * (t / tmax) + temp_max * (1 - t / tmax)\n",
    "\n",
    "vertex_cover_application = VertexCoverGenerator(job_type=\"annealing\") | SimulatedAnnealing(temp_t=temp_t, n_steps=n_steps)\n",
    "combinatorial_result = vertex_cover_application.execute(graph, A, B)\n",
    "\n",
    "print(\"The nodes in the subgraph that forms a cover are\", combinatorial_result.cover)\n",
    "print(\"The number of nodes in the cover is\", len(combinatorial_result.cover))\n",
    "\n",
    "combinatorial_result.display(with_figure=True, figsize=(10, 6), node_size=440, font_size=14, pos=nodes_positions)"
   ]
  },
  {
   "cell_type": "markdown",
   "metadata": {},
   "source": [
    "### Simulated Quantum Annealing\n",
    "\n",
    "If we want to solve the problem with SQA straight, we can still do so via the following steps:\n",
    "\n",
    "1. Extract some fine-tuned parameters for VertexCover (found for SQA) which are needed for the temperature schedule.\n",
    "\n",
    "\n",
    "2. Create the temperature schedule using the `t` time variable (instance of the class `Variable`) and thus the `SimulatedAnnealing` QPU.\n",
    "\n",
    "\n",
    "3. Create a job from the problem by calling the `to_job()` method and send it to the QPU.\n",
    "\n",
    "\n",
    "4. Extract the `Result` and present the solution spin configuration.\n",
    "\n",
    "\n",
    "5. Show the graph with the coloured nodes.\n",
    "\n",
    "Each spin from the solution configuration corresponds to a node from the graph at the same position. Note that if the numbering of the input nodes starts from $1$ and not from $0$, one still needs to look at the $0$th spin to extract information for this first node, numbered as $1$.\n",
    "\n",
    "When a spin has the value of $1$, this means that the respective node should be coloured and is part of the Vertex Cover. "
   ]
  },
  {
   "cell_type": "code",
   "execution_count": null,
   "metadata": {
    "execution": {
     "iopub.execute_input": "2022-11-05T19:42:01.043956Z",
     "iopub.status.busy": "2022-11-05T19:42:01.043634Z",
     "iopub.status.idle": "2022-11-05T19:42:01.392412Z",
     "shell.execute_reply": "2022-11-05T19:42:01.391849Z"
    }
   },
   "outputs": [],
   "source": [
    "from qat.qpus import SimulatedAnnealing\n",
    "from qat.simulated_annealing import integer_to_spins\n",
    "from qat.core import Variable\n",
    "\n",
    "# 1. Extract parameters for SA\n",
    "problem_parameters_dict = vertex_cover_problem.get_best_parameters()\n",
    "n_steps = problem_parameters_dict[\"n_steps\"]\n",
    "temp_max = problem_parameters_dict[\"temp_max\"]\n",
    "temp_min = problem_parameters_dict[\"temp_min\"]\n",
    "\n",
    "# 2. Create a temperature schedule and a QPU\n",
    "tmax = 1.0\n",
    "t = Variable(\"t\", float)\n",
    "temp_t = temp_min * (t / tmax) + temp_max * (1 - t / tmax)\n",
    "sa_qpu = SimulatedAnnealing(temp_t=temp_t, n_steps=n_steps)\n",
    "\n",
    "# 3. Create a job and send it to the QPU\n",
    "problem_job = vertex_cover_problem.to_job(tmax=tmax)\n",
    "problem_result = sa_qpu.submit(problem_job)\n",
    "\n",
    "# 4. Extract and print the solution configuration\n",
    "state = problem_result.raw_data[0].state.int  # raw_data is a list of Samples - one per computation\n",
    "solution_configuration = integer_to_spins(state, len(graph.nodes()))\n",
    "print(\"Solution configuration: \\n\" + str(solution_configuration) + \"\\n\")\n",
    "indices_spin_1 = np.where(solution_configuration == 1)[0]\n",
    "number_of_colours = len(indices_spin_1)\n",
    "print(\"One would need to colour \" + \"\\033[1m\" + str(number_of_colours) + \n",
    "      \"\\033[0;0m\" + \" vertices, which are:\\n\" + str(indices_spin_1) + \"\\n\")\n",
    "\n",
    "# 5. Show the coloured graph\n",
    "plt.figure(figsize=(10, 6))\n",
    "node_size = 440\n",
    "font_size = 14\n",
    "nx.draw_networkx(graph, \n",
    "                 pos=nodes_positions, \n",
    "                 nodelist=indices_spin_1.tolist(), \n",
    "                 node_color='#FFE033', \n",
    "                 node_size=node_size, \n",
    "                 font_size=font_size)\n",
    "\n",
    "indices_spin_minus_1 = np.where(solution_configuration == -1)[0]\n",
    "nx.draw_networkx(graph, \n",
    "                 pos=nodes_positions, \n",
    "                 nodelist=indices_spin_minus_1.tolist(), \n",
    "                 node_color='#4EEA6A', \n",
    "                 node_size=node_size, \n",
    "                 font_size=font_size)\n",
    "nx.draw_networkx_edges(graph, pos=nodes_positions)\n",
    "plt.show()"
   ]
  },
  {
   "cell_type": "markdown",
   "metadata": {},
   "source": [
    "# Solution analysis\n",
    "\n",
    "For graphs which are quite big, one may find it hard to examine visually the solution. Therefore, here is a simple check for this purpose $-$ whether each edge has a coloured vertex and if not $-$ a list of colourless edges."
   ]
  },
  {
   "cell_type": "code",
   "execution_count": null,
   "metadata": {
    "execution": {
     "iopub.execute_input": "2022-11-05T19:42:01.395304Z",
     "iopub.status.busy": "2022-11-05T19:42:01.395007Z",
     "iopub.status.idle": "2022-11-05T19:42:01.399783Z",
     "shell.execute_reply": "2022-11-05T19:42:01.399231Z"
    }
   },
   "outputs": [],
   "source": [
    "colourless_edges_list = []\n",
    "for (node_i, node_j) in graph.edges():\n",
    "    if node_i not in indices_spin_1 and node_j not in indices_spin_1:\n",
    "        colourless_edges_list.append((node_i, node_j))\n",
    "if len(colourless_edges_list) == 0:\n",
    "    print (\"The graph is covered well !\")\n",
    "else:\n",
    "    print(\"The \" + \"\\033[1m\" + str(len(colourless_edges_list)) + \n",
    "          \"\\033[0;0m\" + \" edges without coloured nodes are:\")\n",
    "    print(\"(node, node)\")\n",
    "    for edge in colourless_edges_list: print(edge)"
   ]
  }
 ],
 "metadata": {
  "authors": [
   "Grigori Matein"
  ],
  "documentation-tags": {
   "icon": [
    ":material-outlined:`workspaces;42px`",
    ":material-outlined:`hub;40px`"
   ],
   "level": "beginner"
  },
  "kernelspec": {
   "display_name": "Python 3 (ipykernel)",
   "language": "python",
   "name": "python3"
  },
  "language_info": {
   "codemirror_mode": {
    "name": "ipython",
    "version": 3
   },
   "file_extension": ".py",
   "mimetype": "text/x-python",
   "name": "python",
   "nbconvert_exporter": "python",
   "pygments_lexer": "ipython3",
   "version": "3.10.4"
  }
 },
 "nbformat": 4,
 "nbformat_minor": 4
}
