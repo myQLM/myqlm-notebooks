{
 "cells": [
  {
   "cell_type": "markdown",
   "metadata": {},
   "source": [
    "# Creating and using your own gate set in (py)AQASM\n",
    "\n",
    "This notebook is the logical continuation of [this one](custom_gate_set.ipynb).\n",
    "\n",
    "## Why would I want that?\n",
    "The default gate set used in (py)AQASM is quite expressive but can be lacklusting is some cases:\n",
    "\n",
    "### black boxing routine calls\n",
    "Lets say I know that the target hardware (or simulator) has some efficient low level implementation of some routine, for instance a QFT. \n",
    "In that case, I want to write my algorithm using a \"black box\" called QFT without necessarily specifying its implementation, and still be able to generate a circuit that will be understood by the hardware.\n",
    "\n",
    "### specifying a hardware level gate set\n",
    "The second case appears when dealing directly with hardware level instructions. For instance, lets assume I want to specify a circuit destined to run on an ion-based hardware platform. Since the native gate set of ion-based platforms has a very unusual gate set, I want to be able to directly build the hardware level circuit in pyAQASM because I don't trust the compilation layer, or I want to produce a very optimized code. In that case I would like to describe this hardware level gate set and still be able to use it to build my circuits."
   ]
  },
  {
   "cell_type": "markdown",
   "metadata": {},
   "source": [
    "## Declaring and using an abstract gate in pyAQASM\n",
    "\n"
   ]
  },
  {
   "cell_type": "code",
   "execution_count": null,
   "metadata": {
    "execution": {
     "iopub.execute_input": "2022-11-05T19:42:22.008485Z",
     "iopub.status.busy": "2022-11-05T19:42:22.008067Z",
     "iopub.status.idle": "2022-11-05T19:42:22.453534Z",
     "shell.execute_reply": "2022-11-05T19:42:22.452907Z"
    }
   },
   "outputs": [],
   "source": [
    "from qat.lang.AQASM import *\n",
    "\n",
    "# We give a name to the constructor (here QFT) and a string specifying the argument types (here 1 char \"i\")\n",
    "my_qft_gate = AbstractGate(\"QFT\", [int])\n",
    "\n",
    "\n",
    "# Now we can play around with this gate\n",
    "QFT_10 = my_qft_gate(10)\n",
    "\n",
    "prog = Program()\n",
    "reg = prog.qalloc(10)\n",
    "prog.apply(QFT_10, reg)\n",
    "\n",
    "# If we export this program in circuit format, we will obtain a similar result to the AQASM approach above. \n",
    "circuit_qft = prog.to_circ()\n",
    "\n",
    "circuit_qft.display()"
   ]
  },
  {
   "cell_type": "markdown",
   "metadata": {},
   "source": [
    "The abstract gate checks the type and number of the arguments to avoid invalid gates"
   ]
  },
  {
   "cell_type": "code",
   "execution_count": null,
   "metadata": {
    "execution": {
     "iopub.execute_input": "2022-11-05T19:42:22.491215Z",
     "iopub.status.busy": "2022-11-05T19:42:22.490809Z",
     "iopub.status.idle": "2022-11-05T19:42:22.495525Z",
     "shell.execute_reply": "2022-11-05T19:42:22.495000Z"
    }
   },
   "outputs": [],
   "source": [
    "\n",
    "try:\n",
    "    QFT_toto = my_qft_gate(\"foo\")\n",
    "except WrongArgumentType as e:\n",
    "    print(e)\n",
    "    print(\"Ooops, something went wrong when building QFT_foo\")\n",
    "print()\n",
    "try:\n",
    "    QFT_10_18 = my_qft_gate(10, 18)\n",
    "except WrongArgumentsNumber as e:\n",
    "    print(e)\n",
    "    print(\"Ooops, something went wrong when building QFT_10_18\")"
   ]
  },
  {
   "cell_type": "markdown",
   "metadata": {},
   "source": [
    "## And now what do we do with this circuit?\n",
    "\n",
    "We have a circuit containing an abstract gate \"QFT\".\n",
    "\n",
    "If my hardware is able to handle this gate, I can send it directly to the proper QPU.\n",
    "\n",
    "But what if I simply did that to create an intermediate circuit in which I want to inline an implementation of the QFT?\n"
   ]
  },
  {
   "cell_type": "markdown",
   "metadata": {},
   "source": [
    "Turning a python module into a pyAQASM library is easy to do using function decorators (see below)."
   ]
  },
  {
   "cell_type": "markdown",
   "metadata": {},
   "source": [
    "### Linking a custom implementation using pyAQASM\n",
    "\n",
    "pyAQASM allows us to attach `circuit_generators` to `AbstractGates`.\n",
    "\n",
    "The idea is similar to the process of attaching a `matrix_generator` to an `AbstractGate`.\n",
    "\n",
    "One simply needs to define a python function having the same input signature as the gate and returning a `QRoutine` object.\n"
   ]
  },
  {
   "cell_type": "code",
   "execution_count": null,
   "metadata": {
    "execution": {
     "iopub.execute_input": "2022-11-05T19:42:22.498275Z",
     "iopub.status.busy": "2022-11-05T19:42:22.498031Z",
     "iopub.status.idle": "2022-11-05T19:42:22.501784Z",
     "shell.execute_reply": "2022-11-05T19:42:22.501318Z"
    }
   },
   "outputs": [],
   "source": [
    "# Lets first define a custom implementation of the QFT\n",
    "# This custom implementation needs to return a QRoutine object\n",
    "# Here we provide an inexact implementation, for illustration purpose only!\n",
    "def my_fake_qft(n):\n",
    "    rout = QRoutine()\n",
    "    reg = rout.new_wires(n)\n",
    "    for qb in reg:\n",
    "        rout.apply(H, qb)\n",
    "    return rout\n",
    "\n",
    "# We can now add this circuit generator to the GateSignature object\n",
    "my_qft_gate.set_circuit_generator(my_fake_qft)\n",
    "# Of course, one could have written:\n",
    "my_qft_gate = AbstractGate(\"QFT\", [int], circuit_generator=my_fake_qft)"
   ]
  },
  {
   "cell_type": "markdown",
   "metadata": {},
   "source": [
    "## Playing around with **to_circ**\n",
    "\n",
    "Once we use an abstract gate with a specified circuit generator, pyAQASM will automatically:\n",
    "* call the circuit generator for every occurence of the gate\n",
    "* inline the resulting routine inside the body of the circuit\n",
    "\n",
    "It is however possible to bypass these actions if needed."
   ]
  },
  {
   "cell_type": "code",
   "execution_count": null,
   "metadata": {
    "execution": {
     "iopub.execute_input": "2022-11-05T19:42:22.504407Z",
     "iopub.status.busy": "2022-11-05T19:42:22.503988Z",
     "iopub.status.idle": "2022-11-05T19:42:22.518808Z",
     "shell.execute_reply": "2022-11-05T19:42:22.518333Z"
    }
   },
   "outputs": [],
   "source": [
    "prog = Program()\n",
    "qbits = prog.qalloc(4)\n",
    "prog.apply(my_qft_gate(4), qbits)\n",
    "# Standard usage: the inline will not take place\n",
    "circuit_full = prog.to_circ()\n",
    "# Blocking the linking of the QFT gates\n",
    "circuit_not_full = prog.to_circ(keep=[\"QFT\"])\n",
    "# Blocking all inline\n",
    "circuit_not_full_2 = prog.to_circ(inline=True)"
   ]
  },
  {
   "cell_type": "code",
   "execution_count": null,
   "metadata": {
    "execution": {
     "iopub.execute_input": "2022-11-05T19:42:22.521098Z",
     "iopub.status.busy": "2022-11-05T19:42:22.520860Z",
     "iopub.status.idle": "2022-11-05T19:42:22.758672Z",
     "shell.execute_reply": "2022-11-05T19:42:22.758063Z"
    }
   },
   "outputs": [],
   "source": [
    "circuit_full.display()"
   ]
  },
  {
   "cell_type": "code",
   "execution_count": null,
   "metadata": {
    "execution": {
     "iopub.execute_input": "2022-11-05T19:42:22.761411Z",
     "iopub.status.busy": "2022-11-05T19:42:22.761130Z",
     "iopub.status.idle": "2022-11-05T19:42:22.996841Z",
     "shell.execute_reply": "2022-11-05T19:42:22.996238Z"
    }
   },
   "outputs": [],
   "source": [
    "circuit_full.display(depth=1)"
   ]
  },
  {
   "cell_type": "code",
   "execution_count": null,
   "metadata": {
    "execution": {
     "iopub.execute_input": "2022-11-05T19:42:22.999820Z",
     "iopub.status.busy": "2022-11-05T19:42:22.999336Z",
     "iopub.status.idle": "2022-11-05T19:42:23.245236Z",
     "shell.execute_reply": "2022-11-05T19:42:23.244626Z"
    }
   },
   "outputs": [],
   "source": [
    "circuit_not_full.display(depth=1)"
   ]
  },
  {
   "cell_type": "code",
   "execution_count": null,
   "metadata": {
    "execution": {
     "iopub.execute_input": "2022-11-05T19:42:23.248115Z",
     "iopub.status.busy": "2022-11-05T19:42:23.247838Z",
     "iopub.status.idle": "2022-11-05T19:42:23.481155Z",
     "shell.execute_reply": "2022-11-05T19:42:23.480539Z"
    }
   },
   "outputs": [],
   "source": [
    "circuit_not_full_2.display()"
   ]
  },
  {
   "cell_type": "markdown",
   "metadata": {},
   "source": [
    "## Variable arities\n",
    "\n",
    "Notice that the following circuit is \"valid\" (is the sense that pyAQASM is not raising any exception:"
   ]
  },
  {
   "cell_type": "code",
   "execution_count": null,
   "metadata": {
    "execution": {
     "iopub.execute_input": "2022-11-05T19:42:23.484237Z",
     "iopub.status.busy": "2022-11-05T19:42:23.483941Z",
     "iopub.status.idle": "2022-11-05T19:42:23.492103Z",
     "shell.execute_reply": "2022-11-05T19:42:23.491612Z"
    }
   },
   "outputs": [],
   "source": [
    "my_fake_qft_2 = AbstractGate(\"QFT\", [int])\n",
    "\n",
    "prog = Program()\n",
    "qbits = prog.qalloc(3)\n",
    "prog.apply(my_fake_qft_2(18), qbits)\n",
    "circ = prog.to_circ()"
   ]
  },
  {
   "cell_type": "markdown",
   "metadata": {},
   "source": [
    "Indeed, we did not specify any constraints on the arity of `my_fake_qft_2`.\n",
    "\n",
    "It is possible to specify an `arity_generator` to the `AbstractGate` constructor to give more information to pyAQASM in order to statically detect this kind of potential mistakes during the circuit construction:"
   ]
  },
  {
   "cell_type": "code",
   "execution_count": null,
   "metadata": {
    "execution": {
     "iopub.execute_input": "2022-11-05T19:42:23.494923Z",
     "iopub.status.busy": "2022-11-05T19:42:23.494523Z",
     "iopub.status.idle": "2022-11-05T19:42:23.498476Z",
     "shell.execute_reply": "2022-11-05T19:42:23.497975Z"
    }
   },
   "outputs": [],
   "source": [
    "my_fake_qft_2 = AbstractGate(\"QFT\", [int], arity=lambda n:n)\n",
    "\n",
    "prog = Program()\n",
    "qbits = prog.qalloc(3)\n",
    "try:\n",
    "    prog.apply(my_fake_qft_2(18), qbits)\n",
    "except Exception as e:\n",
    "    print(type(e), e)"
   ]
  },
  {
   "cell_type": "markdown",
   "metadata": {},
   "source": [
    "## Abstract gates and **build_gate** decorator\n",
    "\n",
    "Another way of declaring an `AbstractGate` with a particular subcircuit implementation is to use the `build_gate` function decorator.\n",
    "\n",
    "This decorator turns function returning routines into abstract gates at the cost of adding some information in the decorator:"
   ]
  },
  {
   "cell_type": "code",
   "execution_count": null,
   "metadata": {
    "execution": {
     "iopub.execute_input": "2022-11-05T19:42:23.500812Z",
     "iopub.status.busy": "2022-11-05T19:42:23.500567Z",
     "iopub.status.idle": "2022-11-05T19:42:23.732578Z",
     "shell.execute_reply": "2022-11-05T19:42:23.731881Z"
    }
   },
   "outputs": [],
   "source": [
    "from qat.lang.AQASM.misc import build_gate\n",
    "\n",
    "# We use the same dummy implementation\n",
    "@build_gate(\"QFT\", [int])\n",
    "def my_qft(n):\n",
    "    rout = QRoutine()\n",
    "    for i in range(n):\n",
    "        rout.apply(H, i)\n",
    "    return rout\n",
    "\n",
    "# And use it directly inside a program\n",
    "prog = Program()\n",
    "qbs = prog.qalloc(3)\n",
    "\n",
    "prog.apply(my_qft(3), qbs)\n",
    "circuit = prog.to_circ()\n",
    "circuit.display()"
   ]
  },
  {
   "cell_type": "markdown",
   "metadata": {},
   "source": [
    "Custom arities can be specified using a lambda function:"
   ]
  },
  {
   "cell_type": "code",
   "execution_count": null,
   "metadata": {
    "execution": {
     "iopub.execute_input": "2022-11-05T19:42:23.735861Z",
     "iopub.status.busy": "2022-11-05T19:42:23.735543Z",
     "iopub.status.idle": "2022-11-05T19:42:23.740975Z",
     "shell.execute_reply": "2022-11-05T19:42:23.740416Z"
    }
   },
   "outputs": [],
   "source": [
    "from qat.lang.AQASM.misc import build_gate\n",
    "\n",
    "@build_gate(\"QFT\", [int], lambda n:n)\n",
    "def my_qft(n):\n",
    "    rout = QRoutine()\n",
    "    for i in range(n):\n",
    "        rout.apply(H, i)\n",
    "    return rout\n",
    "\n",
    "# And use it directly inside a program\n",
    "prog = Program()\n",
    "qbs = prog.qalloc(3)\n",
    "\n",
    "try:\n",
    "    prog.apply(my_qft(18), qbits)\n",
    "except Exception as e:\n",
    "    print(type(e), e)"
   ]
  },
  {
   "cell_type": "markdown",
   "metadata": {},
   "source": [
    "# Generating gate sets from decorated functions\n",
    "\n",
    "`qat.lang.AQASM.qftarith` is a good example of a python namespace containing (many) decorated functions.\n",
    "It is possible to generate a gate set containing all the declared gates using the `generate_gate_set`function:"
   ]
  },
  {
   "cell_type": "code",
   "execution_count": null,
   "metadata": {
    "execution": {
     "iopub.execute_input": "2022-11-05T19:42:23.744256Z",
     "iopub.status.busy": "2022-11-05T19:42:23.743967Z",
     "iopub.status.idle": "2022-11-05T19:42:23.747898Z",
     "shell.execute_reply": "2022-11-05T19:42:23.747329Z"
    }
   },
   "outputs": [],
   "source": [
    "from qat.lang.AQASM.misc import generate_gate_set\n",
    "import qat.lang.AQASM.qftarith\n",
    "qftarith_gate_set = generate_gate_set(qat.lang.AQASM.qftarith)\n",
    "print(qftarith_gate_set)"
   ]
  },
  {
   "cell_type": "markdown",
   "metadata": {},
   "source": [
    "# Linking gate sets during circuit generation\n",
    "\n",
    "The `to_circ` method allows to pass gate sets as libraries in order to link implementations to abstract gates present inside the circuit.\n",
    "\n",
    "In the following cell, we will :\n",
    "* define a simple circuit with an implementation-less QFT\n",
    "* link qat.lang.AQASM.qftarith in order to provide an implementation to this QFT"
   ]
  },
  {
   "cell_type": "code",
   "execution_count": null,
   "metadata": {
    "execution": {
     "iopub.execute_input": "2022-11-05T19:42:23.750728Z",
     "iopub.status.busy": "2022-11-05T19:42:23.750464Z",
     "iopub.status.idle": "2022-11-05T19:42:23.767990Z",
     "shell.execute_reply": "2022-11-05T19:42:23.767422Z"
    }
   },
   "outputs": [],
   "source": [
    "empty_QFT = AbstractGate(\"QFT\", [int], arity=lambda n: n)\n",
    "\n",
    "prog = Program()\n",
    "qbits = prog.qalloc(3)\n",
    "prog.apply(empty_QFT(3), qbits)\n",
    "circuitA = prog.to_circ()\n",
    "circuitB = prog.to_circ(link=[qat.lang.AQASM.qftarith])\n",
    "circuitC = prog.to_circ(link=[qftarith_gate_set[\"QFT\"]])"
   ]
  },
  {
   "cell_type": "code",
   "execution_count": null,
   "metadata": {
    "execution": {
     "iopub.execute_input": "2022-11-05T19:42:23.770791Z",
     "iopub.status.busy": "2022-11-05T19:42:23.770521Z",
     "iopub.status.idle": "2022-11-05T19:42:24.001404Z",
     "shell.execute_reply": "2022-11-05T19:42:24.000767Z"
    }
   },
   "outputs": [],
   "source": [
    "circuitA.display(depth=1)"
   ]
  },
  {
   "cell_type": "code",
   "execution_count": null,
   "metadata": {
    "execution": {
     "iopub.execute_input": "2022-11-05T19:42:24.004380Z",
     "iopub.status.busy": "2022-11-05T19:42:24.004058Z",
     "iopub.status.idle": "2022-11-05T19:42:24.279073Z",
     "shell.execute_reply": "2022-11-05T19:42:24.278464Z"
    }
   },
   "outputs": [],
   "source": [
    "circuitB.display(depth=1)"
   ]
  },
  {
   "cell_type": "code",
   "execution_count": null,
   "metadata": {
    "execution": {
     "iopub.execute_input": "2022-11-05T19:42:24.281822Z",
     "iopub.status.busy": "2022-11-05T19:42:24.281542Z",
     "iopub.status.idle": "2022-11-05T19:42:24.558752Z",
     "shell.execute_reply": "2022-11-05T19:42:24.558101Z"
    }
   },
   "outputs": [],
   "source": [
    "circuitC.display(depth=1)"
   ]
  },
  {
   "cell_type": "markdown",
   "metadata": {},
   "source": [
    "## Specifying an abstract gate in AQASM\n",
    "The AQASM syntax to declare a new abstract gate in the header of an AQASM file is the following:\n",
    "\n",
    "<b>DEFINE PARAM</b> *gate_name* *list_of_arguments_types* <b>:</b> *gate_arity*\n",
    "\n",
    "For instance lets write the file *abstract_qft.aqasm*"
   ]
  },
  {
   "cell_type": "code",
   "execution_count": null,
   "metadata": {
    "execution": {
     "iopub.execute_input": "2022-11-05T19:42:24.562012Z",
     "iopub.status.busy": "2022-11-05T19:42:24.561523Z",
     "iopub.status.idle": "2022-11-05T19:42:24.566078Z",
     "shell.execute_reply": "2022-11-05T19:42:24.565568Z"
    }
   },
   "outputs": [],
   "source": [
    "%%writefile abstract_qft.aqasm\n",
    "DEFINE PARAM QFT int : None\n",
    "BEGIN\n",
    "qubits 4\n",
    "QFT[4] q[0], q[1], q[2], q[3]\n",
    "END"
   ]
  },
  {
   "cell_type": "markdown",
   "metadata": {},
   "source": [
    "This file will safely compile via *aqasm2circ* :"
   ]
  },
  {
   "cell_type": "code",
   "execution_count": null,
   "metadata": {
    "execution": {
     "iopub.execute_input": "2022-11-05T19:42:24.568564Z",
     "iopub.status.busy": "2022-11-05T19:42:24.568318Z",
     "iopub.status.idle": "2022-11-05T19:42:24.821657Z",
     "shell.execute_reply": "2022-11-05T19:42:24.821090Z"
    }
   },
   "outputs": [],
   "source": [
    "%%bash \n",
    "aqasm2circ abstract_qft.aqasm abstract_qft.circ\n",
    "ls abstract_qft.circ"
   ]
  },
  {
   "cell_type": "markdown",
   "metadata": {},
   "source": [
    "Let us look into this circuit:"
   ]
  },
  {
   "cell_type": "code",
   "execution_count": null,
   "metadata": {
    "execution": {
     "iopub.execute_input": "2022-11-05T19:42:24.824630Z",
     "iopub.status.busy": "2022-11-05T19:42:24.824340Z",
     "iopub.status.idle": "2022-11-05T19:42:24.832651Z",
     "shell.execute_reply": "2022-11-05T19:42:24.832099Z"
    }
   },
   "outputs": [],
   "source": [
    "from qat.core import Circuit\n",
    "circuit_aqasm = Circuit.load(\"abstract_qft.circ\")\n",
    "print(\"Circuit containing\",len(circuit_aqasm.ops), \"gate(s)\")\n",
    "print(circuit_aqasm.ops[0])\n",
    "print(\"Its syntax is\", circuit_aqasm.gateDic[circuit_aqasm.ops[0].gate].syntax)"
   ]
  },
  {
   "cell_type": "markdown",
   "metadata": {},
   "source": [
    "This tells us that:\n",
    "- the circuit contains only one gate\n",
    "- the syntax of this gate stipulates that its a QFT with a single argument of type int with value 4"
   ]
  },
  {
   "cell_type": "markdown",
   "metadata": {},
   "source": [
    "\n",
    "### Linking an implementation using *aqasm2circ*\n",
    "\n",
    "The *-L* option of aqasm2circ allows to link a pyAQASM library to the compiler so that it can inline the proper implementation of the various gates used in a AQSM file.\n",
    "\n",
    "For example, if I want to link the classic implementation of the QFT (described in the python module qat.lang.AQASM.qftarith):"
   ]
  },
  {
   "cell_type": "code",
   "execution_count": null,
   "metadata": {
    "execution": {
     "iopub.execute_input": "2022-11-05T19:42:24.835431Z",
     "iopub.status.busy": "2022-11-05T19:42:24.835134Z",
     "iopub.status.idle": "2022-11-05T19:42:25.065374Z",
     "shell.execute_reply": "2022-11-05T19:42:25.064762Z"
    }
   },
   "outputs": [],
   "source": [
    "%%bash\n",
    "aqasm2circ -L qat.lang.AQASM.qftarith abstract_qft.aqasm qft.circ"
   ]
  },
  {
   "cell_type": "code",
   "execution_count": null,
   "metadata": {
    "execution": {
     "iopub.execute_input": "2022-11-05T19:42:25.068849Z",
     "iopub.status.busy": "2022-11-05T19:42:25.068560Z",
     "iopub.status.idle": "2022-11-05T19:42:25.400596Z",
     "shell.execute_reply": "2022-11-05T19:42:25.399984Z"
    }
   },
   "outputs": [],
   "source": [
    "qft = Circuit.load(\"qft.circ\")\n",
    "qft.display()"
   ]
  },
  {
   "cell_type": "code",
   "execution_count": null,
   "metadata": {},
   "outputs": [],
   "source": []
  }
 ],
 "metadata": {
  "authors": [
   "Simon Martiel"
  ],
  "kernelspec": {
   "display_name": "Python 3 (ipykernel)",
   "language": "python",
   "name": "python3"
  },
  "language_info": {
   "codemirror_mode": {
    "name": "ipython",
    "version": 3
   },
   "file_extension": ".py",
   "mimetype": "text/x-python",
   "name": "python",
   "nbconvert_exporter": "python",
   "pygments_lexer": "ipython3",
   "version": "3.10.4"
  }
 },
 "nbformat": 4,
 "nbformat_minor": 2
}
