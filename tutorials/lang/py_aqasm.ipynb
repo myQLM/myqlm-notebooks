{
 "cells": [
  {
   "cell_type": "markdown",
   "metadata": {},
   "source": [
    "# Quantum program creation\n",
    "\t\n",
    "\n",
    "In this notebook, you will learn how to create a quantum program using Python with advanced elements:\n",
    "- Part I: application of measures and resets, classical controls\n",
    "- Part II: abstract gates\n",
    "- Part III: quantum routines\n",
    "- Part IV: export to AQASM and *.circ formats\n",
    "\n",
    "These functionalities are provided by the Python ``qat.lang.AQASM`` module.\n",
    "\n",
    "As ``qat.lang.AQASM`` module is a python extension of the AQASM language, this module contains all built-in quantum gates available in AQASM presented [here](available_gates.ipynb).\n",
    "\n",
    "We recall the syntax to create a quantum program:"
   ]
  },
  {
   "cell_type": "code",
   "execution_count": null,
   "metadata": {
    "execution": {
     "iopub.execute_input": "2022-11-05T19:42:28.002432Z",
     "iopub.status.busy": "2022-11-05T19:42:28.002081Z",
     "iopub.status.idle": "2022-11-05T19:42:28.145266Z",
     "shell.execute_reply": "2022-11-05T19:42:28.144490Z"
    }
   },
   "outputs": [],
   "source": [
    "from qat.lang.AQASM import Program\n",
    "prog = Program()"
   ]
  },
  {
   "cell_type": "markdown",
   "metadata": {},
   "source": [
    "## Part I: Classical control, measures and resets"
   ]
  },
  {
   "cell_type": "markdown",
   "metadata": {},
   "source": [
    "### Quantum and classical bit allocation\n",
    "\n",
    "The allocation of quantum and classical bits is done via the ``qalloc`` and ``calloc`` methods, respectively. They return a register, which will then be used to refer to the qubits or classical bits.\n",
    "\n",
    "In the following snippet, we allocated an 8-qubit register as well a classical register with 8 bits:"
   ]
  },
  {
   "cell_type": "code",
   "execution_count": null,
   "metadata": {
    "execution": {
     "iopub.execute_input": "2022-11-05T19:42:28.148894Z",
     "iopub.status.busy": "2022-11-05T19:42:28.148548Z",
     "iopub.status.idle": "2022-11-05T19:42:28.151891Z",
     "shell.execute_reply": "2022-11-05T19:42:28.151358Z"
    }
   },
   "outputs": [],
   "source": [
    "qbits = prog.qalloc(8)\n",
    "cbits = prog.calloc(8)"
   ]
  },
  {
   "cell_type": "markdown",
   "metadata": {},
   "source": [
    "### Measure\n",
    "A measure is applied via the ``measure`` method. The result of the measure of a quantum bit is stored in a classical bit:"
   ]
  },
  {
   "cell_type": "code",
   "execution_count": null,
   "metadata": {
    "execution": {
     "iopub.execute_input": "2022-11-05T19:42:28.155010Z",
     "iopub.status.busy": "2022-11-05T19:42:28.154567Z",
     "iopub.status.idle": "2022-11-05T19:42:28.529718Z",
     "shell.execute_reply": "2022-11-05T19:42:28.528950Z"
    }
   },
   "outputs": [],
   "source": [
    "from qat.lang.AQASM import Program, RZ, CNOT\n",
    "from math import pi\n",
    "\n",
    "prog = Program()\n",
    "qbits = prog.qalloc(2)\n",
    "cbits = prog.calloc(2)\n",
    "prog.apply(RZ(pi/5), qbits[0])\n",
    "prog.apply(CNOT, qbits)\n",
    "prog.measure(qbits, cbits)\n",
    "\n",
    "circ = prog.to_circ()\n",
    "circ.display()"
   ]
  },
  {
   "cell_type": "markdown",
   "metadata": {},
   "source": [
    "### Classical control\n",
    "\n",
    "Here, we apply a Hadamard gate on second qubit classically controlled by second bit (it requires the classical bit to be initialized):\n",
    "![figure](../../img/CCH.png)"
   ]
  },
  {
   "cell_type": "code",
   "execution_count": null,
   "metadata": {
    "execution": {
     "iopub.execute_input": "2022-11-05T19:42:28.574244Z",
     "iopub.status.busy": "2022-11-05T19:42:28.573752Z",
     "iopub.status.idle": "2022-11-05T19:42:28.578786Z",
     "shell.execute_reply": "2022-11-05T19:42:28.578126Z"
    }
   },
   "outputs": [],
   "source": [
    "from qat.lang.AQASM import Program, H\n",
    "\n",
    "prog = Program()\n",
    "cbits = prog.calloc(5)\n",
    "qbits = prog.qalloc(5)\n",
    "# Initializing cbits[2]\n",
    "prog.measure(qbits[4], cbits[2])\n",
    "# Apply Hadamard only if cbits[2] is set\n",
    "prog.cc_apply(cbits[2], H, qbits[2])"
   ]
  },
  {
   "cell_type": "markdown",
   "metadata": {},
   "source": [
    "### Qubit reset\n",
    "\n",
    "The following snippet shows how to reset a qubit."
   ]
  },
  {
   "cell_type": "code",
   "execution_count": null,
   "metadata": {
    "execution": {
     "iopub.execute_input": "2022-11-05T19:42:28.581647Z",
     "iopub.status.busy": "2022-11-05T19:42:28.581360Z",
     "iopub.status.idle": "2022-11-05T19:42:28.585974Z",
     "shell.execute_reply": "2022-11-05T19:42:28.585300Z"
    }
   },
   "outputs": [],
   "source": [
    "from qat.lang.AQASM import Program \n",
    "\n",
    "prog = Program()\n",
    "qbits = prog.qalloc(8)\n",
    "\n",
    "\n",
    "# Reseting qubits 1, 3 and 4.\n",
    "prog.reset([qbits[1], qbits[3:5]])\n",
    "print(prog.op_list[0].qbits)"
   ]
  },
  {
   "cell_type": "markdown",
   "metadata": {},
   "source": [
    "### Cbit reset\n",
    "\n",
    "The reset method also allows to reset a classical bit."
   ]
  },
  {
   "cell_type": "code",
   "execution_count": null,
   "metadata": {
    "execution": {
     "iopub.execute_input": "2022-11-05T19:42:28.589438Z",
     "iopub.status.busy": "2022-11-05T19:42:28.588902Z",
     "iopub.status.idle": "2022-11-05T19:42:28.594417Z",
     "shell.execute_reply": "2022-11-05T19:42:28.593822Z"
    }
   },
   "outputs": [],
   "source": [
    "from qat.lang.AQASM import Program \n",
    "\n",
    "prog = Program()\n",
    "qbits = prog.qalloc(8)\n",
    "cbits = prog.calloc(8)\n",
    "\n",
    "# Reseting qubits 1, 3 and 4, and cbit 0.\n",
    "prog.reset([qbits[1], qbits[3:5]], [cbits[0]])\n",
    "# Reseting only cbit 1\n",
    "prog.reset([], [cbits[1]])\n",
    "print(prog.op_list[0].qbits)\n",
    "print(prog.op_list[0].cbits)\n",
    "print(prog.op_list[1].qbits)\n",
    "print(prog.op_list[1].cbits)"
   ]
  },
  {
   "cell_type": "markdown",
   "metadata": {},
   "source": [
    "### Logic operations on classical bits\n",
    "\n",
    "\n",
    "Here, we set the classical bit of index 0 through a logic operation on classical bits 1 and 2 (which have themselves been initialized through measurement).\n",
    "\n",
    "The second argument of the logic method is a boolean formula built using operators '&', '|', '^', '~' and cbits."
   ]
  },
  {
   "cell_type": "code",
   "execution_count": null,
   "metadata": {
    "execution": {
     "iopub.execute_input": "2022-11-05T19:42:28.597500Z",
     "iopub.status.busy": "2022-11-05T19:42:28.597012Z",
     "iopub.status.idle": "2022-11-05T19:42:28.601267Z",
     "shell.execute_reply": "2022-11-05T19:42:28.600665Z"
    }
   },
   "outputs": [],
   "source": [
    "from qat.lang.AQASM import Program\n",
    "\n",
    "prog = Program()\n",
    "qbits = prog.qalloc(2)\n",
    "cbits = prog.calloc(8)\n",
    "prog.measure(qbits, cbits[1:3])\n",
    "prog.logic(cbits[0], cbits[1] & cbits[2])"
   ]
  },
  {
   "cell_type": "markdown",
   "metadata": {},
   "source": [
    "## Part II: Abstract gates\n",
    "Besides constant gates, such as Hadamard, or CNOT, pyAQASM offers the possibilty to manipulate and declare parametrized gates, called abstract gates.\n",
    "pyAQASM natively supports 4 abstract gates (e.g RX, RY, RZ, PH). New abstract gates can be defined (see below).\n",
    "\n",
    "Any gate can be modified using the following gate operators:\n",
    "- *dag()*: Creates  the dagger of the parent Gate\n",
    "- *ctrl()*: Creates a controlled version of the parent Gate\n",
    "- *conj()*: Creates the complex conjugate of the parent Gate\n",
    "- *trans()*: Creates the transpose of the parent Gate."
   ]
  },
  {
   "cell_type": "code",
   "execution_count": null,
   "metadata": {
    "execution": {
     "iopub.execute_input": "2022-11-05T19:42:28.605391Z",
     "iopub.status.busy": "2022-11-05T19:42:28.604169Z",
     "iopub.status.idle": "2022-11-05T19:42:28.884890Z",
     "shell.execute_reply": "2022-11-05T19:42:28.884297Z"
    }
   },
   "outputs": [],
   "source": [
    "from qat.lang.AQASM import Program, RX, Y, AbstractGate\n",
    "import numpy as np\n",
    "\n",
    "prog = Program()\n",
    "q = prog.qalloc(3)\n",
    "\n",
    "# Abstract gates do not require a particular matrix description: they are boxes with a name and a\n",
    "# signature:\n",
    "my_gate = AbstractGate(\"mygate\", # The name of the gate\n",
    "                       [float], # Its signature: (here a single float)\n",
    "                       arity=2) # Its arity \n",
    "prog.apply(my_gate(0.3), q[0], q[1])\n",
    "\n",
    "## A constant abstract gate (a CNOT)\n",
    "# The matrices lines and columns should be enumerated using the first qubit as\n",
    "# most significant (q)bit\n",
    "# For instance, the matrix corresponding to a CNOT gate whose first argument is the control qubit\n",
    "# will look like:\n",
    "# | 1 0 0 0 |\n",
    "# | 0 1 0 0 |\n",
    "# | 0 0 0 1 |\n",
    "# | 0 0 1 0 |\n",
    "My_CNOT = AbstractGate(\"MY\\_CNOT\", [], arity=2,\n",
    "                       matrix_generator=lambda : np.array([[1,0,0,0],\n",
    "                                                           [0,1,0,0],\n",
    "                                                           [0,0,0,1],\n",
    "                                                           [0,0,1,0]]))\n",
    "\n",
    "prog.apply(My_CNOT(), q[0], q[1])\n",
    "\n",
    "# To extend: More generaly a control-U gate will have shape\n",
    "# | I 0 |\n",
    "# | 0 U |\n",
    "# and the first qubit passed as argument will be the control qubit\n",
    "\n",
    "# Abstract gates, once instantiated, can be controlled:\n",
    "\n",
    "prog.apply(My_CNOT().ctrl(), q[2], q[1], q[0])\n",
    "\n",
    "# Or inversed:\n",
    "prog.apply(My_CNOT().dag(), q[0], q[1])\n",
    "\n",
    "# Use an AbstractGate\n",
    "prog.apply(RX(np.pi/2.), q[2])\n",
    "\n",
    "circ = prog.to_circ()\n",
    "\n",
    "circ.display()"
   ]
  },
  {
   "cell_type": "markdown",
   "metadata": {},
   "source": [
    "## Part III: Quantum Routines\n",
    "\n",
    "\n",
    "The ``QRoutine`` object allows for the convenient creation of sub programs (akin to a re-useable sequence of gates) within a quantum program:"
   ]
  },
  {
   "cell_type": "code",
   "execution_count": null,
   "metadata": {
    "execution": {
     "iopub.execute_input": "2022-11-05T19:42:28.887832Z",
     "iopub.status.busy": "2022-11-05T19:42:28.887539Z",
     "iopub.status.idle": "2022-11-05T19:42:29.139247Z",
     "shell.execute_reply": "2022-11-05T19:42:29.138611Z"
    }
   },
   "outputs": [],
   "source": [
    "from qat.lang.AQASM import Program, QRoutine, X, H\n",
    "\n",
    "# Creates a quantum routine consisting of a H gate on the first qubit, and a X gate on the second qubit\n",
    "subprog = QRoutine()\n",
    "subprog.apply(H, 0)\n",
    "subprog.apply(X, 1)\n",
    "\n",
    "# Now, create a program and apply the quantum routine to the qubit register\n",
    "prog = Program()\n",
    "qbits = prog.qalloc(3)\n",
    "prog.apply(subprog, qbits[1:3])\n",
    "\n",
    "circ = prog.to_circ()\n",
    "circ.display()"
   ]
  },
  {
   "cell_type": "markdown",
   "metadata": {},
   "source": [
    "``QRoutine``'s behave similarly to quantum gates. As a consequence, one can compose them:"
   ]
  },
  {
   "cell_type": "code",
   "execution_count": null,
   "metadata": {
    "execution": {
     "iopub.execute_input": "2022-11-05T19:42:29.142176Z",
     "iopub.status.busy": "2022-11-05T19:42:29.141884Z",
     "iopub.status.idle": "2022-11-05T19:42:29.373608Z",
     "shell.execute_reply": "2022-11-05T19:42:29.372802Z"
    }
   },
   "outputs": [],
   "source": [
    "subprog2 = QRoutine()\n",
    "subprog2.apply(X, 0)\n",
    "subprog2.apply(subprog, 0, 1)\n",
    "\n",
    "prog2 = Program()\n",
    "qbits = prog2.qalloc(3)\n",
    "prog2.apply(subprog2, qbits[0:2])\n",
    "\n",
    "circ2 = prog2.to_circ()\n",
    "circ2.display()"
   ]
  },
  {
   "cell_type": "markdown",
   "metadata": {},
   "source": [
    "One can also apply the gate operators (ctrl, conj, dag etc.) to quantum routines, e.g:"
   ]
  },
  {
   "cell_type": "code",
   "execution_count": null,
   "metadata": {
    "execution": {
     "iopub.execute_input": "2022-11-05T19:42:29.376791Z",
     "iopub.status.busy": "2022-11-05T19:42:29.376570Z",
     "iopub.status.idle": "2022-11-05T19:42:29.379833Z",
     "shell.execute_reply": "2022-11-05T19:42:29.379361Z"
    }
   },
   "outputs": [],
   "source": [
    "conjsub = subprog.conj()\n",
    "prog.apply(conjsub, qbits[0:2])"
   ]
  },
  {
   "cell_type": "markdown",
   "metadata": {},
   "source": [
    "## Part IV: Export to AQASM and *.circ files\n",
    "\n",
    "### Atos Quantum Assembly Language (AQASM)\n",
    "\n",
    "The AQASM language is a quantum assembly language. The ``export`` method of the ``Program`` class allows to export a quantum program to the corresponding AQASM file:"
   ]
  },
  {
   "cell_type": "code",
   "execution_count": null,
   "metadata": {
    "execution": {
     "iopub.execute_input": "2022-11-05T19:42:29.382719Z",
     "iopub.status.busy": "2022-11-05T19:42:29.382293Z",
     "iopub.status.idle": "2022-11-05T19:42:29.652203Z",
     "shell.execute_reply": "2022-11-05T19:42:29.651603Z"
    }
   },
   "outputs": [],
   "source": [
    "from qat.lang.AQASM import Program, Y, CNOT\n",
    "\n",
    "prog = Program()\n",
    "qbits = prog.qalloc(2)\n",
    "cbits = prog.calloc(2)\n",
    "prog.apply(Y, qbits[0])\n",
    "prog.apply(CNOT, qbits)\n",
    "prog.measure(qbits, cbits)\n",
    "prog.export(\"test.aqasm\")\n",
    "!cat test.aqasm"
   ]
  },
  {
   "cell_type": "markdown",
   "metadata": {},
   "source": [
    "### *.circ files\n",
    "\n",
    "Quantum circuits can be dumped to a binary file format with extension ``* .circ``. Such a file is suitable for direct simulation using a quantum processor using the QLM's command-line tools.\n"
   ]
  },
  {
   "cell_type": "code",
   "execution_count": null,
   "metadata": {
    "execution": {
     "iopub.execute_input": "2022-11-05T19:42:29.655094Z",
     "iopub.status.busy": "2022-11-05T19:42:29.654825Z",
     "iopub.status.idle": "2022-11-05T19:42:29.911824Z",
     "shell.execute_reply": "2022-11-05T19:42:29.911237Z"
    }
   },
   "outputs": [],
   "source": [
    "circ.dump(\"test.circ\")\n",
    "\n",
    "!ls test.*"
   ]
  },
  {
   "cell_type": "code",
   "execution_count": null,
   "metadata": {},
   "outputs": [],
   "source": []
  }
 ],
 "metadata": {
  "authors": [
   "Simon Martiel"
  ],
  "kernelspec": {
   "display_name": "Python 3 (ipykernel)",
   "language": "python",
   "name": "python3"
  },
  "language_info": {
   "codemirror_mode": {
    "name": "ipython",
    "version": 3
   },
   "file_extension": ".py",
   "mimetype": "text/x-python",
   "name": "python",
   "nbconvert_exporter": "python",
   "pygments_lexer": "ipython3",
   "version": "3.10.4"
  }
 },
 "nbformat": 4,
 "nbformat_minor": 1
}
