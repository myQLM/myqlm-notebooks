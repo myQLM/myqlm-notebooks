{
 "cells": [
  {
   "cell_type": "markdown",
   "metadata": {},
   "source": [
    "# Quantum Types\n",
    "\n",
    "When developing a quantum algorithm, it can be useful to be able to describe a precise data structure built upon a register of qubits.\n",
    "\n",
    "Consider for instance an algorithm that requires manipulation of a lot of qubit registers storing (quantum) integers.\n",
    "In that setting, it can become quite painful to manipulate the registers and other ancillae qubits.\n",
    "\n",
    "Lets consider the following piece of code:"
   ]
  },
  {
   "cell_type": "code",
   "execution_count": null,
   "metadata": {
    "execution": {
     "iopub.execute_input": "2022-11-05T19:42:30.132259Z",
     "iopub.status.busy": "2022-11-05T19:42:30.131983Z",
     "iopub.status.idle": "2022-11-05T19:42:30.633539Z",
     "shell.execute_reply": "2022-11-05T19:42:30.632777Z"
    }
   },
   "outputs": [],
   "source": [
    "from qat.lang.AQASM import QRoutine, CNOT\n",
    "from qat.lang.AQASM.arithmetic import add\n",
    "\n",
    "def compare(bit_length1, bit_length2):\n",
    "    \"\"\" Compares two integers \"\"\"\n",
    "\n",
    "    routine = QRoutine()\n",
    "    reg1 = routine.new_wires(bit_length1)\n",
    "    reg2 = routine.new_wires(bit_length2)\n",
    "    overflow = routine.new_wires(1)\n",
    "    output = routine.new_wires(1)\n",
    "    routine.set_ancillae(overflow)\n",
    "\n",
    "    with routine.compute():\n",
    "        add(bit_length1 + 1, bit_length2).dag()(reg1, overflow, reg2)\n",
    "\n",
    "    CNOT(overflow, output)\n",
    "    routine.uncompute()\n",
    "    \n",
    "    return routine\n",
    "\n",
    "rout = compare(3, 3)\n",
    "rout.display()"
   ]
  },
  {
   "cell_type": "markdown",
   "metadata": {},
   "source": [
    "This routine compares two integers and stores a boolean value in some output qubit (q6 in the picture).\n",
    "\n",
    "This is nice, but the code is quite far from its classical (non-reversible) counterpart:\n",
    "- we had to allocate work memory by hand (`overflow`)\n",
    "- we had to tell pyAQASM to compute something (i.e figure out that a comparison can be done using a substraction and an overflow check)\n",
    "- we had to tell pyAQASM to uncompute what was computed\n",
    "\n",
    "pyAQASM comes with two predefined data types that can help us bring this code closer to what we would love to write:"
   ]
  },
  {
   "cell_type": "code",
   "execution_count": null,
   "metadata": {
    "execution": {
     "iopub.execute_input": "2022-11-05T19:42:30.674552Z",
     "iopub.status.busy": "2022-11-05T19:42:30.673901Z",
     "iopub.status.idle": "2022-11-05T19:42:30.985389Z",
     "shell.execute_reply": "2022-11-05T19:42:30.984780Z"
    }
   },
   "outputs": [],
   "source": [
    "from qat.lang.AQASM import QInt\n",
    "\n",
    "def compare(bit_length1, bit_length2):\n",
    "    \"\"\" Compares two integers \"\"\"\n",
    "\n",
    "    routine = QRoutine()\n",
    "    int1 = routine.new_wires(bit_length1, QInt)\n",
    "    int2 = routine.new_wires(bit_length2, QInt)\n",
    "    output = routine.new_wires(1)\n",
    "    (int1 < int2).evaluate(output=output)\n",
    "    return routine\n",
    "\n",
    "rout = compare(3, 3)\n",
    "rout.display()"
   ]
  },
  {
   "cell_type": "markdown",
   "metadata": {},
   "source": [
    "By simply declaring our registers as QInts, we can compare them using the standard python comparison operator.\n",
    "\n",
    "So, what is really happenning under the hood?\n",
    "\n",
    "The expression:\n",
    "\n",
    "    int1 < int2\n",
    "\n",
    "doesn't do anything per se. It builds an abstract expression waiting to be evaluated.\n",
    "\n",
    "When calling the `evaluate` method, a circuit is generated that will recursively evaluate this expression and output a qubit carrying the evaluation result. Here we pass the `output` qubit as argument to tell the evaluation method to directly store the result in `output`.\n",
    "\n",
    "We will now introduce more deeply the two data types that are present in the QLM.\n",
    "\n",
    "# Quantum booleans: QBool\n",
    "\n",
    "The first data-type and the most simple one is the `QBoolArray` type. It simply says: \"my register is a list of quantum booleans\". As such, they can be manipulated using logical operators (and, or, xor, not). \n",
    "\n",
    "Quantum types are assigned to a register directly at allocation time:\n"
   ]
  },
  {
   "cell_type": "code",
   "execution_count": null,
   "metadata": {
    "execution": {
     "iopub.execute_input": "2022-11-05T19:42:30.988230Z",
     "iopub.status.busy": "2022-11-05T19:42:30.987939Z",
     "iopub.status.idle": "2022-11-05T19:42:30.991400Z",
     "shell.execute_reply": "2022-11-05T19:42:30.990925Z"
    }
   },
   "outputs": [],
   "source": [
    "from qat.lang.AQASM import QBoolArray\n",
    "\n",
    "rout = QRoutine()\n",
    "qbool = rout.new_wires(2, QBoolArray)"
   ]
  },
  {
   "cell_type": "markdown",
   "metadata": {},
   "source": [
    "If our qubits are constructed as `QBools`, we can construct boolean expressions using the standard python operators:"
   ]
  },
  {
   "cell_type": "code",
   "execution_count": null,
   "metadata": {
    "execution": {
     "iopub.execute_input": "2022-11-05T19:42:30.993925Z",
     "iopub.status.busy": "2022-11-05T19:42:30.993525Z",
     "iopub.status.idle": "2022-11-05T19:42:30.997645Z",
     "shell.execute_reply": "2022-11-05T19:42:30.997161Z"
    }
   },
   "outputs": [],
   "source": [
    "and_clause = qbool[0] & qbool[1]\n",
    "print(and_clause)\n",
    "\n",
    "or_clause = qbool[0] | qbool[1]\n",
    "print(or_clause)\n",
    "\n",
    "xor_clause = qbool[0] ^ qbool[1]\n",
    "print(xor_clause)\n",
    "\n",
    "not_clause = ~ qbool[0]\n",
    "print(not_clause)"
   ]
  },
  {
   "cell_type": "markdown",
   "metadata": {},
   "source": [
    "There are several ways to make use of these clauses.\n",
    "\n",
    "1) First, by evaluating the clause and storing the evaluation inside either an ancilla or a pre-allocated output."
   ]
  },
  {
   "cell_type": "code",
   "execution_count": null,
   "metadata": {
    "execution": {
     "iopub.execute_input": "2022-11-05T19:42:31.000084Z",
     "iopub.status.busy": "2022-11-05T19:42:30.999847Z",
     "iopub.status.idle": "2022-11-05T19:42:31.496895Z",
     "shell.execute_reply": "2022-11-05T19:42:31.496304Z"
    }
   },
   "outputs": [],
   "source": [
    "rout = QRoutine()\n",
    "qbool = rout.new_wires(2, QBoolArray)\n",
    "anc = (qbool[0] & qbool[1]).evaluate()\n",
    "rout.display()\n",
    "\n",
    "rout = QRoutine()\n",
    "qbool = rout.new_wires(2, QBoolArray)\n",
    "result = rout.new_wires(1)\n",
    "(qbool[0] & qbool[1]).evaluate(output=result)\n",
    "rout.display()"
   ]
  },
  {
   "cell_type": "markdown",
   "metadata": {},
   "source": [
    "2) Second, by directly performing a phase oracle using the formula. This is useful when writing Grover oracles, for instance."
   ]
  },
  {
   "cell_type": "code",
   "execution_count": null,
   "metadata": {
    "execution": {
     "iopub.execute_input": "2022-11-05T19:42:31.500040Z",
     "iopub.status.busy": "2022-11-05T19:42:31.499765Z",
     "iopub.status.idle": "2022-11-05T19:42:32.549146Z",
     "shell.execute_reply": "2022-11-05T19:42:32.548517Z"
    }
   },
   "outputs": [],
   "source": [
    "rout = QRoutine()\n",
    "qbool = rout.new_wires(2, QBoolArray)\n",
    "\n",
    "(qbool[0] & qbool[1]).phase()\n",
    "rout.display()\n",
    "\n",
    "(qbool[0] | qbool[1]).phase()\n",
    "rout.display()\n",
    "\n",
    "(qbool[0] ^ qbool[1]).phase()\n",
    "rout.display()\n",
    "\n",
    "(~qbool[0]).phase()\n",
    "rout.display()"
   ]
  },
  {
   "cell_type": "markdown",
   "metadata": {},
   "source": [
    "3) Finally, one can evaluate the formula inside a context and let pyAQASM perform the uncomputations via a `with` statement.\n",
    "Notice that this is not necessarily the most efficient way of manipulating formulae. It usually comes with a gate and qubits overhead."
   ]
  },
  {
   "cell_type": "code",
   "execution_count": null,
   "metadata": {
    "execution": {
     "iopub.execute_input": "2022-11-05T19:42:32.552316Z",
     "iopub.status.busy": "2022-11-05T19:42:32.552029Z",
     "iopub.status.idle": "2022-11-05T19:42:32.816714Z",
     "shell.execute_reply": "2022-11-05T19:42:32.816102Z"
    }
   },
   "outputs": [],
   "source": [
    "from qat.lang.AQASM import Z\n",
    "\n",
    "rout = QRoutine()\n",
    "qbool = rout.new_wires(2, QBoolArray)\n",
    "\n",
    "with qbool[0] & qbool[1] as condition:\n",
    "    # Here, condition is a qubit carrying the expected logical value\n",
    "    Z(condition)\n",
    "\n",
    "rout.display()"
   ]
  },
  {
   "cell_type": "markdown",
   "metadata": {},
   "source": [
    "## Quantum Integers: QInt\n",
    "\n",
    "The second quantum type that is provided in `qat.lang.AQASM` is the `QInt` class.\n",
    "Registers allocated with this type have overloaded +, -, and * operations that allow to construct arithmetic expressions:"
   ]
  },
  {
   "cell_type": "code",
   "execution_count": null,
   "metadata": {
    "execution": {
     "iopub.execute_input": "2022-11-05T19:42:32.819719Z",
     "iopub.status.busy": "2022-11-05T19:42:32.819441Z",
     "iopub.status.idle": "2022-11-05T19:42:32.824013Z",
     "shell.execute_reply": "2022-11-05T19:42:32.823506Z"
    }
   },
   "outputs": [],
   "source": [
    "from qat.lang.AQASM import QRoutine, QInt, CNOT\n",
    "\n",
    "rout = QRoutine()\n",
    "qint1 = rout.new_wires(10, QInt)\n",
    "qint2 = rout.new_wires(10, QInt)\n",
    "\n",
    "print(qint1 + qint2)\n",
    "print(qint1 - qint2)\n",
    "print(qint1 * qint2)"
   ]
  },
  {
   "cell_type": "markdown",
   "metadata": {},
   "source": [
    "These expressions don't trigger any proper quantum circuit generation.\n",
    "The only way to trigger a circuit construction is to affect an expression to a `QInt` via either `+=`or `-=`:"
   ]
  },
  {
   "cell_type": "code",
   "execution_count": null,
   "metadata": {
    "execution": {
     "iopub.execute_input": "2022-11-05T19:42:32.826431Z",
     "iopub.status.busy": "2022-11-05T19:42:32.826182Z",
     "iopub.status.idle": "2022-11-05T19:42:34.117425Z",
     "shell.execute_reply": "2022-11-05T19:42:34.116751Z"
    }
   },
   "outputs": [],
   "source": [
    "rout = QRoutine()\n",
    "qint1 = rout.new_wires(4, QInt)\n",
    "qint2 = rout.new_wires(4, QInt)\n",
    "\n",
    "qint1 += qint2\n",
    "rout.display()\n",
    "\n",
    "qint1 += 5\n",
    "rout.display()\n",
    "\n",
    "qint1 -= qint2\n",
    "rout.display()\n",
    "\n",
    "qint3 = rout.new_wires(4, QInt)\n",
    "qint3 += qint1 * qint2 + 6 + qint2\n",
    "rout.display()"
   ]
  },
  {
   "cell_type": "markdown",
   "metadata": {},
   "source": [
    "Quantum integers can also be compared:"
   ]
  },
  {
   "cell_type": "code",
   "execution_count": null,
   "metadata": {
    "execution": {
     "iopub.execute_input": "2022-11-05T19:42:34.120800Z",
     "iopub.status.busy": "2022-11-05T19:42:34.120502Z",
     "iopub.status.idle": "2022-11-05T19:42:34.125374Z",
     "shell.execute_reply": "2022-11-05T19:42:34.124841Z"
    }
   },
   "outputs": [],
   "source": [
    "rout = QRoutine()\n",
    "qint1 = rout.new_wires(4, QInt)\n",
    "qint2 = rout.new_wires(4, QInt)\n",
    "\n",
    "print(qint1 < qint2)\n",
    "print(qint1 <= qint2)\n",
    "print(qint1 > qint2)\n",
    "print(qint1 >= qint2)\n",
    "print(qint1 == qint2)\n",
    "print(qint1 != qint2)\n",
    "print(qint1 == 8)"
   ]
  },
  {
   "cell_type": "markdown",
   "metadata": {},
   "source": [
    "These comparisons only produce objects called QClauses that are more or less equivalent to QBools:"
   ]
  },
  {
   "cell_type": "code",
   "execution_count": null,
   "metadata": {
    "execution": {
     "iopub.execute_input": "2022-11-05T19:42:34.128285Z",
     "iopub.status.busy": "2022-11-05T19:42:34.127882Z",
     "iopub.status.idle": "2022-11-05T19:42:35.465291Z",
     "shell.execute_reply": "2022-11-05T19:42:35.464668Z"
    }
   },
   "outputs": [],
   "source": [
    "rout = QRoutine()\n",
    "qint1 = rout.new_wires(4, QInt)\n",
    "qint2 = rout.new_wires(4, QInt)\n",
    "\n",
    "# One can evaluate them\n",
    "output = (qint1 < qint2).evaluate()\n",
    "rout.display()\n",
    "\n",
    "# Flip a phase depending on their evaluation:\n",
    "(qint1 < qint2).phase()\n",
    "rout.display()\n",
    "\n",
    "# Or use them in a context:\n",
    "with qint1 < qint2 as condition:\n",
    "    CNOT(condition, output)\n",
    "\n",
    "rout.display()"
   ]
  },
  {
   "cell_type": "markdown",
   "metadata": {},
   "source": [
    "## A tiny example: writing a Grover for SAT in a few lines\n",
    "\n",
    "Thanks to this feature, it becomes really easy to build a Grover's oracle for, say, SAT.\n",
    "Let's assume that we are given a formula in CNF as a list of lists of signed variable indexes (a usual input format for SAT solver).\n",
    "\n",
    "Our oracle can be generated by the following method:"
   ]
  },
  {
   "cell_type": "code",
   "execution_count": null,
   "metadata": {
    "execution": {
     "iopub.execute_input": "2022-11-05T19:42:35.468521Z",
     "iopub.status.busy": "2022-11-05T19:42:35.468095Z",
     "iopub.status.idle": "2022-11-05T19:42:37.026530Z",
     "shell.execute_reply": "2022-11-05T19:42:37.025916Z"
    }
   },
   "outputs": [],
   "source": [
    "from functools import reduce\n",
    "\n",
    "def sat_oracle(nbvars, formula):\n",
    "    routine = QRoutine()\n",
    "    qvars = routine.new_wires(nbvars, QBoolArray)\n",
    "\n",
    "    # And-reduction of all clauses\n",
    "    reduce(\n",
    "        lambda a, b: a & b, \n",
    "        # Or-reduction of each clause\n",
    "        (reduce(\n",
    "            lambda i, j: i | j, \n",
    "            (qvars[i - 1] if i >= 1 else ~qvars[- i - 1] for i in clause)\n",
    "        ) for clause in formula)\n",
    "    ).phase()\n",
    "\n",
    "    return routine\n",
    "\n",
    "formula = [\n",
    "    (1, 2, -3), (-1, 2, 3), (-1, -4)\n",
    "]\n",
    "oracle = sat_oracle(4, formula)\n",
    "oracle.display()"
   ]
  },
  {
   "cell_type": "markdown",
   "metadata": {},
   "source": [
    "\n",
    "## Quantum Integers: Let's spice things up!\n",
    "\n",
    "Imagine we need to write some oracle/piece of circuit that has to deal with quantum integers.\n",
    "In this setting, the previously introduced `QInt` can help reduce the code complexity by a lot.\n",
    "\n",
    "Consider for instance the oracle for graph coloring introduced in the [needle versus haystack](./needle_vs_haystack.ipynb) notebook.\n",
    "\n",
    "We can rewrite this oracle in a few lines like so:"
   ]
  },
  {
   "cell_type": "code",
   "execution_count": null,
   "metadata": {
    "execution": {
     "iopub.execute_input": "2022-11-05T19:42:37.029375Z",
     "iopub.status.busy": "2022-11-05T19:42:37.029088Z",
     "iopub.status.idle": "2022-11-05T19:42:37.133424Z",
     "shell.execute_reply": "2022-11-05T19:42:37.132806Z"
    }
   },
   "outputs": [],
   "source": [
    "def graph_coloring_oracle(graph, bit_length):\n",
    "    routine = QRoutine()\n",
    "    colors = [routine.new_wires(bit_length, QInt) for _ in graph.nodes()]\n",
    "    reduce(\n",
    "        lambda a, b: a & b,\n",
    "        (colors[a] != colors[b] for a, b in graph.edges())\n",
    "    ).phase()\n",
    "    return routine\n",
    "\n",
    "import networkx as nx\n",
    "\n",
    "graph = nx.generators.erdos_renyi_graph(27, 0.5, seed=12334)\n",
    "oracle = graph_coloring_oracle(graph, 2) # 2 => 4 coloring\n",
    "\n",
    "# This circuit might be a bit large to display.\n",
    "print(\"We use:\", oracle.arity, \"inputs and\", len(oracle.ancillae), \"ancillae\")"
   ]
  },
  {
   "cell_type": "markdown",
   "metadata": {},
   "source": [
    "## Casting boolean to integers\n",
    "\n",
    "The previous code uses quite a large number of ancillae (one per edge). One might want to be less greedy and use the counter method also presented in the [needle versus haystack](./needle_vs_haystack.ipynb) notebook.\n",
    "\n",
    "This can also be done quite efficiently:"
   ]
  },
  {
   "cell_type": "code",
   "execution_count": null,
   "metadata": {
    "execution": {
     "iopub.execute_input": "2022-11-05T19:42:37.136432Z",
     "iopub.status.busy": "2022-11-05T19:42:37.136138Z",
     "iopub.status.idle": "2022-11-05T19:42:37.254291Z",
     "shell.execute_reply": "2022-11-05T19:42:37.253704Z"
    }
   },
   "outputs": [],
   "source": [
    "def graph_coloring_oracle_counter(graph, bit_length):\n",
    "    routine = QRoutine()\n",
    "    colors = [routine.new_wires(bit_length, QInt) for _ in graph.nodes()]\n",
    "    counter = routine.get_free_ancillae(graph.number_of_edges().bit_length(), QInt)\n",
    "\n",
    "    with routine.compute():\n",
    "        for a, b in graph.edges():\n",
    "            with colors[a] != colors[b] as condition:\n",
    "                counter += condition.cast_to(QInt)\n",
    "\n",
    "    (counter == graph.number_of_edges()).phase()\n",
    "    routine.uncompute()\n",
    "\n",
    "    return routine\n",
    "\n",
    "oracle_counter = graph_coloring_oracle_counter(graph, 2) # 2 => 4 coloring\n",
    "# This circuit might be a bit large to be displayed.\n",
    "print(\"We use:\", oracle_counter.arity, \"inputs and\", len(oracle_counter.ancillae), \"ancillae\")\n",
    "print(\"The previous oracle used:\", oracle.arity, \"inputs and\", len(oracle.ancillae), \"ancillae\")"
   ]
  },
  {
   "cell_type": "code",
   "execution_count": null,
   "metadata": {},
   "outputs": [],
   "source": []
  }
 ],
 "metadata": {
  "kernelspec": {
   "display_name": "Python 3 (ipykernel)",
   "language": "python",
   "name": "python3"
  },
  "language_info": {
   "codemirror_mode": {
    "name": "ipython",
    "version": 3
   },
   "file_extension": ".py",
   "mimetype": "text/x-python",
   "name": "python",
   "nbconvert_exporter": "python",
   "pygments_lexer": "ipython3",
   "version": "3.10.4"
  }
 },
 "nbformat": 4,
 "nbformat_minor": 4
}
