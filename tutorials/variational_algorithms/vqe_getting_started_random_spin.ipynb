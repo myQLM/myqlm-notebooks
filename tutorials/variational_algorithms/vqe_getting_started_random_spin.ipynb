{
 "cells": [
  {
   "cell_type": "markdown",
   "metadata": {},
   "source": [
    "# A simple VQE example\n",
    "\n",
    "Here, we generate a random Hamiltonian and use a simple ansatz to approximate its ground state energy by the Variational Quantum Eigensolver (VQE) method.\n",
    "\n",
    "## Defining the Hamiltonian\n",
    "\n",
    "Here, we define a random Hamiltonian with 5 terms acting on 3 qubits:"
   ]
  },
  {
   "cell_type": "code",
   "execution_count": null,
   "metadata": {
    "execution": {
     "iopub.execute_input": "2022-11-05T19:42:45.944820Z",
     "iopub.status.busy": "2022-11-05T19:42:45.944517Z",
     "iopub.status.idle": "2022-11-05T19:42:46.058188Z",
     "shell.execute_reply": "2022-11-05T19:42:46.057659Z"
    }
   },
   "outputs": [],
   "source": [
    "import numpy as np\n",
    "from qat.core import Observable, Term\n",
    "\n",
    "nqbits = 3\n",
    "\n",
    "np.random.seed(1423543) #fixing seed to have reproducible results\n",
    "terms = []\n",
    "for _ in range(5):\n",
    "    coeff = np.random.random()\n",
    "    ops = \"\".join(np.random.choice([\"X\", \"Z\"], size=nqbits))\n",
    "    qbits = np.random.choice(nqbits, size=nqbits, replace=False)\n",
    "    terms.append(Term(coefficient=coeff, pauli_op=ops, qbits=qbits))\n",
    "hamiltonian = Observable(nqbits, pauli_terms=terms, constant_coeff=0.0)\n",
    "\n",
    "print(\"H:\", hamiltonian)"
   ]
  },
  {
   "cell_type": "markdown",
   "metadata": {},
   "source": [
    "## Constructing a variational circuit\n",
    "\n",
    "In the cell below, we construct a variational circuit, with $2 n_\\mathrm{qbits}$ parameters $\\vec{\\theta}$. We choose only $R_y(\\theta)$ rotations because we know the ground state to be have only real amplitudes."
   ]
  },
  {
   "cell_type": "code",
   "execution_count": null,
   "metadata": {
    "execution": {
     "iopub.execute_input": "2022-11-05T19:42:46.097116Z",
     "iopub.status.busy": "2022-11-05T19:42:46.096780Z",
     "iopub.status.idle": "2022-11-05T19:42:46.463384Z",
     "shell.execute_reply": "2022-11-05T19:42:46.462767Z"
    }
   },
   "outputs": [],
   "source": [
    "from qat.lang.AQASM import Program, QRoutine, RY, CNOT, RX, Z, H, RZ\n",
    "prog = Program()\n",
    "reg = prog.qalloc(nqbits)\n",
    "theta = [prog.new_var(float, '\\\\theta_%s'%i)\n",
    "         for i in range(nqbits * 2)]\n",
    "for ind in range(nqbits):\n",
    "    RY(theta[ind])(reg[ind])\n",
    "for qb in range(nqbits-1):\n",
    "    CNOT(reg[qb], reg[(qb+1)%nqbits])\n",
    "for ind in range(nqbits, 2*nqbits):\n",
    "    RY(theta[ind])(reg[ind - nqbits])\n",
    "for qb in range(nqbits-1):\n",
    "    CNOT(reg[qb], reg[(qb+1)%nqbits])\n",
    "circ = prog.to_circ()\n",
    "circ.display()"
   ]
  },
  {
   "cell_type": "markdown",
   "metadata": {},
   "source": [
    "This ansatz circuit produces an entangled state thanks to the CNOT gates.\n",
    "\n",
    "## Creating a variational job and a variational stack\n",
    "\n",
    "We now create a variational job from this circuit and observable.\n",
    "It is then submitted to a variational stack composed of a perfect QPU, ``LinAlg``, and a variational plugin, ``ScipyMinimizePlugin``. The latter handles parametric jobs. These are jobs whose circuit contains a parameter that is then going to be optimized, using classical optimizers, so as to minimize the value of the observable over the final state.\n",
    "\n",
    "Below, we are going to test three different classical optimizers: COBYLA, Nelder-Mead, and BFGS."
   ]
  },
  {
   "cell_type": "code",
   "execution_count": null,
   "metadata": {
    "execution": {
     "iopub.execute_input": "2022-11-05T19:42:46.466466Z",
     "iopub.status.busy": "2022-11-05T19:42:46.465996Z",
     "iopub.status.idle": "2022-11-05T19:42:48.844242Z",
     "shell.execute_reply": "2022-11-05T19:42:48.843535Z"
    }
   },
   "outputs": [],
   "source": [
    "from qat.qpus import get_default_qpu\n",
    "from qat.plugins import ScipyMinimizePlugin\n",
    "\n",
    "job = circ.to_job(job_type=\"OBS\",\n",
    "                  observable=hamiltonian,\n",
    "                  nbshots=0)\n",
    "\n",
    "theta_0 = np.random.random(size=nqbits*2)\n",
    "\n",
    "linalg_qpu = get_default_qpu()\n",
    "methods = [\"COBYLA\", \"Nelder-Mead\", \"BFGS\"]\n",
    "result = {}\n",
    "for method in methods:\n",
    "    optimizer_scipy = ScipyMinimizePlugin(method=method,\n",
    "                                          tol=1e-6,\n",
    "                                          options={\"maxiter\": 200},\n",
    "                                          x0=theta_0)\n",
    "    qpu = optimizer_scipy | linalg_qpu\n",
    "    result[method] = qpu.submit(job)\n",
    "\n",
    "    print(\"Minimum VQE energy (%s) = %s\"%(method, result[method].value))"
   ]
  },
  {
   "cell_type": "markdown",
   "metadata": {},
   "source": [
    "One can check that the final optimized energy is very close to the exact GS energy.\n",
    "\n",
    "## Plotting the results\n",
    "\n",
    "Let us now plot the value of the variational energy over the course of the classical optimization. For this, we can retrieve information about the variational job execution in the ``meta_data`` field of the result."
   ]
  },
  {
   "cell_type": "code",
   "execution_count": null,
   "metadata": {
    "execution": {
     "iopub.execute_input": "2022-11-05T19:42:48.847384Z",
     "iopub.status.busy": "2022-11-05T19:42:48.847066Z",
     "iopub.status.idle": "2022-11-05T19:42:49.374187Z",
     "shell.execute_reply": "2022-11-05T19:42:49.373674Z"
    }
   },
   "outputs": [],
   "source": [
    "%matplotlib inline\n",
    "import matplotlib.pyplot as plt\n",
    "for method in methods:\n",
    "    plt.plot(eval(result[method].meta_data['optimization_trace']),\n",
    "             label=method)\n",
    "plt.grid()\n",
    "plt.legend(loc=\"best\")\n",
    "plt.xlabel(\"Steps\")\n",
    "plt.ylabel(\"Energy\");"
   ]
  },
  {
   "cell_type": "markdown",
   "metadata": {},
   "source": [
    "We can see that COBYLA converges faster than the other two methods."
   ]
  }
 ],
 "metadata": {
  "kernelspec": {
   "display_name": "Python 3 (ipykernel)",
   "language": "python",
   "name": "python3"
  },
  "language_info": {
   "codemirror_mode": {
    "name": "ipython",
    "version": 3
   },
   "file_extension": ".py",
   "mimetype": "text/x-python",
   "name": "python",
   "nbconvert_exporter": "python",
   "pygments_lexer": "ipython3",
   "version": "3.10.4"
  },
  "tags": [
   "variational"
  ]
 },
 "nbformat": 4,
 "nbformat_minor": 4
}
