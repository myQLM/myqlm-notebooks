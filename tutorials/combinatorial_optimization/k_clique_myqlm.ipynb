{
 "cells": [
  {
   "cell_type": "markdown",
   "metadata": {},
   "source": [
    "# K-Clique\n",
    "\n",
    "### Definition\n",
    "\n",
    "We are given an undirected graph with vertex set $V$ and edge set $E$.\n",
    "\n",
    "Our aim is to find out whether there exists a complete subgraph of size $K$ in this graph. \n",
    "\n",
    "### Applications\n",
    "\n",
    "The Clique problem is important in areas like Bioinformatics, Computational Chemistry, Motion Segmentation and for finding structures in a graph. For example, anomalously large cliques in a network may be a sign that the underlying node connectivity is not random.\n",
    "\n",
    "### Path to solving the problem\n",
    "K-Clique can be formulated as a maximization problem and its cost function can be cast to a QUBO problem through its respective Hamiltonian (see the [Introduction](./introduction_combinatorial_optimization_myqlm.ipynb) and a [reference](https://arxiv.org/abs/1302.5843)),\n",
    "\n",
    "$$ \\displaystyle \\large\n",
    "H = A \\displaystyle \\left( K - \\textstyle\\sum\\limits_{v} x_v \\right) ^2 + B \\left[ \\frac{K(K-1)}{2} - \\textstyle\\sum\\limits_{uv \\in E}  x_u x_v \\right]\n",
    "$$\n",
    "\n",
    "where $A$ and $B$ are positive constants, $v, u \\in V$ and $x_v$ is a binary variable, which is $1$ if vertex $v$ is part of the clique and $0$ if it is not. For a valid encoding, the constants $A$ and $B$ need to obey the relation $$A > B * K$$\n",
    "\n",
    "Otherwise, if the rule is not followed, the spin configuration for the lowest energy $H$ may not correspond to the best solution of our K-Clique problem or even to a valid one. At the same time, it should not be overspecified, i.e. the left side being much bigger than the right side. If  $A$ is much larger, this would cause a large energy separation in $H$, impeding our solution approach.\n",
    "\n",
    "The myQLM allows us to encode a problem in this Hamiltonian form by using the `KClique` class for a given graph, clique size $K$ and constants $A$ and $B$. We can then create a job from the problem and send it to a Simulated Annealer (SA) wrapped with a Quantum Processing Unit (QPU) interface. The SA will minimize the Hamiltonian, hence we find the solution to our problem.\n",
    "\n",
    "In fact, the QLM contains an even more powerful solver $-$ Simulated Quantum Annealing (SQA). This quantum annealer has been tested on numerous benchmarks for the NP problems supported and produces results with a quality usually exceeding $98\\%$. More details can be found in the [documentation](https://myqlm.github.io/advanced_combinatorial_optimization.html#simulated-quantum-annealing-benchmarking-and-performance).\n",
    "\n",
    "### Quantum resources\n",
    "\n",
    "To represent the problem as QUBO the QLM would need $N$ spins $-$ one for each of the $N$ vertices. "
   ]
  },
  {
   "cell_type": "markdown",
   "metadata": {},
   "source": [
    "# Example problem\n",
    "\n",
    "Imagine we are given a graph with $6$ vertices and $7$ edges, as shown below (left) and we want to find a complete subgraph of size $K = 3$. For this problem, the solution is straightforward $-$ one can notice that nodes $0$, $1$ and either $2$ or $5$ constitute such a complete graph (right).\n",
    "\n",
    "<br><img src=\"./k_clique_example_solution.png\" style=\"width: 850px\"><br>\n",
    "\n",
    "However, let us describe a procedure, which will allow us to find if there are complete subgraphs of any size in whatever graph!\n",
    "\n",
    "We will start by specifying a graph with the `networkx` library, which should give us a huge scope for graph exploration.  One can also choose the size $K$ of the desired subgraph and the constants $A$ and $B$ accordingly."
   ]
  },
  {
   "cell_type": "code",
   "execution_count": null,
   "metadata": {
    "execution": {
     "iopub.execute_input": "2022-11-05T19:41:55.728905Z",
     "iopub.status.busy": "2022-11-05T19:41:55.728436Z",
     "iopub.status.idle": "2022-11-05T19:41:56.385939Z",
     "shell.execute_reply": "2022-11-05T19:41:56.385408Z"
    }
   },
   "outputs": [],
   "source": [
    "import networkx as nx\n",
    "import numpy as np\n",
    "import matplotlib.pyplot as plt\n",
    "\n",
    "# Specify the graph \n",
    "# First example\n",
    "graph = nx.Graph()\n",
    "graph.add_nodes_from(np.arange(5))\n",
    "graph.add_edges_from([(0, 1), (0, 2), (0, 3), (0, 4),\n",
    "                      (0, 5), (1, 2), (1, 5)])\n",
    "\n",
    "# # Second example - one may try with K = 6\n",
    "# graph = nx.gnm_random_graph(15, 65)\n",
    "\n",
    "# Specify the size of the desired subgraph\n",
    "K = 3\n",
    "\n",
    "# Impose constraints for the right encoding\n",
    "B = 1\n",
    "A = B * K + 1\n",
    "\n",
    "# Draw the graph\n",
    "nodes_positions = nx.spring_layout(graph, iterations=len(graph.nodes())*60)\n",
    "plt.figure(figsize=(10, 6))\n",
    "nx.draw_networkx(graph, \n",
    "                 pos=nodes_positions, \n",
    "                 node_color='#4EEA6A', \n",
    "                 node_size=440, \n",
    "                 font_size=14)\n",
    "plt.show()"
   ]
  },
  {
   "cell_type": "markdown",
   "metadata": {},
   "source": [
    "To encode the problem as QUBO, we will call the `KClique` class."
   ]
  },
  {
   "cell_type": "code",
   "execution_count": null,
   "metadata": {
    "execution": {
     "iopub.execute_input": "2022-11-05T19:41:56.425882Z",
     "iopub.status.busy": "2022-11-05T19:41:56.425363Z",
     "iopub.status.idle": "2022-11-05T19:41:56.535460Z",
     "shell.execute_reply": "2022-11-05T19:41:56.534870Z"
    }
   },
   "outputs": [],
   "source": [
    "from qat.opt import KClique\n",
    "\n",
    "kclique_problem = KClique(graph, K, A, B)"
   ]
  },
  {
   "cell_type": "markdown",
   "metadata": {},
   "source": [
    "# Solution"
   ]
  },
  {
   "cell_type": "markdown",
   "metadata": {},
   "source": [
    "### Resolution of the problem using a BatchGenerator\n",
    "\n",
    "A high level solver of the KClique problem is available in the QLM under the form of a BatchGenerator called `KCliqueGenerator`.\n",
    "It is designed as simple interface to solve the problem on an input graph, while hiding the complexities of the underlying\n",
    "algorithms.\n",
    "\n",
    "The different resolution methods that can be selected are \"qaoa\" (for QAOA Circuit Generation), \"annealing\" (for\n",
    "Simulated Quantum Annealing), and \"schedule\" (for Analog Quantum Scheduler Generation). A user-interpretable result is\n",
    "returned from the job execution, where the two resulting partitions of the nodes and the number of edges cut can be retrieved\n",
    "from the subsets and cost attribute respectively. A display method is also provided by the result object to visualize the\n",
    "partitioning of the graph.\n",
    "\n",
    "An example of using the batch generator to generate a quantum annealing job and executing it with SimulatedAnnealing is provided below."
   ]
  },
  {
   "cell_type": "code",
   "execution_count": null,
   "metadata": {
    "execution": {
     "iopub.execute_input": "2022-11-05T19:41:56.539075Z",
     "iopub.status.busy": "2022-11-05T19:41:56.538677Z",
     "iopub.status.idle": "2022-11-05T19:41:56.925833Z",
     "shell.execute_reply": "2022-11-05T19:41:56.925313Z"
    }
   },
   "outputs": [],
   "source": [
    "from qat.generators import KCliqueGenerator\n",
    "from qat.qpus import SimulatedAnnealing\n",
    "from qat.core import Variable\n",
    "\n",
    "# 1. Extract parameters for SA\n",
    "problem_parameters_dict = kclique_problem.get_best_parameters()\n",
    "n_steps = problem_parameters_dict[\"n_steps\"]\n",
    "temp_max = problem_parameters_dict[\"temp_max\"]\n",
    "temp_min = problem_parameters_dict[\"temp_min\"]\n",
    "\n",
    "# 2. Create a temperature schedule and a QPU\n",
    "tmax = 1.0\n",
    "t = Variable(\"t\", float)\n",
    "temp_t = temp_min * (t / tmax) + temp_max * (1 - t / tmax)\n",
    "\n",
    "kclique_application = KCliqueGenerator(job_type=\"annealing\") | SimulatedAnnealing(temp_t=temp_t, n_steps=n_steps)\n",
    "combinatorial_result = kclique_application.execute(graph, K, A, B)\n",
    "\n",
    "print(\"The nodes of the complete subgraph are\", combinatorial_result.clique)\n",
    "\n",
    "combinatorial_result.display(with_figure=True, figsize=(10, 6), node_size=440, font_size=14, pos=nodes_positions)"
   ]
  },
  {
   "cell_type": "markdown",
   "metadata": {},
   "source": [
    "### Simulated Quantum Annealing\n",
    "\n",
    "If we want to solve the problem with SQA straight, we can still do so via the following steps:\n",
    "\n",
    "1. Extract some fine-tuned parameters for K-Clique (found for SQA) which are needed for the temperature schedule.\n",
    "\n",
    "\n",
    "2. Create the temperature schedule using the `t` time variable (instance of the class `Variable`) and thus the `SimulatedAnnealing` QPU.\n",
    "\n",
    "\n",
    "3. Create a job from the problem by calling the `to_job()` method and send it to the QPU.\n",
    "\n",
    "\n",
    "4. Extract the `Result` and present the solution spin configuration and a list of the respective coloured vertices.\n",
    "\n",
    "\n",
    "5. Show the graph with the nodes of the complete subgraph coloured.\n",
    "\n",
    "Each spin from the solution configuration corresponds to a node from the graph at the same position. Note that if the numbering of the input nodes starts from $1$ and not from $0$, one still needs to look at the $0$th spin to extract information for this first node, numbered as $1$.\n",
    "\n",
    "When a spin has the value of $1$, this means that the respective node should be coloured and is part of the complete subgraph."
   ]
  },
  {
   "cell_type": "code",
   "execution_count": null,
   "metadata": {
    "execution": {
     "iopub.execute_input": "2022-11-05T19:41:56.928733Z",
     "iopub.status.busy": "2022-11-05T19:41:56.928464Z",
     "iopub.status.idle": "2022-11-05T19:41:57.273000Z",
     "shell.execute_reply": "2022-11-05T19:41:57.272357Z"
    }
   },
   "outputs": [],
   "source": [
    "from qat.qpus import SimulatedAnnealing\n",
    "from qat.simulated_annealing import integer_to_spins\n",
    "from qat.core import Variable\n",
    "\n",
    "# 1. Extract parameters for SA\n",
    "problem_parameters_dict = kclique_problem.get_best_parameters()\n",
    "n_steps = problem_parameters_dict[\"n_steps\"]\n",
    "temp_max = problem_parameters_dict[\"temp_max\"]\n",
    "temp_min = problem_parameters_dict[\"temp_min\"]\n",
    "\n",
    "# 2. Create a temperature schedule and a QPU\n",
    "tmax = 1.0\n",
    "t = Variable(\"t\", float)\n",
    "temp_t = temp_min * (t / tmax) + temp_max * (1 - t / tmax)\n",
    "sa_qpu = SimulatedAnnealing(temp_t=temp_t, n_steps=n_steps)\n",
    "\n",
    "# 3. Create a job and send it to the QPU\n",
    "problem_job = kclique_problem.to_job(tmax=tmax)\n",
    "problem_result = sa_qpu.submit(problem_job)\n",
    "\n",
    "# 4. Extract and print the solution configuration\n",
    "state = problem_result.raw_data[0].state.int  # raw_data is a list of Samples - one per computation\n",
    "solution_configuration = integer_to_spins(state, len(graph.nodes()))\n",
    "print(\"Solution configuration: \\n\" + str(solution_configuration) + \"\\n\")\n",
    "indices_spin_1 = np.where(solution_configuration == 1)[0]\n",
    "print(\"The nodes of the complete subgraph are:\\n\" + str(indices_spin_1) + \"\\n\")\n",
    "\n",
    "# 5. Show the coloured subgraph\n",
    "plt.figure(figsize=(10, 6))\n",
    "node_size = 440\n",
    "font_size = 14\n",
    "nx.draw_networkx(graph, \n",
    "                 pos=nodes_positions, \n",
    "                 nodelist=indices_spin_1.tolist(), \n",
    "                 node_color='#FFE033', \n",
    "                 node_size=node_size, \n",
    "                 font_size=font_size)\n",
    "\n",
    "indices_spin_minus_1 = np.where(solution_configuration == -1)[0]\n",
    "nx.draw_networkx(graph, \n",
    "                 pos=nodes_positions, \n",
    "                 nodelist=indices_spin_minus_1.tolist(), \n",
    "                 node_color='#4EEA6A', \n",
    "                 node_size=node_size, \n",
    "                 font_size=font_size)\n",
    "\n",
    "nx.draw_networkx_edges(graph, pos=nodes_positions)\n",
    "plt.show()"
   ]
  },
  {
   "cell_type": "markdown",
   "metadata": {},
   "source": [
    "# Solution analysis\n",
    "\n",
    "For graphs which are quite big, visual examination may be problematic. We can therefore perform a few simple checks so assess the solution. Namely, whether the subgraph found is indeed complete and indeed has $K$ nodes.\n",
    "\n",
    "It may happen that the solver finds a complete graph with a smaller size than expected. One may then increase $K$ to obtain a complete graph with the desired initial size."
   ]
  },
  {
   "cell_type": "code",
   "execution_count": null,
   "metadata": {
    "execution": {
     "iopub.execute_input": "2022-11-05T19:41:57.276163Z",
     "iopub.status.busy": "2022-11-05T19:41:57.275880Z",
     "iopub.status.idle": "2022-11-05T19:41:57.281629Z",
     "shell.execute_reply": "2022-11-05T19:41:57.281053Z"
    }
   },
   "outputs": [],
   "source": [
    "number_of_subgraph_nodes = len (indices_spin_1)\n",
    "print(\"Size of the subgraph:\\n\" + str(number_of_subgraph_nodes))\n",
    "\n",
    "from itertools import combinations\n",
    "missing_edges_list = []\n",
    "for node_1, node_2 in combinations(indices_spin_1, 2):\n",
    "    if (node_1, node_2) not in graph.edges() and (node_2, node_1) not in graph.edges() :\n",
    "        missing_edges_list.append((node_1, node_2))\n",
    "\n",
    "if len(missing_edges_list) == 0:\n",
    "    print (\"The subgraph is complete!\")\n",
    "else:\n",
    "    print(\"However, there are \" + \"\\033[1m\" + str(len(missing_edges_list)) + \n",
    "      \"\\033[0;0m\" + \" missing edges for the subgraph of this size to be complete.\")\n",
    "    print(\"They are:\")\n",
    "    for missing_edge in missing_edges_list: print(missing_edge)"
   ]
  }
 ],
 "metadata": {
  "authors": [
   "Grigori Matein"
  ],
  "documentation-tags": {
   "icon": [
    ":material-outlined:`workspaces;42px`",
    ":material-outlined:`pattern;42px`"
   ],
   "level": "advanced"
  },
  "kernelspec": {
   "display_name": "Python 3 (ipykernel)",
   "language": "python",
   "name": "python3"
  },
  "language_info": {
   "codemirror_mode": {
    "name": "ipython",
    "version": 3
   },
   "file_extension": ".py",
   "mimetype": "text/x-python",
   "name": "python",
   "nbconvert_exporter": "python",
   "pygments_lexer": "ipython3",
   "version": "3.10.4"
  }
 },
 "nbformat": 4,
 "nbformat_minor": 4
}
