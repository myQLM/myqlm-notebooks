{
 "cells": [
  {
   "cell_type": "markdown",
   "id": "5107fadf-8bc2-47a9-9b08-77c92661ffab",
   "metadata": {
    "tags": []
   },
   "source": [
    "# Running several optimizations and keeping the best one with MultipleLaunchesPlugin\n",
    "\n",
    "In this notebook, we present the `MultipleLaunchesAnalyzer` plugin. Placed before a VQE plugin, it will run the job for several iterations with different random parameters at each run. It will then select the lowest observable value it has found among these runs. \n",
    "\n",
    "More specifically, placing the `MultipleLaunchesAnalyzer` plugin set with $n_{\\mathrm{runs}}=10$ before an `Optimizer` instantiated without any starting point will allow the ansatz to be optimized $n_{\\mathrm{runs}}$ times, each time with a different set of random parameters. The output value will be the lowest found value obtained through the iteration process.\n",
    "\n",
    "This is particularly useful when the ansatz parameters values cannot be guessed before a VQE.\n",
    "\n",
    "**Note**: if a job in the batch is not variational, it will be evaluated 10 times!"
   ]
  },
  {
   "cell_type": "markdown",
   "id": "77ed4db2-7c1a-42f8-acf0-57f77096631a",
   "metadata": {},
   "source": [
    "## Example : Solving an embedded model using `MultipleLaunchesAnalyzer`"
   ]
  },
  {
   "cell_type": "markdown",
   "id": "1f92c278-5d71-491f-8f30-43c43e38bfac",
   "metadata": {},
   "source": [
    "We will solve an embedded model using the `MultipleLaunchesAnalyzer`. Let us say we are unsure about which ansatz would be best suited for this task. We select two ansatz :\n",
    "* the 8-parameters hardware-efficient circuit proposed by (Keen et al., 2019) (https://doi.org/10.48550/arXiv.1910.09512)\n",
    "* the physically-inspired circuit (LDCA) with 34 parameters proposed by P. Dallaire-Demers et al. (2019) (https://doi.org/10.48550/arXiv.1801.01053>)\n",
    "\n",
    "We will start by defining the Hamiltonian to solve, define the two ansatze, and then compute the observable value for the two ansatze (using `Batch`) and for different set of random parameters (using `MultipleLaunchesAnalyzer`)."
   ]
  },
  {
   "cell_type": "code",
   "execution_count": null,
   "id": "01d6569d",
   "metadata": {
    "execution": {
     "iopub.execute_input": "2022-11-05T19:42:00.939931Z",
     "iopub.status.busy": "2022-11-05T19:42:00.939644Z",
     "iopub.status.idle": "2022-11-05T19:42:01.811120Z",
     "shell.execute_reply": "2022-11-05T19:42:01.810529Z"
    }
   },
   "outputs": [],
   "source": [
    "import matplotlib.pyplot as plt\n",
    "import numpy as np\n",
    "from itertools import product\n",
    "\n",
    "from qat.qpus import get_default_qpu\n",
    "from qat.core import Batch, Job\n",
    "\n",
    "from qat.fermion.transforms import transform_to_jw_basis\n",
    "from qat.fermion.hamiltonians import make_embedded_model\n",
    "from qat.fermion.circuits import make_shallow_circ, make_ldca_circ\n",
    "\n",
    "from qat.plugins import ScipyMinimizePlugin, MultipleLaunchesAnalyzer"
   ]
  },
  {
   "cell_type": "markdown",
   "id": "e3767c80",
   "metadata": {},
   "source": [
    "We start by defining the Hamiltonian we'd like to find the ground state of with VQE. "
   ]
  },
  {
   "cell_type": "code",
   "execution_count": null,
   "id": "88043ea0",
   "metadata": {
    "execution": {
     "iopub.execute_input": "2022-11-05T19:42:01.814984Z",
     "iopub.status.busy": "2022-11-05T19:42:01.814363Z",
     "iopub.status.idle": "2022-11-05T19:42:01.826794Z",
     "shell.execute_reply": "2022-11-05T19:42:01.826296Z"
    }
   },
   "outputs": [],
   "source": [
    "# We define the Hamiltonian\n",
    "U = 1\n",
    "mu = U / 2\n",
    "D = 0.4 * np.eye(2)\n",
    "lambda_c = -0.04 * np.eye(2)\n",
    "hamiltonian = make_embedded_model(U, mu, D, lambda_c, grouping=\"spins\")\n",
    "\n",
    "# The ordering of the orbitals (here, 'spins') is crucial for the HEA circuit"
   ]
  },
  {
   "cell_type": "markdown",
   "id": "620acc0b",
   "metadata": {},
   "source": [
    "We now define two ansatze we want to use for the observable evaluation."
   ]
  },
  {
   "cell_type": "code",
   "execution_count": null,
   "id": "7b192ef3-9314-4dff-a062-7df10d2a5607",
   "metadata": {
    "execution": {
     "iopub.execute_input": "2022-11-05T19:42:01.829525Z",
     "iopub.status.busy": "2022-11-05T19:42:01.829277Z",
     "iopub.status.idle": "2022-11-05T19:42:01.901613Z",
     "shell.execute_reply": "2022-11-05T19:42:01.901034Z"
    }
   },
   "outputs": [],
   "source": [
    "# Defining the first job\n",
    "circ1 = make_shallow_circ()\n",
    "job1 = circ1.to_job(job_type=\"OBS\", observable=transform_to_jw_basis(hamiltonian))\n",
    "\n",
    "# Defining the second job\n",
    "circ2 = make_ldca_circ(4, 1)\n",
    "job2 = circ2.to_job(job_type=\"OBS\", observable=transform_to_jw_basis(hamiltonian))"
   ]
  },
  {
   "cell_type": "markdown",
   "id": "86be9eb7-50d9-4b37-9474-d8e094640d9c",
   "metadata": {},
   "source": [
    "We define a `Batch` containing these two variational jobs, and define the stack to submit the `Batch` to."
   ]
  },
  {
   "cell_type": "code",
   "execution_count": null,
   "id": "50f209df-e370-48f5-8052-9eca9086800c",
   "metadata": {
    "execution": {
     "iopub.execute_input": "2022-11-05T19:42:01.904876Z",
     "iopub.status.busy": "2022-11-05T19:42:01.904606Z",
     "iopub.status.idle": "2022-11-05T19:42:30.341858Z",
     "shell.execute_reply": "2022-11-05T19:42:30.341139Z"
    },
    "tags": []
   },
   "outputs": [],
   "source": [
    "# Defining the batch\n",
    "batch = Batch(jobs=[job1, job2])\n",
    "\n",
    "# Build the stack and submit the job to the QPU\n",
    "qpu = get_default_qpu()\n",
    "multiple_launches_analyzer = MultipleLaunchesAnalyzer(n_runs=10, verbose=True)\n",
    "scipy_optimizer = ScipyMinimizePlugin(method=\"COBYLA\", tol=1e-3, options={\"maxiter\": 200})\n",
    "stack = multiple_launches_analyzer | scipy_optimizer | qpu\n",
    "\n",
    "res = stack.submit(batch)"
   ]
  },
  {
   "cell_type": "code",
   "execution_count": null,
   "id": "797f9fb4-ed5e-481f-aa49-f24be5e74cb9",
   "metadata": {
    "execution": {
     "iopub.execute_input": "2022-11-05T19:42:30.344936Z",
     "iopub.status.busy": "2022-11-05T19:42:30.344634Z",
     "iopub.status.idle": "2022-11-05T19:42:30.348726Z",
     "shell.execute_reply": "2022-11-05T19:42:30.348230Z"
    }
   },
   "outputs": [],
   "source": [
    "# Select the lowest obtained energy\n",
    "energy = min((result.value for _, result in enumerate(res)))\n",
    "print(f\"We obtained an energy of {energy}.\")"
   ]
  },
  {
   "cell_type": "code",
   "execution_count": null,
   "id": "f717fd7a-fdfc-4c30-983d-aea03b5fc20d",
   "metadata": {
    "execution": {
     "iopub.execute_input": "2022-11-05T19:42:30.351275Z",
     "iopub.status.busy": "2022-11-05T19:42:30.351031Z",
     "iopub.status.idle": "2022-11-05T19:42:30.355712Z",
     "shell.execute_reply": "2022-11-05T19:42:30.355228Z"
    }
   },
   "outputs": [],
   "source": [
    "# Exact diagonalization of the Hamiltonian for future reference\n",
    "eigvals_cl = np.linalg.eigvalsh(hamiltonian.get_matrix())\n",
    "E0 = min(eigvals_cl)\n",
    "print(f\"Exact ground state = {E0}\")"
   ]
  },
  {
   "cell_type": "code",
   "execution_count": null,
   "id": "f619a4fe",
   "metadata": {
    "execution": {
     "iopub.execute_input": "2022-11-05T19:42:30.358355Z",
     "iopub.status.busy": "2022-11-05T19:42:30.358064Z",
     "iopub.status.idle": "2022-11-05T19:42:30.361329Z",
     "shell.execute_reply": "2022-11-05T19:42:30.360847Z"
    }
   },
   "outputs": [],
   "source": [
    "print(\n",
    "    \"Variance of results obtained by optimizing the small hardware-efficient circuit:\", res[0].meta_data[\"optimal_values_variance\"]\n",
    ")\n",
    "print(\"Variance of results obtained by optimizing the LDCA circuit:\", res[1].meta_data[\"optimal_values_variance\"])"
   ]
  },
  {
   "cell_type": "markdown",
   "id": "37b5fe11",
   "metadata": {},
   "source": [
    "As expected, the variance of the results is a lot greater for the small circuit, which is the sign of an increased sensitivity to the initial parameters. "
   ]
  }
 ],
 "metadata": {
  "authors": [
   "Maxime Oliva"
  ],
  "documentation-tags": {
   "icon": "sync"
  },
  "kernelspec": {
   "display_name": "Python 3 (ipykernel)",
   "language": "python",
   "name": "python3"
  },
  "language_info": {
   "codemirror_mode": {
    "name": "ipython",
    "version": 3
   },
   "file_extension": ".py",
   "mimetype": "text/x-python",
   "name": "python",
   "nbconvert_exporter": "python",
   "pygments_lexer": "ipython3",
   "version": "3.10.4"
  },
  "vscode": {
   "interpreter": {
    "hash": "f9f85f796d01129d0dd105a088854619f454435301f6ffec2fea96ecbd9be4ac"
   }
  }
 },
 "nbformat": 4,
 "nbformat_minor": 5
}
