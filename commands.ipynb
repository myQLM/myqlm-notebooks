{
 "cells": [
  {
   "cell_type": "markdown",
   "metadata": {},
   "source": [
    "# QLM Commands\n",
    "\n",
    "The QLM set of python libraries also comes with a set of command line scripts.\n",
    "\n",
    "\n",
    "## Compiler Commands\n",
    "These commands are used to compile AQASM code into a circuit that can be run with the QLM quantum simulators. They can also be used to convert a quantum circuit to AQASM code so that an existing circuit can be modified.\n",
    "\n",
    "### aqasm2circ\n",
    "\n",
    "This is the main compiler of the QLM. Its converts Atos Quantum Assembly Language (AQASM) into a useable Quantum Circuit for our simulators. \n",
    "The command takes one or two arguments, an input file and optionally an output file. If no output file is supplied the output will be the input file appended with ``.circ`` .\n",
    "\n",
    "Usage:"
   ]
  },
  {
   "cell_type": "code",
   "execution_count": null,
   "metadata": {
    "execution": {
     "iopub.execute_input": "2022-11-05T19:41:45.596800Z",
     "iopub.status.busy": "2022-11-05T19:41:45.596506Z",
     "iopub.status.idle": "2022-11-05T19:41:45.845041Z",
     "shell.execute_reply": "2022-11-05T19:41:45.843738Z"
    }
   },
   "outputs": [],
   "source": [
    "%%bash\n",
    "aqasm2circ --help"
   ]
  },
  {
   "cell_type": "markdown",
   "metadata": {},
   "source": [
    "For example, let us dump an AQASM circuit into a file `test1.aqasm`:"
   ]
  },
  {
   "cell_type": "code",
   "execution_count": null,
   "metadata": {
    "execution": {
     "iopub.execute_input": "2022-11-05T19:41:45.877681Z",
     "iopub.status.busy": "2022-11-05T19:41:45.877428Z",
     "iopub.status.idle": "2022-11-05T19:41:45.882177Z",
     "shell.execute_reply": "2022-11-05T19:41:45.881519Z"
    }
   },
   "outputs": [],
   "source": [
    "%%writefile test1.aqasm\n",
    "BEGIN\n",
    "qubits 2\n",
    "cbits 1\n",
    "\n",
    "H q[0]\n",
    "MEAS q[0] c[0]\n",
    "?c[0]: X q[1]\n",
    "END"
   ]
  },
  {
   "cell_type": "markdown",
   "metadata": {},
   "source": [
    "And let us call the `aqasm2circ` compiler on the file:"
   ]
  },
  {
   "cell_type": "code",
   "execution_count": null,
   "metadata": {
    "execution": {
     "iopub.execute_input": "2022-11-05T19:41:45.885903Z",
     "iopub.status.busy": "2022-11-05T19:41:45.885688Z",
     "iopub.status.idle": "2022-11-05T19:41:46.385295Z",
     "shell.execute_reply": "2022-11-05T19:41:46.384518Z"
    }
   },
   "outputs": [],
   "source": [
    "%%bash\n",
    "\n",
    "# Write a file named input_filename.circ (test1.aqasm in our example)\n",
    "aqasm2circ test1.aqasm\n",
    "# Write a file name \"test.circ\"\n",
    "aqasm2circ test1.aqasm test.circ\n",
    "ls *.circ"
   ]
  },
  {
   "cell_type": "markdown",
   "metadata": {},
   "source": [
    "The generated files are used as the input to one of the various simulators provided in the QLM environment.\n",
    "\n",
    "### circ2aqasm\n",
    "\n",
    "This is the main decompiler for QLM which will take a Quantum Circuit file and return the resulting Atos Quantum Assembly Language (AQASM) file used to generate the circuit. The command takes one or two arguments, an input file and optionally an output file. If no output file is supplied the output will be the input file appended with ``.aqasm``."
   ]
  },
  {
   "cell_type": "code",
   "execution_count": null,
   "metadata": {
    "execution": {
     "iopub.execute_input": "2022-11-05T19:41:46.388616Z",
     "iopub.status.busy": "2022-11-05T19:41:46.388027Z",
     "iopub.status.idle": "2022-11-05T19:41:46.601524Z",
     "shell.execute_reply": "2022-11-05T19:41:46.600871Z"
    }
   },
   "outputs": [],
   "source": [
    "%%bash\n",
    "circ2aqasm --help"
   ]
  },
  {
   "cell_type": "markdown",
   "metadata": {},
   "source": [
    " For Example:"
   ]
  },
  {
   "cell_type": "code",
   "execution_count": null,
   "metadata": {
    "execution": {
     "iopub.execute_input": "2022-11-05T19:41:46.605392Z",
     "iopub.status.busy": "2022-11-05T19:41:46.605026Z",
     "iopub.status.idle": "2022-11-05T19:41:46.822308Z",
     "shell.execute_reply": "2022-11-05T19:41:46.821713Z"
    }
   },
   "outputs": [],
   "source": [
    "%%bash\n",
    "circ2aqasm test.circ\n",
    "cat test.circ.aqasm"
   ]
  },
  {
   "cell_type": "markdown",
   "metadata": {},
   "source": [
    "## Simulator Commands\n",
    "\n",
    "It is also possible to call any QPU and Plugin stack from the command line using the `qat-jobrun` and `qat-batchrun` commands.\n",
    "\n",
    "### qat-jobrun and qat-batchrun\n",
    "\n",
    "This command will deserialize a job (or a batch) and run it via some execution stack"
   ]
  },
  {
   "cell_type": "code",
   "execution_count": null,
   "metadata": {
    "execution": {
     "iopub.execute_input": "2022-11-05T19:41:46.827047Z",
     "iopub.status.busy": "2022-11-05T19:41:46.826694Z",
     "iopub.status.idle": "2022-11-05T19:41:47.039244Z",
     "shell.execute_reply": "2022-11-05T19:41:47.038655Z"
    }
   },
   "outputs": [],
   "source": [
    "%%bash\n",
    "qat-jobrun --help"
   ]
  },
  {
   "cell_type": "code",
   "execution_count": null,
   "metadata": {
    "execution": {
     "iopub.execute_input": "2022-11-05T19:41:47.042703Z",
     "iopub.status.busy": "2022-11-05T19:41:47.042353Z",
     "iopub.status.idle": "2022-11-05T19:41:47.270810Z",
     "shell.execute_reply": "2022-11-05T19:41:47.270156Z"
    }
   },
   "outputs": [],
   "source": [
    "%%bash\n",
    "qat-batchrun --help"
   ]
  },
  {
   "cell_type": "markdown",
   "metadata": {},
   "source": [
    "QPUs and Plugins are referred to using the `namespace:class_name` convention."
   ]
  },
  {
   "cell_type": "code",
   "execution_count": null,
   "metadata": {
    "execution": {
     "iopub.execute_input": "2022-11-05T19:41:47.274723Z",
     "iopub.status.busy": "2022-11-05T19:41:47.274329Z",
     "iopub.status.idle": "2022-11-05T19:41:47.432747Z",
     "shell.execute_reply": "2022-11-05T19:41:47.431986Z"
    }
   },
   "outputs": [],
   "source": [
    "from qat.core import Circuit, Batch\n",
    "circuit = Circuit.load(\"test.circ\")\n",
    "job = circuit.to_job()\n",
    "job.dump(\"test.job\")\n",
    "batch = Batch(jobs=[job]*3)\n",
    "batch.dump(\"test.batch\")"
   ]
  },
  {
   "cell_type": "code",
   "execution_count": null,
   "metadata": {
    "execution": {
     "iopub.execute_input": "2022-11-05T19:41:47.436704Z",
     "iopub.status.busy": "2022-11-05T19:41:47.436404Z",
     "iopub.status.idle": "2022-11-05T19:41:47.634397Z",
     "shell.execute_reply": "2022-11-05T19:41:47.633758Z"
    }
   },
   "outputs": [],
   "source": [
    "%%bash\n",
    "qat-jobrun --qpu qat.pylinalg:PyLinalg test.job"
   ]
  },
  {
   "cell_type": "markdown",
   "metadata": {},
   "source": [
    "It is possible to dump the results in a binary file instead of having to parse the stdout:"
   ]
  },
  {
   "cell_type": "code",
   "execution_count": null,
   "metadata": {
    "execution": {
     "iopub.execute_input": "2022-11-05T19:41:47.638081Z",
     "iopub.status.busy": "2022-11-05T19:41:47.637685Z",
     "iopub.status.idle": "2022-11-05T19:41:47.836097Z",
     "shell.execute_reply": "2022-11-05T19:41:47.835441Z"
    }
   },
   "outputs": [],
   "source": [
    "%%bash\n",
    "qat-jobrun --qpu qat.pylinalg:PyLinalg test.job -o jobres.res"
   ]
  },
  {
   "cell_type": "markdown",
   "metadata": {},
   "source": [
    "The same goes for the `qat-batchrun` script:"
   ]
  },
  {
   "cell_type": "code",
   "execution_count": null,
   "metadata": {
    "execution": {
     "iopub.execute_input": "2022-11-05T19:41:47.840291Z",
     "iopub.status.busy": "2022-11-05T19:41:47.839892Z",
     "iopub.status.idle": "2022-11-05T19:41:48.061102Z",
     "shell.execute_reply": "2022-11-05T19:41:48.060508Z"
    }
   },
   "outputs": [],
   "source": [
    "%%bash\n",
    "qat-batchrun --qpu qat.pylinalg:PyLinalg test.batch"
   ]
  },
  {
   "cell_type": "code",
   "execution_count": null,
   "metadata": {
    "execution": {
     "iopub.execute_input": "2022-11-05T19:41:48.064401Z",
     "iopub.status.busy": "2022-11-05T19:41:48.064023Z",
     "iopub.status.idle": "2022-11-05T19:41:48.277578Z",
     "shell.execute_reply": "2022-11-05T19:41:48.276133Z"
    }
   },
   "outputs": [],
   "source": [
    "%%bash\n",
    "qat-batchrun --qpu qat.pylinalg:PyLinalg test.batch -o batchres.res"
   ]
  },
  {
   "cell_type": "markdown",
   "metadata": {},
   "source": [
    "### qat-resprint\n",
    "\n",
    "Naturally, there is a command to display a dumped result in the stdout:"
   ]
  },
  {
   "cell_type": "code",
   "execution_count": null,
   "metadata": {
    "execution": {
     "iopub.execute_input": "2022-11-05T19:41:48.281703Z",
     "iopub.status.busy": "2022-11-05T19:41:48.281320Z",
     "iopub.status.idle": "2022-11-05T19:41:48.488752Z",
     "shell.execute_reply": "2022-11-05T19:41:48.488132Z"
    }
   },
   "outputs": [],
   "source": [
    "%%bash\n",
    "qat-resprint --help"
   ]
  },
  {
   "cell_type": "code",
   "execution_count": null,
   "metadata": {
    "execution": {
     "iopub.execute_input": "2022-11-05T19:41:48.492347Z",
     "iopub.status.busy": "2022-11-05T19:41:48.492010Z",
     "iopub.status.idle": "2022-11-05T19:41:48.687942Z",
     "shell.execute_reply": "2022-11-05T19:41:48.687360Z"
    }
   },
   "outputs": [],
   "source": [
    "%%bash\n",
    "qat-resprint jobres.res -N 2"
   ]
  },
  {
   "cell_type": "code",
   "execution_count": null,
   "metadata": {
    "execution": {
     "iopub.execute_input": "2022-11-05T19:41:48.691971Z",
     "iopub.status.busy": "2022-11-05T19:41:48.691380Z",
     "iopub.status.idle": "2022-11-05T19:41:48.888359Z",
     "shell.execute_reply": "2022-11-05T19:41:48.887267Z"
    }
   },
   "outputs": [],
   "source": [
    "%%bash\n",
    "qat-resprint -b batchres.res -N 2"
   ]
  },
  {
   "cell_type": "markdown",
   "metadata": {},
   "source": [
    "### qat-circstat\n",
    "\n",
    "This command display some statistics about a serialized circuit. The output is pretty straightforward to interpretate:"
   ]
  },
  {
   "cell_type": "code",
   "execution_count": null,
   "metadata": {
    "execution": {
     "iopub.execute_input": "2022-11-05T19:41:48.892377Z",
     "iopub.status.busy": "2022-11-05T19:41:48.891991Z",
     "iopub.status.idle": "2022-11-05T19:41:49.089216Z",
     "shell.execute_reply": "2022-11-05T19:41:49.088622Z"
    }
   },
   "outputs": [],
   "source": [
    "%%bash\n",
    "qat-circstat test.circ"
   ]
  }
 ],
 "metadata": {
  "authors": [
   "Simon Martiel",
   "Jerome Pioux"
  ],
  "documentation-tags": {
   "icon": ":material-outlined:`terminal;3em`"
  },
  "kernelspec": {
   "display_name": "Python 3 (ipykernel)",
   "language": "python",
   "name": "python3"
  },
  "language_info": {
   "codemirror_mode": {
    "name": "ipython",
    "version": 3
   },
   "file_extension": ".py",
   "mimetype": "text/x-python",
   "name": "python",
   "nbconvert_exporter": "python",
   "pygments_lexer": "ipython3",
   "version": "3.10.4"
  }
 },
 "nbformat": 4,
 "nbformat_minor": 1
}
