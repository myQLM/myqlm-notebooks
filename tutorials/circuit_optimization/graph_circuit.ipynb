{
  "cells": [
    {
      "cell_type": "markdown",
      "metadata": {
        "qat-category": "2-Circuit optimization",
        "qat-summary": "2-Graph Circuit"
      },
      "source": [
        "# Replacing patterns in a circuit\n",
        "\n",
        "This notebook explains how some patterns can be replaced in a circuit and how some rules can be defined to automatically replace patterns in a circuit.\n",
        "\n",
        "## Replacing pattern once\n",
        "\n",
        "The library `pbo` (for Pattern Based Optimization) defines some class to replace the first pattern found in a `Circuit`.\n",
        "\n",
        "First, we define a circuit. The following circuit is only an example (and does not correspond to a useful program)."
      ]
    },
    {
      "cell_type": "code",
      "execution_count": null,
      "metadata": {},
      "outputs": [],
      "source": [
        "# Init a quantum program\n",
        "from qat.lang.AQASM import *\n",
        "from qat.lang.AQASM.gates import *\n",
        "\n",
        "nqbits = 4\n",
        "prog = Program()\n",
        "reg = prog.qalloc(nqbits)\n",
        "\n",
        "# Define a program\n",
        "prog.apply(H, reg[0])\n",
        "\n",
        "# Pattern equivalent to CSIGN\n",
        "prog.apply(H, reg[1])\n",
        "prog.apply(CNOT, reg[0], reg[1])\n",
        "prog.apply(H, reg[1])\n",
        "\n",
        "prog.apply(CNOT, reg[1], reg[3])\n",
        "\n",
        "# Pattern equivalent to SWAP\n",
        "prog.apply(CNOT, reg[3], reg[2])\n",
        "prog.apply(CNOT, reg[2], reg[3])\n",
        "prog.apply(CNOT, reg[3], reg[2])\n",
        "\n",
        "# Pattern to remove\n",
        "prog.apply(H, reg[2])\n",
        "prog.apply(H, reg[2])\n",
        "\n",
        "# Pattern equivalent to RZ(-3)\n",
        "prog.apply(RZ(2), reg[2])\n",
        "prog.apply(RZ(-3), reg[2])\n",
        "prog.apply(RZ(-2), reg[2])\n",
        "\n",
        "# Pattern to remove\n",
        "prog.apply(CSIGN, reg[0], reg[1])\n",
        "prog.apply(CSIGN, reg[1], reg[0])\n",
        "\n",
        "# Generate the corresponding circ\n",
        "circ = prog.to_circ()\n",
        "\n",
        "circ.display()"
      ]
    },
    {
      "cell_type": "markdown",
      "metadata": {},
      "source": [
        "The purpose of this notebook is to perform local changes on the previous `Circuit` to reduce the quantum cost (number of gates in the Circuit).\n",
        "\n",
        "### Detect and replace pattern\n",
        "\n",
        "<u>**Step 1 :**</u> Transform the circuit into a graph"
      ]
    },
    {
      "cell_type": "code",
      "execution_count": null,
      "metadata": {
        "collapsed": true
      },
      "outputs": [],
      "source": [
        "from qat.pbo import GraphCircuit, VAR\n",
        "\n",
        "# Generate a graph\n",
        "graph = GraphCircuit()\n",
        "\n",
        "# Transform the circuit into a graph\n",
        "graph.load_circuit(circ)"
      ]
    },
    {
      "cell_type": "markdown",
      "metadata": {},
      "source": [
        "Then, some pattern must be defined\n",
        "\n",
        "<u>**Step 2:**</u> Replace a pattern\n",
        "\n",
        "A pattern is a list of tuples. A tuple is composed of :\n",
        "- The gate's name (the name is in the syntax of the gate)\n",
        "- The qubit on which the gate is applied\n",
        "- The parameters of the gate\n",
        "\n",
        "For instance :"
      ]
    },
    {
      "cell_type": "code",
      "execution_count": null,
      "metadata": {},
      "outputs": [],
      "source": [
        "# Pattern 1\n",
        "old_pattern = [('CNOT', [0, 1]), ('CNOT', [1, 0]), ('CNOT', [0, 1])]\n",
        "new_pattern = [('SWAP', [0, 1])]\n",
        "\n",
        "# Replace pattern\n",
        "graph.replace_pattern(old_pattern, new_pattern)"
      ]
    },
    {
      "cell_type": "markdown",
      "metadata": {},
      "source": [
        "The result is `True` because such a pattern exists. The pattern has been replaced in the circuit. If there are several patterns to replace, a loop could be used. "
      ]
    },
    {
      "cell_type": "code",
      "execution_count": null,
      "metadata": {
        "collapsed": true
      },
      "outputs": [],
      "source": [
        "# Replace all pattern\n",
        "while graph.replace_pattern(old_pattern, new_pattern):\n",
        "    continue"
      ]
    },
    {
      "cell_type": "markdown",
      "metadata": {},
      "source": [
        "The method `replace_pattern` finds the first pattern to replace it so the order of changes matters. For instance, if two patterns in the circuit are not disjoint, replacing the first pattern will delete the second one."
      ]
    },
    {
      "cell_type": "code",
      "execution_count": null,
      "metadata": {},
      "outputs": [],
      "source": [
        "# Pattern 2\n",
        "old_pattern_1 = [('H', [0]), ('CNOT', [1, 0]), ('H', [0])]\n",
        "new_pattern_1 = [('CSIGN',[1, 0])]\n",
        "\n",
        "# Pattern 3\n",
        "old_pattern_2 = [('H', [0]), ('CNOT', [0, 1])]\n",
        "new_pattern_2 = [('H', [1]), ('CSIGN',[0, 1]), ('H', [0]), ('H', [1])]\n",
        "\n",
        "# Check if the pattern exist\n",
        "print('Find pattern 1 and 2')\n",
        "print(\"Pattern 1 exist ?\", graph.count_pattern(old_pattern_1) > 0)\n",
        "print(\"Pattern 2 exist ?\", graph.count_pattern(old_pattern_2) > 0)\n",
        "\n",
        "# Replace pattern\n",
        "print('\\nReplace pattern 1 and 2:')\n",
        "print( graph.replace_pattern(old_pattern_1, new_pattern_1) )\n",
        "print( graph.replace_pattern(old_pattern_2, new_pattern_2) )"
      ]
    },
    {
      "cell_type": "markdown",
      "metadata": {},
      "source": [
        "<u>**Step 3:**</u> Remove a pattern\n",
        "\n",
        "Removing a pattern is equivalent to replacing a pattern by an empty one. An empty pattern is defined by `[]`. For instance :"
      ]
    },
    {
      "cell_type": "code",
      "execution_count": null,
      "metadata": {},
      "outputs": [],
      "source": [
        "# Pattern 4\n",
        "old_pattern = [('H', [0]), ('H', [0])]\n",
        "new_pattern = []\n",
        "\n",
        "# Replace pattern\n",
        "graph.replace_pattern(old_pattern, new_pattern)"
      ]
    },
    {
      "cell_type": "markdown",
      "metadata": {},
      "source": [
        "<u>**Step 4:**</u> Undirected gates in pattern\n",
        "\n",
        "The `GraphCircuit` may detect multi-qubits and the order of qubits is very important (respecting the order used in AQASM). For instance, the gate `(\"CNOT\", [0, 1])` means that the first qubit is the control one and the second qubit is the target one.\n",
        "Nevertheless, some gates are undirected, which means that the order of qubits does not matter. For instance, a `CSIGN` gate has no orientation and the undirected pattern `CSIGN - CSIGN` must be removed. If the order of qubits is not important, qubits must be defined by a `set`. For instance, a `CSIGN` gate shall be defined by `(\"CSIGN\", {0, 1})` (if the `CSIGN` gate acts on qubits `0` and `1`).\n",
        "\n",
        "The `replace_pattern` method accepts an undirected pattern. The idea is to iterate all the oriented patterns that match the undirected pattern. The old pattern could be defined as : `[('CSIGN', {0, 1}), ('CSIGN', {0, 1})]`\n",
        "\n",
        "In fact, since all the oriented patterns will be tested, there are 4 directed patterns. This number could be reduced to 2. In fact, there are two possibilities:\n",
        "- Gates have the same orientation\n",
        "- Gates have the opposite orientation\n",
        "\n",
        "So, the following pattern will be used because we only need to generate 2 directed patterns:\n",
        "\n",
        "`[('CSIGN', {0, 1}), ('CSIGN', [0, 1])]`\n",
        "\n",
        "\n",
        "<div style='border-left: 5px solid red; margin-top: 30px; padding: 10px; font-weight: bold; display: flex'>\n",
        "<div style='font-size: 30px; margin-right:5px'>&#9888;</div>The new pattern must be oriented.\n",
        "</div>"
      ]
    },
    {
      "cell_type": "code",
      "execution_count": null,
      "metadata": {},
      "outputs": [],
      "source": [
        "# Pattern 5\n",
        "old_pattern = [('CSIGN', {0, 1}), ('CSIGN', [0, 1])]\n",
        "new_pattern = []\n",
        "\n",
        "# Replace pattern\n",
        "graph.replace_pattern(old_pattern, new_pattern)"
      ]
    },
    {
      "cell_type": "markdown",
      "metadata": {},
      "source": [
        "<u>**Step 5:**</u> Gate parameters\n",
        "\n",
        "In our example, a pattern RZ(x) - RZ(y) - RZ(-x) could be replaced by RZ(y). To do so, some abstract variables can be defined"
      ]
    },
    {
      "cell_type": "code",
      "execution_count": null,
      "metadata": {},
      "outputs": [],
      "source": [
        "# Abstract var\n",
        "x = VAR()\n",
        "y = VAR()\n",
        "\n",
        "# Pattern 6\n",
        "old_pattern = [('RZ', [0], -x), ('RZ', [0], y), ('RZ', [0], x)]\n",
        "new_pattern = [('RZ', [0], y)]\n",
        "\n",
        "# Replace pattern\n",
        "graph.replace_pattern(old_pattern, new_pattern)"
      ]
    },
    {
      "cell_type": "markdown",
      "metadata": {},
      "source": [
        "A parameter must be an instance of VAR. If you want to use constant parameters, use :\n",
        "`x.set_value( 2 )`\n",
        "\n",
        "Moreover, you can use any function. For instance :"
      ]
    },
    {
      "cell_type": "code",
      "execution_count": null,
      "metadata": {},
      "outputs": [],
      "source": [
        "from math import sqrt\n",
        "\n",
        "# sqrt( x ) does not work\n",
        "try:\n",
        "    z = sqrt( x )\n",
        "except:\n",
        "    print(\"sqrt(x) does not work\")\n",
        "    \n",
        "# This works\n",
        "sqrt_var = VAR.add_function( sqrt )\n",
        "z = sqrt_var( x )\n",
        "\n",
        "x.set_value( 5**2 )\n",
        "print(\"sqrt(x) =\", z)"
      ]
    },
    {
      "cell_type": "markdown",
      "metadata": {},
      "source": [
        "### Resulting circuit\n",
        "\n",
        "The graph can be transformed into a circuit"
      ]
    },
    {
      "cell_type": "code",
      "execution_count": null,
      "metadata": {},
      "outputs": [],
      "source": [
        "circ_no_pattern = graph.to_circ()\n",
        "circ_no_pattern.display()"
      ]
    },
    {
      "cell_type": "markdown",
      "metadata": {},
      "source": [
        "### Custom gates\n",
        "\n",
        "It's possible to insert custom gates in the graph. The custom gate can also be defined after the pattern detection. For instance, we can replace the gate `RZ` by a gate `TEST`."
      ]
    },
    {
      "cell_type": "code",
      "execution_count": null,
      "metadata": {},
      "outputs": [],
      "source": [
        "x = VAR()\n",
        "\n",
        "# Replace a gate by an undefined gate\n",
        "a = [0]\n",
        "graph.replace_pattern([('RZ', [0], x)], [('TEST', [0], x)])"
      ]
    },
    {
      "cell_type": "markdown",
      "metadata": {},
      "source": [
        "Then, we define a gate `TEST` such that the graph can be transformed into a circuit."
      ]
    },
    {
      "cell_type": "code",
      "execution_count": null,
      "metadata": {},
      "outputs": [],
      "source": [
        "from qat.lang.AQASM import AbstractGate\n",
        "\n",
        "# Abstract gate: name = 'TEST', take a float as argument, arity is 1\n",
        "TEST_gate = AbstractGate('TEST', [float], 1)\n",
        "\n",
        "# Add the custom gate in the circuit\n",
        "graph.add_abstract_gate(TEST_gate)\n",
        "circ_with_abstract_gate = graph.to_circ()\n",
        "\n",
        "circ_with_abstract_gate.display()"
      ]
    }
  ],
  "metadata": {
    "authors": [
      "Arnaud Gazda"
    ],
    "documentation-tags": {
      "icon": [
        "pencil",
        "iterations"
      ]
    },
    "kernelspec": {
      "display_name": "Python 3 (ipykernel)",
      "language": "python",
      "name": "python3"
    },
    "language_info": {
      "codemirror_mode": {
        "name": "ipython",
        "version": 3
      },
      "file_extension": ".py",
      "mimetype": "text/x-python",
      "name": "python",
      "nbconvert_exporter": "python",
      "pygments_lexer": "ipython3",
      "version": "3.12.3"
    },
    "qlmaas": false,
    "tags": [
      "pattern"
    ]
  },
  "nbformat": 4,
  "nbformat_minor": 2
}
