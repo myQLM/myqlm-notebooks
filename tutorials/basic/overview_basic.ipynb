{
 "cells": [
  {
   "cell_type": "markdown",
   "metadata": {},
   "source": [
    "# First steps with the QLM<br>\n",
    "\n",
    "- To start gently, consider having a look to the following notebooks:<br><br>\n",
    "    * [EPR pair circuit creation and simulation](epr_pair.ipynb) Quantum \"hello world\".\n",
    "    * [Asking a simulator for an observable average](observables.ipynb) \n",
    "    * [Asking a simulator results on a subset of the qubits](partial_measures.ipynb)"
   ]
  },
  {
   "cell_type": "code",
   "execution_count": null,
   "metadata": {},
   "outputs": [],
   "source": []
  }
 ],
 "metadata": {
  "authors": [
   "Simon Martiel",
   "Bertrand Marchand"
  ],
  "kernelspec": {
   "display_name": "Python 3 (ipykernel)",
   "language": "python",
   "name": "python3"
  },
  "language_info": {
   "codemirror_mode": {
    "name": "ipython",
    "version": 3
   },
   "file_extension": ".py",
   "mimetype": "text/x-python",
   "name": "python",
   "nbconvert_exporter": "python",
   "pygments_lexer": "ipython3",
   "version": "3.10.4"
  }
 },
 "nbformat": 4,
 "nbformat_minor": 2
}
