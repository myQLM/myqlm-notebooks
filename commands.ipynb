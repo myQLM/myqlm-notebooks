{
 "cells": [
  {
   "cell_type": "markdown",
   "metadata": {},
   "source": [
    "# QLM Commands\n",
    "\n",
    "The QLM set of python libraries also comes with a set of command line scripts.\n",
    "\n",
    "\n",
    "## Compiler Commands\n",
    "These commands are used to compile AQASM code into a circuit that can be run with the QLM quantum simulators. They can also be used to convert a quantum circuit to AQASM code so that an existing circuit can be modified.\n",
    "\n",
    "### aqasm2circ\n",
    "\n",
    "This is the main compiler of the QLM. Its converts Atos Quantum Assembly Language (AQASM) into a useable Quantum Circuit for our simulators. \n",
    "The command takes one or two arguments, an input file and optionally an output file. If no output file is supplied the output will be the input file appended with ``.circ`` .\n",
    "\n",
    "Usage:"
   ]
  },
  {
   "cell_type": "code",
   "execution_count": null,
   "metadata": {
    "execution": {
     "iopub.execute_input": "2023-08-01T22:48:19.989718Z",
     "iopub.status.busy": "2023-08-01T22:48:19.989490Z",
     "iopub.status.idle": "2023-08-01T22:48:21.395328Z",
     "shell.execute_reply": "2023-08-01T22:48:21.394712Z"
    }
   },
   "outputs": [],
   "source": [
    "%%bash\n",
    "aqasm2circ --help"
   ]
  },
  {
   "cell_type": "markdown",
   "metadata": {},
   "source": [
    "For example, let us dump an AQASM circuit into a file `test1.aqasm`:"
   ]
  },
  {
   "cell_type": "code",
   "execution_count": null,
   "metadata": {
    "execution": {
     "iopub.execute_input": "2023-08-01T22:48:21.398338Z",
     "iopub.status.busy": "2023-08-01T22:48:21.398075Z",
     "iopub.status.idle": "2023-08-01T22:48:21.402031Z",
     "shell.execute_reply": "2023-08-01T22:48:21.401612Z"
    }
   },
   "outputs": [],
   "source": [
    "%%writefile test1.aqasm\n",
    "BEGIN\n",
    "qubits 2\n",
    "cbits 1\n",
    "\n",
    "H q[0]\n",
    "MEAS q[0] c[0]\n",
    "?c[0]: X q[1]\n",
    "END"
   ]
  },
  {
   "cell_type": "markdown",
   "metadata": {},
   "source": [
    "And let us call the `aqasm2circ` compiler on the file:"
   ]
  },
  {
   "cell_type": "code",
   "execution_count": null,
   "metadata": {
    "execution": {
     "iopub.execute_input": "2023-08-01T22:48:21.404076Z",
     "iopub.status.busy": "2023-08-01T22:48:21.403852Z",
     "iopub.status.idle": "2023-08-01T22:48:24.374845Z",
     "shell.execute_reply": "2023-08-01T22:48:24.374237Z"
    }
   },
   "outputs": [],
   "source": [
    "%%bash\n",
    "\n",
    "# Write a file named input_filename.circ (test1.aqasm in our example)\n",
    "aqasm2circ test1.aqasm\n",
    "# Write a file name \"test.circ\"\n",
    "aqasm2circ test1.aqasm test.circ\n",
    "ls *.circ"
   ]
  },
  {
   "cell_type": "markdown",
   "metadata": {},
   "source": [
    "The generated files are used as the input to one of the various simulators provided in the QLM environment.\n",
    "\n",
    "### circ2aqasm\n",
    "\n",
    "This is the main decompiler for QLM which will take a Quantum Circuit file and return the resulting Atos Quantum Assembly Language (AQASM) file used to generate the circuit. The command takes one or two arguments, an input file and optionally an output file. If no output file is supplied the output will be the input file appended with ``.aqasm``."
   ]
  },
  {
   "cell_type": "code",
   "execution_count": null,
   "metadata": {
    "execution": {
     "iopub.execute_input": "2023-08-01T22:48:24.377490Z",
     "iopub.status.busy": "2023-08-01T22:48:24.377199Z",
     "iopub.status.idle": "2023-08-01T22:48:25.883970Z",
     "shell.execute_reply": "2023-08-01T22:48:25.883417Z"
    }
   },
   "outputs": [],
   "source": [
    "%%bash\n",
    "circ2aqasm --help"
   ]
  },
  {
   "cell_type": "markdown",
   "metadata": {},
   "source": [
    " For Example:"
   ]
  },
  {
   "cell_type": "code",
   "execution_count": null,
   "metadata": {
    "execution": {
     "iopub.execute_input": "2023-08-01T22:48:25.886508Z",
     "iopub.status.busy": "2023-08-01T22:48:25.886235Z",
     "iopub.status.idle": "2023-08-01T22:48:27.328405Z",
     "shell.execute_reply": "2023-08-01T22:48:27.327844Z"
    }
   },
   "outputs": [],
   "source": [
    "%%bash\n",
    "circ2aqasm test.circ\n",
    "cat test.circ.aqasm"
   ]
  },
  {
   "cell_type": "markdown",
   "metadata": {},
   "source": [
    "## Simulator Commands\n",
    "\n",
    "It is also possible to call any QPU and Plugin stack from the command line using the `qat-jobrun` and `qat-batchrun` commands.\n",
    "\n",
    "### qat-jobrun and qat-batchrun\n",
    "\n",
    "This command will deserialize a job (or a batch) and run it via some execution stack"
   ]
  },
  {
   "cell_type": "code",
   "execution_count": null,
   "metadata": {
    "execution": {
     "iopub.execute_input": "2023-08-01T22:48:27.331001Z",
     "iopub.status.busy": "2023-08-01T22:48:27.330734Z",
     "iopub.status.idle": "2023-08-01T22:48:27.851098Z",
     "shell.execute_reply": "2023-08-01T22:48:27.850506Z"
    }
   },
   "outputs": [],
   "source": [
    "%%bash\n",
    "qat-jobrun --help"
   ]
  },
  {
   "cell_type": "code",
   "execution_count": null,
   "metadata": {
    "execution": {
     "iopub.execute_input": "2023-08-01T22:48:27.854149Z",
     "iopub.status.busy": "2023-08-01T22:48:27.853841Z",
     "iopub.status.idle": "2023-08-01T22:48:28.380147Z",
     "shell.execute_reply": "2023-08-01T22:48:28.379536Z"
    }
   },
   "outputs": [],
   "source": [
    "%%bash\n",
    "qat-batchrun --help"
   ]
  },
  {
   "cell_type": "markdown",
   "metadata": {},
   "source": [
    "QPUs and Plugins are referred to using the `namespace:class_name` convention."
   ]
  },
  {
   "cell_type": "code",
   "execution_count": null,
   "metadata": {
    "execution": {
     "iopub.execute_input": "2023-08-01T22:48:28.383113Z",
     "iopub.status.busy": "2023-08-01T22:48:28.382833Z",
     "iopub.status.idle": "2023-08-01T22:48:28.793903Z",
     "shell.execute_reply": "2023-08-01T22:48:28.793352Z"
    }
   },
   "outputs": [],
   "source": [
    "from qat.core import Circuit, Batch\n",
    "circuit = Circuit.load(\"test.circ\")\n",
    "job = circuit.to_job()\n",
    "job.dump(\"test.job\")\n",
    "batch = Batch(jobs=[job]*3)\n",
    "batch.dump(\"test.batch\")"
   ]
  },
  {
   "cell_type": "code",
   "execution_count": null,
   "metadata": {
    "execution": {
     "iopub.execute_input": "2023-08-01T22:48:28.797016Z",
     "iopub.status.busy": "2023-08-01T22:48:28.796701Z",
     "iopub.status.idle": "2023-08-01T22:48:29.322333Z",
     "shell.execute_reply": "2023-08-01T22:48:29.321705Z"
    }
   },
   "outputs": [],
   "source": [
    "%%bash\n",
    "qat-jobrun --qpu qat.pylinalg:PyLinalg test.job"
   ]
  },
  {
   "cell_type": "markdown",
   "metadata": {},
   "source": [
    "It is possible to dump the results in a binary file instead of having to parse the stdout:"
   ]
  },
  {
   "cell_type": "code",
   "execution_count": null,
   "metadata": {
    "execution": {
     "iopub.execute_input": "2023-08-01T22:48:29.325121Z",
     "iopub.status.busy": "2023-08-01T22:48:29.324823Z",
     "iopub.status.idle": "2023-08-01T22:48:29.887583Z",
     "shell.execute_reply": "2023-08-01T22:48:29.886880Z"
    }
   },
   "outputs": [],
   "source": [
    "%%bash\n",
    "qat-jobrun --qpu qat.pylinalg:PyLinalg test.job -o jobres.res"
   ]
  },
  {
   "cell_type": "markdown",
   "metadata": {},
   "source": [
    "The same goes for the `qat-batchrun` script:"
   ]
  },
  {
   "cell_type": "code",
   "execution_count": null,
   "metadata": {
    "execution": {
     "iopub.execute_input": "2023-08-01T22:48:29.890796Z",
     "iopub.status.busy": "2023-08-01T22:48:29.890514Z",
     "iopub.status.idle": "2023-08-01T22:48:30.430609Z",
     "shell.execute_reply": "2023-08-01T22:48:30.430005Z"
    }
   },
   "outputs": [],
   "source": [
    "%%bash\n",
    "qat-batchrun --qpu qat.pylinalg:PyLinalg test.batch"
   ]
  },
  {
   "cell_type": "code",
   "execution_count": null,
   "metadata": {
    "execution": {
     "iopub.execute_input": "2023-08-01T22:48:30.433555Z",
     "iopub.status.busy": "2023-08-01T22:48:30.433269Z",
     "iopub.status.idle": "2023-08-01T22:48:30.966065Z",
     "shell.execute_reply": "2023-08-01T22:48:30.965286Z"
    }
   },
   "outputs": [],
   "source": [
    "%%bash\n",
    "qat-batchrun --qpu qat.pylinalg:PyLinalg test.batch -o batchres.res"
   ]
  },
  {
   "cell_type": "markdown",
   "metadata": {},
   "source": [
    "### qat-resprint\n",
    "\n",
    "Naturally, there is a command to display a dumped result in the stdout:"
   ]
  },
  {
   "cell_type": "code",
   "execution_count": null,
   "metadata": {
    "execution": {
     "iopub.execute_input": "2023-08-01T22:48:30.969236Z",
     "iopub.status.busy": "2023-08-01T22:48:30.968918Z",
     "iopub.status.idle": "2023-08-01T22:48:31.495127Z",
     "shell.execute_reply": "2023-08-01T22:48:31.494447Z"
    }
   },
   "outputs": [],
   "source": [
    "%%bash\n",
    "qat-resprint --help"
   ]
  },
  {
   "cell_type": "code",
   "execution_count": null,
   "metadata": {
    "execution": {
     "iopub.execute_input": "2023-08-01T22:48:31.498413Z",
     "iopub.status.busy": "2023-08-01T22:48:31.497970Z",
     "iopub.status.idle": "2023-08-01T22:48:32.032887Z",
     "shell.execute_reply": "2023-08-01T22:48:32.032284Z"
    }
   },
   "outputs": [],
   "source": [
    "%%bash\n",
    "qat-resprint jobres.res -N 2"
   ]
  },
  {
   "cell_type": "code",
   "execution_count": null,
   "metadata": {
    "execution": {
     "iopub.execute_input": "2023-08-01T22:48:32.035764Z",
     "iopub.status.busy": "2023-08-01T22:48:32.035490Z",
     "iopub.status.idle": "2023-08-01T22:48:32.567406Z",
     "shell.execute_reply": "2023-08-01T22:48:32.566785Z"
    }
   },
   "outputs": [],
   "source": [
    "%%bash\n",
    "qat-resprint -b batchres.res -N 2"
   ]
  },
  {
   "cell_type": "markdown",
   "metadata": {},
   "source": [
    "### qat-circstat\n",
    "\n",
    "This command display some statistics about a serialized circuit. The output is pretty straightforward to interpretate:"
   ]
  },
  {
   "cell_type": "code",
   "execution_count": null,
   "metadata": {
    "execution": {
     "iopub.execute_input": "2023-08-01T22:48:32.570439Z",
     "iopub.status.busy": "2023-08-01T22:48:32.570170Z",
     "iopub.status.idle": "2023-08-01T22:48:33.168089Z",
     "shell.execute_reply": "2023-08-01T22:48:33.167405Z"
    }
   },
   "outputs": [],
   "source": [
    "%%bash\n",
    "qat-circstat test.circ"
   ]
  }
 ],
 "metadata": {
  "authors": [
   "Simon Martiel",
   "Jerome Pioux"
  ],
  "documentation-tags": {
   "icon": ":material-outlined:`terminal;3em`"
  },
  "kernelspec": {
   "display_name": "Python 3 (ipykernel)",
   "language": "python",
   "name": "python3"
  },
  "language_info": {
   "codemirror_mode": {
    "name": "ipython",
    "version": 3
   },
   "file_extension": ".py",
   "mimetype": "text/x-python",
   "name": "python",
   "nbconvert_exporter": "python",
   "pygments_lexer": "ipython3",
   "version": "3.9.16"
  }
 },
 "nbformat": 4,
 "nbformat_minor": 1
}
