{
 "cells": [
  {
   "cell_type": "markdown",
   "metadata": {
    "tags": []
   },
   "source": [
    "# Spin fermion transforms\n",
    "\n",
    "Chemistry problems involve electrons, which are fermions, while quantum computers work in the language of qubits (or, equivalently, spins or two-level systems).\n",
    "\n",
    "The ``qat.fermion`` module of QLM comes with a few tools to go from the fermionic representation to the spin representation. In particular, three transformations are implemented:\n",
    "\n",
    "- Jordan-Wigner transformation,\n",
    "- parity transformation,\n",
    "- Bravyi-Kitaev transformation."
   ]
  },
  {
   "cell_type": "markdown",
   "metadata": {},
   "source": [
    "### Fermionic hamiltonian to spin Hamiltonian"
   ]
  },
  {
   "cell_type": "markdown",
   "metadata": {
    "tags": []
   },
   "source": [
    "Let us look at a simple example with a single $c^\\dagger_0 c_1 + \\frac{1}{2}c^\\dagger_0 c^\\dagger_1 c_0 c_1$ operator acting on 3 qubits."
   ]
  },
  {
   "cell_type": "code",
   "execution_count": null,
   "metadata": {
    "execution": {
     "iopub.execute_input": "2022-11-05T19:42:06.779046Z",
     "iopub.status.busy": "2022-11-05T19:42:06.778639Z",
     "iopub.status.idle": "2022-11-05T19:42:07.034018Z",
     "shell.execute_reply": "2022-11-05T19:42:07.032924Z"
    }
   },
   "outputs": [],
   "source": [
    "import numpy as np\n",
    "\n",
    "from qat.core import Term\n",
    "from qat.fermion.hamiltonians import FermionHamiltonian\n",
    "\n",
    "# We define an arbitrary fermionic Hamiltonian H_f\n",
    "nqbits = 3\n",
    "H_fermion = FermionHamiltonian(nqbits, [Term(1.0, \"Cc\", [0, 1]), Term(0.5, \"CCcc\", [0, 1, 0, 1])])\n",
    "\n",
    "print(f\"H_fermion = {H_fermion}\")"
   ]
  },
  {
   "cell_type": "markdown",
   "metadata": {},
   "source": [
    "We can convert the fermionic `Hamiltonian` operator to a spin `Hamiltonian` operator using the method `.to_spin`. By default the Jordan-Wigner transform is used."
   ]
  },
  {
   "cell_type": "code",
   "execution_count": null,
   "metadata": {
    "execution": {
     "iopub.execute_input": "2022-11-05T19:42:07.075356Z",
     "iopub.status.busy": "2022-11-05T19:42:07.074716Z",
     "iopub.status.idle": "2022-11-05T19:42:07.116544Z",
     "shell.execute_reply": "2022-11-05T19:42:07.115787Z"
    }
   },
   "outputs": [],
   "source": [
    "# Using the Jordan-Wigner transform\n",
    "H_spin = H_fermion.to_spin(\"jordan-wigner\")\n",
    "\n",
    "# Using the Bravyi-Kitaev transform\n",
    "H_spin = H_fermion.to_spin(\"bravyi-kitaev\")\n",
    "\n",
    "# Using the parity transform\n",
    "H_spin = H_fermion.to_spin(\"parity\")\n",
    "\n",
    "print(f\"H_spin = {H_spin}\")"
   ]
  },
  {
   "cell_type": "markdown",
   "metadata": {},
   "source": [
    "Otherwise, one can directly use the transformation functions."
   ]
  },
  {
   "cell_type": "code",
   "execution_count": null,
   "metadata": {
    "execution": {
     "iopub.execute_input": "2022-11-05T19:42:07.119864Z",
     "iopub.status.busy": "2022-11-05T19:42:07.119426Z",
     "iopub.status.idle": "2022-11-05T19:42:07.150444Z",
     "shell.execute_reply": "2022-11-05T19:42:07.149736Z"
    }
   },
   "outputs": [],
   "source": [
    "from qat.fermion.transforms import transform_to_jw_basis, transform_to_parity_basis, transform_to_bk_basis\n",
    "\n",
    "# Using the Jordan-Wigner transform\n",
    "H_spin = transform_to_jw_basis(H_fermion)\n",
    "\n",
    "# Using the Bravyi-Kitaev transform\n",
    "H_spin = transform_to_bk_basis(H_fermion)\n",
    "\n",
    "# Using the parity transform\n",
    "H_spin = transform_to_parity_basis(H_fermion)\n",
    "\n",
    "print(f\"H_spin = {H_spin}\")"
   ]
  },
  {
   "cell_type": "markdown",
   "metadata": {},
   "source": [
    "### Electronic-structure Hamiltonian to spin Hamiltonian"
   ]
  },
  {
   "cell_type": "markdown",
   "metadata": {},
   "source": [
    "You can also transform Hamiltonians of the ``ElectronicStructureHamiltonian`` type."
   ]
  },
  {
   "cell_type": "code",
   "execution_count": null,
   "metadata": {
    "execution": {
     "iopub.execute_input": "2022-11-05T19:42:07.153646Z",
     "iopub.status.busy": "2022-11-05T19:42:07.153249Z",
     "iopub.status.idle": "2022-11-05T19:42:07.164461Z",
     "shell.execute_reply": "2022-11-05T19:42:07.163819Z"
    }
   },
   "outputs": [],
   "source": [
    "from qat.fermion.hamiltonians import ElectronicStructureHamiltonian\n",
    "\n",
    "hpq = np.array(\n",
    "    [\n",
    "        [0.0, 1.0, 0.0, 0.0],\n",
    "        [1.0, 0.0, 1.0, 0.0],\n",
    "        [0.0, 1.0, 0.0, 1.0],\n",
    "        [0.0, 0.0, 1.0, 0.0],\n",
    "    ]\n",
    ")\n",
    "\n",
    "hpqrs = np.zeros((4, 4, 4, 4))\n",
    "hpqrs[0, 1, 1, 0] = 0.6\n",
    "hpqrs[1, 0, 0, 1] = 0.6\n",
    "hpqrs[2, 0, 0, 2] = 0.6\n",
    "\n",
    "# We define the fermionic operator H_f, an `ElectronicStructureHamiltonian` object.\n",
    "H_elec = ElectronicStructureHamiltonian(hpq, hpqrs)"
   ]
  },
  {
   "cell_type": "markdown",
   "metadata": {},
   "source": [
    "Just like before we convert the fermionic operator $H_f$ to a spin Hamiltonian operator using the method `.to_spin`."
   ]
  },
  {
   "cell_type": "code",
   "execution_count": null,
   "metadata": {
    "execution": {
     "iopub.execute_input": "2022-11-05T19:42:07.167852Z",
     "iopub.status.busy": "2022-11-05T19:42:07.167088Z",
     "iopub.status.idle": "2022-11-05T19:42:07.264890Z",
     "shell.execute_reply": "2022-11-05T19:42:07.264141Z"
    }
   },
   "outputs": [],
   "source": [
    "# Using the Jordan-Wigner transform\n",
    "H_spin = H_elec.to_spin(\"jordan-wigner\")\n",
    "\n",
    "# # Using the Bravyi-Kitaev transform\n",
    "H_spin = H_elec.to_spin(\"bravyi-kitaev\")\n",
    "\n",
    "# # Using the parity transform\n",
    "H_spin = H_elec.to_spin(\"parity\")\n",
    "\n",
    "print(f\"H_spin = {H_spin}\")"
   ]
  },
  {
   "cell_type": "markdown",
   "metadata": {},
   "source": [
    "Or, using the transformation functions directly:"
   ]
  },
  {
   "cell_type": "code",
   "execution_count": null,
   "metadata": {
    "execution": {
     "iopub.execute_input": "2022-11-05T19:42:07.268682Z",
     "iopub.status.busy": "2022-11-05T19:42:07.268223Z",
     "iopub.status.idle": "2022-11-05T19:42:07.366931Z",
     "shell.execute_reply": "2022-11-05T19:42:07.366175Z"
    }
   },
   "outputs": [],
   "source": [
    "from qat.fermion.transforms import transform_to_jw_basis, transform_to_parity_basis, transform_to_bk_basis\n",
    "\n",
    "# Using the Jordan-Wigner transform\n",
    "H_spin = transform_to_jw_basis(H_elec)\n",
    "\n",
    "# Using the Bravyi-Kitaev transform\n",
    "H_spin = transform_to_bk_basis(H_elec)\n",
    "\n",
    "# Using the parity transform\n",
    "H_spin = transform_to_parity_basis(H_elec)\n",
    "\n",
    "print(f\"H_spin = {H_spin}\")"
   ]
  },
  {
   "cell_type": "markdown",
   "metadata": {
    "tags": []
   },
   "source": [
    "#### Note : Some fermionic Hamiltonian can be casted into an electronic-structure Hamiltonian form."
   ]
  },
  {
   "cell_type": "code",
   "execution_count": null,
   "metadata": {
    "execution": {
     "iopub.execute_input": "2022-11-05T19:42:07.370425Z",
     "iopub.status.busy": "2022-11-05T19:42:07.369931Z",
     "iopub.status.idle": "2022-11-05T19:42:07.415504Z",
     "shell.execute_reply": "2022-11-05T19:42:07.414618Z"
    }
   },
   "outputs": [],
   "source": [
    "?H_fermion.to_electronic"
   ]
  },
  {
   "cell_type": "code",
   "execution_count": null,
   "metadata": {
    "execution": {
     "iopub.execute_input": "2022-11-05T19:42:07.419671Z",
     "iopub.status.busy": "2022-11-05T19:42:07.419130Z",
     "iopub.status.idle": "2022-11-05T19:42:07.424703Z",
     "shell.execute_reply": "2022-11-05T19:42:07.424030Z"
    }
   },
   "outputs": [],
   "source": [
    "H = H_fermion.to_electronic()"
   ]
  }
 ],
 "metadata": {
  "authors": [
   "Thomas Ayral",
   "Satyanarayana Bade",
   "Maxime Oliva"
  ],
  "documentation-tags": {
   "icon": "mirror"
  },
  "kernelspec": {
   "display_name": "Python 3 (ipykernel)",
   "language": "python",
   "name": "python3"
  },
  "language_info": {
   "codemirror_mode": {
    "name": "ipython",
    "version": 3
   },
   "file_extension": ".py",
   "mimetype": "text/x-python",
   "name": "python",
   "nbconvert_exporter": "python",
   "pygments_lexer": "ipython3",
   "version": "3.10.4"
  }
 },
 "nbformat": 4,
 "nbformat_minor": 4
}
