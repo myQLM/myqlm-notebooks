{
  "cells": [
    {
      "cell_type": "markdown",
      "metadata": {},
      "source": [
        "# Synthopline\n",
        "Synthopline (qat.synthopline) is a complete library for quantum circuit synthesis, optimisation, and compilation.\n",
        "\n",
        "Quick introduction to the operator synthesis algorithms can be found here:\n",
        " * [Linear Boolean operator synthesis](./linear_operator_synthesis.ipynb)\n",
        " * [Phase polynomial synthesis](./phase_polynomials.ipynb)\n",
        " * [Trotter expansions](./trotter.ipynb)\n",
        "\n",
        "Also some application of the trotter expansion method to generate [good VQE Ansatz](./fancy_ansatz.ipynb).\n",
        "\n",
        "Synthopline also provides compilation plugins:\n",
        " * [LazySynthesis plugin](./lazy_synthesis.ipynb)\n",
        "\n"
      ]
    },
    {
      "cell_type": "code",
      "execution_count": null,
      "metadata": {},
      "outputs": [],
      "source": []
    }
  ],
  "metadata": {
    "documentation-tags": {
      "icon": "rocket"
    },
    "kernelspec": {
      "display_name": "Python 3 (ipykernel)",
      "language": "python",
      "name": "python3"
    },
    "language_info": {
      "codemirror_mode": {
        "name": "ipython",
        "version": 3
      },
      "file_extension": ".py",
      "mimetype": "text/x-python",
      "name": "python",
      "nbconvert_exporter": "python",
      "pygments_lexer": "ipython3",
      "version": "3.12.3"
    }
  },
  "nbformat": 4,
  "nbformat_minor": 2
}
