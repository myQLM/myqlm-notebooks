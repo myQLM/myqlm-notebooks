{
  "cells": [
    {
      "cell_type": "markdown",
      "metadata": {},
      "source": [
        "# Phase polynomial synthesis\n",
        "\n",
        "Phase polynomials form another efficiently representable class of unitary operators. They take the following form:\n",
        "\n",
        "$$ \\sum_{x} e^{2i\\pi f(x)} |x\\rangle\\langle x| $$\n",
        "\n",
        "where $f: x \\mapsto \\sum_{y \\in \\mathbb{F}_2^n} \\hat{f}(y) (x\\cdot y)$, with Fourier coefficients $\\hat{f}$.\n",
        "\n",
        "This definition is sometimes relaxed to:\n",
        "$$ \\sum_{x} e^{2i\\pi f(x)} |Ax\\rangle\\langle x| $$\n",
        "\n",
        "where $A$ is a linear boolean operator.\n",
        "\n",
        "These corresponds to unitary that can be implemented using CNOT and RZ gates.\n",
        "\n",
        "They are usually described by a collection of pairs $(y, \\hat{f}(y))$ of non-zero Fourier coefficients."
      ]
    },
    {
      "cell_type": "code",
      "execution_count": null,
      "metadata": {},
      "outputs": [],
      "source": [
        "from qat.lang.AQASM import Program, CNOT, PH\n",
        "from qat.synthopline.phase_polynomials import extract_phase_polynomial\n",
        "\n",
        "prog = Program()\n",
        "qbits = prog.qalloc(3)\n",
        "CNOT(qbits[0], qbits[1])\n",
        "PH(prog.new_var(float, \"a\"))(qbits[1])\n",
        "CNOT(qbits[1], qbits[2])\n",
        "PH(prog.new_var(float, \"b\"))(qbits[2])\n",
        "CNOT(qbits[2], qbits[0])\n",
        "PH(prog.new_var(float, \"c\"))(qbits[0])\n",
        "circuit = prog.to_circ()\n",
        "circuit.display()\n",
        "\n",
        "phase_poly, table = extract_phase_polynomial(circuit)\n",
        "print(\"Fourier coefficients:\")\n",
        "for parity, angle in phase_poly.items():\n",
        "    print(parity, angle)\n",
        "print(\"Final linear operator:\")\n",
        "print(table)"
      ]
    },
    {
      "cell_type": "markdown",
      "metadata": {},
      "source": [
        "## Synthesising phase polynomials\n",
        "\n",
        "The method `qat.synthopline.phase_polynomials.phase_polynomial_synthesis` automatically produces a quantum circuit implementing a phase polynomial described by a dictionnary of Fourier coefficients.\n",
        "\n",
        "The default behavior is to call an algorithm called GraySynth (see the documentation for references).\n",
        "\n",
        "By default, the method will make sure that the resulting circuit implements exactly the phase polynomial by synthesizing the final linear operator:"
      ]
    },
    {
      "cell_type": "code",
      "execution_count": null,
      "metadata": {},
      "outputs": [],
      "source": [
        "from qat.synthopline.phase_polynomials import phase_polynomial_synthesis\n",
        "new_circuit, final_table = phase_polynomial_synthesis(phase_poly)\n",
        "new_circuit.display()\n",
        "print(final_table)"
      ]
    },
    {
      "cell_type": "markdown",
      "metadata": {},
      "source": [
        "It is possible to skip this step to save up on CNOTs (depending on the application):"
      ]
    },
    {
      "cell_type": "code",
      "execution_count": null,
      "metadata": {},
      "outputs": [],
      "source": [
        "from qat.synthopline.phase_polynomials import phase_polynomial_synthesis\n",
        "new_circuit, final_table = phase_polynomial_synthesis(phase_poly, synthesize_final=False)\n",
        "new_circuit.display()\n",
        "print(final_table)"
      ]
    },
    {
      "cell_type": "markdown",
      "metadata": {},
      "source": [
        "# Architecture aware synthesis\n",
        "\n",
        "The `phase_polynomial_synthesis` method can also produce harware compatible quantum circuits.\n",
        "\n",
        "Two different backend methods have this ability: **gray_synth_on_graph** and **lazy_synthesis**.\n",
        "\n",
        "They both need a connectivity graph to work on:\n"
      ]
    },
    {
      "cell_type": "code",
      "execution_count": null,
      "metadata": {},
      "outputs": [],
      "source": [
        "from qat.synthopline.phase_polynomials import random_phase_polynomial\n",
        "from qat.devices import GridDevice\n",
        "device = GridDevice(3, 3)\n",
        "print(device)\n",
        "\n",
        "phase_poly = random_phase_polynomial(9, 5)\n",
        "\n",
        "circuit, table = phase_polynomial_synthesis(phase_poly, method=\"gray_synth_on_graph\", graph=device.as_graph(), synthesize_final=False)\n",
        "circuit.display()\n",
        "circuit, table = phase_polynomial_synthesis(phase_poly, method=\"lazy_synth\", depth=6, graph=device.as_graph(), synthesize_final=False)\n",
        "circuit.display()"
      ]
    }
  ],
  "metadata": {
    "documentation-tags": {
      "icon": ":material-regular:`rounded_corner;3em`"
    },
    "kernelspec": {
      "display_name": "Python 3 (ipykernel)",
      "language": "python",
      "name": "python3"
    },
    "language_info": {
      "codemirror_mode": {
        "name": "ipython",
        "version": 3
      },
      "file_extension": ".py",
      "mimetype": "text/x-python",
      "name": "python",
      "nbconvert_exporter": "python",
      "pygments_lexer": "ipython3",
      "version": "3.12.3"
    },
    "qlmaas_force_applications": [
      "random_phase_polynomial",
      "phase_polynomial_synthesis"
    ]
  },
  "nbformat": 4,
  "nbformat_minor": 2
}
