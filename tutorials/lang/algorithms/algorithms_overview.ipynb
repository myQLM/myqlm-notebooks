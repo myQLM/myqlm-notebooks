{
 "cells": [
  {
   "cell_type": "markdown",
   "id": "c1bc40a1",
   "metadata": {},
   "source": [
    " # Basic quantum algorithms\n",
    " \n",
    " We propose a few notebooks presenting some basic quantum algorithms natively accessible in the QLM:\n",
    " - [This notebook presents how to write a basic Grover search algorithm](./grover.ipynb)\n",
    " - [This one presents the phase estimation routine](./phase_estimation.ipynb)\n",
    " - [This one presents the quantum counting routine](./quantum_counting.ipynb)"
   ]
  },
  {
   "cell_type": "code",
   "execution_count": null,
   "id": "7822d66a",
   "metadata": {},
   "outputs": [],
   "source": []
  }
 ],
 "metadata": {
  "documentation-tags": {
   "icon": "database"
  },
  "kernelspec": {
   "display_name": "Python 3 (ipykernel)",
   "language": "python",
   "name": "python3"
  },
  "language_info": {
   "codemirror_mode": {
    "name": "ipython",
    "version": 3
   },
   "file_extension": ".py",
   "mimetype": "text/x-python",
   "name": "python",
   "nbconvert_exporter": "python",
   "pygments_lexer": "ipython3",
   "version": "3.10.4"
  }
 },
 "nbformat": 4,
 "nbformat_minor": 5
}
