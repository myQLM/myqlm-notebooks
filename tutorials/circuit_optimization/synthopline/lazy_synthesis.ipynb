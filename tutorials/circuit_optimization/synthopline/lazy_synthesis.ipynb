{
  "cells": [
    {
      "cell_type": "markdown",
      "metadata": {},
      "source": [
        "# Lazy synthesis\n",
        "\n",
        "LazySynthesis is an algorithm that can compile quantum circuit for some particular hardware connectivity constraints by lazily synthesizing pieces of circuits.\n",
        "\n",
        "It works by maintaining a classical data structure representing a unitary operator in some simple class of operators (Clifford operators).\n",
        "Gates belonging to this simple set of operators are aggregated in the data structure while gates outside of it will trigger partial synthesis of the current operator.\n",
        "\n",
        "Overall, the algorithm tries to minimize the CNOT count of the final circuit.\n",
        "\n",
        "Let us try to compile some circuits!"
      ]
    },
    {
      "cell_type": "code",
      "execution_count": null,
      "metadata": {},
      "outputs": [],
      "source": [
        "from qat.opt import MaxCut\n",
        "import networkx as nx\n",
        "\n",
        "inst_graph = nx.generators.erdos_renyi_graph(16, 0.2)\n",
        "problem = MaxCut(inst_graph)\n",
        "job = problem.to_job(\"qaoa\", 1) # '1' is the depth"
      ]
    },
    {
      "cell_type": "markdown",
      "metadata": {},
      "source": [
        "<div class=\"alert alert-block alert-info\">\n",
        "LazySynthesis <b>compile</b> method can be replaced by the shorter <b>compile_circuit</b> method, when compiling a single circuit. When working directly on the QLM machine, the following syntaxes otherwise a similar purpose: \n",
        "</div>\n",
        "\n",
        "```python\n",
        "compiled_circuit = LazySynthesis().compile(Batch(jobs=[circuit.to_job()], device).jobs[0].circuit\n",
        "compiled_circuit, table = LazySynthesis().compile_circuit(circuit, device)\n",
        "```\n",
        "\n",
        "<div class=\"alert alert-block alert-info\">\n",
        "In this notebook, we use the more verbose <b>compile</b> method to stay most compatible with the myQML Power Acess mode.\n",
        "</div>"
      ]
    },
    {
      "cell_type": "code",
      "execution_count": null,
      "metadata": {},
      "outputs": [],
      "source": [
        "from qat.plugins import LazySynthesis\n",
        "from qat.devices import RIGETTI_ASPEN as device\n",
        "from qat.core import Batch\n",
        "print(\"Using:\\n\", device)\n",
        "compiled_circuit = LazySynthesis().compile(Batch(jobs=[job]), device).jobs[0].circuit\n",
        "print(\"CNOT count:\", (sum(1 if op[0] == \"CNOT\" else 0 for op in compiled_circuit.iterate_simple())))"
      ]
    },
    {
      "cell_type": "markdown",
      "metadata": {},
      "source": [
        "Synthesis using Clifford operator is more expressive than the one using linear operators. But it really shines when dealing with circuit containing many arbitrary Pauli rotations (like, for instance, VQE circuits)."
      ]
    },
    {
      "cell_type": "code",
      "execution_count": null,
      "metadata": {},
      "outputs": [],
      "source": [
        "import numpy as np\n",
        "from qat.lang.AQASM import Program, RX, H, CNOT, PH\n",
        "\n",
        "prog = Program()\n",
        "qbits = prog.qalloc(16)\n",
        "for _ in range(10):\n",
        "    args = np.random.choice(qbits, size=3, replace=False)\n",
        "    paulis = np.random.choice([\"X\", \"Y\", \"Z\"], size=3)\n",
        "    for qbit, pauli in zip(args, paulis):\n",
        "        if pauli == \"X\":\n",
        "            H(qbit)\n",
        "        if pauli == \"Y\":\n",
        "            RX(np.pi/2)(qbit)\n",
        "    CNOT(args[0], args[1])\n",
        "    CNOT(args[1], args[2])\n",
        "    PH(np.random.random() * 2 * np.pi)(args[2])\n",
        "\n",
        "    CNOT(args[1], args[2])\n",
        "    CNOT(args[0], args[1])\n",
        "    for qbit, pauli in zip(args, paulis):\n",
        "        if pauli == \"X\":\n",
        "            H(qbit)\n",
        "        if pauli == \"Y\":\n",
        "            RX(-np.pi/2)(qbit)\n",
        "circuit = prog.to_circ()\n",
        "circuit.display()"
      ]
    },
    {
      "cell_type": "code",
      "execution_count": null,
      "metadata": {},
      "outputs": [],
      "source": [
        "print(\"Original CNOT count:\", sum(1 if op[0] == \"CNOT\" else 0 for op in circuit.iterate_simple()))\n",
        "\n",
        "compiled_circuit = LazySynthesis().compile(Batch(jobs=[circuit.to_job()]), device).jobs[0].circuit\n",
        "print(\"CNOT count:\", (sum(1 if op[0] == \"CNOT\" else 0 for op in compiled_circuit.iterate_simple())))"
      ]
    },
    {
      "cell_type": "markdown",
      "metadata": {},
      "source": [
        "# Seach depth\n",
        "\n",
        "The main parameter of the algorithm is the **depth** of local recursive search. Increasing this parameter might greatly reduce the final CNOT count, while increasing the compilation time:"
      ]
    },
    {
      "cell_type": "code",
      "execution_count": null,
      "metadata": {},
      "outputs": [],
      "source": [
        "print(\"Original CNOT count:\", sum(1 if op[0] == \"CNOT\" else 0 for op in circuit.iterate_simple()))\n",
        "\n",
        "for depth in [0, 1, 2, 3, 4]:\n",
        "    print(f\"============   Depth = {depth}\")\n",
        "    compiled_circuit = LazySynthesis(depth=depth).compile(Batch(jobs=[circuit.to_job()]), device).jobs[0].circuit\n",
        "    print(\"CNOT count:\", (sum(1 if op[0] == \"CNOT\" else 0 for op in compiled_circuit.iterate_simple())))\n"
      ]
    },
    {
      "cell_type": "markdown",
      "metadata": {},
      "source": [
        "# Using LazySynthesis as a Plugin\n",
        "\n",
        "Of course, in practical applications, it is more convenient to include the algorithms as a Plugin in a stack.\n",
        "\n",
        "Notice how we included the target device using `QuameleonPlugin`."
      ]
    },
    {
      "cell_type": "markdown",
      "metadata": {},
      "source": [
        "<div class=\"alert alert-block alert-info\">\n",
        "When working directly on the QLM (ie. not using Qaptiva Access), the Quameleon Plugin below can be created using the following shorthand method:\n",
        "</div>\n",
        "\n",
        "```python\n",
        "device.as_quameleon()\n",
        "```"
      ]
    },
    {
      "cell_type": "code",
      "execution_count": null,
      "metadata": {},
      "outputs": [],
      "source": [
        "inst_graph = nx.generators.erdos_renyi_graph(8, 0.5)\n",
        "problem = MaxCut(inst_graph)\n",
        "job = problem.to_job(\"qaoa\", 1) # '1' is the depth\n",
        "\n",
        "from qat.plugins import ScipyMinimizePlugin, QuameleonPlugin\n",
        "from qat.qpus import get_default_qpu\n",
        "\n",
        "stack = LazySynthesis(depth=3) | ScipyMinimizePlugin(method=\"COBYLA\", tol=1e-5, options={\"maxiter\": 350}) | QuameleonPlugin(specs=device) | get_default_qpu()\n",
        "result = stack.submit(job)\n",
        "print(\"Final energy:\", result.value)"
      ]
    }
  ],
  "metadata": {
    "documentation-tags": {
      "icon": [
        "rocket"
      ]
    },
    "kernelspec": {
      "display_name": "Python 3 (ipykernel)",
      "language": "python",
      "name": "python3"
    },
    "language_info": {
      "codemirror_mode": {
        "name": "ipython",
        "version": 3
      },
      "file_extension": ".py",
      "mimetype": "text/x-python",
      "name": "python",
      "nbconvert_exporter": "python",
      "pygments_lexer": "ipython3",
      "version": "3.12.3"
    }
  },
  "nbformat": 4,
  "nbformat_minor": 4
}
