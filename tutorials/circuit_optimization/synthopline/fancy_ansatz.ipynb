{
  "cells": [
    {
      "cell_type": "markdown",
      "metadata": {},
      "source": [
        "# Optimized VQE Ansatz with qat.synthopline\n",
        "\n",
        "In this notebook, we show how to generate an optimized UCCSD Ansatz for VQE using the `qat.synthopline` module.\n",
        "This module contains efficient tools to synthesize (parametrized) Trotter expansion of operators. It can be used to directly generate\n",
        "efficient jobs from a collection of cluster operators.\n",
        "\n",
        "## Generating the cluster operators\n",
        "\n",
        "First, let us start by generating a necessary cluster operators and Hamiltonian for some molecule.\n",
        "\n",
        "The following lines of code are directly extracted from another tutorial."
      ]
    },
    {
      "cell_type": "code",
      "execution_count": null,
      "metadata": {},
      "outputs": [],
      "source": [
        "import numpy as np\n",
        "\n",
        "lih_data = np.load(\"lih_data.npz\", allow_pickle=True)\n",
        "\n",
        "rdm1 = lih_data[\"rdm1\"]\n",
        "orbital_energies = lih_data[\"orbital_energies\"]\n",
        "nuclear_repulsion = lih_data[\"nuclear_repulsion\"]\n",
        "n_electrons = lih_data[\"n_electrons\"]\n",
        "one_body_integrals = lih_data[\"one_body_integrals\"]\n",
        "two_body_integrals = lih_data[\"two_body_integrals\"]\n",
        "info = lih_data[\"info\"].tolist()\n",
        "\n",
        "nqbits = rdm1.shape[0] * 2\n",
        "\n",
        "from qat.fermion.chemistry import MolecularHamiltonian, MoleculeInfo\n",
        "from qat.fermion.chemistry.ucc import guess_init_params, get_hf_ket, get_cluster_ops\n",
        "\n",
        "# Define the molecular hamiltonian\n",
        "mol_h = MolecularHamiltonian(one_body_integrals, two_body_integrals, nuclear_repulsion)\n",
        "\n",
        "print(mol_h)\n",
        "# Compute the natural orbitals occupation numbers and the basis transformation matrix\n",
        "noons, basis_change = np.linalg.eigh(rdm1)\n",
        "\n",
        "# The noons should be in decreasing order\n",
        "noons = list(reversed(noons))\n",
        "\n",
        "# Since we reversed the noons, we have to flip the basis as well\n",
        "basis_change = np.flip(basis_change, axis=1)\n",
        "# Change the hamiltonian basis\n",
        "mol_h_new_basis = mol_h.transform_basis(basis_change)\n",
        "molecule = MoleculeInfo(\n",
        "    mol_h_new_basis,\n",
        "    n_electrons=n_electrons,\n",
        "    noons=noons,\n",
        "    orbital_energies=orbital_energies,\n",
        ")\n",
        "# Selection of the active space\n",
        "molecule.restrict_active_space(threshold_1=0.02, threshold_2=0.002)\n",
        "\n",
        "# Compute the cluster operators\n",
        "cluster_ops = get_cluster_ops(molecule.n_electrons, noons=molecule.noons)\n",
        "\n",
        "# Computation of the initial  parameters\n",
        "theta_list = guess_init_params(\n",
        "    molecule.two_body_integrals,\n",
        "    molecule.n_electrons,\n",
        "    molecule.orbital_energies,\n",
        ")\n",
        "\n",
        "# Define the initial Hartree-Fock state\n",
        "ket_hf_init = get_hf_ket(molecule.n_electrons, nqbits=molecule.nqbits)\n",
        "# from qat.fermion.transforms import transform_to_bk_basis as transform\n",
        "# from qat.fermion.transforms import recode_integer, get_bk_code as code\n",
        "from qat.fermion.transforms import transform_to_jw_basis as transform\n",
        "from qat.fermion.transforms import recode_integer, get_jw_code as code\n",
        "\n",
        "# Compute the ElectronicStructureHamiltonian\n",
        "H_active = molecule.hamiltonian.get_electronic_hamiltonian()\n",
        "\n",
        "# Transform the ElectronicStructureHamiltonian into a spin Hamiltonian\n",
        "H_active_sp = transform(H_active)\n",
        "\n",
        "\n",
        "# Express the cluster operator in spin terms\n",
        "# Here we group all cluster operators into a single obserable\n",
        "cluster_ops_sp = sum(transform(t_o) for t_o in cluster_ops)\n",
        "\n",
        "# Encoding the initial state to new encoding\n",
        "hf_init_sp = recode_integer(ket_hf_init, code(H_active_sp.nbqbits))"
      ]
    },
    {
      "cell_type": "markdown",
      "metadata": {},
      "source": [
        "## Generating the Ansatz\n",
        "\n",
        "Now that we have our cluster operators and our target Hamiltonian, we can use the `qat.synthopline.generate_trotter_ansatz` method to produce an Ansatz.\n",
        "\n",
        "This method supports various backend algorithms. Here we will iterate over all of them and compare the output circuits."
      ]
    },
    {
      "cell_type": "code",
      "execution_count": null,
      "metadata": {},
      "outputs": [],
      "source": [
        "from qat.synthopline.pauli_synth import generate_trotter_ansatz, STRATEGIES\n",
        "\n",
        "def cnot_depth(job):\n",
        "    \"\"\" Computes the CNOT/CZ depth of a job \"\"\"\n",
        "    depths = [0] * job.circuit.nbqbits\n",
        "    for _, _, qbits in job.circuit.iterate_simple():\n",
        "        if len(qbits) > 1:\n",
        "            gate_depth = max(depths[q] for q in qbits) + 1\n",
        "            for q in qbits:\n",
        "                depths[q] = gate_depth\n",
        "    return max(depths)\n",
        "\n",
        "def cnot_count(job):\n",
        "    \"\"\"\" Computes the number of CNOT/CZ in a job \"\"\"\n",
        "    stats = job.circuit.statistics()['gates']\n",
        "    return stats.get('CNOT', 0) + stats.get('CSIGN', 0) + 3 * stats.get('SWAP', 0)\n",
        "\n",
        "\n",
        "\n",
        "for strategy in STRATEGIES:\n",
        "    job = generate_trotter_ansatz(cluster_ops_sp, final_observable=H_active_sp, init_state=hf_init_sp, strategy=strategy)\n",
        "    print(strategy.ljust(17), cnot_count(job), cnot_depth(job))\n"
      ]
    },
    {
      "cell_type": "markdown",
      "metadata": {},
      "source": [
        "A few things to notice !\n",
        "\n",
        "First, the \"naive\" method is by far the worse strategy. This strategy is the one implemented in the qat.fermion package.\n",
        "\n",
        "The \"commute\" method (the second worse here) corresponds to the published state of the art method.\n",
        "\n",
        "All other methods are in-house methods only available in the QLM.\n",
        "\n",
        "Notice that the \"greedy_depth\" method should be the default choice in that particular case since it achieves the best CNOT count AND CNOT depth.\n",
        "\n",
        "Hence, by using the `generate_trotter_ansatz` one can bring the entangling count from 64 down to 12 and the entangling depth from 64 down to 8.\n",
        "\n",
        "But we can probably do even better by further optimizing the output quantum circuit!\n",
        "\n",
        "For this we will use the `LazySynthesis` plugin to compile the circuit for a all-to-all connectivity.\n",
        "\n",
        "## Pushing the limit\n",
        "\n",
        "Let us try to gain a bit more !"
      ]
    },
    {
      "cell_type": "code",
      "execution_count": null,
      "metadata": {},
      "outputs": [],
      "source": [
        "from qat.synthopline import LazySynthesis\n",
        "from qat.devices import AllToAll\n",
        "\n",
        "best_job = generate_trotter_ansatz(cluster_ops_sp, final_observable=H_active_sp, init_state=hf_init_sp, strategy=\"greedy_depth\")\n",
        "\n",
        "device = AllToAll(cluster_ops_sp.nbqbits)\n",
        "plugin = LazySynthesis(depth=3, merge=True, reorder=True, bidirectional=True, timeout=4, optimize_initial=True)\n",
        "\n",
        "new_job, data = plugin.compile_job(best_job, device)\n",
        "print(\"Final CNOT count:\", cnot_count(new_job))\n"
      ]
    },
    {
      "cell_type": "markdown",
      "metadata": {},
      "source": [
        "We gained a CNOT gate thanks to LazySynthesis. It is not much, but still corresponds to a $8.3\\%$ improvement compared to the previous best job.\n",
        "\n",
        "Overall we reduced the CNOT count by about $83\\%$ !"
      ]
    }
  ],
  "metadata": {
    "documentation-tags": {
      "icon": [
        "beaker",
        "rocket",
        "beaker"
      ]
    },
    "kernelspec": {
      "display_name": "Python 3 (ipykernel)",
      "language": "python",
      "name": "python3"
    },
    "language_info": {
      "codemirror_mode": {
        "name": "ipython",
        "version": 3
      },
      "file_extension": ".py",
      "mimetype": "text/x-python",
      "name": "python",
      "nbconvert_exporter": "python",
      "pygments_lexer": "ipython3",
      "version": "3.12.3"
    },
    "qlmaas": false,
    "vscode": {
      "interpreter": {
        "hash": "f9f85f796d01129d0dd105a088854619f454435301f6ffec2fea96ecbd9be4ac"
      }
    }
  },
  "nbformat": 4,
  "nbformat_minor": 4
}
