{
  "cells": [
    {
      "cell_type": "markdown",
      "metadata": {},
      "source": [
        "# QLM Commands\n",
        "\n",
        "The QLM set of python libraries also comes with a set of command line scripts.\n",
        "\n",
        "\n",
        "## Compiler Commands\n",
        "These commands are used to compile AQASM code into a circuit that can be run with the QLM quantum simulators. They can also be used to convert a quantum circuit to AQASM code so that an existing circuit can be modified.\n",
        "\n",
        "### aqasm2circ\n",
        "\n",
        "This is the main compiler of the QLM. Its converts Atos Quantum Assembly Language (AQASM) into a useable Quantum Circuit for our simulators. \n",
        "The command takes one or two arguments, an input file and optionally an output file. If no output file is supplied the output will be the input file appended with ``.circ`` .\n",
        "\n",
        "Usage:"
      ]
    },
    {
      "cell_type": "code",
      "execution_count": null,
      "metadata": {},
      "outputs": [],
      "source": [
        "%%bash\n",
        "aqasm2circ --help"
      ]
    },
    {
      "cell_type": "markdown",
      "metadata": {},
      "source": [
        "For example, let us dump an AQASM circuit into a file `test1.aqasm`:"
      ]
    },
    {
      "cell_type": "code",
      "execution_count": null,
      "metadata": {},
      "outputs": [],
      "source": [
        "%%writefile test1.aqasm\n",
        "BEGIN\n",
        "qubits 2\n",
        "cbits 1\n",
        "\n",
        "H q[0]\n",
        "MEAS q[0] c[0]\n",
        "?c[0]: X q[1]\n",
        "END"
      ]
    },
    {
      "cell_type": "markdown",
      "metadata": {},
      "source": [
        "And let us call the `aqasm2circ` compiler on the file:"
      ]
    },
    {
      "cell_type": "code",
      "execution_count": null,
      "metadata": {},
      "outputs": [],
      "source": [
        "%%bash\n",
        "\n",
        "# Write a file named input_filename.circ (test1.aqasm in our example)\n",
        "aqasm2circ test1.aqasm\n",
        "# Write a file name \"test.circ\"\n",
        "aqasm2circ test1.aqasm test.circ\n",
        "ls *.circ"
      ]
    },
    {
      "cell_type": "markdown",
      "metadata": {},
      "source": [
        "The generated files are used as the input to one of the various simulators provided in the QLM environment.\n",
        "\n",
        "### circ2aqasm\n",
        "\n",
        "This is the main decompiler for QLM which will take a Quantum Circuit file and return the resulting Atos Quantum Assembly Language (AQASM) file used to generate the circuit. The command takes one or two arguments, an input file and optionally an output file. If no output file is supplied the output will be the input file appended with ``.aqasm``."
      ]
    },
    {
      "cell_type": "code",
      "execution_count": null,
      "metadata": {},
      "outputs": [],
      "source": [
        "%%bash\n",
        "circ2aqasm --help"
      ]
    },
    {
      "cell_type": "markdown",
      "metadata": {},
      "source": [
        " For Example:"
      ]
    },
    {
      "cell_type": "code",
      "execution_count": null,
      "metadata": {},
      "outputs": [],
      "source": [
        "%%bash\n",
        "circ2aqasm test.circ\n",
        "cat test.circ.aqasm"
      ]
    },
    {
      "cell_type": "markdown",
      "metadata": {},
      "source": [
        "## Simulator Commands\n",
        "\n",
        "It is also possible to call any QPU and Plugin stack from the command line using the `qat-jobrun` and `qat-batchrun` commands.\n",
        "\n",
        "### qat-jobrun and qat-batchrun\n",
        "\n",
        "This command will deserialize a job (or a batch) and run it via some execution stack"
      ]
    },
    {
      "cell_type": "code",
      "execution_count": null,
      "metadata": {},
      "outputs": [],
      "source": [
        "%%bash\n",
        "qat-jobrun --help"
      ]
    },
    {
      "cell_type": "code",
      "execution_count": null,
      "metadata": {},
      "outputs": [],
      "source": [
        "%%bash\n",
        "qat-batchrun --help"
      ]
    },
    {
      "cell_type": "markdown",
      "metadata": {},
      "source": [
        "QPUs and Plugins are referred to using the `namespace:class_name` convention."
      ]
    },
    {
      "cell_type": "code",
      "execution_count": null,
      "metadata": {
        "collapsed": true
      },
      "outputs": [],
      "source": [
        "from qat.core import Circuit, Batch\n",
        "circuit = Circuit.load(\"test.circ\")\n",
        "job = circuit.to_job(nbshots=100)\n",
        "job.dump(\"test.job\")\n",
        "batch = Batch(jobs=[job]*3)\n",
        "batch.dump(\"test.batch\")"
      ]
    },
    {
      "cell_type": "code",
      "execution_count": null,
      "metadata": {},
      "outputs": [],
      "source": [
        "%%bash\n",
        "qat-jobrun --qpu qat.pylinalg:PyLinalg test.job"
      ]
    },
    {
      "cell_type": "markdown",
      "metadata": {},
      "source": [
        "It is possible to dump the results in a binary file instead of having to parse the stdout:"
      ]
    },
    {
      "cell_type": "code",
      "execution_count": null,
      "metadata": {},
      "outputs": [],
      "source": [
        "%%bash\n",
        "qat-jobrun --qpu qat.pylinalg:PyLinalg test.job -o jobres.res"
      ]
    },
    {
      "cell_type": "markdown",
      "metadata": {},
      "source": [
        "The same goes for the `qat-batchrun` script:"
      ]
    },
    {
      "cell_type": "code",
      "execution_count": null,
      "metadata": {
        "collapsed": true
      },
      "outputs": [],
      "source": [
        "%%bash\n",
        "qat-batchrun --qpu qat.pylinalg:PyLinalg test.batch"
      ]
    },
    {
      "cell_type": "code",
      "execution_count": null,
      "metadata": {
        "collapsed": true
      },
      "outputs": [],
      "source": [
        "%%bash\n",
        "qat-batchrun --qpu qat.pylinalg:PyLinalg test.batch -o batchres.res"
      ]
    },
    {
      "cell_type": "markdown",
      "metadata": {},
      "source": [
        "### qat-resprint\n",
        "\n",
        "Naturally, there is a command to display a dumped result in the stdout:"
      ]
    },
    {
      "cell_type": "code",
      "execution_count": null,
      "metadata": {
        "collapsed": true
      },
      "outputs": [],
      "source": [
        "%%bash\n",
        "qat-resprint --help"
      ]
    },
    {
      "cell_type": "code",
      "execution_count": null,
      "metadata": {
        "collapsed": true
      },
      "outputs": [],
      "source": [
        "%%bash\n",
        "qat-resprint jobres.res -N 2"
      ]
    },
    {
      "cell_type": "code",
      "execution_count": null,
      "metadata": {
        "collapsed": true
      },
      "outputs": [],
      "source": [
        "%%bash\n",
        "qat-resprint -b batchres.res -N 2"
      ]
    },
    {
      "cell_type": "markdown",
      "metadata": {},
      "source": [
        "### qat-circstat\n",
        "\n",
        "This command display some statistics about a serialized circuit. The output is pretty straightforward to interpretate:"
      ]
    },
    {
      "cell_type": "code",
      "execution_count": null,
      "metadata": {
        "collapsed": true
      },
      "outputs": [],
      "source": [
        "%%bash\n",
        "qat-circstat test.circ"
      ]
    }
  ],
  "metadata": {
    "authors": [
      "Simon Martiel",
      "Jerome Pioux"
    ],
    "documentation-tags": {
      "icon": ":material-outlined:`terminal;3em`"
    },
    "kernelspec": {
      "display_name": "Python 3 (ipykernel)",
      "language": "python",
      "name": "python3"
    },
    "language_info": {
      "codemirror_mode": {
        "name": "ipython",
        "version": 3
      },
      "file_extension": ".py",
      "mimetype": "text/x-python",
      "name": "python",
      "nbconvert_exporter": "python",
      "pygments_lexer": "ipython3",
      "version": "3.9.18"
    }
  },
  "nbformat": 4,
  "nbformat_minor": 1
}
