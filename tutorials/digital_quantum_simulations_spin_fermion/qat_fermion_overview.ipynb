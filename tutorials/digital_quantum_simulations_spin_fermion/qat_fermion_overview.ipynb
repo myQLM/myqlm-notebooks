{
 "cells": [
  {
   "cell_type": "markdown",
   "metadata": {
    "tags": []
   },
   "source": [
    "# Running digital quantum simulations for spin and fermionic systems\n",
    "\n",
    "\n",
    "We provide here a serie of Jupyter notebooks which serve as examples of `qat.fermion` capabilities.\n",
    "\n",
    "\n",
    "- [Spin-fermions transforms](./qat_fermion_spin_fermion_transforms.ipynb)\n",
    "- [Variational Quantum Eigensolver for fermions](./qat_fermion_vqe_hubbard.ipynb)\n",
    "- [Quantum Phase Estimation on the Hubbard molecule](./qat_fermion_qpe_hubbard_molecule.ipynb)\n",
    "- [VQE for a H2 molecule using the UCC ansatz](./qat_fermion_vqe_ucc_example_1_h2.ipynb)\n",
    "- [VQE for a LiH molecule using the UCC ansatz](./qat_fermion_vqe_ucc_example_2_lih.ipynb)\n",
    "- [Advanced VQE: Quantum Subspace Expansion](./qat_fermion_quantum_subspace_expansion_h2.ipynb)\n",
    "- [Natural gradient-based optimizer](./qat_fermion_natural_gradient_vqe.ipynb)\n",
    "- [Optimizing circuits with the sequential optimization plugin](./qat_fermion_sequential_optimization_plugin.ipynb)\n",
    "- [Mitigating multiqubit gate noise](./qat_fermion_zero_noise_extrapolation_plugin.ipynb)\n",
    "- [Running several optimizations and keeping the best one with MultipleLaunchesAnalyzer](./qat_fermion_multiple_launches_analyzer_plugin.ipynb)"
   ]
  }
 ],
 "metadata": {
  "authors": [
   "Maxime Oliva"
  ],
  "documentation-tags": {
   "icon": "beaker"
  },
  "kernelspec": {
   "display_name": "Python 3 (ipykernel)",
   "language": "python",
   "name": "python3"
  },
  "language_info": {
   "codemirror_mode": {
    "name": "ipython",
    "version": 3
   },
   "file_extension": ".py",
   "mimetype": "text/x-python",
   "name": "python",
   "nbconvert_exporter": "python",
   "pygments_lexer": "ipython3",
   "version": "3.10.4"
  }
 },
 "nbformat": 4,
 "nbformat_minor": 4
}
