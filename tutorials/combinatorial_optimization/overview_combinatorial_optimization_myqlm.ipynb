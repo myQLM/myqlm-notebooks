{
 "cells": [
  {
   "cell_type": "markdown",
   "metadata": {},
   "source": [
    "# Combinatorial Optimization Problems\n",
    "\n",
    "All the famous NP problems can be formulated as minimization or maximization problems. They can either be represented in the form of clauses of boolean variables (the class `CombinatorialProblem`), an Ising (the class `Ising`) form or a Quadratic Unconstrained Binary Optimization (the class `QUBO`) form $-$ take a look at the [Introduction](./introduction_combinatorial_optimization_myqlm.ipynb). \n",
    "\n",
    "### Quantum Approximate Optimization Algorithm (QAOA)\n",
    "The Quantum Approximate Optimization Algorithm (QAOA) is a widely-studied method for solving combinatorial optimization problems on NISQ devices. \n",
    "\n",
    "For each combinatorial optimization problem, we can construct a QAOA variational ansätz from it. A quantum circuit can then be executed to determine the paramaters that optimize the variational ansätz. Once the optimal variables are found, another sampling job is ran to find the most probable states of the distribution corresponding to the optimized QAOA parameters. The state distribution that can be observed in this sampling job corresponds to the result of the combinatorial optimization problem.\n",
    "\n",
    "### Simulated Annealing and QUBO\n",
    "\n",
    "At the same time, myQLM is equipped with a Simulated Annealing (SA) solver, which can heuristically find a solution of such Ising or QUBO problems. \n",
    "\n",
    "## Solving Combinatorial Optimization problems on myQLM\n",
    "\n",
    "One is therefore welcome to explore solving some of these NP problems either using the QAOA variational ansätze method or using SA. A list of the problems currently supported is provided below. \n",
    "\n",
    "In general, this folder contains notebooks that combine different tools provided inside the `qat.opt`, `qat.mc` and `qat.simulated_annealing` namespaces. \n",
    "\n",
    "#### Unconstrained Graph Problems\n",
    "- [Max Cut](./max_cut_myqlm.ipynb)\n",
    "- [Graph Partitioning](./graph_partitioning_myqlm.ipynb)\n",
    "\n",
    "#### Constrained Graph Problems\n",
    "- [K-Clique](./k_clique_myqlm.ipynb)\n",
    "- [Vertex Cover](./vertex_cover_myqlm.ipynb)\n",
    "\n",
    "#### Other NP Problems\n",
    "- [Number Partitioning](./number_partitioning_myqlm.ipynb)\n"
   ]
  }
 ],
 "metadata": {
  "authors": [
   "Grigori Matein"
  ],
  "documentation-tags": {
   "icon": [
    ":material-outlined:`thermostat;44px`",
    ":material-outlined:`trending_down;44px`",
    ":material-outlined:`radar;42px`",
    "rocket"
   ]
  },
  "kernelspec": {
   "display_name": "Python 3 (ipykernel)",
   "language": "python",
   "name": "python3"
  },
  "language_info": {
   "codemirror_mode": {
    "name": "ipython",
    "version": 3
   },
   "file_extension": ".py",
   "mimetype": "text/x-python",
   "name": "python",
   "nbconvert_exporter": "python",
   "pygments_lexer": "ipython3",
   "version": "3.10.4"
  }
 },
 "nbformat": 4,
 "nbformat_minor": 4
}
