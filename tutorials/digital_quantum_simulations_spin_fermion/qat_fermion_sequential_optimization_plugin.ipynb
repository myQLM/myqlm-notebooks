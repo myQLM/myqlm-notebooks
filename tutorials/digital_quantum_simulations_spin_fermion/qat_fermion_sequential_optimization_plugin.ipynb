{
 "cells": [
  {
   "cell_type": "markdown",
   "metadata": {
    "tags": []
   },
   "source": [
    "# Optimizing circuits with the sequential optimization plugin\n",
    "\n",
    "The sequential minimization optimization is a hybrid classical-quantum algorithm which leverages the parameter-shift rule to locally optimize the angles of a certain class of circuit with three energy measurements. \n",
    "\n",
    "This algorithm is described in [Nakanishi et al., (2020)](https://arxiv.org/abs/1903.12166) and [Ostaszewski et al., (2021)](https://arXiv.org/abs/1905.09692) (where it is called 'rotosolve').\n",
    "\n",
    "It only applies to circuits whose parametrized gates are of the form $$G(\\theta)=e^{-ic\\theta/2\\hat{P}}$$ where $\\hat{P}$ is a tensor product of Pauli matrices and $c$ is a constant.\n",
    "\n",
    "The algorithm provides local parameter updates by measuring the energy associated to symmetric shifts around the current value of the angle that is being optimized, and in the absence of any noise source it is completely deterministic.\n",
    "\n",
    "This optimization algorithm has been implemented in the QLM as the `SeqOptim` plugin. The $c$ constant can be set using the `coeff` input of the plugin.\n",
    "\n",
    "We compare the sequential optimization method of `SeqOptim` to the COBYLA method of the `ScipyMinimizePlugin`.\n",
    "\n",
    "In general, the sequential algorithm is expected to perform better than COBYLA in presence of shot noise."
   ]
  },
  {
   "cell_type": "code",
   "execution_count": null,
   "metadata": {
    "execution": {
     "iopub.execute_input": "2022-11-05T19:42:05.893475Z",
     "iopub.status.busy": "2022-11-05T19:42:05.893151Z",
     "iopub.status.idle": "2022-11-05T19:42:06.805475Z",
     "shell.execute_reply": "2022-11-05T19:42:06.804770Z"
    }
   },
   "outputs": [],
   "source": [
    "from collections import defaultdict\n",
    "from itertools import product\n",
    "import numpy as np\n",
    "import matplotlib.pyplot as plt\n",
    "\n",
    "from qat.qpus import get_default_qpu\n",
    "\n",
    "from qat.fermion.transforms import transform_to_jw_basis\n",
    "from qat.fermion.hamiltonians import make_embedded_model\n",
    "from qat.fermion.circuits import make_shallow_circ, make_ldca_circ\n",
    "\n",
    "from qat.plugins import ScipyMinimizePlugin, SeqOptim"
   ]
  },
  {
   "cell_type": "markdown",
   "metadata": {},
   "source": [
    "## 1. Definition of the target Hamiltonian\n",
    "\n",
    "We want to find the approximate ground state of a Hamiltonian describing a single impurity (onsite Coulomb repulsion $U=1$) coupled to a single bath level, which corresponds to 4-qubit circuits. We set $\\mu=U/2$ to enforce half-filling, and consider the paramagnetic case."
   ]
  },
  {
   "cell_type": "code",
   "execution_count": null,
   "metadata": {
    "execution": {
     "iopub.execute_input": "2022-11-05T19:42:06.809735Z",
     "iopub.status.busy": "2022-11-05T19:42:06.809254Z",
     "iopub.status.idle": "2022-11-05T19:42:06.821714Z",
     "shell.execute_reply": "2022-11-05T19:42:06.821232Z"
    }
   },
   "outputs": [],
   "source": [
    "U = 1\n",
    "mu = U / 2\n",
    "D = 0.4 * np.eye(2)\n",
    "lambda_c = -0.04 * np.eye(2)\n",
    "hamiltonian = make_embedded_model(U, mu, D, lambda_c, grouping=\"spins\")"
   ]
  },
  {
   "cell_type": "markdown",
   "metadata": {},
   "source": [
    "**Note**: the ordering of the orbitals, done via the grouping option `grouping=\"spins\"`, is crucial for the hardware efficient ansatz circuit."
   ]
  },
  {
   "cell_type": "markdown",
   "metadata": {},
   "source": [
    "For assessing the plugin results later on, we compute the exact energy of the Hamiltonian ground state via direct diagonalization."
   ]
  },
  {
   "cell_type": "code",
   "execution_count": null,
   "metadata": {
    "execution": {
     "iopub.execute_input": "2022-11-05T19:42:06.824881Z",
     "iopub.status.busy": "2022-11-05T19:42:06.824631Z",
     "iopub.status.idle": "2022-11-05T19:42:06.829377Z",
     "shell.execute_reply": "2022-11-05T19:42:06.828888Z"
    }
   },
   "outputs": [],
   "source": [
    "eigvals_cl = np.linalg.eigvalsh(hamiltonian.get_matrix())\n",
    "E0 = min(eigvals_cl)\n",
    "print(f\"Exact ground state energy:\\nE0 = {E0}\")"
   ]
  },
  {
   "cell_type": "markdown",
   "metadata": {
    "tags": []
   },
   "source": [
    "## 2. Optimization of a small hardware-efficient ansatz circuit\n",
    "We first run VQE on a circuit comprising only a few $CNOT$ gates. The parameters of the variational state are the angles of the $RY$ gates. Since the definition of a $RY$ gate is\n",
    "\n",
    "$$ RY(\\theta) = e^{-i\\theta/2\\hat{Y}} $$\n",
    "\n",
    "we can optimize the variational angles of the circuit thanks to the sequential optimization plugin.\n",
    "\n",
    "**Note**: The $c$ constant is here $c=1$. Since this is the default behaviour of the plugin, setting the `coeff` input when initializing `SeqOptim`is not needed. Here we do it anyway for comprehension purpose."
   ]
  },
  {
   "cell_type": "code",
   "execution_count": null,
   "metadata": {
    "execution": {
     "iopub.execute_input": "2022-11-05T19:42:06.875602Z",
     "iopub.status.busy": "2022-11-05T19:42:06.875131Z",
     "iopub.status.idle": "2022-11-05T19:42:07.288184Z",
     "shell.execute_reply": "2022-11-05T19:42:07.287523Z"
    }
   },
   "outputs": [],
   "source": [
    "# Define a shallow circuit\n",
    "circ = make_shallow_circ()\n",
    "circ.display()"
   ]
  },
  {
   "cell_type": "markdown",
   "metadata": {},
   "source": [
    "<div class=\"alert alert-block alert-info\">\n",
    "<b>Info:</b> For myQLM users, an additional step is here necessary. We have to use the <em> ObservableSplitter</em> in our stack to sample the <em>Observable</em>.\n",
    "</div>"
   ]
  },
  {
   "cell_type": "code",
   "execution_count": null,
   "metadata": {
    "execution": {
     "iopub.execute_input": "2022-11-05T19:42:07.291680Z",
     "iopub.status.busy": "2022-11-05T19:42:07.290989Z",
     "iopub.status.idle": "2022-11-05T19:42:07.298692Z",
     "shell.execute_reply": "2022-11-05T19:42:07.298089Z"
    }
   },
   "outputs": [],
   "source": [
    "from qat.plugins import ObservableSplitter\n",
    "\n",
    "# Set the seed to ensure reproducibility of the results\n",
    "np.random.seed(20)\n",
    "\n",
    "# Define random initial parameters\n",
    "x0 = np.random.random(len(circ.var_dic))\n",
    "print(f\"Initial parameters x0 = {x0}\")\n",
    "\n",
    "# Initialize the QPU\n",
    "qpu = get_default_qpu()\n",
    "\n",
    "# Initialize the stacks\n",
    "stacks = {}\n",
    "\n",
    "# COBYLA stack\n",
    "scipy_optimizer = ScipyMinimizePlugin(x0=x0, method=\"COBYLA\", tol=1e-3, options={\"maxiter\": 100})\n",
    "stacks[\"cobyla\"] = scipy_optimizer | ObservableSplitter() |  qpu\n",
    "\n",
    "# Sequential optimizer stack\n",
    "sequential_optimizer = SeqOptim(x0=x0, ncycles=10, coeff=1.0)\n",
    "stacks[\"seqoptim\"] = sequential_optimizer | ObservableSplitter() | qpu"
   ]
  },
  {
   "cell_type": "markdown",
   "metadata": {},
   "source": [
    "We will compare the performance of the plugins for infinite shots and for 4096 shots. To do so, we define two jobs:"
   ]
  },
  {
   "cell_type": "code",
   "execution_count": null,
   "metadata": {
    "execution": {
     "iopub.execute_input": "2022-11-05T19:42:07.301441Z",
     "iopub.status.busy": "2022-11-05T19:42:07.301124Z",
     "iopub.status.idle": "2022-11-05T19:42:07.340193Z",
     "shell.execute_reply": "2022-11-05T19:42:07.339471Z"
    }
   },
   "outputs": [],
   "source": [
    "# Get the Hamiltonian in spin representation\n",
    "hamiltonian_spin = transform_to_jw_basis(hamiltonian)\n",
    "\n",
    "jobs = {\n",
    "    \"infinite_n_shots\": circ.to_job(job_type=\"OBS\", observable=hamiltonian_spin),\n",
    "    \"finite_n_shots\": circ.to_job(job_type=\"OBS\", observable=hamiltonian_spin, nbshots=4096),\n",
    "}"
   ]
  },
  {
   "cell_type": "markdown",
   "metadata": {},
   "source": [
    "We now submit the two jobs to the two stacks previously defined."
   ]
  },
  {
   "cell_type": "code",
   "execution_count": null,
   "metadata": {
    "execution": {
     "iopub.execute_input": "2022-11-05T19:42:07.343332Z",
     "iopub.status.busy": "2022-11-05T19:42:07.342938Z",
     "iopub.status.idle": "2022-11-05T19:43:08.473846Z",
     "shell.execute_reply": "2022-11-05T19:43:08.472126Z"
    }
   },
   "outputs": [],
   "source": [
    "results = defaultdict(dict)\n",
    "\n",
    "for job_name in jobs:\n",
    "    for stack_name in stacks:\n",
    "\n",
    "        # Get stack and job\n",
    "        stack = stacks[stack_name]\n",
    "        job = jobs[job_name]\n",
    "\n",
    "        # Submit job to the stack\n",
    "        result = stack.submit(job)\n",
    "        results[stack_name][job_name] = eval(result.meta_data[\"optimization_trace\"])"
   ]
  },
  {
   "cell_type": "markdown",
   "metadata": {},
   "source": [
    "We plot the evolution of the variational energy during the optimization using the shallow circuit ansatz:"
   ]
  },
  {
   "cell_type": "code",
   "execution_count": null,
   "metadata": {
    "execution": {
     "iopub.execute_input": "2022-11-05T19:43:08.478643Z",
     "iopub.status.busy": "2022-11-05T19:43:08.478410Z",
     "iopub.status.idle": "2022-11-05T19:43:08.703842Z",
     "shell.execute_reply": "2022-11-05T19:43:08.703172Z"
    }
   },
   "outputs": [],
   "source": [
    "# Initialize figure and plot exact energy line\n",
    "fig, ax = plt.subplots(figsize=((8, 5)))\n",
    "ax.axhline(E0, lw=2, color=\"black\", label=\"E0\")\n",
    "\n",
    "# Unpack and plot the optimization traces\n",
    "for job_name in jobs:\n",
    "    for stack_name in stacks:\n",
    "\n",
    "        # In SeqOptim, only one measurement out of three is the energy\n",
    "        step = 1 if stack_name == \"cobyla\" else 3\n",
    "\n",
    "        ax.plot(results[stack_name][job_name][::step], \"-x\", label=f\"{job_name}, {stack_name}\", alpha=0.7, lw=3)\n",
    "\n",
    "ax.grid()\n",
    "ax.set_xlabel(\"VQE step\")\n",
    "ax.set_ylabel(\"E\")\n",
    "ax.set_title(\"Optimization of the HEA ansatz\")\n",
    "fig.legend(loc=(0.5, 0.5))"
   ]
  },
  {
   "cell_type": "markdown",
   "metadata": {},
   "source": [
    "We can see that the energy converges much faster with `SeqOptim` than with `ScipyMinimizePlugin`'s COBYLA method. The number of shots does not significatively influence the results."
   ]
  },
  {
   "cell_type": "markdown",
   "metadata": {},
   "source": [
    "## 3. Optimization of the 1-cycle LDCA circuit\n",
    "\n",
    "We now turn to a more complex optimization, using a physically-inspired ansatz circuit called the Low-Depth Circuit Ansatz (LDCA). Its tunable gates are two-qubits rotation gates which, when compiled into the native IBM gate set, are simply one-qubit Pauli rotation gates.\n",
    "\n",
    "**Note** : To make these two-qubits gates QLM compatible, we need to set `coeff=0.5` in the `SeqOptim`plugin."
   ]
  },
  {
   "cell_type": "code",
   "execution_count": null,
   "metadata": {
    "execution": {
     "iopub.execute_input": "2022-11-05T19:43:08.706773Z",
     "iopub.status.busy": "2022-11-05T19:43:08.706569Z",
     "iopub.status.idle": "2022-11-05T19:43:09.252384Z",
     "shell.execute_reply": "2022-11-05T19:43:09.250898Z"
    }
   },
   "outputs": [],
   "source": [
    "circ = make_ldca_circ(4, 1)\n",
    "circ.display()"
   ]
  },
  {
   "cell_type": "markdown",
   "metadata": {},
   "source": [
    "We now follow the same steps as previously:"
   ]
  },
  {
   "cell_type": "code",
   "execution_count": null,
   "metadata": {
    "execution": {
     "iopub.execute_input": "2022-11-05T19:43:09.256743Z",
     "iopub.status.busy": "2022-11-05T19:43:09.256284Z",
     "iopub.status.idle": "2022-11-05T19:43:09.268191Z",
     "shell.execute_reply": "2022-11-05T19:43:09.267493Z"
    }
   },
   "outputs": [],
   "source": [
    "# Define new random initial parameters\n",
    "x0 = np.random.random(len(circ.var_dic))\n",
    "print(f\"Initial parameters x0 = {x0}\")\n",
    "\n",
    "# Update COBYLA stack\n",
    "scipy_optimizer = ScipyMinimizePlugin(x0=x0, method=\"COBYLA\", tol=1e-3, options={\"maxiter\": 200})\n",
    "stacks[\"cobyla\"] = scipy_optimizer | ObservableSplitter() | qpu\n",
    "\n",
    "# Sequential optimizer stack\n",
    "sequential_optimizer = SeqOptim(x0=x0, ncycles=10, coeff=0.5)\n",
    "stacks[\"seqoptim\"] = sequential_optimizer | ObservableSplitter() | qpu"
   ]
  },
  {
   "cell_type": "code",
   "execution_count": null,
   "metadata": {
    "execution": {
     "iopub.execute_input": "2022-11-05T19:43:09.271633Z",
     "iopub.status.busy": "2022-11-05T19:43:09.271101Z",
     "iopub.status.idle": "2022-11-05T19:48:05.836354Z",
     "shell.execute_reply": "2022-11-05T19:48:05.834460Z"
    }
   },
   "outputs": [],
   "source": [
    "# Redefine the jobs with the LDCA circuit\n",
    "jobs = {\n",
    "    \"infinite_n_shots\": circ.to_job(job_type=\"OBS\", observable=hamiltonian_spin),\n",
    "    \"finite_n_shots\": circ.to_job(job_type=\"OBS\", observable=hamiltonian_spin, nbshots=4096),\n",
    "}\n",
    "\n",
    "# Submit the jobs to the stacks\n",
    "results = defaultdict(dict)\n",
    "\n",
    "for job_name in jobs:\n",
    "    for stack_name in stacks:\n",
    "\n",
    "        # Get stack and job\n",
    "        stack = stacks[stack_name]\n",
    "        job = jobs[job_name]\n",
    "\n",
    "        # Submit job to the stack\n",
    "        result = stack.submit(job)\n",
    "        results[stack_name][job_name] = eval(result.meta_data[\"optimization_trace\"])"
   ]
  },
  {
   "cell_type": "markdown",
   "metadata": {},
   "source": [
    "We plot the evolution of the variational energy during the optimization using the LDCA circuit ansatz:"
   ]
  },
  {
   "cell_type": "code",
   "execution_count": null,
   "metadata": {
    "execution": {
     "iopub.execute_input": "2022-11-05T19:48:05.841222Z",
     "iopub.status.busy": "2022-11-05T19:48:05.840251Z",
     "iopub.status.idle": "2022-11-05T19:48:06.064768Z",
     "shell.execute_reply": "2022-11-05T19:48:06.063487Z"
    }
   },
   "outputs": [],
   "source": [
    "# Initialize figure and plot exact energy line\n",
    "fig, ax = plt.subplots(figsize=((8, 5)))\n",
    "ax.axhline(E0, lw=2, color=\"black\", label=\"E0\")\n",
    "\n",
    "# Unpack and plot the optimization traces\n",
    "for job_name in jobs:\n",
    "    for stack_name in stacks:\n",
    "\n",
    "        # In SeqOptim, only one measurement out of three is the energy\n",
    "        step = 1 if stack_name == \"cobyla\" else 3\n",
    "\n",
    "        ax.plot(results[stack_name][job_name][::step], \".-\", label=f\"{job_name}, {stack_name}\", alpha=0.7)\n",
    "\n",
    "ax.grid()\n",
    "ax.set_xlabel(\"VQE step\")\n",
    "ax.set_ylabel(\"E\")\n",
    "ax.set_title(\"Optimization of the 1-cycle LDCA ansatz\")\n",
    "fig.legend(loc=(0.5, 0.5))"
   ]
  },
  {
   "cell_type": "markdown",
   "metadata": {},
   "source": [
    "Again, the energy converges much faster with `SeqOptim` than with `ScipyMinimizePlugin`'s COBYLA method, while being les sensitive to shot noise."
   ]
  }
 ],
 "metadata": {
  "authors": [
   "Maxime Oliva",
   "Pauline Besserve"
  ],
  "documentation-tags": {
   "icon": "quote"
  },
  "kernelspec": {
   "display_name": "Python 3 (ipykernel)",
   "language": "python",
   "name": "python3"
  },
  "language_info": {
   "codemirror_mode": {
    "name": "ipython",
    "version": 3
   },
   "file_extension": ".py",
   "mimetype": "text/x-python",
   "name": "python",
   "nbconvert_exporter": "python",
   "pygments_lexer": "ipython3",
   "version": "3.10.4"
  },
  "vscode": {
   "interpreter": {
    "hash": "e7370f93d1d0cde622a1f8e1c04877d8463912d04d973331ad4851f04de6915a"
   }
  }
 },
 "nbformat": 4,
 "nbformat_minor": 4
}
