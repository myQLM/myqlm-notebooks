{
  "cells": [
    {
      "cell_type": "markdown",
      "metadata": {},
      "source": [
        "# Satisfying connectivity constraints\n",
        "\n",
        "Today, most hardware has connectivity constraints, two qubits gates can only be executed on few pairs of qubits. Pairs of qubits that can interact define the connectivity constraints of a hardware. Solving *the swap insertion problem* consists in inserting SWAP gates in a circuit to make it compliant with connectivity constraints of a specific hardware. The QLM provides a module **qat.nnize** implementing algorithms to solve *the swap insertion problem*. \n",
        "\n",
        "For instance, considering a fake quantum computer which has few connectivity constraints defined by the following graph:\n",
        "\n",
        "<img src=\"images/topology.png\" width=\"200px\"/>\n",
        "\n",
        "\n",
        "On this computer, two qubits gates can then only be executed using one of the following pairs: `[(0, 1), (0, 2), (1, 3), (2, 3), (2, 4), (3, 4)]` (corresponding to the edges of the previous graph).\n",
        "\n",
        "This notebook brings an answer to the question: **\"I have a circuit (a QFT). How can one adapt this circuit to make it compliant with the connectivity constraints of this computer?\"**\n",
        "\n",
        "\n",
        "## Defining hardware specifications\n",
        "Connectivity constraints can be defined by the class `qat.core.Topology`. Few topologies are predefined:\n",
        " - **ALL_TO_ALL**: There is no connectivity constraints\n",
        " - **LNN**: Gates can only be applied between qubits of index $i$ and $i + 1$ ($\\forall i \\in [\\![0; n - 1]\\!]$)\n",
        " - **CUSTOM**: Custom constraints\n",
        " \n",
        "For instance, few topologies can be defined using the following code:"
      ]
    },
    {
      "cell_type": "code",
      "execution_count": null,
      "metadata": {},
      "outputs": [],
      "source": [
        "from qat.core import Topology, TopologyType\n",
        "\n",
        "# Define a topology without connectivity constraints\n",
        "no_constraint = Topology(type=TopologyType.ALL_TO_ALL)\n",
        "\n",
        "# Define an LNN topology\n",
        "lnn = Topology(type=TopologyType.LNN)\n",
        "\n",
        "# Define custom topology\n",
        "my_topology = Topology()\n",
        "\n",
        "for i, j in [(0, 1), (0, 2), (1, 3),\n",
        "             (2, 3), (2, 4), (3, 4)]:\n",
        "    my_topology.add_edge(i, j)"
      ]
    },
    {
      "cell_type": "markdown",
      "metadata": {},
      "source": [
        "To make a circuit compliant with the hardware specifications, one need to manage the hardware specifications (and not only the topology).\n",
        "The Python class `qat.core.HardwareSpecs` defines specifications of an hardware. For instance, the following code defines specifications of my hardware."
      ]
    },
    {
      "cell_type": "code",
      "execution_count": null,
      "metadata": {},
      "outputs": [],
      "source": [
        "from qat.core import HardwareSpecs\n",
        "\n",
        "# Define a hardware: 5 qubits + connectivity constraints\n",
        "my_hardware = HardwareSpecs(nbqbits=5, topology=my_topology)"
      ]
    },
    {
      "cell_type": "markdown",
      "metadata": {},
      "source": [
        "## Solving the swap insertion problem\n",
        "Since hardware specifications has been defined, one need to update a circuit to make it compliant with `my_hardware`. First, let's define a QFT."
      ]
    },
    {
      "cell_type": "code",
      "execution_count": null,
      "metadata": {},
      "outputs": [],
      "source": [
        "from qat.lang.AQASM import Program\n",
        "from qat.lang.AQASM.qftarith import QFT\n",
        "\n",
        "# Get the number of qubits\n",
        "nb_qubits = my_hardware.nbqbits\n",
        "\n",
        "# Define a program\n",
        "prog = Program()\n",
        "qubits = prog.qalloc(nb_qubits)\n",
        "prog.apply(QFT(nb_qubits), qubits)\n",
        "circ = prog.to_circ(inline=True)\n",
        "\n",
        "# Display circuit\n",
        "circ.display()"
      ]
    },
    {
      "cell_type": "markdown",
      "metadata": {},
      "source": [
        "Few algorithm are implemented in **qat.nnize** to solve the swap insertion problem:\n",
        " - **atos**: based on a strict generalization of the algorithm described in [An Efficient Method to Convert Arbitrary Quantum Circuits to Ones on a Linear Nearest Neighbor Architecture](https://ieeexplore.ieee.org/document/4782917) by *Hirata and al.*\n",
        " - **sabre**: implementation of [Tackling the Qubit Mapping Problem for NISQ-Era Quantum Devices](https://dl.acm.org/citation.cfm?id=3304023) by *Gushu Li, Yufei Ding and Yuan Xie*\n",
        " - **bka**: implementation of [Efficient mapping of quantum circuits to the IBM QX architectures](https://ieeexplore.ieee.org/document/8342181) by *Alwin Zulehner, Alexandru Paler and Robert Wille*\n",
        " - **pbn**: based on a strict generalization of the algorithm described in [Synthesis of quantum circuits for linear nearest neighbor architectures](https://link.springer.com/article/10.1007/s11128-010-0201-2) by *Mehdi Saeedi, Robert Wille and Rolf Drechsler*\n",
        " \n",
        "One will use the **atos** algorithm to solve the problem."
      ]
    },
    {
      "cell_type": "code",
      "execution_count": null,
      "metadata": {},
      "outputs": [],
      "source": [
        "from qat.plugins import Nnizer\n",
        "from qat.core import Batch\n",
        "\n",
        "# Define nnizer\n",
        "nnizer = Nnizer(method=\"atos\")\n",
        "\n",
        "# Wrap the circuit into a Job\n",
        "job = circ.to_job()\n",
        "\n",
        "# Start nnization\n",
        "nnized_batch = nnizer.compile(Batch(jobs=[job]),\n",
        "                              my_hardware)\n",
        "\n",
        "# Display result\n",
        "nnized_circ = nnized_batch.jobs[0].circuit\n",
        "nnized_circ.display()"
      ]
    },
    {
      "cell_type": "markdown",
      "metadata": {},
      "source": [
        "---\n",
        "***Why the circuit is wrapped into a Job which is wrapped into a Batch?***\n",
        "\n",
        "The nnizer is a plugin, which means that the nnizer can extend a QPU. A QPU executes batches which is a set of circuits with execution parameters for each circuit (like the number of samples, the list of measured qubits, ...). To be a plugin, the nnizer must receive batches\n",
        "\n",
        "---\n",
        "\n",
        "The nnizer will try to minimize the number of gates of the resulting circuit. Maybe, one wants to use another metric to improve the final circuit.\n",
        "A metric is a function which takes a circuit and returns a number. The nnizer will try to maximize this number.\n",
        "\n",
        "The nnizer accepts any Python function. For instance, a metric could be define using few lines of code:\n",
        "\n",
        "    def my_metric(circuit):\n",
        "        \"\"\" Metric used to minimize the number of gates \"\"\"\n",
        "         # Compute a score depending on the length of the circuit\n",
        "         return -len(circuit.ops)\n",
        "         \n",
        "In this example, one will use a predefined metric to minimize the duration of the final circuit. Suppose that our hardware:\n",
        " - execute two qubits gates in *1 unit of time*\n",
        " - execute one qubit gates in *0 unit of time*"
      ]
    },
    {
      "cell_type": "code",
      "execution_count": null,
      "metadata": {},
      "outputs": [],
      "source": [
        "def circ_depth(circ):\n",
        "    \"\"\" Computes the 2-qubits gates depth of a circuit \"\"\"\n",
        "    depths = [0] * circ.nbqbits\n",
        "    for _, _, qbits in circ.iterate_simple():\n",
        "        if len(qbits) > 1:\n",
        "            gate_depth = max(depths[q] for q in qbits) + 1\n",
        "            for q in qbits:\n",
        "                depths[q] = gate_depth\n",
        "    return max(depths)\n",
        "\n",
        "def metric(circ):\n",
        "    \"\"\" Metric to maximize \"\"\"\n",
        "    return -circ_depth(circ)"
      ]
    },
    {
      "cell_type": "markdown",
      "metadata": {},
      "source": [
        "The object `metric` is now a Python function which takes a circuit and return a number. Since the nnizer will maximize this number, the result of the `metric` function is the opposite of the duration."
      ]
    },
    {
      "cell_type": "code",
      "execution_count": null,
      "metadata": {
        "scrolled": true
      },
      "outputs": [],
      "source": [
        "# Print duration of the previous nnized circuit\n",
        "print(\"Duration of the nnized circuit: %d\" %\n",
        "      circ_depth(nnized_circ))\n",
        "\n",
        "# Nnize the circuit setting \"metric\" as function to maximize\n",
        "nnizer = Nnizer(method=\"atos\", metric=metric)\n",
        "final_nnized_batch = nnizer.compile(Batch(jobs=[job]),\n",
        "                                    my_hardware)\n",
        "\n",
        "# Print duration of the final nnized circuit\n",
        "print(\"Duration of the nnized circuit: %d\" %\n",
        "      circ_depth(final_nnized_batch.jobs[0].circuit))\n",
        "\n",
        "# Get circuit\n",
        "final_nnized_circ = final_nnized_batch.jobs[0].circuit\n",
        "final_nnized_circ.display()"
      ]
    },
    {
      "cell_type": "markdown",
      "metadata": {},
      "source": [
        "The duration of the second nnized circuit is better than the first nnized circuit.\n",
        "\n",
        "## Updating the mapping of qubits\n",
        "In default mode, the $i^{\\;th}$ qubit of the circuit is mapped with the $i^{\\;th}$ qubit of the hardware. This mapping can be updated automatically using different methods:\n",
        " - `None`: default mode\n",
        " - `\"annealing\"`: the initial mapping is updated using a simulated annealing\n",
        " - `\"reverse\"`: the initial mapping is updated using the reverse traversal method described in [Tackling the Qubit Mapping Problem for NISQ-Era Quantum Devices](https://dl.acm.org/citation.cfm?id=3304023) by *Gushu Li, Yufei Ding and Yuan Xie*\n",
        "\n",
        "If the nnizer must update the initial mapping of the circuit, the nnizer will try to maximize the metric.\n",
        "One can update the initial mapping of our QFT to minimize the duration of the nnized circuit. For instance:"
      ]
    },
    {
      "cell_type": "code",
      "execution_count": null,
      "metadata": {},
      "outputs": [],
      "source": [
        "# Define a nnizer which will update the initial mapping\n",
        "# using a simulated annealing\n",
        "nnizer = Nnizer(method=\"atos\", metric=metric,\n",
        "                update_initial_order=\"annealing\")\n",
        "\n",
        "# Nnize the circuit\n",
        "final_nnized_mapped_batch = nnizer.compile(Batch(jobs=[job]),\n",
        "                                           my_hardware)\n",
        "\n",
        "# Print duration of the final nnized circuit\n",
        "print(\"Duration of the nnized circuit: %d\" %\n",
        "      circ_depth(final_nnized_batch.jobs[0].circuit))\n",
        "\n",
        "# Get circuit\n",
        "final_nnized_mapped_circ = final_nnized_mapped_batch.jobs[0].circuit\n",
        "final_nnized_mapped_circ.display()"
      ]
    },
    {
      "cell_type": "code",
      "execution_count": null,
      "metadata": {},
      "outputs": [],
      "source": []
    }
  ],
  "metadata": {
    "authors": [
      "Arnaud Gazda"
    ],
    "documentation-tags": {
      "icon": "share-android"
    },
    "kernelspec": {
      "display_name": "Python 3 (ipykernel)",
      "language": "python",
      "name": "python3"
    },
    "language_info": {
      "codemirror_mode": {
        "name": "ipython",
        "version": 3
      },
      "file_extension": ".py",
      "mimetype": "text/x-python",
      "name": "python",
      "nbconvert_exporter": "python",
      "pygments_lexer": "ipython3",
      "version": "3.12.3"
    }
  },
  "nbformat": 4,
  "nbformat_minor": 4
}
