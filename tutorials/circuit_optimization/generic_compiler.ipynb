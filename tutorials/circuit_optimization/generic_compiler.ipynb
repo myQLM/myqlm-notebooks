{
  "cells": [
    {
      "cell_type": "markdown",
      "metadata": {},
      "source": [
        "# NISQCompiler: a all-in-one blackbox compiler\n",
        "\n",
        "Say you would like to have a compiler that is able to target hardware with limited connectivity and limited gate set, but you don't want to spend\n",
        "time building your own QLM stack using an ad hoc composition of `PatternManagers`, `Nnizers`, or `LazySynthesis`.\n",
        "\n",
        "Then `NISQCompiler` is perfect for you. It is simply a high level plugins that utilizes different QLM plugins to:\n",
        "- make sure to break down large gates in the input quantum circuits (such as CCNOT gates)\n",
        "- compiles and optimizes the circuit for the target connectivity\n",
        "- rewrites the circuit to match the target gate set\n",
        "\n",
        "The supported gate sets encompass:\n",
        "- IBM's gate set (CNOT + U3)\n",
        "- Trapped ions gate set ($XX(\\pi/2)$ + $X(\\pi/2)$ + $RZ(\\theta)$)\n",
        "and much more.\n",
        "\n",
        "We will now give two examples: one targetting a IBM like device, and the other a trapped ion like device.\n",
        "\n",
        "## IBM-like device\n",
        "\n",
        "First, let us pick a job to compile.\n",
        "I prepared a job containing a VQE job for LiH. "
      ]
    },
    {
      "cell_type": "code",
      "execution_count": null,
      "metadata": {},
      "outputs": [],
      "source": [
        "from qat.core import Job, Batch\n",
        "\n",
        "job = Job.load('./vqe.qlm')\n",
        "print('Gates in the circuit:', job.circuit.statistics()['gates'])\n"
      ]
    },
    {
      "cell_type": "markdown",
      "metadata": {},
      "source": [
        "Now, we need a target connectivity. We will use IBM's Melbourne template that is already pre-programmed in the QLM:"
      ]
    },
    {
      "cell_type": "code",
      "execution_count": null,
      "metadata": {},
      "outputs": [],
      "source": [
        "from qat.devices import IBM_MELBOURNE as device"
      ]
    },
    {
      "cell_type": "markdown",
      "metadata": {},
      "source": [
        "We are now ready to declare our compiler:"
      ]
    },
    {
      "cell_type": "code",
      "execution_count": null,
      "metadata": {},
      "outputs": [],
      "source": [
        "from qat.plugins import NISQCompiler\n",
        "\n",
        "compiler = NISQCompiler(target_gate_set='IBM')"
      ]
    },
    {
      "cell_type": "markdown",
      "metadata": {},
      "source": [
        "And, that's it :)\n",
        "\n",
        "Let's compile our job !"
      ]
    },
    {
      "cell_type": "code",
      "execution_count": null,
      "metadata": {},
      "outputs": [],
      "source": [
        "batch = Batch(jobs=[job])\n",
        "\n",
        "compiled_job = compiler.compile(batch, device).jobs[0]\n",
        "print('Initial circuit contains:', job.circuit.statistics()['gates'])\n",
        "print('Final circuit contains:', compiled_job.circuit.statistics()['gates'])"
      ]
    },
    {
      "cell_type": "markdown",
      "metadata": {},
      "source": [
        "> **Note**\n",
        "> Default compilation args can be retrieved using\n",
        "> ```python\n",
        "> NISQCompiler.DEFAULT_COMPILATION_ARGS\n",
        "> ```\n",
        "\n",
        "Notice how the final circuit is much shorter than the initial one (only 32 CNOTs).\n",
        "We can push it by telling the compilation stage of the plugin to try harder:"
      ]
    },
    {
      "cell_type": "code",
      "execution_count": null,
      "metadata": {},
      "outputs": [],
      "source": [
        "my_arguments = {\n",
        "    'depth': 2, \n",
        "    'merge': True, \n",
        "    'optimize_initial': True, \n",
        "    'bidirectional': True,\n",
        "    'timeout': 5\n",
        "}\n",
        "compiler = NISQCompiler(compiler_options=my_arguments, target_gate_set='IBM')\n",
        "compiled_job_pushed = compiler.compile(batch, device).jobs[0]\n",
        "print('Initial circuit contains:', job.circuit.statistics()['gates'])\n",
        "print('Final circuit contains:', compiled_job.circuit.statistics()['gates'])\n",
        "print('Final (pushed) circuit contains:', compiled_job_pushed.circuit.statistics()['gates'])"
      ]
    },
    {
      "cell_type": "markdown",
      "metadata": {},
      "source": [
        "We went down to 21 CNOTs ! Not bad.\n",
        "\n",
        "\n",
        "# Trapped ion like device\n",
        "\n",
        "Let us define a compiler for a all-to-all connectivity with the gate set of a trapped ion processor."
      ]
    },
    {
      "cell_type": "code",
      "execution_count": null,
      "metadata": {},
      "outputs": [],
      "source": [
        "from qat.devices import AllToAll\n",
        "compiler = NISQCompiler(target_gate_set=['XX', 'RX+', 'RZ'])\n",
        "device = AllToAll(job.circuit.nbqbits)\n"
      ]
    },
    {
      "cell_type": "code",
      "execution_count": null,
      "metadata": {},
      "outputs": [],
      "source": [
        "compiled_job = compiler.compile(batch, device).jobs[0]\n",
        "print('Initial circuit contains:', job.circuit.statistics()['gates'])\n",
        "print('Final circuit contains:', compiled_job.circuit.statistics()['gates'])"
      ]
    },
    {
      "cell_type": "code",
      "execution_count": null,
      "metadata": {},
      "outputs": [],
      "source": [
        "my_arguments = {\n",
        "    'depth': 2, \n",
        "    'merge': True, \n",
        "    'optimize_initial': True, \n",
        "    'bidirectional': True,\n",
        "    'timeout': 5\n",
        "}\n",
        "compiler = NISQCompiler(compiler_options=my_arguments, target_gate_set=['XX', 'RX+', 'RZ'])\n",
        "compiled_job_pushed = compiler.compile(batch, device).jobs[0]\n",
        "print('Initial circuit contains:', job.circuit.statistics()['gates'])\n",
        "print('Final circuit contains:', compiled_job.circuit.statistics()['gates'])\n",
        "print('Final (pushed) circuit contains:', compiled_job_pushed.circuit.statistics()['gates'])"
      ]
    },
    {
      "cell_type": "markdown",
      "metadata": {},
      "source": [
        "Since the device has a all-to-all connectivity, the compiler can further optimize the input circuit and bring the entangling gate count down to 12 gates.\n",
        "However, we can observe an increase in the number of single qubit gates since the single qubit gates allowed in this architecture are less expressive."
      ]
    },
    {
      "cell_type": "markdown",
      "metadata": {},
      "source": []
    }
  ],
  "metadata": {
    "documentation-tags": {
      "icon": [
        "rocket",
        "rocket"
      ]
    },
    "kernelspec": {
      "display_name": "Python 3 (ipykernel)",
      "language": "python",
      "name": "python3"
    },
    "language_info": {
      "codemirror_mode": {
        "name": "ipython",
        "version": 3
      },
      "file_extension": ".py",
      "mimetype": "text/x-python",
      "name": "python",
      "nbconvert_exporter": "python",
      "pygments_lexer": "ipython3",
      "version": "3.12.3"
    },
    "vscode": {
      "interpreter": {
        "hash": "f9f85f796d01129d0dd105a088854619f454435301f6ffec2fea96ecbd9be4ac"
      }
    }
  },
  "nbformat": 4,
  "nbformat_minor": 2
}
