{
 "cells": [
  {
   "cell_type": "markdown",
   "metadata": {},
   "source": [
    "# Getting started\n",
    "\n",
    "This notebook will guide you through the basic steps necessary to generate and simulate a simple quantum circuit.\n",
    "\n",
    "\n",
    "## Writing a quantum circuit\n",
    "\n",
    "Let us write a circuit preparing a Bell state $(|00\\rangle + |11\\rangle)/\\sqrt{2}$:"
   ]
  },
  {
   "cell_type": "code",
   "execution_count": null,
   "metadata": {
    "execution": {
     "iopub.execute_input": "2022-11-05T19:41:46.442337Z",
     "iopub.status.busy": "2022-11-05T19:41:46.441991Z",
     "iopub.status.idle": "2022-11-05T19:41:47.130481Z",
     "shell.execute_reply": "2022-11-05T19:41:47.129736Z"
    }
   },
   "outputs": [],
   "source": [
    "from qat.lang.AQASM import Program, H, CNOT\n",
    "\n",
    "# Create a Program\n",
    "qprog = Program()\n",
    "# Number of qbits\n",
    "nbqbits = 2\n",
    "# Allocate some qbits\n",
    "qbits = qprog.qalloc(nbqbits)\n",
    "\n",
    "# Apply some quantum Gates\n",
    "qprog.apply(H, qbits[0]) \n",
    "qprog.apply(CNOT, qbits[0], qbits[1])\n",
    "\n",
    "# Export this program into a quantum circuit\n",
    "circuit = qprog.to_circ()\n",
    "# And display it!\n",
    "circuit.display()"
   ]
  },
  {
   "cell_type": "markdown",
   "metadata": {},
   "source": [
    "## Simulating the circuit\n",
    "\n",
    "To simulate our circuit, we use our linear-algebra-based simulator, linalg. We print out the states of the computational basis with a nonzero amplitude (here, we expect to see the state $|00\\rangle$ (= index 0) and the state $|11\\rangle$ (= index 3), both with amplitude $|1/\\sqrt{2}$)."
   ]
  },
  {
   "cell_type": "code",
   "execution_count": null,
   "metadata": {
    "execution": {
     "iopub.execute_input": "2022-11-05T19:41:47.171288Z",
     "iopub.status.busy": "2022-11-05T19:41:47.170826Z",
     "iopub.status.idle": "2022-11-05T19:41:47.193691Z",
     "shell.execute_reply": "2022-11-05T19:41:47.193151Z"
    }
   },
   "outputs": [],
   "source": [
    "# import one Quantum Processor Unit Factory\n",
    "from qat.qpus import PyLinalg\n",
    "\n",
    "# Create a Quantum Processor Unit\n",
    "pylinalgqpu = PyLinalg()\n",
    "\n",
    "# Create a job\n",
    "job = circuit.to_job()\n",
    "\n",
    "# Submit the job to the QPU\n",
    "result = pylinalgqpu.submit(job)\n",
    "\n",
    "# Iterate over the final state vector to get all final components\n",
    "for sample in result:\n",
    "    print(\"State %s amplitude %s\" % (sample.state, sample.amplitude))"
   ]
  },
  {
   "cell_type": "markdown",
   "metadata": {},
   "source": [
    "We can also sample the final state of the system to mimic the measure of the final state of a quantum processor. Here, we expect to see state 0 half of the time, and state 3 half of the time (on average)."
   ]
  },
  {
   "cell_type": "code",
   "execution_count": null,
   "metadata": {
    "execution": {
     "iopub.execute_input": "2022-11-05T19:41:47.196446Z",
     "iopub.status.busy": "2022-11-05T19:41:47.196199Z",
     "iopub.status.idle": "2022-11-05T19:41:47.204528Z",
     "shell.execute_reply": "2022-11-05T19:41:47.203874Z"
    }
   },
   "outputs": [],
   "source": [
    "# Create a job where we specify the number of shots\n",
    "job = circuit.to_job(nbshots=10)\n",
    "\n",
    "# Submit to the QPU\n",
    "result = pylinalgqpu.submit(job)\n",
    "\n",
    "# And use it to draw 10 samples\n",
    "for sample in result:\n",
    "    print(\"We measured the state {} (its probability is {} and its amplitude {})\".format(sample.state, sample.probability, sample.amplitude))"
   ]
  },
  {
   "cell_type": "markdown",
   "metadata": {},
   "source": [
    "For more information about simulation options, in order to know what you can ask from a simulator, checkout [this tutorial](tutorials/simulation/simulation_overview.ipynb).\n",
    "\n",
    "In particular, you will learn how to **directly compute the average of an observable** or **return the state vector as a numpy array**."
   ]
  },
  {
   "cell_type": "markdown",
   "metadata": {},
   "source": [
    "As for quantum programming, you can learn more about  [here](tutorials/lang/writing_quantum_program.ipynb).\n"
   ]
  }
 ],
 "metadata": {
  "authors": [
   "Simon Martiel",
   "Jerome Pioux"
  ],
  "documentation-tags": {
   "icon": ":material-outlined:`not_started;3em`"
  },
  "kernelspec": {
   "display_name": "Python 3 (ipykernel)",
   "language": "python",
   "name": "python3"
  },
  "language_info": {
   "codemirror_mode": {
    "name": "ipython",
    "version": 3
   },
   "file_extension": ".py",
   "mimetype": "text/x-python",
   "name": "python",
   "nbconvert_exporter": "python",
   "pygments_lexer": "ipython3",
   "version": "3.10.4"
  }
 },
 "nbformat": 4,
 "nbformat_minor": 2
}
