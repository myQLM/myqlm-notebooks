{
  "cells": [
    {
      "cell_type": "markdown",
      "metadata": {},
      "source": [
        "# Quantum chemistry: Solving H2 using UCC\n",
        "\n",
        "The **Variational Quantum Eigensolver** method solves the following minimization problem :\n",
        "$$\n",
        "E = \\min_{\\vec{\\theta}}\\; \\langle \\psi(\\vec{\\theta}) \\,|\\, \\hat{H} \\,|\\, \\psi(\\vec{\\theta}) \\rangle\n",
        "$$\n",
        "\n",
        "Here, we use a **Unitary Coupled Cluster** trial state, of the form:\n",
        "$$\n",
        "|\\psi(\\vec{\\theta})\\rangle = e^{\\hat{T}(\\vec{\\theta}) - \\hat{T}^\\dagger(\\vec{\\theta})} |0\\rangle\n",
        "$$\n",
        "where $\\hat{T}(\\theta)$ is the *cluster operator*: \n",
        "$$\n",
        "\\hat{T}(\\vec{\\theta}) = \\hat{T}_1(\\vec{\\theta}) + \\hat{T}_2(\\vec{\\theta}) + \\cdots\n",
        "$$\n",
        "where\n",
        "$$\n",
        "\\hat{T}_1 = \\sum_{a\\in U}\\sum_{i \\in O} \\theta_a^i\\, \\hat{a}_a^\\dagger \\hat{a}_i \\qquad\n",
        "\\hat{T}_2 = \\sum_{a>b\\in U}\\sum_{i>j\\in O} \\theta_{a, b}^{i, j}\\, \\hat{a}^\\dagger_a \\hat{a}^\\dagger_b \\hat{a}_i \\hat{a}_j \\qquad\n",
        "\\cdots\n",
        "$$\n",
        "($O$ is the set of occupied orbitals and $U$, the set of unoccupied ones.)"
      ]
    },
    {
      "cell_type": "markdown",
      "metadata": {},
      "source": [
        "## The $H_2$ molecule\n",
        "\n",
        "One has to first describe the geometry and atomic content of the molecule (in this case, $H_2$).\n",
        "\n",
        "We chose to study dihydrogen in the so-called STO-3G basis at 0.7414 Angström (internuclear distance.)"
      ]
    },
    {
      "cell_type": "markdown",
      "metadata": {},
      "source": [
        "We extract the data from the included resource file. These data were computed using the PySCF package."
      ]
    },
    {
      "cell_type": "code",
      "execution_count": null,
      "metadata": {},
      "outputs": [],
      "source": [
        "import numpy as np\n",
        "\n",
        "h2_data = np.load(\"h2_data.npz\", allow_pickle=True)\n",
        "\n",
        "rdm1 = h2_data[\"rdm1\"]\n",
        "orbital_energies = h2_data[\"orbital_energies\"]\n",
        "nuclear_repulsion = h2_data[\"nuclear_repulsion\"]\n",
        "n_electrons = h2_data[\"n_electrons\"]\n",
        "one_body_integrals = h2_data[\"one_body_integrals\"]\n",
        "two_body_integrals = h2_data[\"two_body_integrals\"]\n",
        "info = h2_data[\"info\"].tolist()\n",
        "\n",
        "nqbits = rdm1.shape[0] * 2\n",
        "\n",
        "print(\n",
        "    f\" HF energy :  {info['HF']}\\n\",\n",
        "    f\"MP2 energy : {info['MP2']}\\n\",\n",
        "    f\"FCI energy : {info['FCI']}\\n\",\n",
        ")\n",
        "print(f\"Number of qubits before active space selection = {rdm1.shape[0] * 2}\")\n",
        "print(\"Number of qubits = \", nqbits)"
      ]
    },
    {
      "cell_type": "markdown",
      "metadata": {},
      "source": [
        "### Note: PySCF\n",
        "\n",
        "If you have the PySCF package installed, you can do the previous computation yourself using our `perform_pyscf_computation`function.\n",
        "\n",
        "```python\n",
        "from qat.fermion.chemistry.pyscf_tools import perform_pyscf_computation\n",
        "\n",
        "geometry = [(\"H\", (0.0, 0.0, 0.0)), (\"H\", (0.0, 0.0, 0.7414))]\n",
        "basis = \"sto-3g\"\n",
        "spin = 0\n",
        "charge = 0\n",
        "\n",
        "(\n",
        "    rdm1,\n",
        "    orbital_energies,\n",
        "    nuclear_repulsion,\n",
        "    n_electrons,\n",
        "    one_body_integrals,\n",
        "    two_body_integrals,\n",
        "    info,\n",
        ") = perform_pyscf_computation(geometry=geometry, basis=basis, spin=spin, charge=charge, run_fci=True)\n",
        "\n",
        "print(\n",
        "    f\" HF energy :  {info['HF']}\\n\",\n",
        "    f\"MP2 energy : {info['MP2']}\\n\",\n",
        "    f\"FCI energy : {info['FCI']}\\n\",\n",
        ")\n",
        "print(f\"Number of qubits before active space selection = {rdm1.shape[0] * 2}\")\n",
        "\n",
        "nqbits = rdm1.shape[0] * 2\n",
        "print(\"Number of qubits = \", nqbits)\n",
        "```"
      ]
    },
    {
      "cell_type": "markdown",
      "metadata": {},
      "source": [
        "#### As we will see below, it can be useful to wrap the hamiltonian data into the `MolecularHamiltonian` class."
      ]
    },
    {
      "cell_type": "code",
      "execution_count": null,
      "metadata": {},
      "outputs": [],
      "source": [
        "from qat.fermion.chemistry import MolecularHamiltonian, MoleculeInfo\n",
        "\n",
        "# Define the molecular hamiltonian\n",
        "mol_h = MolecularHamiltonian(one_body_integrals, two_body_integrals, nuclear_repulsion)\n",
        "\n",
        "print(mol_h)"
      ]
    },
    {
      "cell_type": "markdown",
      "metadata": {},
      "source": [
        "## Computation of cluster operators $T$ and good guess $\\vec{\\theta}_0$\n",
        "\n",
        "We now construct the cluster operators (``cluster_ops``) defined in the introduction part as $\\hat{T}(\\vec{\\theta})$, as well as a good starting parameter $\\vec{\\theta}$ (based on the second order Møller-Plesset perturbation theory)."
      ]
    },
    {
      "cell_type": "code",
      "execution_count": null,
      "metadata": {},
      "outputs": [],
      "source": [
        "from qat.fermion.chemistry.ucc import guess_init_params, get_hf_ket, get_cluster_ops\n",
        "\n",
        "# Computation of the initial parameters\n",
        "theta_init = guess_init_params(\n",
        "    mol_h.two_body_integrals,\n",
        "    n_electrons,\n",
        "    orbital_energies,\n",
        ")\n",
        "\n",
        "print(f\"List of initial parameters : {theta_init}\")\n",
        "\n",
        "# Define the initial Hartree-Fock state\n",
        "ket_hf_init = get_hf_ket(n_electrons, nqbits=nqbits)\n",
        "\n",
        "# Compute the cluster operators\n",
        "cluster_ops = get_cluster_ops(n_electrons, nqbits=nqbits)"
      ]
    },
    {
      "cell_type": "markdown",
      "metadata": {},
      "source": [
        "## Encode to qubits: Fermion-spin transformation\n",
        "\n",
        "All the above operators are fermion operators. We now transform them to spin (or qubit) space. There are different possible choices. Here, we choose the Jordan-Wigner transform (the commented out imports show how to use the other transforms that are available on the QLM)."
      ]
    },
    {
      "cell_type": "code",
      "execution_count": null,
      "metadata": {},
      "outputs": [],
      "source": [
        "from qat.fermion.transforms import transform_to_jw_basis  # , transform_to_bk_basis, transform_to_parity_basis\n",
        "from qat.fermion.transforms import recode_integer, get_jw_code  # , get_bk_code, get_parity_code\n",
        "\n",
        "# Compute the ElectronicStructureHamiltonian\n",
        "H = mol_h.get_electronic_hamiltonian()"
      ]
    },
    {
      "cell_type": "code",
      "execution_count": null,
      "metadata": {},
      "outputs": [],
      "source": [
        "# Transform the ElectronicStructureHamiltonian into a spin Hamiltonian\n",
        "H_sp = transform_to_jw_basis(H)\n",
        "\n",
        "# Express the cluster operator in spin terms\n",
        "cluster_ops_sp = [transform_to_jw_basis(t_o) for t_o in cluster_ops]\n",
        "\n",
        "# Encoding the initial state to new encoding\n",
        "hf_init_sp = recode_integer(ket_hf_init, get_jw_code(H_sp.nbqbits))"
      ]
    },
    {
      "cell_type": "markdown",
      "metadata": {},
      "source": [
        "## Trotterize the Hamiltonian to get the parameterized circuit to optimize"
      ]
    },
    {
      "cell_type": "code",
      "execution_count": null,
      "metadata": {},
      "outputs": [],
      "source": [
        "from qat.lang.AQASM import Program, X\n",
        "from qat.fermion.trotterisation import make_trotterisation_routine\n",
        "\n",
        "prog = Program()\n",
        "reg = prog.qalloc(H_sp.nbqbits)\n",
        "\n",
        "# Initialize the Hartree-Fock state into the Program\n",
        "for j, char in enumerate(format(hf_init_sp, \"0\" + str(H_sp.nbqbits) + \"b\")):\n",
        "    if char == \"1\":\n",
        "        prog.apply(X, reg[j])\n",
        "\n",
        "# Define the parameters to optimize\n",
        "theta_list = [prog.new_var(float, \"\\\\theta_{%s}\" % i) for i in range(len(cluster_ops))]\n",
        "\n",
        "# Define the parameterized Hamiltonian\n",
        "cluster_op = sum([theta * T for theta, T in zip(theta_list, cluster_ops_sp)])\n",
        "\n",
        "# Trotterize the Hamiltonian (with 1 trotter step)\n",
        "qrout = make_trotterisation_routine(cluster_op, n_trotter_steps=1, final_time=1)\n",
        "\n",
        "prog.apply(qrout, reg)\n",
        "circ = prog.to_circ()"
      ]
    },
    {
      "cell_type": "markdown",
      "metadata": {},
      "source": [
        "Alternatively, you can simply use the `construct_ucc_ansatz` fonction:"
      ]
    },
    {
      "cell_type": "code",
      "execution_count": null,
      "metadata": {},
      "outputs": [],
      "source": [
        "from qat.fermion.chemistry.ucc import construct_ucc_ansatz\n",
        "\n",
        "prog = construct_ucc_ansatz(cluster_ops_sp, hf_init_sp, n_steps=1)\n",
        "circ = prog.to_circ()"
      ]
    },
    {
      "cell_type": "code",
      "execution_count": null,
      "metadata": {},
      "outputs": [],
      "source": [
        "circ.display()"
      ]
    },
    {
      "cell_type": "markdown",
      "metadata": {
        "slideshow": {
          "slide_type": "slide"
        },
        "tags": []
      },
      "source": [
        "## Optimize the angles of $\\psi(\\vec{\\theta})$ for a given QPU\n",
        "\n",
        "We can now use the QLM's variational plugins to perform the VQE optimization."
      ]
    },
    {
      "cell_type": "code",
      "execution_count": null,
      "metadata": {
        "slideshow": {
          "slide_type": "fragment"
        },
        "tags": []
      },
      "outputs": [],
      "source": [
        "job = circ.to_job(observable=H_sp, nbshots=0)\n",
        "\n",
        "from qat.qpus import get_default_qpu\n",
        "from qat.plugins import ScipyMinimizePlugin\n",
        "\n",
        "optimizer_scipy = ScipyMinimizePlugin(method=\"COBYLA\", tol=1e-3, options={\"maxiter\": 1000}, x0=theta_init)\n",
        "qpu = optimizer_scipy | get_default_qpu()\n",
        "result = qpu.submit(job)\n",
        "\n",
        "print(\"Minimum energy =\", result.value)"
      ]
    },
    {
      "cell_type": "code",
      "execution_count": null,
      "metadata": {
        "slideshow": {
          "slide_type": "fragment"
        }
      },
      "outputs": [],
      "source": [
        "%matplotlib inline\n",
        "import matplotlib.pyplot as plt\n",
        "\n",
        "plt.plot(eval(result.meta_data[\"optimization_trace\"]), lw=3)\n",
        "\n",
        "plt.xlabel(\"Steps\")\n",
        "plt.ylabel(\"Energy\")\n",
        "plt.grid()"
      ]
    },
    {
      "cell_type": "markdown",
      "metadata": {},
      "source": [
        "# Solving $H_2$ using ADAPT-VQE plugin\n",
        "\n",
        "We can use the **ADAPT-VQE** plugin to generate iteratively the ansatz which minimizes the energy. Assuming we have our Hamiltonian in the selected active space (`H_active`), we need to initialize the circuit with the corresponding Hartree-Fock state.\n",
        "\n",
        "The plugin `AdaptVQEPlugin` generates automatically the ansatz, which needs to be optimized using an optimizer. Here, we will use once again `ScipyMinimizePlugin`, coupled to the QPU."
      ]
    },
    {
      "cell_type": "code",
      "execution_count": null,
      "metadata": {},
      "outputs": [],
      "source": [
        "from qat.plugins import AdaptVQEPlugin\n",
        "\n",
        "# Initialize a Program\n",
        "prog = Program()\n",
        "reg = prog.qalloc(H_sp.nbqbits)\n",
        "\n",
        "# Define the circuit which prepares a Hartree-Fock state\n",
        "for j, char in enumerate(format(hf_init_sp, \"0\" + str(H_sp.nbqbits) + \"b\")):\n",
        "    if char == \"1\":\n",
        "        prog.apply(X, reg[j])\n",
        "\n",
        "circuit = prog.to_circ()\n",
        "\n",
        "# We have the variational Job we need to optimize\n",
        "job = circuit.to_job(observable=H_sp)\n",
        "\n",
        "# We define the stack...\n",
        "adaptvqe_plugin = AdaptVQEPlugin(cluster_ops_sp, n_iterations=15, tol_vanishing_grad=0.01)\n",
        "optimizer = ScipyMinimizePlugin(method=\"COBYLA\", tol=1e-3, options={\"maxiter\": 200})\n",
        "\n",
        "stack = adaptvqe_plugin | optimizer | qpu\n",
        "\n",
        "# ... and submit the job\n",
        "result_adapt = stack.submit(job)"
      ]
    },
    {
      "cell_type": "code",
      "execution_count": null,
      "metadata": {},
      "outputs": [],
      "source": [
        "%matplotlib inline\n",
        "import matplotlib.pyplot as plt\n",
        "\n",
        "plt.plot(eval(result.meta_data[\"optimization_trace\"]), label=\"VQE\", lw=3)\n",
        "plt.plot(eval(result_adapt.meta_data[\"optimization_trace\"]), label=\"ADAPT-VQE\", lw=3)\n",
        "plt.plot(\n",
        "    [info[\"FCI\"] for _ in enumerate(eval(result.meta_data[\"optimization_trace\"]))],\n",
        "    \"--k\",\n",
        "    label=\"FCI\",\n",
        ")\n",
        "plt.legend(loc=\"best\")\n",
        "plt.xlabel(\"Steps\")\n",
        "plt.ylabel(\"Energy\")\n",
        "plt.grid()"
      ]
    },
    {
      "cell_type": "markdown",
      "metadata": {},
      "source": [
        "## Further questions to be investigated:\n",
        "- How does this work for a bigger molecule ?\n",
        "- How to do an active space selection to simplify the computations ?\n",
        "\n",
        "These questions are answered in our [second example of quantum chemistry computations on an $LiH$ molecule.](qat_fermion_vqe_ucc_example_2_lih.ipynb)"
      ]
    }
  ],
  "metadata": {
    "authors": [
      "Maxime Oliva"
    ],
    "celltoolbar": "Diaporama",
    "documentation-tags": {
      "icon": "issue-draft"
    },
    "kernelspec": {
      "display_name": "Python 3 (ipykernel)",
      "language": "python",
      "name": "python3"
    },
    "language_info": {
      "codemirror_mode": {
        "name": "ipython",
        "version": 3
      },
      "file_extension": ".py",
      "mimetype": "text/x-python",
      "name": "python",
      "nbconvert_exporter": "python",
      "pygments_lexer": "ipython3",
      "version": "3.12.3"
    },
    "vscode": {
      "interpreter": {
        "hash": "e7370f93d1d0cde622a1f8e1c04877d8463912d04d973331ad4851f04de6915a"
      }
    }
  },
  "nbformat": 4,
  "nbformat_minor": 4
}
