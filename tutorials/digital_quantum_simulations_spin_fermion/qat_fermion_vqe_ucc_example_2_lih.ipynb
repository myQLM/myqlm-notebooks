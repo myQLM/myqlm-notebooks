{
 "cells": [
  {
   "cell_type": "markdown",
   "metadata": {
    "slideshow": {
     "slide_type": "slide"
    },
    "tags": []
   },
   "source": [
    "# Quantum chemistry: Solving LiH using UCC\n",
    "\n",
    "Let us now study the molecule $LiH$. As for the $H_2$ case (studied in a previous tutorial), we need to first describe the geometry and atomic content of the molecule. In this example, we will compute the basis change and select the active space."
   ]
  },
  {
   "cell_type": "markdown",
   "metadata": {},
   "source": [
    "We extract the data from the included resource file. These data were computed using the PySCF package."
   ]
  },
  {
   "cell_type": "code",
   "execution_count": null,
   "metadata": {
    "execution": {
     "iopub.execute_input": "2023-08-01T22:49:09.295367Z",
     "iopub.status.busy": "2023-08-01T22:49:09.294827Z",
     "iopub.status.idle": "2023-08-01T22:49:09.629928Z",
     "shell.execute_reply": "2023-08-01T22:49:09.629181Z"
    }
   },
   "outputs": [],
   "source": [
    "import numpy as np\n",
    "\n",
    "lih_data = np.load(\"lih_data.npz\", allow_pickle=True)\n",
    "\n",
    "rdm1 = lih_data[\"rdm1\"]\n",
    "orbital_energies = lih_data[\"orbital_energies\"]\n",
    "nuclear_repulsion = lih_data[\"nuclear_repulsion\"]\n",
    "n_electrons = lih_data[\"n_electrons\"]\n",
    "one_body_integrals = lih_data[\"one_body_integrals\"]\n",
    "two_body_integrals = lih_data[\"two_body_integrals\"]\n",
    "info = lih_data[\"info\"].tolist()\n",
    "\n",
    "nqbits = rdm1.shape[0] * 2\n",
    "\n",
    "print(\n",
    "    f\" HF energy :  {info['HF']}\\n\",\n",
    "    f\"MP2 energy : {info['MP2']}\\n\",\n",
    "    f\"FCI energy : {info['FCI']}\\n\",\n",
    ")\n",
    "print(f\"Number of qubits before active space selection = {rdm1.shape[0] * 2}\")\n",
    "print(\"Number of qubits = \", nqbits)"
   ]
  },
  {
   "cell_type": "markdown",
   "metadata": {
    "tags": []
   },
   "source": [
    "### Note: PySCF\n",
    "\n",
    "If you have the PySCF package installed, you can do the previous computation yourself using our `perform_pyscf_computation`function.\n",
    "\n",
    "```python\n",
    "from qat.fermion.chemistry.pyscf_tools import perform_pyscf_computation\n",
    "\n",
    "geometry = [(\"Li\", (0.0, 0.0, 0.0)), (\"H\", (0.0, 0.0, 1.75))]\n",
    "basis = \"6-31g\"\n",
    "spin = 0\n",
    "charge = 0\n",
    "\n",
    "(\n",
    "    rdm1,\n",
    "    orbital_energies,\n",
    "    nuclear_repulsion,\n",
    "    n_electrons,\n",
    "    one_body_integrals,\n",
    "    two_body_integrals,\n",
    "    info,\n",
    ") = perform_pyscf_computation(geometry=geometry, basis=basis, spin=spin, charge=charge)\n",
    "\n",
    "# We give the full CI energy computed on the QLM for LiH\n",
    "info[\"FCI\"] = -7.998354311186427\n",
    "\n",
    "print(\n",
    "    f\" HF energy :  {info['HF']}\\n\",\n",
    "    f\"MP2 energy : {info['MP2']}\\n\",\n",
    "    f\"FCI energy : {info['FCI']}\\n\",\n",
    ")\n",
    "print(f\"Number of qubits before active space selection = {rdm1.shape[0] * 2}\")\n",
    "\n",
    "nqbits = rdm1.shape[0] * 2\n",
    "print(\"Number of qubits = \", nqbits)\n",
    "```"
   ]
  },
  {
   "cell_type": "markdown",
   "metadata": {
    "tags": []
   },
   "source": [
    "We wrap the body integrals and the nuclear repulsion in the `MolecularHamiltonian` class:"
   ]
  },
  {
   "cell_type": "code",
   "execution_count": null,
   "metadata": {
    "execution": {
     "iopub.execute_input": "2023-08-01T22:49:09.665962Z",
     "iopub.status.busy": "2023-08-01T22:49:09.665460Z",
     "iopub.status.idle": "2023-08-01T22:49:11.164211Z",
     "shell.execute_reply": "2023-08-01T22:49:11.163371Z"
    }
   },
   "outputs": [],
   "source": [
    "from qat.fermion.chemistry import MolecularHamiltonian, MoleculeInfo\n",
    "\n",
    "# Define the molecular hamiltonian\n",
    "mol_h = MolecularHamiltonian(one_body_integrals, two_body_integrals, nuclear_repulsion)\n",
    "\n",
    "print(mol_h)"
   ]
  },
  {
   "cell_type": "markdown",
   "metadata": {
    "slideshow": {
     "slide_type": "slide"
    },
    "tags": []
   },
   "source": [
    "## Active space selection\n",
    "\n",
    "Based on the (approximate) one-particle reduced density matrix computed (``rdm1``), we compute the so-called \"natural-orbital occupation numbers\" (NOONs). We use them to select, with a given threshold, the \"active space orbitals\" (which are contained in the ``active_indices`` list below). We then compute the Hamiltonian in this active space."
   ]
  },
  {
   "cell_type": "code",
   "execution_count": null,
   "metadata": {
    "execution": {
     "iopub.execute_input": "2023-08-01T22:49:11.167616Z",
     "iopub.status.busy": "2023-08-01T22:49:11.167100Z",
     "iopub.status.idle": "2023-08-01T22:49:11.172464Z",
     "shell.execute_reply": "2023-08-01T22:49:11.171790Z"
    },
    "slideshow": {
     "slide_type": "fragment"
    }
   },
   "outputs": [],
   "source": [
    "# Compute the natural orbitals occupation numbers and the basis transformation matrix\n",
    "noons, basis_change = np.linalg.eigh(rdm1)\n",
    "\n",
    "# The noons should be in decreasing order\n",
    "noons = list(reversed(noons))\n",
    "\n",
    "# Since we reversed the noons, we have to flip the basis as well\n",
    "basis_change = np.flip(basis_change, axis=1)"
   ]
  },
  {
   "cell_type": "markdown",
   "metadata": {
    "tags": []
   },
   "source": [
    "The basis change can be done within the `MolecularHamiltonian` class:"
   ]
  },
  {
   "cell_type": "code",
   "execution_count": null,
   "metadata": {
    "execution": {
     "iopub.execute_input": "2023-08-01T22:49:11.175407Z",
     "iopub.status.busy": "2023-08-01T22:49:11.174609Z",
     "iopub.status.idle": "2023-08-01T22:49:13.855280Z",
     "shell.execute_reply": "2023-08-01T22:49:13.854283Z"
    }
   },
   "outputs": [],
   "source": [
    "# Change the hamiltonian basis\n",
    "mol_h_new_basis = mol_h.transform_basis(basis_change)"
   ]
  },
  {
   "cell_type": "markdown",
   "metadata": {},
   "source": [
    "The `MoleculeInfo` class is a helper class which contains various molecule properties."
   ]
  },
  {
   "cell_type": "code",
   "execution_count": null,
   "metadata": {
    "execution": {
     "iopub.execute_input": "2023-08-01T22:49:13.858999Z",
     "iopub.status.busy": "2023-08-01T22:49:13.858678Z",
     "iopub.status.idle": "2023-08-01T22:49:13.862386Z",
     "shell.execute_reply": "2023-08-01T22:49:13.861829Z"
    }
   },
   "outputs": [],
   "source": [
    "molecule = MoleculeInfo(\n",
    "    mol_h_new_basis,\n",
    "    n_electrons=n_electrons,\n",
    "    noons=noons,\n",
    "    orbital_energies=orbital_energies,\n",
    ")"
   ]
  },
  {
   "cell_type": "code",
   "execution_count": null,
   "metadata": {
    "execution": {
     "iopub.execute_input": "2023-08-01T22:49:13.864948Z",
     "iopub.status.busy": "2023-08-01T22:49:13.864677Z",
     "iopub.status.idle": "2023-08-01T22:49:13.871731Z",
     "shell.execute_reply": "2023-08-01T22:49:13.871216Z"
    }
   },
   "outputs": [],
   "source": [
    "molecule"
   ]
  },
  {
   "cell_type": "markdown",
   "metadata": {},
   "source": [
    " The `MoleculeInfo.restrict_active_space()` method updates the class to the new computed active space."
   ]
  },
  {
   "cell_type": "code",
   "execution_count": null,
   "metadata": {
    "execution": {
     "iopub.execute_input": "2023-08-01T22:49:13.874648Z",
     "iopub.status.busy": "2023-08-01T22:49:13.874172Z",
     "iopub.status.idle": "2023-08-01T22:49:13.877480Z",
     "shell.execute_reply": "2023-08-01T22:49:13.876937Z"
    }
   },
   "outputs": [],
   "source": [
    "# Selection of the active space\n",
    "molecule.restrict_active_space(threshold_1=0.02, threshold_2=0.002)"
   ]
  },
  {
   "cell_type": "code",
   "execution_count": null,
   "metadata": {
    "execution": {
     "iopub.execute_input": "2023-08-01T22:49:13.880097Z",
     "iopub.status.busy": "2023-08-01T22:49:13.879756Z",
     "iopub.status.idle": "2023-08-01T22:49:13.883400Z",
     "shell.execute_reply": "2023-08-01T22:49:13.882853Z"
    }
   },
   "outputs": [],
   "source": [
    "molecule"
   ]
  },
  {
   "cell_type": "markdown",
   "metadata": {
    "slideshow": {
     "slide_type": "slide"
    }
   },
   "source": [
    "## Computation of cluster operators $T$ and good guess $\\vec{\\theta}_0$\n",
    "\n",
    "We construct the cluster operators (``cluster_ops``) $\\hat{T}(\\vec{\\theta})$, as well as a good starting parameter $\\vec{\\theta}$ (based on the second order Møller-Plesset perturbation theory)."
   ]
  },
  {
   "cell_type": "code",
   "execution_count": null,
   "metadata": {
    "execution": {
     "iopub.execute_input": "2023-08-01T22:49:13.885789Z",
     "iopub.status.busy": "2023-08-01T22:49:13.885473Z",
     "iopub.status.idle": "2023-08-01T22:49:13.891837Z",
     "shell.execute_reply": "2023-08-01T22:49:13.891312Z"
    },
    "slideshow": {
     "slide_type": "fragment"
    }
   },
   "outputs": [],
   "source": [
    "from qat.fermion.chemistry.ucc import guess_init_params, get_hf_ket, get_cluster_ops\n",
    "\n",
    "# Compute the cluster operators\n",
    "cluster_ops = get_cluster_ops(molecule.n_electrons, noons=molecule.noons)"
   ]
  },
  {
   "cell_type": "code",
   "execution_count": null,
   "metadata": {
    "execution": {
     "iopub.execute_input": "2023-08-01T22:49:13.894480Z",
     "iopub.status.busy": "2023-08-01T22:49:13.893991Z",
     "iopub.status.idle": "2023-08-01T22:49:13.897892Z",
     "shell.execute_reply": "2023-08-01T22:49:13.897348Z"
    }
   },
   "outputs": [],
   "source": [
    "# Computation of the initial  parameters\n",
    "theta_list = guess_init_params(\n",
    "    molecule.two_body_integrals,\n",
    "    molecule.n_electrons,\n",
    "    molecule.orbital_energies,\n",
    ")\n",
    "\n",
    "print(f\"List of initial parameters : {theta_list}\")"
   ]
  },
  {
   "cell_type": "code",
   "execution_count": null,
   "metadata": {
    "execution": {
     "iopub.execute_input": "2023-08-01T22:49:13.900500Z",
     "iopub.status.busy": "2023-08-01T22:49:13.900116Z",
     "iopub.status.idle": "2023-08-01T22:49:13.903676Z",
     "shell.execute_reply": "2023-08-01T22:49:13.903106Z"
    }
   },
   "outputs": [],
   "source": [
    "# Define the initial Hartree-Fock state\n",
    "ket_hf_init = get_hf_ket(molecule.n_electrons, nqbits=molecule.nqbits)\n",
    "print(f\"Initial Hartree-Fock state : {ket_hf_init}\")"
   ]
  },
  {
   "cell_type": "markdown",
   "metadata": {
    "slideshow": {
     "slide_type": "slide"
    },
    "tags": []
   },
   "source": [
    "## Encode to qubits: Fermion-spin transformation\n",
    "\n",
    "We transform the fermionic operators to spin (or qubit) space. In this example we choose the Bravyi-Kitaev transform."
   ]
  },
  {
   "cell_type": "code",
   "execution_count": null,
   "metadata": {
    "execution": {
     "iopub.execute_input": "2023-08-01T22:49:13.906158Z",
     "iopub.status.busy": "2023-08-01T22:49:13.905821Z",
     "iopub.status.idle": "2023-08-01T22:49:14.197775Z",
     "shell.execute_reply": "2023-08-01T22:49:14.197072Z"
    },
    "slideshow": {
     "slide_type": "fragment"
    }
   },
   "outputs": [],
   "source": [
    "from qat.fermion.transforms import transform_to_bk_basis\n",
    "\n",
    "# Compute the ElectronicStructureHamiltonian\n",
    "H_active = molecule.hamiltonian.get_electronic_hamiltonian()\n",
    "\n",
    "# Transform the ElectronicStructureHamiltonian into a spin Hamiltonian\n",
    "H_active_sp = transform_to_bk_basis(H_active)"
   ]
  },
  {
   "cell_type": "code",
   "execution_count": null,
   "metadata": {
    "execution": {
     "iopub.execute_input": "2023-08-01T22:49:14.201103Z",
     "iopub.status.busy": "2023-08-01T22:49:14.200759Z",
     "iopub.status.idle": "2023-08-01T22:49:14.245747Z",
     "shell.execute_reply": "2023-08-01T22:49:14.245253Z"
    },
    "slideshow": {
     "slide_type": "fragment"
    }
   },
   "outputs": [],
   "source": [
    "from qat.fermion.transforms import recode_integer, get_bk_code\n",
    "\n",
    "# Express the cluster operator in spin terms\n",
    "cluster_ops_sp = [transform_to_bk_basis(t_o) for t_o in cluster_ops]\n",
    "\n",
    "# Encoding the initial state to new encoding\n",
    "hf_init_sp = recode_integer(ket_hf_init, get_bk_code(H_active_sp.nbqbits))"
   ]
  },
  {
   "cell_type": "markdown",
   "metadata": {},
   "source": [
    "## Trotterize the Hamiltonian to get the parameterized circuit to optimize"
   ]
  },
  {
   "cell_type": "code",
   "execution_count": null,
   "metadata": {
    "execution": {
     "iopub.execute_input": "2023-08-01T22:49:14.249315Z",
     "iopub.status.busy": "2023-08-01T22:49:14.248986Z",
     "iopub.status.idle": "2023-08-01T22:49:14.272523Z",
     "shell.execute_reply": "2023-08-01T22:49:14.271960Z"
    }
   },
   "outputs": [],
   "source": [
    "from qat.lang.AQASM import Program, X\n",
    "from qat.fermion.trotterisation import make_trotterisation_routine\n",
    "\n",
    "nqbits = cluster_ops_sp[0].nbqbits\n",
    "\n",
    "prog = Program()\n",
    "reg = prog.qalloc(nqbits)\n",
    "\n",
    "# Initialize the Hartree-Fock state into the Program\n",
    "for j, char in enumerate(format(hf_init_sp, \"0\" + str(nqbits) + \"b\")):\n",
    "    if char == \"1\":\n",
    "        prog.apply(X, reg[j])\n",
    "\n",
    "# Define the parameters to optimize\n",
    "theta = [prog.new_var(float, \"\\\\theta_{%s}\" % i) for i in range(len(cluster_ops))]\n",
    "\n",
    "# Define the parameterized Hamiltonian\n",
    "hamiltonian = sum([th * T for th, T in zip(theta, cluster_ops_sp)])\n",
    "\n",
    "# Trotterize the Hamiltonian (with 1 trotter step)\n",
    "qrout = make_trotterisation_routine(hamiltonian, n_trotter_steps=1, final_time=1)\n",
    "\n",
    "prog.apply(qrout, reg)\n",
    "circ = prog.to_circ()"
   ]
  },
  {
   "cell_type": "markdown",
   "metadata": {},
   "source": [
    "Alternatively, you can simply use the `construct_ucc_ansatz` fonction:"
   ]
  },
  {
   "cell_type": "code",
   "execution_count": null,
   "metadata": {
    "execution": {
     "iopub.execute_input": "2023-08-01T22:49:14.275275Z",
     "iopub.status.busy": "2023-08-01T22:49:14.275008Z",
     "iopub.status.idle": "2023-08-01T22:49:14.293661Z",
     "shell.execute_reply": "2023-08-01T22:49:14.293181Z"
    },
    "slideshow": {
     "slide_type": "fragment"
    }
   },
   "outputs": [],
   "source": [
    "from qat.fermion.chemistry.ucc import construct_ucc_ansatz\n",
    "\n",
    "prog = construct_ucc_ansatz(cluster_ops_sp, hf_init_sp, n_steps=1)\n",
    "circ = prog.to_circ()"
   ]
  },
  {
   "cell_type": "code",
   "execution_count": null,
   "metadata": {
    "execution": {
     "iopub.execute_input": "2023-08-01T22:49:14.296017Z",
     "iopub.status.busy": "2023-08-01T22:49:14.295765Z",
     "iopub.status.idle": "2023-08-01T22:49:14.469507Z",
     "shell.execute_reply": "2023-08-01T22:49:14.469028Z"
    }
   },
   "outputs": [],
   "source": [
    "circ.display()"
   ]
  },
  {
   "cell_type": "markdown",
   "metadata": {
    "slideshow": {
     "slide_type": "slide"
    },
    "tags": []
   },
   "source": [
    "## Optimize the angles of $\\psi(\\vec{\\theta})$ for a given QPU\n",
    "\n",
    "We can now use the QLM's variational plugins to perform the VQE optimization."
   ]
  },
  {
   "cell_type": "code",
   "execution_count": null,
   "metadata": {
    "execution": {
     "iopub.execute_input": "2023-08-01T22:49:14.473186Z",
     "iopub.status.busy": "2023-08-01T22:49:14.472897Z",
     "iopub.status.idle": "2023-08-01T22:49:16.170770Z",
     "shell.execute_reply": "2023-08-01T22:49:16.170246Z"
    },
    "slideshow": {
     "slide_type": "fragment"
    }
   },
   "outputs": [],
   "source": [
    "job = circ.to_job(job_type=\"OBS\", observable=H_active_sp, nbshots=0)\n",
    "\n",
    "from qat.qpus import get_default_qpu\n",
    "from qat.vsolve.optimize import ScipyMinimizePlugin\n",
    "\n",
    "optimizer_scipy = ScipyMinimizePlugin(method=\"COBYLA\", tol=1e-3, options={\"maxiter\": 1000}, x0=theta_list)\n",
    "qpu = optimizer_scipy | get_default_qpu()\n",
    "result = qpu.submit(job)\n",
    "\n",
    "print(\"Minimum energy =\", result.value)\n",
    "print(\"FCI energy:\", info[\"FCI\"])"
   ]
  },
  {
   "cell_type": "code",
   "execution_count": null,
   "metadata": {
    "execution": {
     "iopub.execute_input": "2023-08-01T22:49:16.173195Z",
     "iopub.status.busy": "2023-08-01T22:49:16.172925Z",
     "iopub.status.idle": "2023-08-01T22:49:17.403518Z",
     "shell.execute_reply": "2023-08-01T22:49:17.403042Z"
    },
    "slideshow": {
     "slide_type": "fragment"
    }
   },
   "outputs": [],
   "source": [
    "%matplotlib inline\n",
    "import matplotlib.pyplot as plt\n",
    "\n",
    "plt.plot(eval(result.meta_data[\"optimization_trace\"]), label=\"UCCSD-VQE\", lw=3)\n",
    "plt.plot(\n",
    "    [info[\"FCI\"] for _ in range(len(eval(result.meta_data[\"optimization_trace\"])))],\n",
    "    \"--k\",\n",
    "    label=\"FCI\",\n",
    ")\n",
    "plt.legend(loc=\"best\")\n",
    "plt.xlabel(\"Steps\")\n",
    "plt.ylabel(\"Energy\")\n",
    "plt.grid()"
   ]
  },
  {
   "cell_type": "markdown",
   "metadata": {},
   "source": [
    "# Solving $LiH$ using ADAPT-VQE plugin\n",
    "\n",
    "We can use the **ADAPT-VQE** plugin to generate iteratively the ansatz which minimizes the energy. Assuming we have our Hamiltonian in the selected active space (`H_active`), we need to initialize the circuit with the corresponding Hartree-Fock state.\n",
    "\n",
    "The plugin `AdaptVQEPlugin` generates automatically the ansatz, which needs to be optimized using an optimizer. Here, we will use once again `ScipyMinimizePlugin`, coupled to the QPU."
   ]
  },
  {
   "cell_type": "code",
   "execution_count": null,
   "metadata": {
    "execution": {
     "iopub.execute_input": "2023-08-01T22:49:17.406136Z",
     "iopub.status.busy": "2023-08-01T22:49:17.405749Z",
     "iopub.status.idle": "2023-08-01T22:49:18.005270Z",
     "shell.execute_reply": "2023-08-01T22:49:18.004569Z"
    }
   },
   "outputs": [],
   "source": [
    "from qat.plugins import AdaptVQEPlugin\n",
    "\n",
    "# Initialize a Program\n",
    "prog = Program()\n",
    "reg = prog.qalloc(H_active_sp.nbqbits)\n",
    "\n",
    "# Define the circuit which prepares a Hartree-Fock state\n",
    "for j, char in enumerate(format(hf_init_sp, \"0\" + str(H_active_sp.nbqbits) + \"b\")):\n",
    "    if char == \"1\":\n",
    "        prog.apply(X, reg[j])\n",
    "\n",
    "circuit = prog.to_circ()\n",
    "\n",
    "# We have the variational Job we need to optimize\n",
    "job = circuit.to_job(observable=H_active_sp)\n",
    "\n",
    "# We define the stack...\n",
    "adaptvqe_plugin = AdaptVQEPlugin(cluster_ops_sp, n_iterations=15, tol_vanishing_grad=0.01)\n",
    "optimizer = ScipyMinimizePlugin(method=\"COBYLA\", tol=1e-3, options={\"maxiter\": 200})\n",
    "qpu = get_default_qpu()\n",
    "\n",
    "stack = adaptvqe_plugin | optimizer | qpu\n",
    "\n",
    "# ... and submit the job\n",
    "result_adapt = stack.submit(job)"
   ]
  },
  {
   "cell_type": "markdown",
   "metadata": {},
   "source": [
    "Let us plot the result and compare the convergence with the previous optimization."
   ]
  },
  {
   "cell_type": "code",
   "execution_count": null,
   "metadata": {
    "execution": {
     "iopub.execute_input": "2023-08-01T22:49:18.008218Z",
     "iopub.status.busy": "2023-08-01T22:49:18.007866Z",
     "iopub.status.idle": "2023-08-01T22:49:18.292769Z",
     "shell.execute_reply": "2023-08-01T22:49:18.292135Z"
    },
    "slideshow": {
     "slide_type": "fragment"
    }
   },
   "outputs": [],
   "source": [
    "%matplotlib inline\n",
    "import matplotlib.pyplot as plt\n",
    "\n",
    "plt.plot(eval(result.meta_data[\"optimization_trace\"]), label=\"VQE\", lw=3)\n",
    "plt.plot(eval(result_adapt.meta_data[\"optimization_trace\"]), label=\"ADAPT-VQE\", lw=3)\n",
    "plt.plot(\n",
    "    [info[\"FCI\"] for _ in enumerate(eval(result.meta_data[\"optimization_trace\"]))],\n",
    "    \"--k\",\n",
    "    label=\"FCI\",\n",
    ")\n",
    "plt.legend(loc=\"best\")\n",
    "plt.xlabel(\"Steps\")\n",
    "plt.ylabel(\"Energy\")\n",
    "plt.grid()"
   ]
  },
  {
   "cell_type": "markdown",
   "metadata": {},
   "source": [
    "## Annex : Active space selection using only the `MolecularHamiltonian`class"
   ]
  },
  {
   "cell_type": "markdown",
   "metadata": {},
   "source": [
    "To explain better what is happening under the hood, let us select the active space of the $LiH$ molecule without using the `MoleculeInfo` class. Let us assume we already used `perform_pyscf_computation` to compute the molecule properties we need."
   ]
  },
  {
   "cell_type": "code",
   "execution_count": null,
   "metadata": {
    "execution": {
     "iopub.execute_input": "2023-08-01T22:49:18.296146Z",
     "iopub.status.busy": "2023-08-01T22:49:18.295780Z",
     "iopub.status.idle": "2023-08-01T22:49:18.300888Z",
     "shell.execute_reply": "2023-08-01T22:49:18.300279Z"
    }
   },
   "outputs": [],
   "source": [
    "# We define the molecular hamiltonian\n",
    "mol_h = MolecularHamiltonian(one_body_integrals, two_body_integrals, nuclear_repulsion)\n",
    "\n",
    "print(mol_h)\n",
    "\n",
    "# We compute the natural orbitals occupation numbers and the basis transformation matrix\n",
    "noons, basis_change = np.linalg.eigh(rdm1)\n",
    "\n",
    "# Reverse the noons order for them to be in decreasing order...\n",
    "noons = list(reversed(noons))\n",
    "\n",
    "# ... and flip the basis as well\n",
    "basis_change = np.flip(basis_change, axis=1)"
   ]
  },
  {
   "cell_type": "markdown",
   "metadata": {},
   "source": [
    "We use `MolecularHamiltonian.select_active_space()` to select an active space. This will update the body integrals as well as the constant coefficient in the `MolecularHamiltonian`class (here `mol_h_active`)."
   ]
  },
  {
   "cell_type": "code",
   "execution_count": null,
   "metadata": {
    "execution": {
     "iopub.execute_input": "2023-08-01T22:49:18.303760Z",
     "iopub.status.busy": "2023-08-01T22:49:18.303430Z",
     "iopub.status.idle": "2023-08-01T22:49:18.308374Z",
     "shell.execute_reply": "2023-08-01T22:49:18.307759Z"
    }
   },
   "outputs": [],
   "source": [
    "# Active space selection\n",
    "mol_h_active, active_indices, occupied_indices = mol_h_new_basis.select_active_space(\n",
    "    noons=noons, n_electrons=n_electrons, threshold_1=0.02, threshold_2=0.002\n",
    ")\n",
    "\n",
    "print(mol_h_active)\n",
    "\n",
    "# The number of qubits can be computed from the one body integral in the active space:\n",
    "nqbits = mol_h_active.one_body_integrals.shape[0] * 2\n",
    "\n",
    "print(f\"We reduced the number of qubits from {mol_h.one_body_integrals.shape[0] * 2} to only {nqbits} !\")"
   ]
  },
  {
   "cell_type": "markdown",
   "metadata": {},
   "source": [
    "We get the `active_indices` and the `occupied_indices`. The `MoleculeInfo` takes care of everything for us by overwriting the correct attributes with their updated **active** counterparts. But since we are not going to use it, we need to do it manually:"
   ]
  },
  {
   "cell_type": "code",
   "execution_count": null,
   "metadata": {
    "execution": {
     "iopub.execute_input": "2023-08-01T22:49:18.311468Z",
     "iopub.status.busy": "2023-08-01T22:49:18.311100Z",
     "iopub.status.idle": "2023-08-01T22:49:18.314810Z",
     "shell.execute_reply": "2023-08-01T22:49:18.314240Z"
    }
   },
   "outputs": [],
   "source": [
    "active_noons = [noons[idx] for idx in active_indices]\n",
    "active_orbital_energies = [orbital_energies[idx] for idx in active_indices]\n",
    "active_n_electrons = n_electrons - 2 * len(occupied_indices)"
   ]
  },
  {
   "cell_type": "markdown",
   "metadata": {},
   "source": [
    "We can then do as usual, by calling directly the functions we need. For example we can guess the optimal initial parameter:"
   ]
  },
  {
   "cell_type": "code",
   "execution_count": null,
   "metadata": {
    "execution": {
     "iopub.execute_input": "2023-08-01T22:49:18.317963Z",
     "iopub.status.busy": "2023-08-01T22:49:18.317440Z",
     "iopub.status.idle": "2023-08-01T22:49:18.325910Z",
     "shell.execute_reply": "2023-08-01T22:49:18.325232Z"
    }
   },
   "outputs": [],
   "source": [
    "# Computation of the initial parameters\n",
    "theta_list = guess_init_params(\n",
    "    mol_h_active.two_body_integrals,\n",
    "    active_n_electrons,\n",
    "    active_orbital_energies,\n",
    ")\n",
    "\n",
    "print(f\"List of initial parameters : {theta_list}\")\n",
    "\n",
    "# Get the initial Hartree-Fock state\n",
    "ket_hf_init = get_hf_ket(active_n_electrons, nqbits=nqbits)\n",
    "\n",
    "print(f\"Initial Hartree-Fock state : {ket_hf_init}\")\n",
    "\n",
    "# Compute the cluster operators\n",
    "cluster_ops = get_cluster_ops(molecule.n_electrons, noons=active_noons)"
   ]
  },
  {
   "cell_type": "markdown",
   "metadata": {},
   "source": [
    "You are then free to convert the `MolecularHamiltonian` to an `ElectronicStructureHamiltonian` just as in the `MoleculeInfo`part by doing:"
   ]
  },
  {
   "cell_type": "code",
   "execution_count": null,
   "metadata": {
    "execution": {
     "iopub.execute_input": "2023-08-01T22:49:18.328551Z",
     "iopub.status.busy": "2023-08-01T22:49:18.328259Z",
     "iopub.status.idle": "2023-08-01T22:49:18.358720Z",
     "shell.execute_reply": "2023-08-01T22:49:18.358102Z"
    }
   },
   "outputs": [],
   "source": [
    "# Get the ElectronicStructureHamiltonian\n",
    "H_active = mol_h_active.get_electronic_hamiltonian()"
   ]
  },
  {
   "cell_type": "markdown",
   "metadata": {
    "slideshow": {
     "slide_type": "slide"
    },
    "tags": []
   },
   "source": [
    "## Further questions to be investigated:\n",
    "\n",
    "This notebook only tackles certain aspects of performing chemistry on the QLM. Other questions that you can deal with using other QLM tools include:\n",
    "\n",
    "- what are the effects of noise on the VQE ?\n",
    "- how do noisy and noiseless VQE compare ?\n",
    "- what is the effect of the QPU connectivity constraints (e.g. IBM QX5 chip) ? \n",
    "- how to reduce the gate count given a topology?\n",
    "- how to rewrite a circuit for another gate set (say, for ions)?\n",
    "- how to mitigate noise effects? (zero-noise extrapolation...)"
   ]
  }
 ],
 "metadata": {
  "authors": [
   "Maxime Oliva"
  ],
  "celltoolbar": "Diaporama",
  "documentation-tags": {
   "icon": "issue-draft"
  },
  "kernelspec": {
   "display_name": "Python 3 (ipykernel)",
   "language": "python",
   "name": "python3"
  },
  "language_info": {
   "codemirror_mode": {
    "name": "ipython",
    "version": 3
   },
   "file_extension": ".py",
   "mimetype": "text/x-python",
   "name": "python",
   "nbconvert_exporter": "python",
   "pygments_lexer": "ipython3",
   "version": "3.9.16"
  },
  "vscode": {
   "interpreter": {
    "hash": "e7370f93d1d0cde622a1f8e1c04877d8463912d04d973331ad4851f04de6915a"
   }
  },
  "widgets": {
   "application/vnd.jupyter.widget-state+json": {
    "state": {
     "0aea1c7c23374beb99ec5968160386b4": {
      "model_module": "@jupyter-widgets/controls",
      "model_module_version": "2.0.0",
      "model_name": "HTMLStyleModel",
      "state": {
       "_model_module": "@jupyter-widgets/controls",
       "_model_module_version": "2.0.0",
       "_model_name": "HTMLStyleModel",
       "_view_count": null,
       "_view_module": "@jupyter-widgets/base",
       "_view_module_version": "2.0.0",
       "_view_name": "StyleView",
       "background": null,
       "description_width": "",
       "font_size": null,
       "text_color": null
      }
     },
     "15dd5456f86e406da6a9505bb61a24f9": {
      "model_module": "@jupyter-widgets/controls",
      "model_module_version": "2.0.0",
      "model_name": "ProgressStyleModel",
      "state": {
       "_model_module": "@jupyter-widgets/controls",
       "_model_module_version": "2.0.0",
       "_model_name": "ProgressStyleModel",
       "_view_count": null,
       "_view_module": "@jupyter-widgets/base",
       "_view_module_version": "2.0.0",
       "_view_name": "StyleView",
       "bar_color": null,
       "description_width": ""
      }
     },
     "18cc9677806045e9a671edb17b5a2a8d": {
      "model_module": "@jupyter-widgets/base",
      "model_module_version": "2.0.0",
      "model_name": "LayoutModel",
      "state": {
       "_model_module": "@jupyter-widgets/base",
       "_model_module_version": "2.0.0",
       "_model_name": "LayoutModel",
       "_view_count": null,
       "_view_module": "@jupyter-widgets/base",
       "_view_module_version": "2.0.0",
       "_view_name": "LayoutView",
       "align_content": null,
       "align_items": null,
       "align_self": null,
       "border_bottom": null,
       "border_left": null,
       "border_right": null,
       "border_top": null,
       "bottom": null,
       "display": null,
       "flex": null,
       "flex_flow": null,
       "grid_area": null,
       "grid_auto_columns": null,
       "grid_auto_flow": null,
       "grid_auto_rows": null,
       "grid_column": null,
       "grid_gap": null,
       "grid_row": null,
       "grid_template_areas": null,
       "grid_template_columns": null,
       "grid_template_rows": null,
       "height": null,
       "justify_content": null,
       "justify_items": null,
       "left": null,
       "margin": null,
       "max_height": null,
       "max_width": null,
       "min_height": null,
       "min_width": null,
       "object_fit": null,
       "object_position": null,
       "order": null,
       "overflow": null,
       "padding": null,
       "right": null,
       "top": null,
       "visibility": null,
       "width": null
      }
     },
     "197563d84e07481fb7b2175a37f3b88a": {
      "model_module": "@jupyter-widgets/base",
      "model_module_version": "2.0.0",
      "model_name": "LayoutModel",
      "state": {
       "_model_module": "@jupyter-widgets/base",
       "_model_module_version": "2.0.0",
       "_model_name": "LayoutModel",
       "_view_count": null,
       "_view_module": "@jupyter-widgets/base",
       "_view_module_version": "2.0.0",
       "_view_name": "LayoutView",
       "align_content": null,
       "align_items": null,
       "align_self": null,
       "border_bottom": null,
       "border_left": null,
       "border_right": null,
       "border_top": null,
       "bottom": null,
       "display": null,
       "flex": null,
       "flex_flow": null,
       "grid_area": null,
       "grid_auto_columns": null,
       "grid_auto_flow": null,
       "grid_auto_rows": null,
       "grid_column": null,
       "grid_gap": null,
       "grid_row": null,
       "grid_template_areas": null,
       "grid_template_columns": null,
       "grid_template_rows": null,
       "height": null,
       "justify_content": null,
       "justify_items": null,
       "left": null,
       "margin": null,
       "max_height": null,
       "max_width": null,
       "min_height": null,
       "min_width": null,
       "object_fit": null,
       "object_position": null,
       "order": null,
       "overflow": null,
       "padding": null,
       "right": null,
       "top": null,
       "visibility": null,
       "width": null
      }
     },
     "2486dd99f3b546ceb4529fde1ca44f6c": {
      "model_module": "@jupyter-widgets/base",
      "model_module_version": "2.0.0",
      "model_name": "LayoutModel",
      "state": {
       "_model_module": "@jupyter-widgets/base",
       "_model_module_version": "2.0.0",
       "_model_name": "LayoutModel",
       "_view_count": null,
       "_view_module": "@jupyter-widgets/base",
       "_view_module_version": "2.0.0",
       "_view_name": "LayoutView",
       "align_content": null,
       "align_items": null,
       "align_self": null,
       "border_bottom": null,
       "border_left": null,
       "border_right": null,
       "border_top": null,
       "bottom": null,
       "display": null,
       "flex": null,
       "flex_flow": null,
       "grid_area": null,
       "grid_auto_columns": null,
       "grid_auto_flow": null,
       "grid_auto_rows": null,
       "grid_column": null,
       "grid_gap": null,
       "grid_row": null,
       "grid_template_areas": null,
       "grid_template_columns": null,
       "grid_template_rows": null,
       "height": null,
       "justify_content": null,
       "justify_items": null,
       "left": null,
       "margin": null,
       "max_height": null,
       "max_width": null,
       "min_height": null,
       "min_width": null,
       "object_fit": null,
       "object_position": null,
       "order": null,
       "overflow": null,
       "padding": null,
       "right": null,
       "top": null,
       "visibility": null,
       "width": null
      }
     },
     "3a98f97b42c44b7d90150acbb36333f6": {
      "model_module": "@jupyter-widgets/controls",
      "model_module_version": "2.0.0",
      "model_name": "HTMLModel",
      "state": {
       "_dom_classes": [],
       "_model_module": "@jupyter-widgets/controls",
       "_model_module_version": "2.0.0",
       "_model_name": "HTMLModel",
       "_view_count": null,
       "_view_module": "@jupyter-widgets/controls",
       "_view_module_version": "2.0.0",
       "_view_name": "HTMLView",
       "description": "",
       "description_allow_html": false,
       "layout": "IPY_MODEL_eed0b112e2584298b144c8dd88a1aa98",
       "placeholder": "​",
       "style": "IPY_MODEL_492109d686724f52a13ed43655080d54",
       "tabbable": null,
       "tooltip": null,
       "value": " 1/15 [00:00&lt;00:04,  2.81it/s]"
      }
     },
     "3feec03911644503b3e0b3847748fb3c": {
      "model_module": "@jupyter-widgets/controls",
      "model_module_version": "2.0.0",
      "model_name": "HTMLStyleModel",
      "state": {
       "_model_module": "@jupyter-widgets/controls",
       "_model_module_version": "2.0.0",
       "_model_name": "HTMLStyleModel",
       "_view_count": null,
       "_view_module": "@jupyter-widgets/base",
       "_view_module_version": "2.0.0",
       "_view_name": "StyleView",
       "background": null,
       "description_width": "",
       "font_size": null,
       "text_color": null
      }
     },
     "420deae71f4840c7858f5aa2f1f6ddea": {
      "model_module": "@jupyter-widgets/controls",
      "model_module_version": "2.0.0",
      "model_name": "HTMLStyleModel",
      "state": {
       "_model_module": "@jupyter-widgets/controls",
       "_model_module_version": "2.0.0",
       "_model_name": "HTMLStyleModel",
       "_view_count": null,
       "_view_module": "@jupyter-widgets/base",
       "_view_module_version": "2.0.0",
       "_view_name": "StyleView",
       "background": null,
       "description_width": "",
       "font_size": null,
       "text_color": null
      }
     },
     "46fdfdb1db994135b5bf25f38048ac29": {
      "model_module": "@jupyter-widgets/controls",
      "model_module_version": "2.0.0",
      "model_name": "FloatProgressModel",
      "state": {
       "_dom_classes": [],
       "_model_module": "@jupyter-widgets/controls",
       "_model_module_version": "2.0.0",
       "_model_name": "FloatProgressModel",
       "_view_count": null,
       "_view_module": "@jupyter-widgets/controls",
       "_view_module_version": "2.0.0",
       "_view_name": "ProgressView",
       "bar_style": "success",
       "description": "",
       "description_allow_html": false,
       "layout": "IPY_MODEL_5713088a2d384e35af8d67bdffdc0050",
       "max": 3.0,
       "min": 0.0,
       "orientation": "horizontal",
       "style": "IPY_MODEL_9c9b2897b2514c029ade7f80efcc5463",
       "tabbable": null,
       "tooltip": null,
       "value": 3.0
      }
     },
     "492109d686724f52a13ed43655080d54": {
      "model_module": "@jupyter-widgets/controls",
      "model_module_version": "2.0.0",
      "model_name": "HTMLStyleModel",
      "state": {
       "_model_module": "@jupyter-widgets/controls",
       "_model_module_version": "2.0.0",
       "_model_name": "HTMLStyleModel",
       "_view_count": null,
       "_view_module": "@jupyter-widgets/base",
       "_view_module_version": "2.0.0",
       "_view_name": "StyleView",
       "background": null,
       "description_width": "",
       "font_size": null,
       "text_color": null
      }
     },
     "5713088a2d384e35af8d67bdffdc0050": {
      "model_module": "@jupyter-widgets/base",
      "model_module_version": "2.0.0",
      "model_name": "LayoutModel",
      "state": {
       "_model_module": "@jupyter-widgets/base",
       "_model_module_version": "2.0.0",
       "_model_name": "LayoutModel",
       "_view_count": null,
       "_view_module": "@jupyter-widgets/base",
       "_view_module_version": "2.0.0",
       "_view_name": "LayoutView",
       "align_content": null,
       "align_items": null,
       "align_self": null,
       "border_bottom": null,
       "border_left": null,
       "border_right": null,
       "border_top": null,
       "bottom": null,
       "display": null,
       "flex": null,
       "flex_flow": null,
       "grid_area": null,
       "grid_auto_columns": null,
       "grid_auto_flow": null,
       "grid_auto_rows": null,
       "grid_column": null,
       "grid_gap": null,
       "grid_row": null,
       "grid_template_areas": null,
       "grid_template_columns": null,
       "grid_template_rows": null,
       "height": null,
       "justify_content": null,
       "justify_items": null,
       "left": null,
       "margin": null,
       "max_height": null,
       "max_width": null,
       "min_height": null,
       "min_width": null,
       "object_fit": null,
       "object_position": null,
       "order": null,
       "overflow": null,
       "padding": null,
       "right": null,
       "top": null,
       "visibility": null,
       "width": null
      }
     },
     "6483123c95f9418e93492c187c7bb639": {
      "model_module": "@jupyter-widgets/controls",
      "model_module_version": "2.0.0",
      "model_name": "HTMLModel",
      "state": {
       "_dom_classes": [],
       "_model_module": "@jupyter-widgets/controls",
       "_model_module_version": "2.0.0",
       "_model_name": "HTMLModel",
       "_view_count": null,
       "_view_module": "@jupyter-widgets/controls",
       "_view_module_version": "2.0.0",
       "_view_name": "HTMLView",
       "description": "",
       "description_allow_html": false,
       "layout": "IPY_MODEL_197563d84e07481fb7b2175a37f3b88a",
       "placeholder": "​",
       "style": "IPY_MODEL_420deae71f4840c7858f5aa2f1f6ddea",
       "tabbable": null,
       "tooltip": null,
       "value": "Computing commutators...: 100%"
      }
     },
     "7bc78d9a57cb4b279253781cb49915eb": {
      "model_module": "@jupyter-widgets/controls",
      "model_module_version": "2.0.0",
      "model_name": "HTMLModel",
      "state": {
       "_dom_classes": [],
       "_model_module": "@jupyter-widgets/controls",
       "_model_module_version": "2.0.0",
       "_model_name": "HTMLModel",
       "_view_count": null,
       "_view_module": "@jupyter-widgets/controls",
       "_view_module_version": "2.0.0",
       "_view_name": "HTMLView",
       "description": "",
       "description_allow_html": false,
       "layout": "IPY_MODEL_93526f6a396f4a6dbc2d53b9f8434768",
       "placeholder": "​",
       "style": "IPY_MODEL_0aea1c7c23374beb99ec5968160386b4",
       "tabbable": null,
       "tooltip": null,
       "value": " 3/3 [00:00&lt;00:00, 14.67it/s]"
      }
     },
     "8cf1c181d9a5494abc7afb32e9dfe364": {
      "model_module": "@jupyter-widgets/controls",
      "model_module_version": "2.0.0",
      "model_name": "HTMLModel",
      "state": {
       "_dom_classes": [],
       "_model_module": "@jupyter-widgets/controls",
       "_model_module_version": "2.0.0",
       "_model_name": "HTMLModel",
       "_view_count": null,
       "_view_module": "@jupyter-widgets/controls",
       "_view_module_version": "2.0.0",
       "_view_name": "HTMLView",
       "description": "",
       "description_allow_html": false,
       "layout": "IPY_MODEL_18cc9677806045e9a671edb17b5a2a8d",
       "placeholder": "​",
       "style": "IPY_MODEL_3feec03911644503b3e0b3847748fb3c",
       "tabbable": null,
       "tooltip": null,
       "value": "Computing energy gradients...:   7%"
      }
     },
     "93526f6a396f4a6dbc2d53b9f8434768": {
      "model_module": "@jupyter-widgets/base",
      "model_module_version": "2.0.0",
      "model_name": "LayoutModel",
      "state": {
       "_model_module": "@jupyter-widgets/base",
       "_model_module_version": "2.0.0",
       "_model_name": "LayoutModel",
       "_view_count": null,
       "_view_module": "@jupyter-widgets/base",
       "_view_module_version": "2.0.0",
       "_view_name": "LayoutView",
       "align_content": null,
       "align_items": null,
       "align_self": null,
       "border_bottom": null,
       "border_left": null,
       "border_right": null,
       "border_top": null,
       "bottom": null,
       "display": null,
       "flex": null,
       "flex_flow": null,
       "grid_area": null,
       "grid_auto_columns": null,
       "grid_auto_flow": null,
       "grid_auto_rows": null,
       "grid_column": null,
       "grid_gap": null,
       "grid_row": null,
       "grid_template_areas": null,
       "grid_template_columns": null,
       "grid_template_rows": null,
       "height": null,
       "justify_content": null,
       "justify_items": null,
       "left": null,
       "margin": null,
       "max_height": null,
       "max_width": null,
       "min_height": null,
       "min_width": null,
       "object_fit": null,
       "object_position": null,
       "order": null,
       "overflow": null,
       "padding": null,
       "right": null,
       "top": null,
       "visibility": null,
       "width": null
      }
     },
     "9c9b2897b2514c029ade7f80efcc5463": {
      "model_module": "@jupyter-widgets/controls",
      "model_module_version": "2.0.0",
      "model_name": "ProgressStyleModel",
      "state": {
       "_model_module": "@jupyter-widgets/controls",
       "_model_module_version": "2.0.0",
       "_model_name": "ProgressStyleModel",
       "_view_count": null,
       "_view_module": "@jupyter-widgets/base",
       "_view_module_version": "2.0.0",
       "_view_name": "StyleView",
       "bar_color": null,
       "description_width": ""
      }
     },
     "a396342e94374f1cac5bbf1c134b902e": {
      "model_module": "@jupyter-widgets/base",
      "model_module_version": "2.0.0",
      "model_name": "LayoutModel",
      "state": {
       "_model_module": "@jupyter-widgets/base",
       "_model_module_version": "2.0.0",
       "_model_name": "LayoutModel",
       "_view_count": null,
       "_view_module": "@jupyter-widgets/base",
       "_view_module_version": "2.0.0",
       "_view_name": "LayoutView",
       "align_content": null,
       "align_items": null,
       "align_self": null,
       "border_bottom": null,
       "border_left": null,
       "border_right": null,
       "border_top": null,
       "bottom": null,
       "display": null,
       "flex": null,
       "flex_flow": null,
       "grid_area": null,
       "grid_auto_columns": null,
       "grid_auto_flow": null,
       "grid_auto_rows": null,
       "grid_column": null,
       "grid_gap": null,
       "grid_row": null,
       "grid_template_areas": null,
       "grid_template_columns": null,
       "grid_template_rows": null,
       "height": null,
       "justify_content": null,
       "justify_items": null,
       "left": null,
       "margin": null,
       "max_height": null,
       "max_width": null,
       "min_height": null,
       "min_width": null,
       "object_fit": null,
       "object_position": null,
       "order": null,
       "overflow": null,
       "padding": null,
       "right": null,
       "top": null,
       "visibility": null,
       "width": null
      }
     },
     "bfe851c54a3c445abb13c5aff2c247f8": {
      "model_module": "@jupyter-widgets/controls",
      "model_module_version": "2.0.0",
      "model_name": "HBoxModel",
      "state": {
       "_dom_classes": [],
       "_model_module": "@jupyter-widgets/controls",
       "_model_module_version": "2.0.0",
       "_model_name": "HBoxModel",
       "_view_count": null,
       "_view_module": "@jupyter-widgets/controls",
       "_view_module_version": "2.0.0",
       "_view_name": "HBoxView",
       "box_style": "",
       "children": [
        "IPY_MODEL_8cf1c181d9a5494abc7afb32e9dfe364",
        "IPY_MODEL_cbadff266987460088c983e5f054894f",
        "IPY_MODEL_3a98f97b42c44b7d90150acbb36333f6"
       ],
       "layout": "IPY_MODEL_a396342e94374f1cac5bbf1c134b902e",
       "tabbable": null,
       "tooltip": null
      }
     },
     "c4fc5319a261406f93a7921bf7f0e5c9": {
      "model_module": "@jupyter-widgets/base",
      "model_module_version": "2.0.0",
      "model_name": "LayoutModel",
      "state": {
       "_model_module": "@jupyter-widgets/base",
       "_model_module_version": "2.0.0",
       "_model_name": "LayoutModel",
       "_view_count": null,
       "_view_module": "@jupyter-widgets/base",
       "_view_module_version": "2.0.0",
       "_view_name": "LayoutView",
       "align_content": null,
       "align_items": null,
       "align_self": null,
       "border_bottom": null,
       "border_left": null,
       "border_right": null,
       "border_top": null,
       "bottom": null,
       "display": null,
       "flex": null,
       "flex_flow": null,
       "grid_area": null,
       "grid_auto_columns": null,
       "grid_auto_flow": null,
       "grid_auto_rows": null,
       "grid_column": null,
       "grid_gap": null,
       "grid_row": null,
       "grid_template_areas": null,
       "grid_template_columns": null,
       "grid_template_rows": null,
       "height": null,
       "justify_content": null,
       "justify_items": null,
       "left": null,
       "margin": null,
       "max_height": null,
       "max_width": null,
       "min_height": null,
       "min_width": null,
       "object_fit": null,
       "object_position": null,
       "order": null,
       "overflow": null,
       "padding": null,
       "right": null,
       "top": null,
       "visibility": null,
       "width": null
      }
     },
     "cbadff266987460088c983e5f054894f": {
      "model_module": "@jupyter-widgets/controls",
      "model_module_version": "2.0.0",
      "model_name": "FloatProgressModel",
      "state": {
       "_dom_classes": [],
       "_model_module": "@jupyter-widgets/controls",
       "_model_module_version": "2.0.0",
       "_model_name": "FloatProgressModel",
       "_view_count": null,
       "_view_module": "@jupyter-widgets/controls",
       "_view_module_version": "2.0.0",
       "_view_name": "ProgressView",
       "bar_style": "danger",
       "description": "",
       "description_allow_html": false,
       "layout": "IPY_MODEL_c4fc5319a261406f93a7921bf7f0e5c9",
       "max": 15.0,
       "min": 0.0,
       "orientation": "horizontal",
       "style": "IPY_MODEL_15dd5456f86e406da6a9505bb61a24f9",
       "tabbable": null,
       "tooltip": null,
       "value": 1.0
      }
     },
     "ce9d061114814340abfcf58d5d917ddc": {
      "model_module": "@jupyter-widgets/controls",
      "model_module_version": "2.0.0",
      "model_name": "HBoxModel",
      "state": {
       "_dom_classes": [],
       "_model_module": "@jupyter-widgets/controls",
       "_model_module_version": "2.0.0",
       "_model_name": "HBoxModel",
       "_view_count": null,
       "_view_module": "@jupyter-widgets/controls",
       "_view_module_version": "2.0.0",
       "_view_name": "HBoxView",
       "box_style": "",
       "children": [
        "IPY_MODEL_6483123c95f9418e93492c187c7bb639",
        "IPY_MODEL_46fdfdb1db994135b5bf25f38048ac29",
        "IPY_MODEL_7bc78d9a57cb4b279253781cb49915eb"
       ],
       "layout": "IPY_MODEL_2486dd99f3b546ceb4529fde1ca44f6c",
       "tabbable": null,
       "tooltip": null
      }
     },
     "eed0b112e2584298b144c8dd88a1aa98": {
      "model_module": "@jupyter-widgets/base",
      "model_module_version": "2.0.0",
      "model_name": "LayoutModel",
      "state": {
       "_model_module": "@jupyter-widgets/base",
       "_model_module_version": "2.0.0",
       "_model_name": "LayoutModel",
       "_view_count": null,
       "_view_module": "@jupyter-widgets/base",
       "_view_module_version": "2.0.0",
       "_view_name": "LayoutView",
       "align_content": null,
       "align_items": null,
       "align_self": null,
       "border_bottom": null,
       "border_left": null,
       "border_right": null,
       "border_top": null,
       "bottom": null,
       "display": null,
       "flex": null,
       "flex_flow": null,
       "grid_area": null,
       "grid_auto_columns": null,
       "grid_auto_flow": null,
       "grid_auto_rows": null,
       "grid_column": null,
       "grid_gap": null,
       "grid_row": null,
       "grid_template_areas": null,
       "grid_template_columns": null,
       "grid_template_rows": null,
       "height": null,
       "justify_content": null,
       "justify_items": null,
       "left": null,
       "margin": null,
       "max_height": null,
       "max_width": null,
       "min_height": null,
       "min_width": null,
       "object_fit": null,
       "object_position": null,
       "order": null,
       "overflow": null,
       "padding": null,
       "right": null,
       "top": null,
       "visibility": null,
       "width": null
      }
     }
    },
    "version_major": 2,
    "version_minor": 0
   }
  }
 },
 "nbformat": 4,
 "nbformat_minor": 4
}
