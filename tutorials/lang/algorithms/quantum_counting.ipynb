{
 "cells": [
  {
   "cell_type": "markdown",
   "metadata": {},
   "source": [
    "# Quantum Counting\n",
    "\n",
    "Quantum Counting is a simple quantum algorithms which consists in performing a phase estimation on a Grover amplification.\n",
    "\n",
    "The method `qat.lang.algorithms.quantum_counting` can produce a routine performing a counting directly from an oracle.\n",
    "\n",
    "Let us use it to count the number of repetitions in the set of all bitstrings of length $2k$.\n",
    "We will use exactly the same oracle as in [this notebook](./grover.ipynb)."
   ]
  },
  {
   "cell_type": "code",
   "execution_count": null,
   "metadata": {
    "execution": {
     "iopub.execute_input": "2022-11-05T19:42:17.351340Z",
     "iopub.status.busy": "2022-11-05T19:42:17.350885Z",
     "iopub.status.idle": "2022-11-05T19:42:18.243071Z",
     "shell.execute_reply": "2022-11-05T19:42:18.242407Z"
    }
   },
   "outputs": [],
   "source": [
    "from qat.lang.algorithms import quantum_counting\n",
    "from qat.lang.AQASM import QRoutine, QInt, build_gate\n",
    "\n",
    "@build_gate('ORACLE', [int], arity=lambda a: 2 * a)\n",
    "def detect_repetitions(k):\n",
    "    routine = QRoutine()\n",
    "    first_half = routine.new_wires(k, QInt)\n",
    "    second_half = routine.new_wires(k, QInt)\n",
    "    (first_half == second_half).phase()\n",
    "    return routine\n",
    "\n",
    "counting = quantum_counting(detect_repetitions(3), 3)\n",
    "counting.display()"
   ]
  },
  {
   "cell_type": "markdown",
   "metadata": {},
   "source": [
    "As you can see, generating the quantum counting routine is quite straightforward.\n",
    "\n",
    "Let's simulate it !\n",
    "\n",
    "We will define a program and declare the phase register as a Quantum Integer (to facilitate the conversion of the phase to an integer).\n",
    "\n",
    "Moreover, we will define a method `guess_count` that perform the necessary computations to translate the measured phase into a count.\n"
   ]
  },
  {
   "cell_type": "code",
   "execution_count": null,
   "metadata": {
    "execution": {
     "iopub.execute_input": "2022-11-05T19:42:18.283714Z",
     "iopub.status.busy": "2022-11-05T19:42:18.283125Z",
     "iopub.status.idle": "2022-11-05T19:42:18.300178Z",
     "shell.execute_reply": "2022-11-05T19:42:18.299016Z"
    }
   },
   "outputs": [],
   "source": [
    "import numpy as np\n",
    "from qat.qpus import get_default_qpu\n",
    "from qat.lang.AQASM import Program, QInt\n",
    "qpu = get_default_qpu()\n",
    "\n",
    "\n",
    "def guess_count(theta, nbits):\n",
    "    guess = np.round(np.sin(theta / 2) ** 2 * (1 << nbits))\n",
    "    if guess > (1 << (nbits - 1)):\n",
    "        return (1 << nbits) - guess\n",
    "    return guess\n"
   ]
  },
  {
   "cell_type": "code",
   "execution_count": null,
   "metadata": {
    "execution": {
     "iopub.execute_input": "2022-11-05T19:42:18.302879Z",
     "iopub.status.busy": "2022-11-05T19:42:18.302631Z",
     "iopub.status.idle": "2022-11-05T19:42:18.549267Z",
     "shell.execute_reply": "2022-11-05T19:42:18.548757Z"
    }
   },
   "outputs": [],
   "source": [
    "# The length of the bitstrings will be 2 * width\n",
    "width = 3\n",
    "# This is the number of precision bits used in the phase estimation\n",
    "nbits = 7\n",
    "\n",
    "prog = Program()\n",
    "data = prog.qalloc(2 * width)\n",
    "# declaring the phase register as an integer\n",
    "phase = prog.qalloc(nbits, QInt)\n",
    "\n",
    "counting = quantum_counting(detect_repetitions(width), nbits)\n",
    "counting(data, phase)\n",
    "# Measuring only the phase register and only once !\n",
    "result = qpu.submit(prog.to_circ().to_job(qubits=[phase], nbshots=1))\n",
    "print(\"Expected count:\", 1 << width)\n",
    "for sample in result:\n",
    "    print(\"Measured count:\", guess_count(2 * np.pi * sample.state.value[0] / (1 << nbits), 2 * width))"
   ]
  },
  {
   "cell_type": "markdown",
   "metadata": {},
   "source": [
    "This program should (with high probability) returns the correct estimate of the solution count."
   ]
  }
 ],
 "metadata": {
  "documentation-tags": {
   "icon": "number"
  },
  "kernelspec": {
   "display_name": "Python 3 (ipykernel)",
   "language": "python",
   "name": "python3"
  },
  "language_info": {
   "codemirror_mode": {
    "name": "ipython",
    "version": 3
   },
   "file_extension": ".py",
   "mimetype": "text/x-python",
   "name": "python",
   "nbconvert_exporter": "python",
   "pygments_lexer": "ipython3",
   "version": "3.10.4"
  },
  "vscode": {
   "interpreter": {
    "hash": "f9f85f796d01129d0dd105a088854619f454435301f6ffec2fea96ecbd9be4ac"
   }
  }
 },
 "nbformat": 4,
 "nbformat_minor": 2
}
