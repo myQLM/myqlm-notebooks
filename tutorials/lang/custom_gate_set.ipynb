{
 "cells": [
  {
   "cell_type": "markdown",
   "metadata": {},
   "source": [
    "# Defining and using a custom gate set in pyAQASM\n",
    "\n",
    "\n",
    "pyAQASM comes with a universal, quite expressive, set of gates. Although this gate is set is convenient for general purpose quantum programmation, one might want to restrict oneself to a particular, potentially less expressive, gate set to, for instance, faithfully describe hardware-level circuits.\n",
    "\n",
    "In this notebook, we will derive the definition and use of a simple gate set composed of:\n",
    "- a single, parametrized, entangling gate acting on 2 qubits: CX(theta)\n",
    "- Two 1-qbit gates:\n",
    "    - a non-parametrized local gate P\n",
    "    - a parametrized local gate PX(phi, theta) parametrized by two angles\n",
    "\n",
    "For each of these gates, we will provide a matrix generator in order to be able to populate the matrices in the circuit model, thus allowing us to later simulate these circuits.\n",
    "\n",
    "## Abstract gates\n",
    "\n",
    "Defining custom parametrized gates in pyAQASM is done via the `AbstractGate` class:"
   ]
  },
  {
   "cell_type": "code",
   "execution_count": null,
   "metadata": {
    "execution": {
     "iopub.execute_input": "2022-11-05T19:42:20.046926Z",
     "iopub.status.busy": "2022-11-05T19:42:20.046540Z",
     "iopub.status.idle": "2022-11-05T19:42:20.192450Z",
     "shell.execute_reply": "2022-11-05T19:42:20.191855Z"
    }
   },
   "outputs": [],
   "source": [
    "from qat.lang.AQASM import *\n",
    "\n",
    "# An AbstractGate takes a gate name and a list of parameter types\n",
    "# Authorized types are int, float, and str\n",
    "\n",
    "# CX takes a single parameter of type float (an angle)\n",
    "CX = AbstractGate(\"CX\", [float], arity=2)\n",
    "\n",
    "# P takes no parameter and is of arity 1\n",
    "P = AbstractGate(\"P\", [], arity=1)\n",
    "\n",
    "# Finally PX takes two parameters of types float\n",
    "PX = AbstractGate(\"PX\", [float, float], arity=1)"
   ]
  },
  {
   "cell_type": "markdown",
   "metadata": {},
   "source": [
    "Using these gates is as simple as using a native parametrized gate, such as RZ:"
   ]
  },
  {
   "cell_type": "code",
   "execution_count": null,
   "metadata": {
    "execution": {
     "iopub.execute_input": "2022-11-05T19:42:20.196230Z",
     "iopub.status.busy": "2022-11-05T19:42:20.195794Z",
     "iopub.status.idle": "2022-11-05T19:42:20.503193Z",
     "shell.execute_reply": "2022-11-05T19:42:20.502579Z"
    }
   },
   "outputs": [],
   "source": [
    "prog = Program()\n",
    "qbits = prog.qalloc(2)\n",
    "prog.apply(CX(0.33), qbits)\n",
    "prog.apply(P(), qbits[0]) ## Notice that we have to add parenthesis. P is still parametrized by 0 parameters\n",
    "prog.apply(PX(1.33, 0.4), qbits[1])\n",
    "circuit = prog.to_circ()\n",
    "\n",
    "circuit.display()"
   ]
  },
  {
   "cell_type": "markdown",
   "metadata": {},
   "source": [
    "## Matrix generators\n",
    "\n",
    "It is possible to attach matrix definitions to abstract gates.\n",
    "A matrix generator will be any python function that has the same signature as the gate and returns a numpy array:"
   ]
  },
  {
   "cell_type": "code",
   "execution_count": null,
   "metadata": {
    "execution": {
     "iopub.execute_input": "2022-11-05T19:42:20.543542Z",
     "iopub.status.busy": "2022-11-05T19:42:20.543039Z",
     "iopub.status.idle": "2022-11-05T19:42:20.550718Z",
     "shell.execute_reply": "2022-11-05T19:42:20.550141Z"
    }
   },
   "outputs": [],
   "source": [
    "import numpy as np\n",
    "\n",
    "# Let us define a function that given a value for theta returns a matrix corresponding to CX(theta)\n",
    "# Our CX(theta) will simply be some kind of parametrized CNOT\n",
    "def CX_generator(theta):\n",
    "    return np.array([[1, 0, 0, 0],\n",
    "                     [0, 1, 0, 0],\n",
    "                     [0, 0, 0, np.exp(-1j * theta/2)],\n",
    "                     [0, 0, np.exp(1j * theta/2), 0]])\n",
    "\n",
    "# We can now attach this generator to our gate\n",
    "CX.set_matrix_generator(CX_generator)\n",
    "# Equivalently, we could have defined the gate directly as follows:\n",
    "CX = AbstractGate(\"CX\", [float], arity=2, matrix_generator=CX_generator)\n",
    "\n",
    "# We do the same for P \n",
    "P.set_matrix_generator(lambda: np.array([[1,0],[0, np.exp(1j*np.pi/2)]]))\n",
    "\n",
    "# And lets do something tricky for PX\n",
    "def PX_generator(phi, theta):\n",
    "    _I = np.eye(2, dtype=np.complex128)\n",
    "    _X = np.array([[0,1],[1,0]], dtype=np.complex128)\n",
    "    _Y = np.array([[0,-1j],[1j,0]], dtype=np.complex128)\n",
    "    return np.cos(theta/2) * _I - 1j * np.sin(theta/2) *(np.cos(phi) * _X + np.sin(phi) * _Y)\n",
    "PX.set_matrix_generator(PX_generator)\n"
   ]
  },
  {
   "cell_type": "markdown",
   "metadata": {},
   "source": [
    "## Simulating the gates\n",
    "\n",
    "Since we provided \"recipes\" to produce matrices from the parameters, we can easily simulate any circuit that contains theses gates:"
   ]
  },
  {
   "cell_type": "code",
   "execution_count": null,
   "metadata": {
    "execution": {
     "iopub.execute_input": "2022-11-05T19:42:20.553518Z",
     "iopub.status.busy": "2022-11-05T19:42:20.553251Z",
     "iopub.status.idle": "2022-11-05T19:42:20.578849Z",
     "shell.execute_reply": "2022-11-05T19:42:20.578318Z"
    }
   },
   "outputs": [],
   "source": [
    "prog = Program()\n",
    "\n",
    "qbits = prog.qalloc(2)\n",
    "\n",
    "# Here, since P is an abstract gate, it still needs requires a list of parameters\n",
    "# to be used inside a Program, hence the P() and not simply P.\n",
    "prog.apply(P(), qbits[0])\n",
    "prog.apply(CX(np.pi/2), qbits[0], qbits[1])\n",
    "prog.apply(PX(np.pi, np.pi/2), qbits[1])\n",
    "\n",
    "circuit = prog.to_circ()\n",
    "\n",
    "\n",
    "from qat.qpus import get_default_qpu\n",
    "mypylinalgqpu = get_default_qpu()\n",
    "\n",
    "job = circuit.to_job()\n",
    "\n",
    "for sample in mypylinalgqpu.submit(job):\n",
    "    print(\"State %s amplitude %s\" % (sample.state, sample.amplitude))"
   ]
  },
  {
   "cell_type": "code",
   "execution_count": null,
   "metadata": {},
   "outputs": [],
   "source": []
  }
 ],
 "metadata": {
  "authors": [
   "Simon Martiel"
  ],
  "kernelspec": {
   "display_name": "Python 3 (ipykernel)",
   "language": "python",
   "name": "python3"
  },
  "language_info": {
   "codemirror_mode": {
    "name": "ipython",
    "version": 3
   },
   "file_extension": ".py",
   "mimetype": "text/x-python",
   "name": "python",
   "nbconvert_exporter": "python",
   "pygments_lexer": "ipython3",
   "version": "3.10.4"
  }
 },
 "nbformat": 4,
 "nbformat_minor": 2
}
